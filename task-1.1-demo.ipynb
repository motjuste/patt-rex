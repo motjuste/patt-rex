{
 "cells": [
  {
   "cell_type": "code",
   "execution_count": 90,
   "metadata": {
    "collapsed": true
   },
   "outputs": [],
   "source": [
    "import numpy as np"
   ]
  },
  {
   "cell_type": "code",
   "execution_count": 91,
   "metadata": {
    "collapsed": false
   },
   "outputs": [],
   "source": [
    "dt = np.dtype([('w', np.float), ('h', np.float), ('g', np.str_, 1)])"
   ]
  },
  {
   "cell_type": "code",
   "execution_count": 92,
   "metadata": {
    "collapsed": false
   },
   "outputs": [],
   "source": [
    "data = np.loadtxt('ck/whData.dat', dtype=dt,\n",
    "                  comments='#', delimiter=None)"
   ]
  },
  {
   "cell_type": "code",
   "execution_count": 93,
   "metadata": {
    "collapsed": false
   },
   "outputs": [],
   "source": [
    "ws = np.array([d[0] for d in data])\n",
    "hs = np.array([d[1] for d in data])\n",
    "gs = np.array([d[2] for d in data]) "
   ]
  },
  {
   "cell_type": "code",
   "execution_count": 115,
   "metadata": {
    "collapsed": false
   },
   "outputs": [],
   "source": [
    "X = np.vstack((hs, ws))"
   ]
  },
  {
   "cell_type": "code",
   "execution_count": 116,
   "metadata": {
    "collapsed": false
   },
   "outputs": [
    {
     "data": {
      "text/plain": [
       "array([[ 186.,  176.,  158.,  180.,  186.,  168.,  168.,  164.,  178.,\n",
       "         170.,  189.,  195.,  172.,  187.,  180.,  186.,  185.,  168.,\n",
       "         179.,  178.,  183.,  179.,  170.,  175.,  186.,  159.,  161.,\n",
       "         178.,  175.,  185.,  175.,  162.,  173.,  172.,  177.,  175.,\n",
       "         172.,  177.,  180.],\n",
       "       [  -1.,   60.,   45.,   58.,   70.,   70.,   60.,   64.,   68.,\n",
       "          78.,   80.,   78.,   66.,   74.,   84.,   85.,   75.,   60.,\n",
       "          71.,   67.,   88.,   -1.,   70.,   60.,   92.,   53.,   61.,\n",
       "          78.,  100.,  100.,   79.,   62.,   87.,   69.,   61.,   90.,\n",
       "          90.,   80.,  100.]])"
      ]
     },
     "execution_count": 116,
     "metadata": {},
     "output_type": "execute_result"
    }
   ],
   "source": [
    "X"
   ]
  },
  {
   "cell_type": "code",
   "execution_count": 117,
   "metadata": {
    "collapsed": true
   },
   "outputs": [],
   "source": [
    "from pattrex.plotting_mpl import plot2d"
   ]
  },
  {
   "cell_type": "code",
   "execution_count": 118,
   "metadata": {
    "collapsed": true
   },
   "outputs": [],
   "source": [
    "%matplotlib inline"
   ]
  },
  {
   "cell_type": "code",
   "execution_count": 124,
   "metadata": {
    "collapsed": false
   },
   "outputs": [
    {
     "data": {
      "image/png": "[encoded data removed]",
      "text/plain": [
       "<matplotlib.figure.Figure at 0x105c76048>"
      ]
     },
     "metadata": {},
     "output_type": "display_data"
    }
   ],
   "source": [
    "xmin, ymin = X.min(axis=1)\n",
    "xmax, ymax = X.max(axis=1)\n",
    "plot2d(X, show=False, plotlabel=\"data\", x_lim=[xmin-10, xmax+10], y_lim=[-2, ymax+10], set_aspect_equal=False)"
   ]
  },
  {
   "cell_type": "code",
   "execution_count": 120,
   "metadata": {
    "collapsed": false
   },
   "outputs": [],
   "source": [
    "X2 = np.copy(X)"
   ]
  },
  {
   "cell_type": "code",
   "execution_count": 121,
   "metadata": {
    "collapsed": false
   },
   "outputs": [
    {
     "name": "stdout",
     "output_type": "stream",
     "text": [
      "(2, 37)\n"
     ]
    },
    {
     "data": {
      "text/plain": [
       "array([[ 176.,  158.,  180.,  186.,  168.,  168.,  164.,  178.,  170.,\n",
       "         189.,  195.,  172.,  187.,  180.,  186.,  185.,  168.,  179.,\n",
       "         178.,  183.,  170.,  175.,  186.,  159.,  161.,  178.,  175.,\n",
       "         185.,  175.,  162.,  173.,  172.,  177.,  175.,  172.,  177.,\n",
       "         180.],\n",
       "       [  60.,   45.,   58.,   70.,   70.,   60.,   64.,   68.,   78.,\n",
       "          80.,   78.,   66.,   74.,   84.,   85.,   75.,   60.,   71.,\n",
       "          67.,   88.,   70.,   60.,   92.,   53.,   61.,   78.,  100.,\n",
       "         100.,   79.,   62.,   87.,   69.,   61.,   90.,   90.,   80.,\n",
       "         100.]])"
      ]
     },
     "execution_count": 121,
     "metadata": {},
     "output_type": "execute_result"
    }
   ],
   "source": [
    "X2 = np.delete(X2, np.unique(np.where(X2 < 0)[1]), 1)\n",
    "print(X2.shape)\n",
    "X2"
   ]
  },
  {
   "cell_type": "code",
   "execution_count": 123,
   "metadata": {
    "collapsed": false
   },
   "outputs": [
    {
     "data": {
      "image/png": "[encoded data removed]",
      "text/plain": [
       "<matplotlib.figure.Figure at 0x105c89588>"
      ]
     },
     "metadata": {},
     "output_type": "display_data"
    }
   ],
   "source": [
    "xmin, ymin = X2.min(axis=1)\n",
    "xmax, ymax = X2.max(axis=1)\n",
    "plot2d(X2, show=False, plotlabel=\"data\", x_lim=[xmin-10, xmax+10], y_lim=[-2, ymax+10], set_aspect_equal=False)"
   ]
  },
  {
   "cell_type": "code",
   "execution_count": 48,
   "metadata": {
    "collapsed": false
   },
   "outputs": [
    {
     "data": {
      "text/plain": [
       "array([ 0, 21])"
      ]
     },
     "execution_count": 48,
     "metadata": {},
     "output_type": "execute_result"
    }
   ],
   "source": [
    "cols_to_delnp.unique(np.transpose(np.where(X2 < 0))[:, 1])"
   ]
  },
  {
   "cell_type": "code",
   "execution_count": 85,
   "metadata": {
    "collapsed": true
   },
   "outputs": [],
   "source": [
    "x = np.array([[1, 2], [3, -4], [-5, 6], [7, 8], [-9, -10], [11, 12]])"
   ]
  },
  {
   "cell_type": "code",
   "execution_count": 86,
   "metadata": {
    "collapsed": false
   },
   "outputs": [],
   "source": [
    "x2 = np.transpose(x)"
   ]
  },
  {
   "cell_type": "code",
   "execution_count": 79,
   "metadata": {
    "collapsed": false
   },
   "outputs": [
    {
     "data": {
      "text/plain": [
       "array([1, 2, 4])"
      ]
     },
     "execution_count": 79,
     "metadata": {},
     "output_type": "execute_result"
    }
   ],
   "source": [
    "np.unique(np.where(x < 0)[0])"
   ]
  },
  {
   "cell_type": "code",
   "execution_count": 87,
   "metadata": {
    "collapsed": false
   },
   "outputs": [
    {
     "data": {
      "text/plain": [
       "array([[ 1,  7, 11],\n",
       "       [ 2,  8, 12]])"
      ]
     },
     "execution_count": 87,
     "metadata": {},
     "output_type": "execute_result"
    }
   ],
   "source": [
    "np.delete(x2, np.where(x < 0)[0], 1)"
   ]
  },
  {
   "cell_type": "code",
   "execution_count": null,
   "metadata": {
    "collapsed": true
   },
   "outputs": [],
   "source": []
  }
 ],
 "metadata": {
  "kernelspec": {
   "display_name": "Python 3",
   "language": "python",
   "name": "python3"
  },
  "language_info": {
   "codemirror_mode": {
    "name": "ipython",
    "version": 3
   },
   "file_extension": ".py",
   "mimetype": "text/x-python",
   "name": "python",
   "nbconvert_exporter": "python",
   "pygments_lexer": "ipython3",
   "version": "3.4.3"
  }
 },
 "nbformat": 4,
 "nbformat_minor": 0
}
