{
 "cells": [
  {
   "cell_type": "code",
   "execution_count": 2,
   "metadata": {
    "collapsed": false
   },
   "outputs": [
    {
     "data": {
      "text/plain": [
       "['bmh', 'fivethirtyeight', 'grayscale', 'ggplot', 'dark_background']"
      ]
     },
     "execution_count": 2,
     "metadata": {},
     "output_type": "execute_result"
    }
   ],
   "source": [
    "import numpy as np\n",
    "import matplotlib.pyplot as plt\n",
    "%matplotlib inline\n",
    "\n",
    "plt.style.available"
   ]
  },
  {
   "cell_type": "code",
   "execution_count": 3,
   "metadata": {
    "collapsed": false
   },
   "outputs": [],
   "source": [
    "# plt.style.use('ggplot')\n",
    "\n",
    "import pattrex.plotting_mpl as plt_rex\n",
    "import pattrex.preprocessing as pre_rex\n",
    "import pattrex.fitting as fit_rex\n",
    "\n",
    "from pattrex.demo_helper import read_whdata"
   ]
  },
  {
   "cell_type": "markdown",
   "metadata": {},
   "source": [
    "# for `whData`"
   ]
  },
  {
   "cell_type": "code",
   "execution_count": 4,
   "metadata": {
    "collapsed": true
   },
   "outputs": [],
   "source": [
    "# Read data, remove and save outliers\n",
    "ws, hs, gs = read_whdata()\n",
    "HW = np.vstack((hs, ws)).astype(np.float)\n",
    "HW_new, neg_idx = pre_rex.only_all_positive(HW, True, return_neg_idx=True)\n",
    "hu = np.array([h for i, h in enumerate(hs) if i in neg_idx])\n",
    "\n",
    "hn = HW_new[0, :]\n",
    "wn = HW_new[1, :]"
   ]
  },
  {
   "cell_type": "code",
   "execution_count": 5,
   "metadata": {
    "collapsed": true
   },
   "outputs": [],
   "source": [
    "degree = 3"
   ]
  },
  {
   "cell_type": "markdown",
   "metadata": {},
   "source": [
    "## Using `sklearn`"
   ]
  },
  {
   "cell_type": "code",
   "execution_count": 6,
   "metadata": {
    "collapsed": false
   },
   "outputs": [
    {
     "name": "stdout",
     "output_type": "stream",
     "text": [
      "Coefficients\n",
      "0: -22.424853207869916\n",
      "1: 1.676277962762623e-07\n",
      "2: 2.976767457558288e-05\n",
      "3: 1.7701942030121727e-05\n",
      "\n",
      "Predictions\n",
      "168.0: 39.92657938512134, 62.35143259299126\n",
      "172.0: 46.106380820174024, 68.53123402804394\n",
      "167.0: 38.426652287777415, 60.85150549564733\n"
     ]
    }
   ],
   "source": [
    "# using default initializations\n",
    "res_sk0 = \\\n",
    "    fit_rex.fit_polynomial_bayesian_skl(hn, wn, degree, padding=50\n",
    "                                        , X_unknown=hu)\n",
    "    \n",
    "coeff_sk0 = res_sk0[0]\n",
    "\n",
    "line1_sk0 = res_sk0[1][0]\n",
    "line2_sk0 = res_sk0[1][1]\n",
    "\n",
    "pred1_sk0 = res_sk0[2][0]\n",
    "pred2_sk0 = res_sk0[2][1]\n",
    "\n",
    "pred1w_sk0 = res_sk0[2][0][1]\n",
    "pred2w_sk0 = res_sk0[2][1][1]\n",
    "\n",
    "print(\"Coefficients\")\n",
    "print(\"\\n\".join(\"{}: {}\".format(i, c) for i, c in enumerate(coeff_sk0)))\n",
    "print(\"\\nPredictions\")\n",
    "print(\"\\n\".join(\"{}: {}, {}\".format(*p) for p \n",
    "                in zip(hu, pred1w_sk0, pred2w_sk0)))"
   ]
  },
  {
   "cell_type": "markdown",
   "metadata": {},
   "source": [
    "## Manual"
   ]
  },
  {
   "cell_type": "code",
   "execution_count": 8,
   "metadata": {
    "collapsed": false
   },
   "outputs": [
    {
     "name": "stdout",
     "output_type": "stream",
     "text": [
      "Coefficients\n",
      "0: -0.001589262117356327\n",
      "1: -0.09352111836597032\n",
      "2: -0.0010909296320278372\n",
      "3: 2.295956379280706e-05\n",
      "\n",
      "Predictions\n",
      "168.0: 62.362267304805016, 62.36226730406127\n",
      "172.0: 68.46726260818444, 68.4672626074057\n",
      "167.0: 60.88876632501493, 60.88876632427979\n"
     ]
    }
   ],
   "source": [
    "# using default initializations, sig2=var(y), sig2_0=3.0, mu_0=0\n",
    "# using inv instead of pinv\n",
    "# using manual instead of lsmr\n",
    "res_man0 = \\\n",
    "    fit_rex.fit_polynomial_bayesian(hn, wn, degree\n",
    "                                        , sig2=None\n",
    "                                        , sig2_0=3.0\n",
    "                                        , padding=50, get_pdf=True\n",
    "                                        , X_unknown=hu)\n",
    "    \n",
    "coeff_man0 = res_man0[0]\n",
    "\n",
    "line1_man0 = res_man0[1][0]\n",
    "line2_man0 = res_man0[1][1]\n",
    "\n",
    "pred1_man0 = res_man0[2][0]\n",
    "pred2_man0 = res_man0[2][1]\n",
    "\n",
    "xypdf_man0 = res_man0[3]\n",
    "\n",
    "pred1w_man0 = res_man0[2][0][1]\n",
    "pred2w_man0 = res_man0[2][1][1]\n",
    "\n",
    "print(\"Coefficients\")\n",
    "print(\"\\n\".join(\"{}: {}\".format(i, c) for i, c in enumerate(coeff_man0)))\n",
    "print(\"\\nPredictions\")\n",
    "print(\"\\n\".join(\"{}: {}, {}\".format(*p) for p \n",
    "                in zip(hu, pred1w_man0, pred2w_man0)))"
   ]
  },
  {
   "cell_type": "markdown",
   "metadata": {},
   "source": [
    "### Plot"
   ]
  },
  {
   "cell_type": "code",
   "execution_count": 9,
   "metadata": {
    "collapsed": true
   },
   "outputs": [],
   "source": [
    "xx, yy, pdf = xypdf_man0"
   ]
  },
  {
   "cell_type": "code",
   "execution_count": null,
   "metadata": {
    "collapsed": false
   },
   "outputs": [],
   "source": [
    "plt.contourf(yy, xx, pdf, cmap=plt.cm.PuBu_r)\n",
    "plt.colorbar()"
   ]
  },
  {
   "cell_type": "markdown",
   "metadata": {},
   "source": [
    "## Comparing other params"
   ]
  },
  {
   "cell_type": "code",
   "execution_count": 11,
   "metadata": {
    "collapsed": false
   },
   "outputs": [],
   "source": [
    "# lsmr\n",
    "res_man_lsmr = \\\n",
    "    fit_rex.fit_polynomial_bayesian(hn, wn, degree\n",
    "                                        , sig2=None\n",
    "                                        , sig2_0=3.0\n",
    "                                        , use_lsmr=True, use_pinv=False\n",
    "                                        , padding=50, get_pdf=True\n",
    "                                        , X_unknown=hu)\n",
    "# pinv\n",
    "res_man_pinv = \\\n",
    "    fit_rex.fit_polynomial_bayesian(hn, wn, degree\n",
    "                                        , sig2=None\n",
    "                                        , sig2_0=3.0\n",
    "                                        , use_lsmr=False, use_pinv=True\n",
    "                                        , padding=50, get_pdf=True\n",
    "                                        , X_unknown=hu)\n",
    "# lsmr + pinv\n",
    "res_man_lspin = \\\n",
    "    fit_rex.fit_polynomial_bayesian(hn, wn, degree\n",
    "                                        , sig2=None\n",
    "                                        , sig2_0=3.0\n",
    "                                        , use_lsmr=True, use_pinv=True\n",
    "                                        , padding=50, get_pdf=True\n",
    "                                        , X_unknown=hu)"
   ]
  },
  {
   "cell_type": "code",
   "execution_count": 30,
   "metadata": {
    "collapsed": true
   },
   "outputs": [],
   "source": [
    "res_lstsq = fit_rex.fit_polynomial_nplstsq(hn, wn, degree, x_pad=50\n",
    "                                           , X_unknown=hu)"
   ]
  },
  {
   "cell_type": "code",
   "execution_count": 12,
   "metadata": {
    "collapsed": false
   },
   "outputs": [
    {
     "name": "stdout",
     "output_type": "stream",
     "text": [
      "['skl', 'man', 'man_lsmr', 'man_pinv', 'man_lspin']\n",
      "Coefficients\n",
      "0: -22.4 |-0.00159 |-2.18e-07 |-0.00159 |-2.18e-07 |\n",
      "1: 1.68e-07 |-0.0935 |-2.51e-05 |-0.0935 |-2.51e-05 |\n",
      "2: 2.98e-05 |-0.00109 |-0.00217 |-0.00109 |-0.00217 |\n",
      "3: 1.77e-05 |2.3e-05 |2.6e-05 |2.3e-05 |2.6e-05 |\n",
      "\n",
      "['skl', 'man', 'man_lsmr', 'man_pinv', 'man_lspin']\n",
      "Predictions\n",
      "168.0: 39.9 62.4|62.4 62.4|62.4 62.4|62.4 62.4|62.4 62.4|\n",
      "172.0: 46.1 68.5|68.5 68.5|68.5 68.4|68.5 68.5|68.5 68.4|\n",
      "167.0: 38.4 60.9|60.9 60.9|60.9 60.9|60.9 60.9|60.9 60.9|\n"
     ]
    },
    {
     "data": {
      "image/png": "[encoded data removed]",
      "text/plain": [
       "<matplotlib.figure.Figure at 0x107599b38>"
      ]
     },
     "metadata": {},
     "output_type": "display_data"
    }
   ],
   "source": [
    "reses = [[res_sk0, \"skl\"]\n",
    "        , [res_man0, \"man\"]\n",
    "        , [res_man_lsmr, \"man_lsmr\"]\n",
    "        , [res_man_pinv, \"man_pinv\"]\n",
    "        , [res_man_lspin, \"man_lspin\"]\n",
    "#         , [res_lstsq, \"lstsq\"]\n",
    "        ]\n",
    "\n",
    "titles = []\n",
    "coeffs = []\n",
    "coeff_string = \"{}: \"\n",
    "preds = []\n",
    "preds_string = \"{}: \"\n",
    "\n",
    "fig = plt.figure(figsize=(12, 8))\n",
    "axs = fig.add_subplot(111)\n",
    "\n",
    "xmin, ymin = HW_new.min(axis=1)\n",
    "xmax, ymax = HW_new.max(axis=1)\n",
    "\n",
    "xlim = [xmin-50, xmax+50]\n",
    "ylim = [ymin-50, ymax+50]\n",
    "\n",
    "# plot data\n",
    "plt_rex.plot2d(HW_new, colwise_data=True, hatch='o', \n",
    "               x_lim=xlim, y_lim=ylim, \n",
    "               show=False, axs=axs, plotlabel=\"data\")\n",
    "\n",
    "# plot unkown vertical lines\n",
    "for h in hu:\n",
    "    axs.axvline(x=h, color='lightskyblue')\n",
    "\n",
    "for res, label in reses:\n",
    "    coeff = res[0]\n",
    "    \n",
    "    if label != \"lstsq\":\n",
    "        line1 = res[1][0]\n",
    "        line2 = res[1][1]\n",
    "\n",
    "        pred1 = res[2][0]\n",
    "        pred2 = res[2][1]\n",
    "\n",
    "        pred1w = res[2][0][1]\n",
    "        pred2w = res[2][1][1]\n",
    "\n",
    "        # formatted printing\n",
    "        titles.append(label)\n",
    "\n",
    "        coeffs.append(coeff)\n",
    "        coeff_string += \"{:5.3} |\"\n",
    "\n",
    "        preds.append(pred1w)\n",
    "        preds.append(pred2w)\n",
    "        preds_string += \"{:4.3} {:4.3}|\"\n",
    "        \n",
    "    else:\n",
    "        line1 = res[2]\n",
    "\n",
    "        pred1 = (hu, res[1])\n",
    "\n",
    "        pred1w = res[1]\n",
    "\n",
    "        # formatted printing\n",
    "        titles.append(label)\n",
    "\n",
    "        coeffs.append(coeff)\n",
    "        coeff_string += \"{:5.3} |\"\n",
    "\n",
    "        preds.append(pred1w)\n",
    "        preds_string += \"{:4.3} |\"\n",
    "    \n",
    "    # # PLOTTING ##############################################\n",
    "\n",
    "    # line 1\n",
    "    plt_rex.plot2d(np.vstack(line1), colwise_data=True, hatch='-',\n",
    "                   show=False, axs=axs, plotlabel=\"line1_\"+label)\n",
    "\n",
    "    # preds 1\n",
    "    plt_rex.plot2d(np.vstack(pred1), colwise_data=True, hatch='o', \n",
    "                   show=False, axs=axs, plotlabel=\"preds1_\"+label)\n",
    "    \n",
    "    if label != \"lstsq\":\n",
    "        # line 2\n",
    "        plt_rex.plot2d(np.vstack(line2), colwise_data=True, hatch='-',\n",
    "                       show=False, axs=axs, plotlabel=\"line2_\"+label)\n",
    "\n",
    "        # preds 2\n",
    "        plt_rex.plot2d(np.vstack(pred2), colwise_data=True, hatch='o', \n",
    "                       show=False, axs=axs, plotlabel=\"preds1_\"+label)\n",
    "    \n",
    "\n",
    "print(titles)\n",
    "print(\"Coefficients\")\n",
    "print(\"\\n\".join(coeff_string.format(i, *c) for i, c \n",
    "                in enumerate(zip(*coeffs))))\n",
    "\n",
    "print()\n",
    "print(titles)\n",
    "print(\"Predictions\")\n",
    "print(\"\\n\".join(preds_string.format(*p) for p \n",
    "                in zip(hu, *preds)))\n",
    "    "
   ]
  },
  {
   "cell_type": "code",
   "execution_count": null,
   "metadata": {
    "collapsed": true
   },
   "outputs": [],
   "source": []
  },
  {
   "cell_type": "code",
   "execution_count": null,
   "metadata": {
    "collapsed": true
   },
   "outputs": [],
   "source": []
  },
  {
   "cell_type": "code",
   "execution_count": null,
   "metadata": {
    "collapsed": true
   },
   "outputs": [],
   "source": []
  }
 ],
 "metadata": {
  "hide_input": false,
  "kernelspec": {
   "display_name": "Python 3",
   "language": "python",
   "name": "python3"
  },
  "language_info": {
   "codemirror_mode": {
    "name": "ipython",
    "version": 3
   },
   "file_extension": ".py",
   "mimetype": "text/x-python",
   "name": "python",
   "nbconvert_exporter": "python",
   "pygments_lexer": "ipython3",
   "version": "3.4.3"
  }
 },
 "nbformat": 4,
 "nbformat_minor": 0
}
