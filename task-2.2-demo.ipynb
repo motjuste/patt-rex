{
 "cells": [
  {
   "cell_type": "code",
   "execution_count": 2,
   "metadata": {
    "collapsed": true
   },
   "outputs": [],
   "source": [
    "import numpy as np\n",
    "import matplotlib.pyplot as plt\n",
    "%matplotlib inline\n",
    "\n",
    "import pattrex.plotting_mpl as plt_rex\n",
    "import pattrex.preprocessing as pre_rex\n",
    "import pattrex.fitting as fit_rex\n",
    "\n",
    "from pattrex.demo_helper import read_whdata"
   ]
  },
  {
   "cell_type": "code",
   "execution_count": 3,
   "metadata": {
    "collapsed": true
   },
   "outputs": [],
   "source": [
    "# Read data, remove and save outliers\n",
    "ws, hs, gs = read_whdata()\n",
    "HW = np.vstack((hs, ws)).astype(np.float)\n",
    "HW_new, neg_idx = pre_rex.only_all_positive(HW, True, return_neg_idx=True)\n",
    "H_unknown = np.array([h for i, h in enumerate(hs) if i in neg_idx])\n",
    "\n"
   ]
  },
  {
   "cell_type": "code",
   "execution_count": 11,
   "metadata": {
    "collapsed": false
   },
   "outputs": [
    {
     "name": "stdout",
     "output_type": "stream",
     "text": [
      "height: 173.57142857142858, 7.241227392483947, 52.435374149659864\n",
      "weight: 71.52380952380952, 14.45722441786392, 209.01133786848075\n"
     ]
    }
   ],
   "source": [
    "# fit normal distribution to height and weight\n",
    "h_new = HW_new[0, :]\n",
    "h_mean, h_std, _, _ = fit_rex.fit_normal_distribution(h_new)\n",
    "w_new = HW_new[1, :]\n",
    "w_mean, w_std, _, _ = fit_rex.fit_normal_distribution(w_new)\n",
    "\n",
    "print(\"height: {}, {}, {}\".format(h_mean, h_std, np.power(h_std, 2)))\n",
    "print(\"weight: {}, {}, {}\".format(w_mean, w_std, np.power(w_std, 2)))"
   ]
  },
  {
   "cell_type": "code",
   "execution_count": 43,
   "metadata": {
    "collapsed": false
   },
   "outputs": [
    {
     "name": "stdout",
     "output_type": "stream",
     "text": [
      "[ 173.57142857   71.52380952]\n",
      "[  52.43537415  209.01133787]\n",
      "[[  55.05714286   89.08571429]\n",
      " [  89.08571429  219.46190476]]\n"
     ]
    },
    {
     "data": {
      "text/plain": [
       "array([[  52.43537415,   84.84353741],\n",
       "       [  84.84353741,  209.01133787]])"
      ]
     },
     "execution_count": 43,
     "metadata": {},
     "output_type": "execute_result"
    }
   ],
   "source": [
    "# Bi-variate Gaussian\n",
    "print(np.mean(HW_new, axis=1))\n",
    "print(np.var(HW_new, axis=1))\n",
    "print(np.cov(HW_new))\n",
    "np.cov(HW_new, ddof=0)"
   ]
  },
  {
   "cell_type": "markdown",
   "metadata": {},
   "source": [
    "### effect of `ddof`"
   ]
  },
  {
   "cell_type": "code",
   "execution_count": 19,
   "metadata": {
    "collapsed": false
   },
   "outputs": [
    {
     "data": {
      "text/plain": [
       "array(55.05714285714286)"
      ]
     },
     "execution_count": 19,
     "metadata": {},
     "output_type": "execute_result"
    }
   ],
   "source": [
    "np.cov(h_new)"
   ]
  },
  {
   "cell_type": "code",
   "execution_count": 20,
   "metadata": {
    "collapsed": false
   },
   "outputs": [
    {
     "data": {
      "text/plain": [
       "7.8066666666666658"
      ]
     },
     "execution_count": 20,
     "metadata": {},
     "output_type": "execute_result"
    }
   ],
   "source": [
    "x = [-2.1, -1,  4.3]\n",
    "np.var(x)"
   ]
  },
  {
   "cell_type": "code",
   "execution_count": 24,
   "metadata": {
    "collapsed": false
   },
   "outputs": [
    {
     "data": {
      "text/plain": [
       "array(7.806666666666666)"
      ]
     },
     "execution_count": 24,
     "metadata": {},
     "output_type": "execute_result"
    }
   ],
   "source": [
    "np.cov(x, ddof=0)"
   ]
  },
  {
   "cell_type": "code",
   "execution_count": 22,
   "metadata": {
    "collapsed": false
   },
   "outputs": [
    {
     "data": {
      "text/plain": [
       "0.39999999999999991"
      ]
     },
     "execution_count": 22,
     "metadata": {},
     "output_type": "execute_result"
    }
   ],
   "source": [
    "np.mean(x)"
   ]
  },
  {
   "cell_type": "code",
   "execution_count": 23,
   "metadata": {
    "collapsed": false
   },
   "outputs": [
    {
     "data": {
      "text/plain": [
       "7.8066666666666658"
      ]
     },
     "execution_count": 23,
     "metadata": {},
     "output_type": "execute_result"
    }
   ],
   "source": [
    "np.sum(np.power((x - np.mean(x)), 2) * (1/3))"
   ]
  },
  {
   "cell_type": "markdown",
   "metadata": {},
   "source": [
    "***"
   ]
  },
  {
   "cell_type": "code",
   "execution_count": 54,
   "metadata": {
    "collapsed": false
   },
   "outputs": [
    {
     "name": "stdout",
     "output_type": "stream",
     "text": [
      "[  7.24122739  14.45722442]\n"
     ]
    },
    {
     "data": {
      "text/plain": [
       "0.81044147676186351"
      ]
     },
     "execution_count": 54,
     "metadata": {},
     "output_type": "execute_result"
    }
   ],
   "source": [
    "# Let us proceed with the default behaviour of \n",
    "bi_mean = np.mean(HW_new, axis=1)\n",
    "bi_cov = np.cov(HW_new, ddof=0)\n",
    "\n",
    "bi_sqrt = np.sqrt(bi_cov)\n",
    "bi_std = np.array([bi_sqrt[0, 0], bi_sqrt[1, 1]])\n",
    "bi_rho = bi_cov[0, 1]/(np.prod(bi_std))\n",
    "\n",
    "print(bi_std)\n",
    "bi_rho"
   ]
  },
  {
   "cell_type": "code",
   "execution_count": 34,
   "metadata": {
    "collapsed": false
   },
   "outputs": [
    {
     "data": {
      "text/plain": [
       "array([[ 1.        ,  0.81044148],\n",
       "       [ 0.81044148,  1.        ]])"
      ]
     },
     "execution_count": 34,
     "metadata": {},
     "output_type": "execute_result"
    }
   ],
   "source": [
    "np.corrcoef(HW_new)"
   ]
  },
  {
   "cell_type": "markdown",
   "metadata": {},
   "source": [
    "### Calculate values for outliers"
   ]
  },
  {
   "cell_type": "code",
   "execution_count": 56,
   "metadata": {
    "collapsed": false
   },
   "outputs": [
    {
     "data": {
      "text/plain": [
       "array([ 62.50890849,  68.98114513,  60.89084933])"
      ]
     },
     "execution_count": 56,
     "metadata": {},
     "output_type": "execute_result"
    }
   ],
   "source": [
    "# ddof = 0\n",
    "W_unknown = bi_mean[1] + bi_rho * (bi_std[1]/bi_std[0]) * (H_unknown - bi_mean[0])\n",
    "W_unknown"
   ]
  },
  {
   "cell_type": "code",
   "execution_count": 53,
   "metadata": {
    "collapsed": false
   },
   "outputs": [
    {
     "data": {
      "text/plain": [
       "array([ 62.50890849,  68.98114513,  60.89084933])"
      ]
     },
     "execution_count": 53,
     "metadata": {},
     "output_type": "execute_result"
    }
   ],
   "source": [
    "W_unknown = bi_mean[1] + bi_rho * (bi_std[1]/bi_std[0]) * (H_unknown - bi_mean[0])\n",
    "W_unknown"
   ]
  },
  {
   "cell_type": "code",
   "execution_count": null,
   "metadata": {
    "collapsed": true
   },
   "outputs": [],
   "source": []
  }
 ],
 "metadata": {
  "hide_input": false,
  "kernelspec": {
   "display_name": "Python 3",
   "language": "python",
   "name": "python3"
  },
  "language_info": {
   "codemirror_mode": {
    "name": "ipython",
    "version": 3
   },
   "file_extension": ".py",
   "mimetype": "text/x-python",
   "name": "python",
   "nbconvert_exporter": "python",
   "pygments_lexer": "ipython3",
   "version": "3.4.3"
  }
 },
 "nbformat": 4,
 "nbformat_minor": 0
}
