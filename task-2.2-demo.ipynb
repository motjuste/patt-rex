{
 "cells": [
  {
   "cell_type": "code",
   "execution_count": 2,
   "metadata": {
    "collapsed": true
   },
   "outputs": [],
   "source": [
    "import numpy as np\n",
    "import matplotlib.pyplot as plt\n",
    "%matplotlib inline\n",
    "\n",
    "import pattrex.plotting_mpl as plt_rex\n",
    "import pattrex.preprocessing as pre_rex\n",
    "import pattrex.fitting as fit_rex\n",
    "\n",
    "from pattrex.demo_helper import read_whdata"
   ]
  },
  {
   "cell_type": "code",
   "execution_count": 3,
   "metadata": {
    "collapsed": true
   },
   "outputs": [],
   "source": [
    "# Read data, remove and save outliers\n",
    "ws, hs, gs = read_whdata()\n",
    "HW = np.vstack((hs, ws)).astype(np.float)\n",
    "HW_new, neg_idx = pre_rex.only_all_positive(HW, True, return_neg_idx=True)\n",
    "H_unknown = np.array([h for i, h in enumerate(hs) if i in neg_idx])\n",
    "\n"
   ]
  },
  {
   "cell_type": "code",
   "execution_count": 4,
   "metadata": {
    "collapsed": false
   },
   "outputs": [
    {
     "name": "stdout",
     "output_type": "stream",
     "text": [
      "height: 173.57142857142858, 7.241227392483947, 52.435374149659864\n",
      "weight: 71.52380952380952, 14.45722441786392, 209.01133786848075\n"
     ]
    }
   ],
   "source": [
    "# fit normal distribution to height and weight\n",
    "h_new = HW_new[0, :]\n",
    "h_mean, h_std, _, _ = fit_rex.fit_normal_distribution(h_new)\n",
    "w_new = HW_new[1, :]\n",
    "w_mean, w_std, _, _ = fit_rex.fit_normal_distribution(w_new)\n",
    "\n",
    "print(\"height: {}, {}, {}\".format(h_mean, h_std, np.power(h_std, 2)))\n",
    "print(\"weight: {}, {}, {}\".format(w_mean, w_std, np.power(w_std, 2)))"
   ]
  },
  {
   "cell_type": "code",
   "execution_count": 5,
   "metadata": {
    "collapsed": false
   },
   "outputs": [
    {
     "name": "stdout",
     "output_type": "stream",
     "text": [
      "[ 173.57142857   71.52380952]\n",
      "[  52.43537415  209.01133787]\n",
      "[[  55.05714286   89.08571429]\n",
      " [  89.08571429  219.46190476]]\n"
     ]
    },
    {
     "data": {
      "text/plain": [
       "array([[  52.43537415,   84.84353741],\n",
       "       [  84.84353741,  209.01133787]])"
      ]
     },
     "execution_count": 5,
     "metadata": {},
     "output_type": "execute_result"
    }
   ],
   "source": [
    "# Bi-variate Gaussian\n",
    "print(np.mean(HW_new, axis=1))\n",
    "print(np.var(HW_new, axis=1))\n",
    "print(np.cov(HW_new))\n",
    "np.cov(HW_new, ddof=0)"
   ]
  },
  {
   "cell_type": "markdown",
   "metadata": {},
   "source": [
    "### effect of `ddof`"
   ]
  },
  {
   "cell_type": "code",
   "execution_count": 6,
   "metadata": {
    "collapsed": false
   },
   "outputs": [
    {
     "data": {
      "text/plain": [
       "array(55.05714285714286)"
      ]
     },
     "execution_count": 6,
     "metadata": {},
     "output_type": "execute_result"
    }
   ],
   "source": [
    "np.cov(h_new)"
   ]
  },
  {
   "cell_type": "code",
   "execution_count": 7,
   "metadata": {
    "collapsed": false
   },
   "outputs": [
    {
     "data": {
      "text/plain": [
       "7.8066666666666658"
      ]
     },
     "execution_count": 7,
     "metadata": {},
     "output_type": "execute_result"
    }
   ],
   "source": [
    "x = [-2.1, -1,  4.3]\n",
    "np.var(x)"
   ]
  },
  {
   "cell_type": "code",
   "execution_count": 8,
   "metadata": {
    "collapsed": false
   },
   "outputs": [
    {
     "data": {
      "text/plain": [
       "array(7.806666666666666)"
      ]
     },
     "execution_count": 8,
     "metadata": {},
     "output_type": "execute_result"
    }
   ],
   "source": [
    "np.cov(x, ddof=0)"
   ]
  },
  {
   "cell_type": "code",
   "execution_count": 9,
   "metadata": {
    "collapsed": false
   },
   "outputs": [
    {
     "data": {
      "text/plain": [
       "0.39999999999999991"
      ]
     },
     "execution_count": 9,
     "metadata": {},
     "output_type": "execute_result"
    }
   ],
   "source": [
    "np.mean(x)"
   ]
  },
  {
   "cell_type": "code",
   "execution_count": 10,
   "metadata": {
    "collapsed": false
   },
   "outputs": [
    {
     "data": {
      "text/plain": [
       "7.8066666666666658"
      ]
     },
     "execution_count": 10,
     "metadata": {},
     "output_type": "execute_result"
    }
   ],
   "source": [
    "np.sum(np.power((x - np.mean(x)), 2) * (1/3))"
   ]
  },
  {
   "cell_type": "markdown",
   "metadata": {},
   "source": [
    "***"
   ]
  },
  {
   "cell_type": "code",
   "execution_count": 11,
   "metadata": {
    "collapsed": false
   },
   "outputs": [
    {
     "name": "stdout",
     "output_type": "stream",
     "text": [
      "[  7.24122739  14.45722442]\n"
     ]
    },
    {
     "data": {
      "text/plain": [
       "0.81044147676186351"
      ]
     },
     "execution_count": 11,
     "metadata": {},
     "output_type": "execute_result"
    }
   ],
   "source": [
    "# Let us proceed with the default behaviour of \n",
    "bi_mean = np.mean(HW_new, axis=1)\n",
    "bi_cov = np.cov(HW_new, ddof=0)\n",
    "\n",
    "bi_sqrt = np.sqrt(bi_cov)\n",
    "bi_std = np.array([bi_sqrt[0, 0], bi_sqrt[1, 1]])\n",
    "bi_rho = bi_cov[0, 1]/(np.prod(bi_std))\n",
    "\n",
    "print(bi_std)\n",
    "bi_rho"
   ]
  },
  {
   "cell_type": "code",
   "execution_count": 12,
   "metadata": {
    "collapsed": false
   },
   "outputs": [
    {
     "data": {
      "text/plain": [
       "array([[ 1.        ,  0.81044148],\n",
       "       [ 0.81044148,  1.        ]])"
      ]
     },
     "execution_count": 12,
     "metadata": {},
     "output_type": "execute_result"
    }
   ],
   "source": [
    "np.corrcoef(HW_new)"
   ]
  },
  {
   "cell_type": "markdown",
   "metadata": {},
   "source": [
    "### Calculate values for outliers"
   ]
  },
  {
   "cell_type": "code",
   "execution_count": 13,
   "metadata": {
    "collapsed": false
   },
   "outputs": [
    {
     "data": {
      "text/plain": [
       "array([ 62.50890849,  68.98114513,  60.89084933])"
      ]
     },
     "execution_count": 13,
     "metadata": {},
     "output_type": "execute_result"
    }
   ],
   "source": [
    "# ddof = 0\n",
    "W_unknown = bi_mean[1] + bi_rho * (bi_std[1]/bi_std[0]) * (H_unknown - bi_mean[0])\n",
    "W_unknown"
   ]
  },
  {
   "cell_type": "code",
   "execution_count": 14,
   "metadata": {
    "collapsed": false
   },
   "outputs": [
    {
     "data": {
      "text/plain": [
       "array([ 62.50890849,  68.98114513,  60.89084933])"
      ]
     },
     "execution_count": 14,
     "metadata": {},
     "output_type": "execute_result"
    }
   ],
   "source": [
    "W_unknown = bi_mean[1] + bi_rho * (bi_std[1]/bi_std[0]) * (H_unknown - bi_mean[0])\n",
    "W_unknown"
   ]
  },
  {
   "cell_type": "code",
   "execution_count": 15,
   "metadata": {
    "collapsed": false
   },
   "outputs": [
    {
     "data": {
      "text/plain": [
       "(2, 21)"
      ]
     },
     "execution_count": 15,
     "metadata": {},
     "output_type": "execute_result"
    }
   ],
   "source": [
    "HW_new.shape"
   ]
  },
  {
   "cell_type": "code",
   "execution_count": 16,
   "metadata": {
    "collapsed": false
   },
   "outputs": [
    {
     "data": {
      "text/plain": [
       "array([-26., -45.])"
      ]
     },
     "execution_count": 16,
     "metadata": {},
     "output_type": "execute_result"
    }
   ],
   "source": [
    "mmi = HW_new.min(axis=1)\n",
    "mmx = HW_new.max(axis=1)\n",
    "mmi-mmx"
   ]
  },
  {
   "cell_type": "markdown",
   "metadata": {},
   "source": [
    "## Meat and Potato"
   ]
  },
  {
   "cell_type": "code",
   "execution_count": 18,
   "metadata": {
    "collapsed": false
   },
   "outputs": [],
   "source": [
    "res = fit_rex.fit_multivariate_normal_dist(HW_new, X_unknown=H_unknown, X_unknown_dim=0)"
   ]
  },
  {
   "cell_type": "code",
   "execution_count": 19,
   "metadata": {
    "collapsed": false
   },
   "outputs": [],
   "source": [
    "_, _, W_pred, xypdf = res"
   ]
  },
  {
   "cell_type": "code",
   "execution_count": 20,
   "metadata": {
    "collapsed": false
   },
   "outputs": [
    {
     "data": {
      "text/plain": [
       "(array([ 168.,  172.,  167.]),\n",
       " array([ 62.50890849,  68.98114513,  60.89084933]))"
      ]
     },
     "execution_count": 20,
     "metadata": {},
     "output_type": "execute_result"
    }
   ],
   "source": [
    "W_pred"
   ]
  },
  {
   "cell_type": "code",
   "execution_count": 21,
   "metadata": {
    "collapsed": false
   },
   "outputs": [
    {
     "data": {
      "text/plain": [
       "<matplotlib.contour.QuadContourSet at 0x107720a20>"
      ]
     },
     "execution_count": 21,
     "metadata": {},
     "output_type": "execute_result"
    },
    {
     "data": {
      "image/png": "[encoded data removed]",
      "text/plain": [
       "<matplotlib.figure.Figure at 0x1075e4f98>"
      ]
     },
     "metadata": {},
     "output_type": "display_data"
    }
   ],
   "source": [
    "plt.contour(*xypdf)"
   ]
  },
  {
   "cell_type": "markdown",
   "metadata": {},
   "source": [
    "### plotting"
   ]
  },
  {
   "cell_type": "code",
   "execution_count": 17,
   "metadata": {
    "collapsed": false
   },
   "outputs": [
    {
     "data": {
      "image/png": "[encoded data removed]",
      "text/plain": [
       "<matplotlib.figure.Figure at 0x1077b4198>"
      ]
     },
     "metadata": {},
     "output_type": "display_data"
    }
   ],
   "source": [
    "fig = plt.figure()\n",
    "axs = fig.add_subplot(111)\n",
    "\n",
    "# limits for the axes\n",
    "HW_ = np.vstack((hs, ws))  # only the measurements; data is col-wise\n",
    "xmin, ymin = HW_.min(axis=1)\n",
    "xmax, ymax = HW_.max(axis=1)\n",
    "\n",
    "xlim = [xmin-5, xmax+15]  # purely for looks\n",
    "ylim = [-2, ymax+10]\n",
    "\n",
    "plt_rex.plot2d(HW_new, colwise_data=True, hatch='bo', x_lim=xlim, \n",
    "               y_lim=ylim, show=False, axs=axs, plotlabel=\"data\")\n",
    "\n",
    "axs.contour(*xypdf)\n",
    "\n",
    "plt_label = \"preds:\\n\" + \"\\n\".join(\"{}: {:.4}\".format(*c) for c in \\\n",
    "                                   zip(H_unknown, W_pred))\n",
    "plt_rex.plot2d(np.vstack((H_unknown, W_pred)), colwise_data=True, \n",
    "               hatch='ro', \n",
    "               show=False, axs=axs, plotlabel=plt_label)\n",
    "\n",
    "for h in H_unknown:\n",
    "    axs.axvline(x=h)"
   ]
  },
  {
   "cell_type": "markdown",
   "metadata": {},
   "source": [
    "### dist of weights for predictions"
   ]
  },
  {
   "cell_type": "code",
   "execution_count": 20,
   "metadata": {
    "collapsed": true
   },
   "outputs": [],
   "source": [
    "from scipy.stats import multivariate_normal"
   ]
  },
  {
   "cell_type": "code",
   "execution_count": 52,
   "metadata": {
    "collapsed": false
   },
   "outputs": [
    {
     "data": {
      "image/png": "[encoded data removed]",
      "text/plain": [
       "<matplotlib.figure.Figure at 0x1080e20b8>"
      ]
     },
     "metadata": {},
     "output_type": "display_data"
    }
   ],
   "source": [
    "arg_max = []\n",
    "for h in H_unknown:\n",
    "    x = np.ones(100) * h\n",
    "    y = np.linspace(ymin, ymax, 100)\n",
    "\n",
    "    rv = multivariate_normal(res[0][0], res[0][1])\n",
    "    pdf = rv.pdf(np.vstack((x, y)).T)\n",
    "    plt.plot(y, pdf)\n",
    "    arg_max.append(y[np.argmax(pdf)])\n",
    "\n",
    "plt.legend([\"{}: {}\".format(*c) for c in zip(H_unknown, arg_max)])\n",
    "for x in arg_max:\n",
    "    plt.axvline(x=x)"
   ]
  },
  {
   "cell_type": "code",
   "execution_count": 55,
   "metadata": {
    "collapsed": false
   },
   "outputs": [
    {
     "data": {
      "text/plain": [
       "(213, 174)"
      ]
     },
     "execution_count": 55,
     "metadata": {},
     "output_type": "execute_result"
    }
   ],
   "source": [
    "xypdf[-1].shape"
   ]
  },
  {
   "cell_type": "code",
   "execution_count": 57,
   "metadata": {
    "collapsed": false
   },
   "outputs": [
    {
     "data": {
      "text/plain": [
       "(213, 174)"
      ]
     },
     "execution_count": 57,
     "metadata": {},
     "output_type": "execute_result"
    }
   ],
   "source": [
    "xypdf[1].shape"
   ]
  },
  {
   "cell_type": "code",
   "execution_count": 22,
   "metadata": {
    "collapsed": false
   },
   "outputs": [
    {
     "data": {
      "application/javascript": [
       "/* Put everything inside the global mpl namespace */\n",
       "window.mpl = {};\n",
       "\n",
       "mpl.get_websocket_type = function() {\n",
       "    if (typeof(WebSocket) !== 'undefined') {\n",
       "        return WebSocket;\n",
       "    } else if (typeof(MozWebSocket) !== 'undefined') {\n",
       "        return MozWebSocket;\n",
       "    } else {\n",
       "        alert('Your browser does not have WebSocket support.' +\n",
       "              'Please try Chrome, Safari or Firefox ≥ 6. ' +\n",
       "              'Firefox 4 and 5 are also supported but you ' +\n",
       "              'have to enable WebSockets in about:config.');\n",
       "    };\n",
       "}\n",
       "\n",
       "mpl.figure = function(figure_id, websocket, ondownload, parent_element) {\n",
       "    this.id = figure_id;\n",
       "\n",
       "    this.ws = websocket;\n",
       "\n",
       "    this.supports_binary = (this.ws.binaryType != undefined);\n",
       "\n",
       "    if (!this.supports_binary) {\n",
       "        var warnings = document.getElementById(\"mpl-warnings\");\n",
       "        if (warnings) {\n",
       "            warnings.style.display = 'block';\n",
       "            warnings.textContent = (\n",
       "                \"This browser does not support binary websocket messages. \" +\n",
       "                    \"Performance may be slow.\");\n",
       "        }\n",
       "    }\n",
       "\n",
       "    this.imageObj = new Image();\n",
       "\n",
       "    this.context = undefined;\n",
       "    this.message = undefined;\n",
       "    this.canvas = undefined;\n",
       "    this.rubberband_canvas = undefined;\n",
       "    this.rubberband_context = undefined;\n",
       "    this.format_dropdown = undefined;\n",
       "\n",
       "    this.image_mode = 'full';\n",
       "\n",
       "    this.root = $('<div/>');\n",
       "    this._root_extra_style(this.root)\n",
       "    this.root.attr('style', 'display: inline-block');\n",
       "\n",
       "    $(parent_element).append(this.root);\n",
       "\n",
       "    this._init_header(this);\n",
       "    this._init_canvas(this);\n",
       "    this._init_toolbar(this);\n",
       "\n",
       "    var fig = this;\n",
       "\n",
       "    this.waiting = false;\n",
       "\n",
       "    this.ws.onopen =  function () {\n",
       "            fig.send_message(\"supports_binary\", {value: fig.supports_binary});\n",
       "            fig.send_message(\"send_image_mode\", {});\n",
       "            fig.send_message(\"refresh\", {});\n",
       "        }\n",
       "\n",
       "    this.imageObj.onload = function() {\n",
       "            if (fig.image_mode == 'full') {\n",
       "                // Full images could contain transparency (where diff images\n",
       "                // almost always do), so we need to clear the canvas so that\n",
       "                // there is no ghosting.\n",
       "                fig.context.clearRect(0, 0, fig.canvas.width, fig.canvas.height);\n",
       "            }\n",
       "            fig.context.drawImage(fig.imageObj, 0, 0);\n",
       "            fig.waiting = false;\n",
       "        };\n",
       "\n",
       "    this.imageObj.onunload = function() {\n",
       "        this.ws.close();\n",
       "    }\n",
       "\n",
       "    this.ws.onmessage = this._make_on_message_function(this);\n",
       "\n",
       "    this.ondownload = ondownload;\n",
       "}\n",
       "\n",
       "mpl.figure.prototype._init_header = function() {\n",
       "    var titlebar = $(\n",
       "        '<div class=\"ui-dialog-titlebar ui-widget-header ui-corner-all ' +\n",
       "        'ui-helper-clearfix\"/>');\n",
       "    var titletext = $(\n",
       "        '<div class=\"ui-dialog-title\" style=\"width: 100%; ' +\n",
       "        'text-align: center; padding: 3px;\"/>');\n",
       "    titlebar.append(titletext)\n",
       "    this.root.append(titlebar);\n",
       "    this.header = titletext[0];\n",
       "}\n",
       "\n",
       "\n",
       "\n",
       "mpl.figure.prototype._canvas_extra_style = function(canvas_div) {\n",
       "\n",
       "}\n",
       "\n",
       "\n",
       "mpl.figure.prototype._root_extra_style = function(canvas_div) {\n",
       "\n",
       "}\n",
       "\n",
       "mpl.figure.prototype._init_canvas = function() {\n",
       "    var fig = this;\n",
       "\n",
       "    var canvas_div = $('<div/>');\n",
       "\n",
       "    canvas_div.attr('style', 'position: relative; clear: both; outline: 0');\n",
       "\n",
       "    function canvas_keyboard_event(event) {\n",
       "        return fig.key_event(event, event['data']);\n",
       "    }\n",
       "\n",
       "    canvas_div.keydown('key_press', canvas_keyboard_event);\n",
       "    canvas_div.keyup('key_release', canvas_keyboard_event);\n",
       "    this.canvas_div = canvas_div\n",
       "    this._canvas_extra_style(canvas_div)\n",
       "    this.root.append(canvas_div);\n",
       "\n",
       "    var canvas = $('<canvas/>');\n",
       "    canvas.addClass('mpl-canvas');\n",
       "    canvas.attr('style', \"left: 0; top: 0; z-index: 0; outline: 0\")\n",
       "\n",
       "    this.canvas = canvas[0];\n",
       "    this.context = canvas[0].getContext(\"2d\");\n",
       "\n",
       "    var rubberband = $('<canvas/>');\n",
       "    rubberband.attr('style', \"position: absolute; left: 0; top: 0; z-index: 1;\")\n",
       "\n",
       "    var pass_mouse_events = true;\n",
       "\n",
       "    canvas_div.resizable({\n",
       "        start: function(event, ui) {\n",
       "            pass_mouse_events = false;\n",
       "        },\n",
       "        resize: function(event, ui) {\n",
       "            fig.request_resize(ui.size.width, ui.size.height);\n",
       "        },\n",
       "        stop: function(event, ui) {\n",
       "            pass_mouse_events = true;\n",
       "            fig.request_resize(ui.size.width, ui.size.height);\n",
       "        },\n",
       "    });\n",
       "\n",
       "    function mouse_event_fn(event) {\n",
       "        if (pass_mouse_events)\n",
       "            return fig.mouse_event(event, event['data']);\n",
       "    }\n",
       "\n",
       "    rubberband.mousedown('button_press', mouse_event_fn);\n",
       "    rubberband.mouseup('button_release', mouse_event_fn);\n",
       "    // Throttle sequential mouse events to 1 every 20ms.\n",
       "    rubberband.mousemove('motion_notify', mouse_event_fn);\n",
       "\n",
       "    rubberband.mouseenter('figure_enter', mouse_event_fn);\n",
       "    rubberband.mouseleave('figure_leave', mouse_event_fn);\n",
       "\n",
       "    canvas_div.on(\"wheel\", function (event) {\n",
       "        event = event.originalEvent;\n",
       "        event['data'] = 'scroll'\n",
       "        if (event.deltaY < 0) {\n",
       "            event.step = 1;\n",
       "        } else {\n",
       "            event.step = -1;\n",
       "        }\n",
       "        mouse_event_fn(event);\n",
       "    });\n",
       "\n",
       "    canvas_div.append(canvas);\n",
       "    canvas_div.append(rubberband);\n",
       "\n",
       "    this.rubberband = rubberband;\n",
       "    this.rubberband_canvas = rubberband[0];\n",
       "    this.rubberband_context = rubberband[0].getContext(\"2d\");\n",
       "    this.rubberband_context.strokeStyle = \"#000000\";\n",
       "\n",
       "    this._resize_canvas = function(width, height) {\n",
       "        // Keep the size of the canvas, canvas container, and rubber band\n",
       "        // canvas in synch.\n",
       "        canvas_div.css('width', width)\n",
       "        canvas_div.css('height', height)\n",
       "\n",
       "        canvas.attr('width', width);\n",
       "        canvas.attr('height', height);\n",
       "\n",
       "        rubberband.attr('width', width);\n",
       "        rubberband.attr('height', height);\n",
       "    }\n",
       "\n",
       "    // Set the figure to an initial 600x600px, this will subsequently be updated\n",
       "    // upon first draw.\n",
       "    this._resize_canvas(600, 600);\n",
       "\n",
       "    // Disable right mouse context menu.\n",
       "    $(this.rubberband_canvas).bind(\"contextmenu\",function(e){\n",
       "        return false;\n",
       "    });\n",
       "\n",
       "    function set_focus () {\n",
       "        canvas.focus();\n",
       "        canvas_div.focus();\n",
       "    }\n",
       "\n",
       "    window.setTimeout(set_focus, 100);\n",
       "}\n",
       "\n",
       "mpl.figure.prototype._init_toolbar = function() {\n",
       "    var fig = this;\n",
       "\n",
       "    var nav_element = $('<div/>')\n",
       "    nav_element.attr('style', 'width: 100%');\n",
       "    this.root.append(nav_element);\n",
       "\n",
       "    // Define a callback function for later on.\n",
       "    function toolbar_event(event) {\n",
       "        return fig.toolbar_button_onclick(event['data']);\n",
       "    }\n",
       "    function toolbar_mouse_event(event) {\n",
       "        return fig.toolbar_button_onmouseover(event['data']);\n",
       "    }\n",
       "\n",
       "    for(var toolbar_ind in mpl.toolbar_items) {\n",
       "        var name = mpl.toolbar_items[toolbar_ind][0];\n",
       "        var tooltip = mpl.toolbar_items[toolbar_ind][1];\n",
       "        var image = mpl.toolbar_items[toolbar_ind][2];\n",
       "        var method_name = mpl.toolbar_items[toolbar_ind][3];\n",
       "\n",
       "        if (!name) {\n",
       "            // put a spacer in here.\n",
       "            continue;\n",
       "        }\n",
       "        var button = $('<button/>');\n",
       "        button.addClass('ui-button ui-widget ui-state-default ui-corner-all ' +\n",
       "                        'ui-button-icon-only');\n",
       "        button.attr('role', 'button');\n",
       "        button.attr('aria-disabled', 'false');\n",
       "        button.click(method_name, toolbar_event);\n",
       "        button.mouseover(tooltip, toolbar_mouse_event);\n",
       "\n",
       "        var icon_img = $('<span/>');\n",
       "        icon_img.addClass('ui-button-icon-primary ui-icon');\n",
       "        icon_img.addClass(image);\n",
       "        icon_img.addClass('ui-corner-all');\n",
       "\n",
       "        var tooltip_span = $('<span/>');\n",
       "        tooltip_span.addClass('ui-button-text');\n",
       "        tooltip_span.html(tooltip);\n",
       "\n",
       "        button.append(icon_img);\n",
       "        button.append(tooltip_span);\n",
       "\n",
       "        nav_element.append(button);\n",
       "    }\n",
       "\n",
       "    var fmt_picker_span = $('<span/>');\n",
       "\n",
       "    var fmt_picker = $('<select/>');\n",
       "    fmt_picker.addClass('mpl-toolbar-option ui-widget ui-widget-content');\n",
       "    fmt_picker_span.append(fmt_picker);\n",
       "    nav_element.append(fmt_picker_span);\n",
       "    this.format_dropdown = fmt_picker[0];\n",
       "\n",
       "    for (var ind in mpl.extensions) {\n",
       "        var fmt = mpl.extensions[ind];\n",
       "        var option = $(\n",
       "            '<option/>', {selected: fmt === mpl.default_extension}).html(fmt);\n",
       "        fmt_picker.append(option)\n",
       "    }\n",
       "\n",
       "    // Add hover states to the ui-buttons\n",
       "    $( \".ui-button\" ).hover(\n",
       "        function() { $(this).addClass(\"ui-state-hover\");},\n",
       "        function() { $(this).removeClass(\"ui-state-hover\");}\n",
       "    );\n",
       "\n",
       "    var status_bar = $('<span class=\"mpl-message\"/>');\n",
       "    nav_element.append(status_bar);\n",
       "    this.message = status_bar[0];\n",
       "}\n",
       "\n",
       "mpl.figure.prototype.request_resize = function(x_pixels, y_pixels) {\n",
       "    // Request matplotlib to resize the figure. Matplotlib will then trigger a resize in the client,\n",
       "    // which will in turn request a refresh of the image.\n",
       "    this.send_message('resize', {'width': x_pixels, 'height': y_pixels});\n",
       "}\n",
       "\n",
       "mpl.figure.prototype.send_message = function(type, properties) {\n",
       "    properties['type'] = type;\n",
       "    properties['figure_id'] = this.id;\n",
       "    this.ws.send(JSON.stringify(properties));\n",
       "}\n",
       "\n",
       "mpl.figure.prototype.send_draw_message = function() {\n",
       "    if (!this.waiting) {\n",
       "        this.waiting = true;\n",
       "        this.ws.send(JSON.stringify({type: \"draw\", figure_id: this.id}));\n",
       "    }\n",
       "}\n",
       "\n",
       "\n",
       "mpl.figure.prototype.handle_save = function(fig, msg) {\n",
       "    var format_dropdown = fig.format_dropdown;\n",
       "    var format = format_dropdown.options[format_dropdown.selectedIndex].value;\n",
       "    fig.ondownload(fig, format);\n",
       "}\n",
       "\n",
       "\n",
       "mpl.figure.prototype.handle_resize = function(fig, msg) {\n",
       "    var size = msg['size'];\n",
       "    if (size[0] != fig.canvas.width || size[1] != fig.canvas.height) {\n",
       "        fig._resize_canvas(size[0], size[1]);\n",
       "        fig.send_message(\"refresh\", {});\n",
       "    };\n",
       "}\n",
       "\n",
       "mpl.figure.prototype.handle_rubberband = function(fig, msg) {\n",
       "    var x0 = msg['x0'];\n",
       "    var y0 = fig.canvas.height - msg['y0'];\n",
       "    var x1 = msg['x1'];\n",
       "    var y1 = fig.canvas.height - msg['y1'];\n",
       "    x0 = Math.floor(x0) + 0.5;\n",
       "    y0 = Math.floor(y0) + 0.5;\n",
       "    x1 = Math.floor(x1) + 0.5;\n",
       "    y1 = Math.floor(y1) + 0.5;\n",
       "    var min_x = Math.min(x0, x1);\n",
       "    var min_y = Math.min(y0, y1);\n",
       "    var width = Math.abs(x1 - x0);\n",
       "    var height = Math.abs(y1 - y0);\n",
       "\n",
       "    fig.rubberband_context.clearRect(\n",
       "        0, 0, fig.canvas.width, fig.canvas.height);\n",
       "\n",
       "    fig.rubberband_context.strokeRect(min_x, min_y, width, height);\n",
       "}\n",
       "\n",
       "mpl.figure.prototype.handle_figure_label = function(fig, msg) {\n",
       "    // Updates the figure title.\n",
       "    fig.header.textContent = msg['label'];\n",
       "}\n",
       "\n",
       "mpl.figure.prototype.handle_cursor = function(fig, msg) {\n",
       "    var cursor = msg['cursor'];\n",
       "    switch(cursor)\n",
       "    {\n",
       "    case 0:\n",
       "        cursor = 'pointer';\n",
       "        break;\n",
       "    case 1:\n",
       "        cursor = 'default';\n",
       "        break;\n",
       "    case 2:\n",
       "        cursor = 'crosshair';\n",
       "        break;\n",
       "    case 3:\n",
       "        cursor = 'move';\n",
       "        break;\n",
       "    }\n",
       "    fig.rubberband_canvas.style.cursor = cursor;\n",
       "}\n",
       "\n",
       "mpl.figure.prototype.handle_message = function(fig, msg) {\n",
       "    fig.message.textContent = msg['message'];\n",
       "}\n",
       "\n",
       "mpl.figure.prototype.handle_draw = function(fig, msg) {\n",
       "    // Request the server to send over a new figure.\n",
       "    fig.send_draw_message();\n",
       "}\n",
       "\n",
       "mpl.figure.prototype.handle_image_mode = function(fig, msg) {\n",
       "    fig.image_mode = msg['mode'];\n",
       "}\n",
       "\n",
       "mpl.figure.prototype.updated_canvas_event = function() {\n",
       "    // Called whenever the canvas gets updated.\n",
       "    this.send_message(\"ack\", {});\n",
       "}\n",
       "\n",
       "// A function to construct a web socket function for onmessage handling.\n",
       "// Called in the figure constructor.\n",
       "mpl.figure.prototype._make_on_message_function = function(fig) {\n",
       "    return function socket_on_message(evt) {\n",
       "        if (evt.data instanceof Blob) {\n",
       "            /* FIXME: We get \"Resource interpreted as Image but\n",
       "             * transferred with MIME type text/plain:\" errors on\n",
       "             * Chrome.  But how to set the MIME type?  It doesn't seem\n",
       "             * to be part of the websocket stream */\n",
       "            evt.data.type = \"image/png\";\n",
       "\n",
       "            /* Free the memory for the previous frames */\n",
       "            if (fig.imageObj.src) {\n",
       "                (window.URL || window.webkitURL).revokeObjectURL(\n",
       "                    fig.imageObj.src);\n",
       "            }\n",
       "\n",
       "            fig.imageObj.src = (window.URL || window.webkitURL).createObjectURL(\n",
       "                evt.data);\n",
       "            fig.updated_canvas_event();\n",
       "            return;\n",
       "        }\n",
       "        else if (typeof evt.data === 'string' && evt.data.slice(0, 21) == \"data:image/png;base64\") {\n",
       "            fig.imageObj.src = evt.data;\n",
       "            fig.updated_canvas_event();\n",
       "            return;\n",
       "        }\n",
       "\n",
       "        var msg = JSON.parse(evt.data);\n",
       "        var msg_type = msg['type'];\n",
       "\n",
       "        // Call the  \"handle_{type}\" callback, which takes\n",
       "        // the figure and JSON message as its only arguments.\n",
       "        try {\n",
       "            var callback = fig[\"handle_\" + msg_type];\n",
       "        } catch (e) {\n",
       "            console.log(\"No handler for the '\" + msg_type + \"' message type: \", msg);\n",
       "            return;\n",
       "        }\n",
       "\n",
       "        if (callback) {\n",
       "            try {\n",
       "                // console.log(\"Handling '\" + msg_type + \"' message: \", msg);\n",
       "                callback(fig, msg);\n",
       "            } catch (e) {\n",
       "                console.log(\"Exception inside the 'handler_\" + msg_type + \"' callback:\", e, e.stack, msg);\n",
       "            }\n",
       "        }\n",
       "    };\n",
       "}\n",
       "\n",
       "// from http://stackoverflow.com/questions/1114465/getting-mouse-location-in-canvas\n",
       "mpl.findpos = function(e) {\n",
       "    //this section is from http://www.quirksmode.org/js/events_properties.html\n",
       "    var targ;\n",
       "    if (!e)\n",
       "        e = window.event;\n",
       "    if (e.target)\n",
       "        targ = e.target;\n",
       "    else if (e.srcElement)\n",
       "        targ = e.srcElement;\n",
       "    if (targ.nodeType == 3) // defeat Safari bug\n",
       "        targ = targ.parentNode;\n",
       "\n",
       "    // jQuery normalizes the pageX and pageY\n",
       "    // pageX,Y are the mouse positions relative to the document\n",
       "    // offset() returns the position of the element relative to the document\n",
       "    var x = e.pageX - $(targ).offset().left;\n",
       "    var y = e.pageY - $(targ).offset().top;\n",
       "\n",
       "    return {\"x\": x, \"y\": y};\n",
       "};\n",
       "\n",
       "mpl.figure.prototype.mouse_event = function(event, name) {\n",
       "    var canvas_pos = mpl.findpos(event)\n",
       "\n",
       "    if (name === 'button_press')\n",
       "    {\n",
       "        this.canvas.focus();\n",
       "        this.canvas_div.focus();\n",
       "    }\n",
       "\n",
       "    var x = canvas_pos.x;\n",
       "    var y = canvas_pos.y;\n",
       "\n",
       "    this.send_message(name, {x: x, y: y, button: event.button,\n",
       "                             step: event.step});\n",
       "\n",
       "    /* This prevents the web browser from automatically changing to\n",
       "     * the text insertion cursor when the button is pressed.  We want\n",
       "     * to control all of the cursor setting manually through the\n",
       "     * 'cursor' event from matplotlib */\n",
       "    event.preventDefault();\n",
       "    return false;\n",
       "}\n",
       "\n",
       "mpl.figure.prototype._key_event_extra = function(event, name) {\n",
       "    // Handle any extra behaviour associated with a key event\n",
       "}\n",
       "\n",
       "mpl.figure.prototype.key_event = function(event, name) {\n",
       "\n",
       "    // Prevent repeat events\n",
       "    if (name == 'key_press')\n",
       "    {\n",
       "        if (event.which === this._key)\n",
       "            return;\n",
       "        else\n",
       "            this._key = event.which;\n",
       "    }\n",
       "    if (name == 'key_release')\n",
       "        this._key = null;\n",
       "\n",
       "    var value = '';\n",
       "    if (event.ctrlKey && event.which != 17)\n",
       "        value += \"ctrl+\";\n",
       "    if (event.altKey && event.which != 18)\n",
       "        value += \"alt+\";\n",
       "    if (event.shiftKey && event.which != 16)\n",
       "        value += \"shift+\";\n",
       "\n",
       "    value += 'k';\n",
       "    value += event.which.toString();\n",
       "\n",
       "    this._key_event_extra(event, name);\n",
       "\n",
       "    this.send_message(name, {key: value});\n",
       "    return false;\n",
       "}\n",
       "\n",
       "mpl.figure.prototype.toolbar_button_onclick = function(name) {\n",
       "    if (name == 'download') {\n",
       "        this.handle_save(this, null);\n",
       "    } else {\n",
       "        this.send_message(\"toolbar_button\", {name: name});\n",
       "    }\n",
       "};\n",
       "\n",
       "mpl.figure.prototype.toolbar_button_onmouseover = function(tooltip) {\n",
       "    this.message.textContent = tooltip;\n",
       "};\n",
       "mpl.toolbar_items = [[\"Home\", \"Reset original view\", \"fa fa-home icon-home\", \"home\"], [\"Back\", \"Back to  previous view\", \"fa fa-arrow-left icon-arrow-left\", \"back\"], [\"Forward\", \"Forward to next view\", \"fa fa-arrow-right icon-arrow-right\", \"forward\"], [\"\", \"\", \"\", \"\"], [\"Pan\", \"Pan axes with left mouse, zoom with right\", \"fa fa-arrows icon-move\", \"pan\"], [\"Zoom\", \"Zoom to rectangle\", \"fa fa-square-o icon-check-empty\", \"zoom\"], [\"\", \"\", \"\", \"\"], [\"Download\", \"Download plot\", \"fa fa-floppy-o icon-save\", \"download\"]];\n",
       "\n",
       "mpl.extensions = [\"eps\", \"jpeg\", \"pdf\", \"png\", \"ps\", \"raw\", \"svg\", \"tif\"];\n",
       "\n",
       "mpl.default_extension = \"png\";var comm_websocket_adapter = function(comm) {\n",
       "    // Create a \"websocket\"-like object which calls the given IPython comm\n",
       "    // object with the appropriate methods. Currently this is a non binary\n",
       "    // socket, so there is still some room for performance tuning.\n",
       "    var ws = {};\n",
       "\n",
       "    ws.close = function() {\n",
       "        comm.close()\n",
       "    };\n",
       "    ws.send = function(m) {\n",
       "        //console.log('sending', m);\n",
       "        comm.send(m);\n",
       "    };\n",
       "    // Register the callback with on_msg.\n",
       "    comm.on_msg(function(msg) {\n",
       "        //console.log('receiving', msg['content']['data'], msg);\n",
       "        // Pass the mpl event to the overriden (by mpl) onmessage function.\n",
       "        ws.onmessage(msg['content']['data'])\n",
       "    });\n",
       "    return ws;\n",
       "}\n",
       "\n",
       "mpl.mpl_figure_comm = function(comm, msg) {\n",
       "    // This is the function which gets called when the mpl process\n",
       "    // starts-up an IPython Comm through the \"matplotlib\" channel.\n",
       "\n",
       "    var id = msg.content.data.id;\n",
       "    // Get hold of the div created by the display call when the Comm\n",
       "    // socket was opened in Python.\n",
       "    var element = $(\"#\" + id);\n",
       "    var ws_proxy = comm_websocket_adapter(comm)\n",
       "\n",
       "    function ondownload(figure, format) {\n",
       "        window.open(figure.imageObj.src);\n",
       "    }\n",
       "\n",
       "    var fig = new mpl.figure(id, ws_proxy,\n",
       "                           ondownload,\n",
       "                           element.get(0));\n",
       "\n",
       "    // Call onopen now - mpl needs it, as it is assuming we've passed it a real\n",
       "    // web socket which is closed, not our websocket->open comm proxy.\n",
       "    ws_proxy.onopen();\n",
       "\n",
       "    fig.parent_element = element.get(0);\n",
       "    fig.cell_info = mpl.find_output_cell(\"<div id='\" + id + \"'></div>\");\n",
       "    if (!fig.cell_info) {\n",
       "        console.error(\"Failed to find cell for figure\", id, fig);\n",
       "        return;\n",
       "    }\n",
       "\n",
       "    var output_index = fig.cell_info[2]\n",
       "    var cell = fig.cell_info[0];\n",
       "\n",
       "};\n",
       "\n",
       "mpl.figure.prototype.handle_close = function(fig, msg) {\n",
       "    // Update the output cell to use the data from the current canvas.\n",
       "    fig.push_to_output();\n",
       "    var dataURL = fig.canvas.toDataURL();\n",
       "    // Re-enable the keyboard manager in IPython - without this line, in FF,\n",
       "    // the notebook keyboard shortcuts fail.\n",
       "    IPython.keyboard_manager.enable()\n",
       "    $(fig.parent_element).html('<img src=\"' + dataURL + '\">');\n",
       "    fig.send_message('closing', {});\n",
       "    fig.ws.close()\n",
       "}\n",
       "\n",
       "mpl.figure.prototype.push_to_output = function(remove_interactive) {\n",
       "    // Turn the data on the canvas into data in the output cell.\n",
       "    var dataURL = this.canvas.toDataURL();\n",
       "    this.cell_info[1]['text/html'] = '<img src=\"' + dataURL + '\">';\n",
       "}\n",
       "\n",
       "mpl.figure.prototype.updated_canvas_event = function() {\n",
       "    // Tell IPython that the notebook contents must change.\n",
       "    IPython.notebook.set_dirty(true);\n",
       "    this.send_message(\"ack\", {});\n",
       "    var fig = this;\n",
       "    // Wait a second, then push the new image to the DOM so\n",
       "    // that it is saved nicely (might be nice to debounce this).\n",
       "    setTimeout(function () { fig.push_to_output() }, 1000);\n",
       "}\n",
       "\n",
       "mpl.figure.prototype._init_toolbar = function() {\n",
       "    var fig = this;\n",
       "\n",
       "    var nav_element = $('<div/>')\n",
       "    nav_element.attr('style', 'width: 100%');\n",
       "    this.root.append(nav_element);\n",
       "\n",
       "    // Define a callback function for later on.\n",
       "    function toolbar_event(event) {\n",
       "        return fig.toolbar_button_onclick(event['data']);\n",
       "    }\n",
       "    function toolbar_mouse_event(event) {\n",
       "        return fig.toolbar_button_onmouseover(event['data']);\n",
       "    }\n",
       "\n",
       "    for(var toolbar_ind in mpl.toolbar_items){\n",
       "        var name = mpl.toolbar_items[toolbar_ind][0];\n",
       "        var tooltip = mpl.toolbar_items[toolbar_ind][1];\n",
       "        var image = mpl.toolbar_items[toolbar_ind][2];\n",
       "        var method_name = mpl.toolbar_items[toolbar_ind][3];\n",
       "\n",
       "        if (!name) { continue; };\n",
       "\n",
       "        var button = $('<button class=\"btn btn-default\" href=\"#\" title=\"' + name + '\"><i class=\"fa ' + image + ' fa-lg\"></i></button>');\n",
       "        button.click(method_name, toolbar_event);\n",
       "        button.mouseover(tooltip, toolbar_mouse_event);\n",
       "        nav_element.append(button);\n",
       "    }\n",
       "\n",
       "    // Add the status bar.\n",
       "    var status_bar = $('<span class=\"mpl-message\" style=\"text-align:right; float: right;\"/>');\n",
       "    nav_element.append(status_bar);\n",
       "    this.message = status_bar[0];\n",
       "\n",
       "    // Add the close button to the window.\n",
       "    var buttongrp = $('<div class=\"btn-group inline pull-right\"></div>');\n",
       "    var button = $('<button class=\"btn btn-mini btn-danger\" href=\"#\" title=\"Close figure\"><i class=\"fa fa-times icon-remove icon-large\"></i></button>');\n",
       "    button.click(function (evt) { fig.handle_close(fig, {}); } );\n",
       "    button.mouseover('Close figure', toolbar_mouse_event);\n",
       "    buttongrp.append(button);\n",
       "    var titlebar = this.root.find($('.ui-dialog-titlebar'));\n",
       "    titlebar.prepend(buttongrp);\n",
       "}\n",
       "\n",
       "\n",
       "mpl.figure.prototype._canvas_extra_style = function(el){\n",
       "    // this is important to make the div 'focusable\n",
       "    el.attr('tabindex', 0)\n",
       "    // reach out to IPython and tell the keyboard manager to turn it's self\n",
       "    // off when our div gets focus\n",
       "\n",
       "    // location in version 3\n",
       "    if (IPython.notebook.keyboard_manager) {\n",
       "        IPython.notebook.keyboard_manager.register_events(el);\n",
       "    }\n",
       "    else {\n",
       "        // location in version 2\n",
       "        IPython.keyboard_manager.register_events(el);\n",
       "    }\n",
       "\n",
       "}\n",
       "\n",
       "mpl.figure.prototype._key_event_extra = function(event, name) {\n",
       "    var manager = IPython.notebook.keyboard_manager;\n",
       "    if (!manager)\n",
       "        manager = IPython.keyboard_manager;\n",
       "\n",
       "    // Check for shift+enter\n",
       "    if (event.shiftKey && event.which == 13) {\n",
       "        this.canvas_div.blur();\n",
       "        event.shiftKey = false;\n",
       "        // Send a \"J\" for go to next cell\n",
       "        event.which = 74;\n",
       "        event.keyCode = 74;\n",
       "        manager.command_mode();\n",
       "        manager.handle_keydown(event);\n",
       "    }\n",
       "}\n",
       "\n",
       "mpl.figure.prototype.handle_save = function(fig, msg) {\n",
       "    fig.ondownload(fig, null);\n",
       "}\n",
       "\n",
       "\n",
       "mpl.find_output_cell = function(html_output) {\n",
       "    // Return the cell and output element which can be found *uniquely* in the notebook.\n",
       "    // Note - this is a bit hacky, but it is done because the \"notebook_saving.Notebook\"\n",
       "    // IPython event is triggered only after the cells have been serialised, which for\n",
       "    // our purposes (turning an active figure into a static one), is too late.\n",
       "    var cells = IPython.notebook.get_cells();\n",
       "    var ncells = cells.length;\n",
       "    for (var i=0; i<ncells; i++) {\n",
       "        var cell = cells[i];\n",
       "        if (cell.cell_type === 'code'){\n",
       "            for (var j=0; j<cell.output_area.outputs.length; j++) {\n",
       "                var data = cell.output_area.outputs[j];\n",
       "                if (data.data) {\n",
       "                    // IPython >= 3 moved mimebundle to data attribute of output\n",
       "                    data = data.data;\n",
       "                }\n",
       "                if (data['text/html'] == html_output) {\n",
       "                    return [cell, data, j];\n",
       "                }\n",
       "            }\n",
       "        }\n",
       "    }\n",
       "}\n",
       "\n",
       "// Register the function which deals with the matplotlib target/channel.\n",
       "// The kernel may be null if the page has been refreshed.\n",
       "if (IPython.notebook.kernel != null) {\n",
       "    IPython.notebook.kernel.comm_manager.register_target('matplotlib', mpl.mpl_figure_comm);\n",
       "}\n"
      ],
      "text/plain": [
       "<IPython.core.display.Javascript object>"
      ]
     },
     "metadata": {},
     "output_type": "display_data"
    },
    {
     "data": {
      "text/html": [
       "<img src=\"data:image/png;base64,iVBORw0KGgoAAAANSUhEUgAAAoAAAAHgCAYAAAA10dzkAAAgAElEQVR4XuxdB5gW1dk929jCUkUEROn2buxdExSx967B2DGxd2IDNb+KUYNGxV6jolgANWLvqEGNJSAqTUEEBZbt5X/O4LvODvN90+58Zeed59kHdufOve89987MmbcWQA9FQBFQBBQBRUARUAQUgUQhUJCo2epkFQFFQBFQBBQBRUARUASgBFA3gSKgCCgCioAioAgoAglDQAlgwhZcp6sIKAKKgCKgCCgCioASQN0DioAioAgoAoqAIqAIJAwBJYAJW3CdriKgCCgCioAioAgoAkoAdQ8oAoqAIqAIKAKKgCKQMASUACZswXW6ioAioAgoAoqAIqAIKAHUPaAIKAKKgCKgCCgCikDCEFACmLAF1+kqAoqAIqAIKAKKgCKgBFD3gCKgCCgCioAioAgoAglDQAlgwhZcp6sIKAKKgCKgCCgCioASQN0DioAioAgoAoqAIqAIJAwBJYAJW3CdriKgCCgCioAioAgoAkoAdQ8oAoqAIqAIKAKKgCKQMASUACZswXW6ioAioAgoAoqAIqAIKAHUPaAIKAKKgCKgCCgCikDCEFACmLAF1+kqAoqAIqAIKAKKgCKgBFD3gCKgCCgCioAioAgoAglDQAlgwhZcp6sIKAKKgCKgCCgCioASQN0DioAioAgoAoqAIqAIJAwBJYAJW3CdriKgCCgCioAioAgoAkoAdQ8oAoqAIqAIKAKKgCKQMASUACZswXW6ioAioAgoAoqAIqAIKAHUPaAIKAKKgCKgCCgCikDCEFACmLAF1+kqAoqAIqAIKAKKgCKgBFD3gCKgCCgCioAioAgoAglDQAlgwhZcp6sIKAKKgCKgCCgCioASQN0DioAioAgoAoqAIqAIJAwBJYAJW3CdriKgCCgCioAioAgoAkoAdQ8oAoqAIqAIKAKKgCKQMASUACZswXW6ioAioAgoAoqAIqAIKAHUPaAIKAKKgCKgCCgCikDCEFACmLAF1+kqAoqAIqAIKAKKgCKgBFD3gCKgCCgCioAioAgoAglDQAlgwhZcp6sIKAKKgCKgCCgCioASQN0DioAioAgoAoqAIqAIJAwBJYAJW3CdriKgCCgCioAioAgoAkoAdQ8oAoqAIqAIKAKKgCKQMASUACZswXW6ioAioAgoAoqAIqAIKAHUPaAIKAKKgCKgCCgCikDCEFACmLAF1+kqAoqAIqAIKAKKgCKgBFD3gCKgCCgCioAioAgoAglDQAlgwhZcp6sIKAKKgCKgCCgCioASQN0DioAioAgoAoqAIqAIJAwBJYAJW3CdriKgCCgCioAioAgoAkoAdQ8oAoqAIqAIKAKKgCKQMASUACZswXW6ioAioAgoAoqAIqAIKAGMuAdaWlpaInahlysCioAioAgoAopAhhEoKChINAdK9ORN7DUlgCZQ1D4UAUVAEVAEFIHMIqAEMLN4t7vRlAC2uyXVCSkCioAioAgkAAElgAlY5DinqAQwTnS1b0VAEVAEFAFFIB4ElADGg2tielUCmJil1okqAnmBAN2Sm5qaUFRUhIS7OOXFeqmQ2UNACWD2sG8XIysBbBfLqJNQBPIaASF9DQ0NqK+vR3NzM8rKylBaWorCwsK8npsKrwjEhYASwLiQTUi/SgATstA6TUUgxxAQ0ldXVwf+iLaPhI8/xcXFlsT8lz+qDcyxBVRxso6AEsCsL0F+C6AEML/XT6VXBPIJAZI+avdE00dTL38aGxtRUVHRSvJI9kpKSsD21AjSHGw/n09zVlkVgbgQUAIYF7IJ6VcJYEIWWqepCGQRAZI8O+mjKNTykejxHEkeCZ4cQgD5e1VVldWW50kK1SScxYXUoXMKASWAObUc+SeMEsD8WzOVWBHIBwTsmj5q+Oykz27O5TkvAkgNIP0BhRjydz0UgaQjoAQw6Tsg4vyVAEYEUC9XBBSBVgSE9FHbR2JHEy5Jm2j73KBiW/7YNYB2H8Dly5dbPoDl5eVWf/xRv0DddIoAeG8luhhGoidv4gZQAmgCRe1DEUguAiRkosUjkfND+uxoCVkkwZPDSQBp+mVUMA8hgdQC8u8Jfwcmd+PpzJUA6h6IhoASwGj46dWKQBIRiEr6ohBAOwkkUVS/wCTuQJ0zEVANoO6DSAgoAYwEn16sCCQGAUnbQn89/gTV9KUCyksDuGzZMsv/jz/2QzSB6heYmC2oE3UgoARQt0QkBJQARoJPL1YE2jUCbgmaOWHx6TNhfiWZZCRwKhNwKgIowKtfYLvegjq5NAgoAdTtEQkBJYCR4NOLFYF2h4A9Vx8TNDOwwzTps4MWlQCyL/ULbHfbUCfkAwElgD5A0iapEVACqLtDEVAE3BI0U7tn/4kLJXvpNxnDHgSydOlSSzvYoUOHtCIICVS/wLhWSvvNNQSUAObaiuSZPEoA82zBVFxFwCACfnP1GRxyla5MEUC7JlD9AuNcMe07VxBQApgrK5GncigBzNOFU7EVgZAIhMnVF3IoX5e5EUCmeJFkz7/88ouVI9BLA2gfTP0CfUGvjfIcASWAeb6A2RZfCWC2V0DHVwTiR4CESEqx+U3QHL9UK0egnyHlkzx//JuTAHbs2NFK9xLkUL/AIGhp23xEQAlgPq5aDsmsBDCHFkNFUQQMImAyV59BsVbpKi4CyIHEt1GSRmsd4ThXUvvONAJKADONeDsbTwlgO1tQnU6iERDSJ9o+U7n64gSVBJCHPc+fXQP4888/o1OnTlb5tzCH5gsMg5pekw8IKAHMh1XKYRmVAObw4qhoioAPBFLl6iOJMpGnz4cIkZrETQBFOPULjLRMenEOIqAEMAcXJZ9EUgKYT6ulsioCKxGwk77q6mrrbzRvmkzQnCmsM0UABTdip3WEM7W6Ok6cCCgBjBPdBPStBDABi6xTbBcIuOXq48RIoBghGzRIIldAqa2ttTSVqUzAS5YsQZcuXVqjgqPKrfkCoyKo1+cKAkoAc2Ul8lQOJYB5unAqdmIQYJk0+vRJzVzR9kmSZmoASQDD+shlG8hME0C7JpApcfKZPGd77XT87CKgBDC7+Of96EoA834JdQLtEAF7rj4SPyfps0+5PRBAmq7tef5IZvk3ausYBNK1a1frd9PH8uXLLc1iZWWlRaDzwWfSNAbaX/4ioAQwf9cuJyRXApgTy6BCKAJWzV27ps9vBK8SwPCbhwSQxI/mZ/ULDI+jXpkdBJQAZgf3djOqEsB2s5Q6kTxEwESuPiWA4Rd+2bJlluaRBJBroXWEw2OpV2YeASWAmce8XY2oBLBdLadOJg8QMJ2rL98JYE1NjaV9czMBUyvKUnDdunWLxTxLAkjyJwSQa8ODATX56lOZB7eAimgIASWAhoBMajdKAJO68jrvTCJgT9silS/obyZpW6LIQgJIwpKvUcDZJIBLly5FeXl5G/Kp+QKj7Ea9NpMIKAHMJNrtcCwlgO1wUXVKOYFAqgTNpnP1tQcCSG2bncBKEEjcGkA3AsjNo3WEc+IWUiE8EFACqFskEgJKACPBpxcrAm0QsOfqo6aPBIaHadJnH7Q9E0CmwCFJ6969eyw7jebljh07umpPNV9gLJBrpwYRUAJoEMwkdqUEMImrrnM2jYDk6quvr7dInwQUSK4+0+MpATSDaDoCaNcE8v/UUOZLeT0z6GgvuY6AEsBcX6Ecl08JYI4vkIqXswhI2haSvsbGxtg1famAyHcNoJv8YgImrkzVwiCQOA7mGOzUqZNnwIf6BcaBvvYZFQElgFERTPj1SgATvgF0+oEQCJurL9AgARsziMLpQxewi6w2d4tipraN2tO4CWCQMnN2kzAjljVpdFa3jQ4OcA8WJBmIRE/exMIrATSBovbRnhEwkasvTnzaCwGkeZWmdNGm0jeP2MepAQxCALmGQgL53iUJjKM6SZx7RftuXwgoAWxf65nx2SgBzDjkOmAeIJDrpM8OYT4TQOJMDSCJFMkfiZWYf2laLysrA4NpWArO9BGlzJwE96hfoOlV0f6CIKAEMAha2nYVBJQA6qZQBFYiIGlbSDz447cUW7bxyzcCKJHS1PTxh79LImiJliYJZFm8FStWWKSQBNC0tSsKAbRrAymr1hHO9l2QzPGVACZz3Y3NWgmgMSi1ozxEIF2uvnwx7+ULAaTWjISPxI64C3Gqra21NH32yhuiBeTc+ENzK03CJkmgiRyD6heYhzd9OxJZCWA7WsxsTEUJYDZQ1zGziYBooKjlE/Mj5YkzV1+c881lAiikj8SP/6emz6kxo5aPBJDn5JAgEFkjIX6M2DVFzE0QQLsmUP0C49zl2rcbAkoAdV9EQkAJYCT49OI8QcCeoJmkgv5m/Bv9yyoqKoyRimzAkWsEUPwnSfqIsxvps+PkRQA5v86dO1vmYGoPKysrjZS9M51kWv0Cs7H7kz2mEsBkr3/k2SsBjAyhdpDDCPClTMJH4uDM1ScBCKZNi5mGIxcIoN2UTmJFLZ1o+rw0dukIIAk6f0gAhbBTa0vSTq1hlCOOFDOaLzDKiui1QRFQAhgUMW3fBgElgLoh2hsC9lx9JH48aJ4TE6/Mly9rko/2QAAliCKTaymkT4I5JIKX5lsv0meXs6qqCuXl5a4mYDsBlGu4pryGfoEkgmH9AuMggJRR/QIzuQuTPZYSwGSvf+TZKwGMDKF2kAMIiK+ZVOXwE8ErBLA9mIAzRQCdEbxcerumLwwZC0oAOSa1jLyO49EkHIRw2okkPwDiSjEjxJjayzDy5cBtpSLkOAJKAHN8gXJdPCWAub5CKl8qBKLm6lMC6H9viVZV0rYI6TNRG5dEzknCqd3jwQhhavwY/OE8ZP0oE0mgPYrYz8wkzUwcBJDj82OE5nnKrvkC/ayItgmKgBLAoIhp+zYIKAHUDZFPCAjp48vbRK4+N/KRT3hQVpKMODSAbhG8cRAZtzWQKOB0BJBz535gG2JAU35paanv5ROC1qVLF9/XBGko5msSQMl1KPMK0o+2VQRSIaAEUPdGJASUAEaCTy/OAAKpcvWZ0j45/c8yMCWjQ5gkgEEjeE1MJB0B5Nyo4XPTANrHJpmjOZcEkOvpxxTt5l9oYj7Sh528ql+gSWS1L0FACaDuhUgIKAGMBJ9eHBMC6RI08+Xu5wXvRzS3CFQ/1+VSGxIN+piJ2TSobFEieIOO5WyfygwvmjISQPr70cTrdbAd6wYTCz9+gZkkgJRdSKDmC/RaST3vFwElgH6R0nauCCgB1I2RKwi45eqjbHEmaE4qAXSL4CXpkgocmdoTJgmgkCxqFIU0pvML9DIvR8UgFXnVfIFRkdXrVQO4EoEC3QrREFACGA0/vTo6AnxZi08f/x836bNLLGbDoAEE0Wdtrge/GsA4InijzsItFQ//Rm0mNWXM+cff6d/n92B7ki/iQk1gKs1o3AQwneyiDaQbg/oF+l1ZbedEQDWAuiciIaAEMBJ8enFIBCSqVNK2ZJL02UXmS5oEoT0TwDgjeEMuf+tlqXIxCmkLQwClc+4tagOZMNrNLzCIeTnMPPlxQRLLCGe3w+4XGDR3Yhh59Jr2h4ASwPa3phmdkRLAjMKd6MHsCZqlKoed+GUDHBIMvnz5k6+HmwYwUxG8UTGLkwBSNu4zkkBq2qgNtPuOcu2Jkx//wjDzlHFJPlMddr9AibAOM5Zek0wElAAmc92NzVoJoDEotSMXBKLm6osb1FwooxZ1jkIASSBIeGhOJ7HxqsEbdVwT11NOEjFnNRbRAHpp0fzIwDFIxrgXSfaIC48o2kU/4/ohgNKP+AVKfkVTQU5+5NQ2+YuAEsD8XbuckFwJYE4sQ7sSwkn6ZHLOUmy5MOl8J4Di72Y3J/qtwZsL+GeCAHKeghMjf0k2STBNkMt0GDIimaTcb81i9QvMhR2ZXzIoAcyv9co5aZUA5tyS5KVA9lQifMnyd7f6u7k2OZM59DI1N2cEL8elVos58PKt5JgQQLsZlvtGTPLUonFOqfzogmLOvUniR7MsA45M9u2UZdmyZdaaBElOrX6BQVc02e2VACZ7/SPPXglgZAgT20GmcvXFCbDfCNo4ZfDTd7oIXgY7kMgEIRp+xsxEGz8EkOQ2nR9dUDnFL5DXURNoilw65Vi6dKkld9D8jOoXGHRFk9teCWBy197IzJUAGoExMZ3Yc/VRmyK+S3Hm6osT3FwngNRSkbDYa/BKxKj4iXEO/L8SQP87hfuWBI1H586dW/0C/ffg3fKXX36xyGVQAig9CxFUv0BvrJPaQglgUlfe0LyVABoCsh1340zQTDJCrZOk1shnh/VcJE/OCF4hAKlK3+XiHPzeDiS4NMOnMgEH9aPzOy7b0UTLQ5JGm44EJwGkv2GUftUvMMiKJq+tEsDkrbnRGSsBNApnu+osVa4+caiPK31GJkGkFpNHtrVnEjgTJoJXCWC4HSM+esSeEcHU1nEfmPqg+fnnn60axlFzTKpfYLj1TcJVSgCTsMoxzlEJYIzg5mHXzlx9bsEcqSI383C6yCYBFNJHjaoEJISJ4M13Akj57ZU+7EEgcWsAJUiDxJsBJ+ITaIIELlmyBF26dDFiXla/wHx8usQvsxLA+DFu1yMoAWzXy+trcny5SCk28TVLF8GbKnmvr8FyrJFELPtN1RFVfGcEL30nw5A+uxzZJLFR8SDxTUcAw0TS+pXJGaRBWUgCufep3Y4SUc11pgawa9eukfpxzkX9Av2ubjLaKQFMxjrHNkslgLFBm9MdR0nQLASQJrMoL8lcAIi+jNRoxkkA7T6UJNgkGHbSF1Xb1N4IoJBi7o9MEkCOJ3ubH0RRzLfcU/QB7NatmzGTstwv6heYC0+O3JBBCWBurEPeSqEEMG+XLrDgdj8zEp8oufqoKWkvBJCaH5NpRoRI2IM5iDVJnzOCN/AiulyQzwSQhFiSM8vU7AQwbCoVP7imCtLgWlEmqVASxj80TgIo+4v3MI+o2ko/WGmb3ERACWBurkveSKUEMG+WKpSg6XL1RdHeMZkutWZSViuUcDlwETU9JCGmCGDQCF4TEOQ7ASSRsefiyzYBlDWJ4hfIjwqS1+7du5tYYtc+eA/y/pZI43y/F2MDqh13rASwHS9uJqamBDATKGd2DDE58sUqJk5KYDJXH18+1IxEjXDMLDKrjmaCADpJX6Zr8LYXAij7luSJHxfcW3FqAP1E6Yb1C+RHBQNYaAKO65BSdvx4EQ0zMYvqUhCXvNqveQSUAJrHNFE9KgFsH8vtzNXHFxdfBPYfkzOleYwRk+2BAJIEBq0G4RbBS/NuNl7A+U4AKT9xsye75v9p2hQzbJRceqn2vd8oXa41XR4kX6CfPc89RYLGIJC4DsokVVLULzAulHO7XyWAub0+OS+dEsCcX6K0AlL7RC2faLJMa/pSDc7kveLTls8ISlJrPwQwjgheE9jlIwEUrSn3rV17RULDH56XiFyaOMNW00iHr18CyD4oI6OVJWm1lzy8J9mWaWDiOpwpcjRfYFxI526/SgBzd23yQjIlgHmxTG2EtOfq4wuUR7q0LXHMkC83vqi9XoRxjG2yTy8C6CR99gjeXPG5yhcC6NSaSmUTatbseQDFB5BrwyhgfmgwItekaTNsmhYSO3F/kEo4bvsxEwTQLUJa8wWafDrkfl9KAHN/jXJaQiWAOb08rcKJxoQvFj+5+uKeVa7X0PU7f7coVDGn22vwinlX/Cj99p+JdrlMAO1BSG7Jrt18MEULSOyopROiTZOwKdIdlgBSJs6D2jfKQuLqFkzFNeEP6wzHdaTzj9R8gXGhnlv9KgHMrfXIO2mUAObukkXJ1Rf3rHKZdASZuz0RcTqzpEntUxD5/LTNdDJrL5lS5T2UFDj2670IIAM1SPwkoIn/N+EPGDVNC6+nJpD7h9pJJzHlB5LkEvTCK+x5r1rD6hcYFtn8uU4JYP6sVU5KqgQwt5bFZK6+OGeWa6Qj7Fyp5RNtJl/qmY7gDSu3/bpcWQuSIbvW1E/eQy8CaPfT4zpJzd6oibslTUuURM28V+kKIXkM7e4Q/LsEjZhYY7c+/EQxq19gXOjnRr9KAHNjHfJWCiWA2V+6VLn6xEcq+xKuKkEmKmjENW+nLxrHkZQ2uazpS4VHNglg1LyH3EfORNxOE7C9nm6U3Hx2/Ezm6SP+1AbSJ5DElHuIRJXYUGMZxyEmbD+1hoUEUg6SVFNm9DjmpX0GQ0AJYDC8tLUDASWA2dkS6RI0S+qW7Ejmb1QT+fP8jWSmVSpfNPpvUbMU14vajPTpe8k0AXQL5pDSdkEJdFACSCTC5uazo2g6Tx/7k7Qs3EvUABIne3CLyb0QxodR/QJNrkBu9KUEMDfWIW+lUAKYuaVzy9XH0U0maM7UbEgAw+TPy5R8HCdVBK/dF41aGsk1F5S8ZHIu6cbKBAH0CuYIi4WbJlk0gOlIDs8Fzc0XJwFk35K6hrJxDryv/aQXCoNdWB9G9QsMg3buXqMEMHfXJi8kUwIY/zJRY8EXHTVNcuQj6XO+QJ0lvOJH0nsEZwQvrxDtlFsEL9vTfEdNTb4SwLjM8UGCObxXxr1FWAIoBD+VD56XPHElaiZm/KAgKae5NS7NchQTtvoFeu2O/DmvBDB/1ionJVUCGM+ySK4+SdsiCZupEYhSgzceaYP3ao+eDX61+SvCRvAqAVx1LcIEc4Rd0SgEUMZ088HzkofjkqjFVamDKVqII+93+pea/riIasK2+wVSI57L/sZea5nk80oAk7z6BuauBNAAiL92YU/Q7MzVxyb5rmmyI8WXm1RFMIdgsJ7cavAGfZkJAcxnYm5CAxg1mCPYyv3W2s18TY0tP5KCmDnFB4/X+tHmxp2omUmaSao4DvekH5mCYGhKg6l+gUFQz722SgBzb03ySiIlgNGWy2+uvvZANOxIZct3zmQAgsyHvmRJJIBxYBn0bjJFADmu3QePufnSadrjTtQsVTpI/pg0moeXTEGwM0lg7SZhmq1NayuDzEvbBkNACWAwvLS1AwElgMG3hF/S5+yZGkCmiWgPaRgyaTqNKwDBTgCZwiNf1yWIBjBuLIPeTW4JxUUDGCZXn/jgEZN0SaPjJoD2Kh1yr1BrZyqRtWn5hQSS/JEEtgc3laB7MR/bKwHMx1XLIZmVAPpbDHlxSkUC/h60/i59jvhw5Qsu34+4NZp+InhNYUgNYHsmgJkI5gi7Fn4IYPfu3QN1z/myX4nupg+e84i7UoezSoddJmqboyayjkN+9QsMtM1yorESwJxYhvwVQglg6rWza0tEy8LWYSN46TMn1RHyd8f8Jrlp02nQCF5TGOa7ZjaVBjCTwRxh1yIOAiiypEsaHQeBsmOQqkqHqUTWcSaaVr/AsLs589cpAcw85u1qRCWAbZfTri3hy4l+RVFIn713KTlmLxmVz5vJFHGS4BkJnJG0LZmKTOQ8pBJIPq6HnQBmK5gjLG68J6hJt2vpxAQcNdKVMpEE0wePH200v4ppM+5SbSxh17lzZ1dtv4lE1tyzPOJMNE05+Tw0HcASdq/odasioARQd0UkBJQArkwYbE/bwgefVOMwWZXDTdsRafGyfHEU4mQigtfU9PPdNM99RbJEcsO9m0/1jOMmgNwjvL8laTQDMYgP11zIjal9JP2wX2oA05VpExcKrhuJaVC3EM4nzkTTnAv3FdeHRFb9Ak3vEjP9KQE0g2Nie0kyAXTm6jOl6Uu1mYI46+fDhgxKnHIh6tQN16DzyIW1cQZzUCbxL80nB343rbhoAMVc2q1bt8iQEy970mjRNsehQRMCyByD6daC7Th/ykU53HwVU02cWk3iRN/VuA7KJsE0HCNoiqW45NJ+f0NACaDuhkgIJI0ApsvVF3f6g3yrn+u1sfz4NDpJH1+I9socXmNk4jwJIF9u/MnlI1UwB2Xmvo6TDMSFixcBpJbZZLJmSRotWtI4CGCQ/IXElSRLtOlcQz/PIaaZIeGPGkySbl3tZnL1C4zrDojWrxLAaPgl/uokEEA+vEi+pCpHmAheExuFWodcLJ8Wdm58QfBF6vRpdIvgJbkSzU7Y8eK6zg+RjWtsP/06gznsWJIscE+xTXshgJwf52Uq2bETY96HJFD8GKGZ1g/h8rNO0iZM+ppUvoqpxrWnmQkiW5C2TjO5kEDipvkCgyAZX1slgPFhm4ie2zMBnDZtGvr27Wu9GLNF+uybKNfKp0Xd4Hb/rWxF8EadA6/PRQIYJJgjnwmg20eEEECTyY6d+4QmVPGbNJmgmeMIwQyTvkZ8Fb38Aplmhulk4gwoo1aS5JjjyCEkUPMFmnjyRO9DCWB0DBPdQ3smgCeccAIOP/xw7LDDDsa/8sNsmmxVzwgjq59rpIoDXwbZiuD1I6dXm1SaTK/rTJ8P6yOZz64FbuQ7EwRQgijEJYQkMGggRqr1jxK9LL6K/LgiCUxF8FKlmTG5J9P5GUp2BPULNIl48L6UAAbHTK+wIdCeCeAll1yCIUOG4JBDDsmJNZfIv3xPqyDaKWpoeGQ6bYvpxcxmeh5nMEcYH0klgMF3BMkNyQsDL8IGYqQa1YTpmvcWSSp9/Nz8AplmJl2UcXBEVr1CytmlCk5Rv0ATKEfrQwlgNPwSf3V7JoD/+Mc/rBxgI0eOzIl1FgKYj3VnRTvFlxsJoJRN49/tJqKcADqgEG6pSAJ2Eah5qmAOEpIwEbztjQCKr6jpcmf2RXKSmzCBGKkW3ZTpmppEkkDea9QGiq+i3yjjQJvSpbEfP0P1C4yKcrTrlQBGwy/xV7dnAvjUU0/h9ddfx+jRo3NmnU0lT87EhLwiePOZeNjxy1R+Rq9gjrBrms/rkM4EnEkCSOwlEIOEi1r6MGSc/ZiUmx9bJIG8F0kCKVvQKOOw+8pZzi5VP+oXGBbh6NcpAYyOYaJ7aM8E8L333sNNN92E8ePH58wa53rOOWcEbzqTJIkHf/JdAxgnAQwSzBF2k+YzAXRLwSM+gJKHjomITR+ptFtcL36kkQxK0uigY5skgBzbmcOQJP/NzTYAACAASURBVJDyMz+i6Qhm+1zTVTNxw0T9AoPulOjtlQBGxzDRPbRnAjhnzhwcd9xxeO6553JmjXMx4jSVSVJMcaleMjRR8WUXRy61TC6YBLOYyqkWNpgj7JzznQBKAmshO2IKj7Nebzrzpp1wUesWND9kXHJLDkP65PH/QaOMg+yvsGZm0QaSpAqRDzKutg2GgBLAYHhpawcC7ZkA0hdns802AzWBcX4pB9lU2Qw4cMrpNEmS8MnL1w9e7SWtjYkKLSaCOYLsI3vbfCeAQhT4QcEf7j0SL+4vzo2aONOHH/OmEC5quEm6/NwTlDPOOsMSYcz9FqcGMIqZWf0CTe/W1P0pAcwc1u1ypPZMAPkgWnfddfHhhx/6fnjHvchxmhv9yG7SJMkXNF92fFnn8xGWAJoO5giLYT4SQMGO+4cHyZVEk/P/YhoWMhgWm1TX+U2jIoSLJNVv9H6cdYY5H35EcgwJDpGALJMYSTLrsFpG9Qs0uRpKAFMhUJAZmNvvKO2ZAHLVqAGcMmVKzpCUsGQjyg50i+C1v2zD9t1e8hoGTaQcVzBH2HXIJ19M5wcI50xyZa8swf9zTozgj6tah18CSPkoM2URMuoVHOKWQDns2rpdx49IkkDew1KrN6iZ2kseU3WY1S/QC+lo51UDGA2/xF/d3gngsGHDcO2112LQoEE5sdaZ0ta4RfBKCTG/piwvwNpLXkM/a2JSc+qFa9DzuU4A0/lEUpNF86o9CbOYhEmkSHBE0+VFvILgFjSPnux1agS9qnTETQDtPoaiDQxqpvbCylQqG46jfoFeaIc/rwQwPHZ65cqbs6U9AzFixAgrEfROO+2UE9OMsx5wkAheE2Dkc15D+/xTEahMB3OEXZNcJIB+96JbWiQhgCSHJN7SV9ioXCeuEuAQNJEyr/OTNFpy98VVm9npYyjaOmpOSQRNfODFEclM/Ejiw+a7DHt/tOfrlAC259XNwNzaOwG89NJLLe3foYcemgE0vYcwHTmbLoI3Dt8g5wz5suOLLhNjeaMbroWdlGczmCOc9LDMpbmQjkf2ogRzcD72KjFu8/MigOyTpIakh6QkTFRuKgLYtWvXULn+vJJGS5URU1HlTvndfAzplsB70a+Z2muvxRHJbPcLlBJyXnLo+fQIKAHUHRIJgfZOAMeNG2flzDrzzDMj4WTqYhOBE84XLX8X8y6/sE1oAPzON58SW6eaE8mTmBolCtUeEe0Xi2y1yzYBFPM45eBeDFIaMB0B5DkekmbIHpUbhVyFTXFiX1970mh7lQ628SqhFnWfpDIxi0ZeIqej1DYW7WscAV5CBE34IUfFMt+vVwKY7yuYZfnbOwF8+umn8eqrr2LMmDFZRnrl8FECJ6K8aOOafK4ntk43bwnm4AuTR7ZIdNS1idOtIJVspgKL3DTIdh9AfszYE42bMHdGSXFix8OtSgfP+ymhFmXN05mY/ZqpvcaP249R/QK9VsDfeSWA/nDSVikQaO8E8IMPPsANN9yAu+++Oyf2QFC/OWfwAU2tufTl7FbJISeATiGEWzAHtaYSTZnLsqeSLVMEMJV5PErCXzcCSF82HqlISFRzp6Q4MZFHj5jwHrBH48ZNAP2YmKMS5bj9GLm+xE4S40cpvZeP96wpmZUAmkIyof20dwI4d+5cHH300Zg0aVLOrLCX31wmInhNgZGLlU2cc/MK5sj3hNZxEsBUPqamHPl5L1DDZ4/wFQLopeni+TAl26LmuHO7d+zmacmNaTo1i4zr18QchSj7IZkmniGcC3GiSV/9AoMjqgQwOGZ6hQ2B9k4A+SW8ySab4P3338+ob1y6TUbNhjP1hd+oyVzbvLlU2cSOTZBgDhN+mdlclzgIIDWlkh5H/PqCVInxi0dYAmjXIAUNDpHkztQAmjxE60a8GLEcFwEMomGkLEKUvdLX2LHgGCRlfE7FechciJXdfzSTfsxxzi/uvpUAxo1wO++/vRNAPlTWW289TJs2LWcIoJhNacq1JxWWagimtCuZ2LokgJQ77heFn7mE1VaJX2YcDu9+5I7axhQBJH5C+oiJ1HPlv3G9kKMQQMEtaMm2uAgg5RHtIjEjCTSZu1Dm66eMnfNjSNLXcI+LhjXdvgs6Rtg9zITcEtmtfoHBUVQCGBwzvSJBGkBOdfPNN8fzzz+Pzp07Z33txe9FNBj8V3z6Mh3BawKMbJe2k5eupB4JExEdJTDHBIZR+4hCALPpbuDmD0uiKZqzIGbIID5vbEstPNPAmD4kwphzIBkMonXzK0uQKib2PumnSMJNzR5TN6Uj9WHH8DsHef5xHHs+RiGBmi/QH5JKAP3hpK1SINDeNYCc9t57743Ro0djyJAhWdsHzghe0ZrFqV3JxGSzUdqO8zJZmaO9EkC+TOe99RZ+njULXfr1w9q77IKCwsLWxMpCmoV08UMkDo1Vqn1okgDKh4CfXHgmq1w45yYEkKRGxvGrdfN7vwatYmLv156+JlXghX0Oceb3lHGc+RiFBMq+jFMGv5jnajslgLm6MnkiVxII4IknnoiDDjoIO++8c0ZXxS2Cl5oBvnh5RMllltGJpBksaB3dKHJ7BXOE7VuICF+IcZk6w8rm5zo3DeDS2bPx/PHHY9mcOVh9443x4/TpqOzTB3vecw8q117bIoHZTnvjhrtdA8gAAZorg9wndp+3VJVD4iSAzhQzQbRuftY6FWnyc620oYzUgKYKoJE5hE2U7VcWr2hsIYK5lPXA79wy1U4JYKaQbqfjJIEAjho1Cv3798dhhx0W+yr6ISmZJE1xT9hPHd0oMgQJ5gg7jpsmKmxf2bjOWV2mZskSPLzzzhjwhz9gp9GjmeAQdStW4L0xYzDrmWdw5KuvovOaa2ad7PohgPQtDepfKm4WdE8gqXf6vJkuc+bUsDGwoXv37q1/5vpIRLMzaXTQ/WIqh2E6jLyIWVCZU7X344upfoHp0VYCaGo3JrSfJBDA2267DTSb/OUvf4lllYOSlGxXbjAJQhT/s1RyhA3mCDuv9kYAXzjtNKz48UcMe/BBy1QuuSP57wsnn4z6ZctwwOOPh4XL2HVxEUARUIJD6O9GLaJod+MkgKlITaqk0UHBNE3O3DDyQ8yCyu3W3q8mVv0CU6OtBNDETkxwH0kggBMnTsTUqVNxzTXXGFtpIX12Pyq/5cNM1wM2NqkQHZmciz0iOtMmSrdo1BBwZOUSrgGjPElyFn35JR7ffXcc8dZb6DZggBVgZPfrq1m8GOM32giHTpqEXltskRV5ZVA330u7CThIuhMvLRPN3WLij6POrYyfLsCEe9qZNDroAsRBzkRDyb1CjPh7XEEy9vkGIeLqF+i+U5QABr2DtH0bBJJAAFkN5Prrr8c999wTafVFM+VW7D5IBG++552zgxg1ibLJYI4oi+uVnDtK33FdK/tRXApInt6/+mrULFqEvcePT2niffmss9DS3Iw/3HJLXKL56jcTBJCCcBxGFBMfmmBJPHgP00fQ9OEnwpgElESQCbCD+DdSVj/9h5mTXUNJkzn3FANZ4jyYMFsipf2Oo36BbZFSAuh352g7VwSSQADnz5+PI444ApMnTw61C9yS4vJrOWwEb75HndpBDJNDz4+fZKiFinARNR58GedDxKGTNPPjg3+j9ubezTfHLtdcg0F7750SjblvvonJI0bg5BkzsuoH6LZ3OBfeWzxMaAAFBDE3k/hJ0uE48j76NWsGSVtjX0i//Ye5FURDSYLM+yBuAkgSzDG5b4Mc6hf4G1pKAIPsHG27CgJJIIB82G688cagJtBvlGeqCN6wpM8OfL77nLkRQK8I2qB+kpm+VXOdAKYjzdyr1Cqhqgp3rLMOzpg7F6WS87KhBgUrFgPFZWjpuBpQUIDG2lr8Y801ccKHH6LrgAGZhrp1PC8CaDoZMTGUhMgkmXHkBQ1i1gxTqi1I/2EXltpSPjOpoWQAjt9nZtDxotQbVr/AlWgrAQy667R9GwSSQAD5sFh//fU9CWAmNVP5aHJ0u3XcHPntWhe79jSXK524lefL9qPC6Wcq2jGnX5+Y4X96/328fPbZ+NPbL6Pk3fEo/uwZFC78CgUtzdZUmjutgaYhu6J+u5Nw72FnYscrrsCgYcOyNs1ME0CZqBAcZ3CICSCC+hdyjYOUagvaf5g5UTMn/rh238kwfaW7Jkii71TPHuLHg2brfNDem8ZQCaBpRBPWXxIIIJd0yy23xDPPPLOKWSNbmqlcJBxhtr6bNjObwRxh5sBr+NLjS0TMj2H7iXpdOj/TVC84IYDfPPEEZtxzC47feQGaBmyLhi2PRtOA7dDSqRfQWIOiedNR/PnzKHn/Pjw8tRL9jzkDm55xVlSRQ1/v5gtrNwHby4SFHsTlQt57xJlaLtMEJ6xfG68jufNKGh2m/6DYkZByHegSQZLGI46ydqZM/En2C1QCGHR3a/s2CCSFAA4fPhxXXXUV1llnnZyohCD1gOMqGJ/JbS7lpcRszn8leasJk3km5pLt9XBWigmCH4lU3bIlmHHm3lgwcy6GP/IEmgbtlBK2guULMXnfXdCncxU2/+dkNPfZJBMQrzKGWwCRkwCSeJgm5SSA1EYLwZHgEBNVUKIQNEkanU4zGdZvLsgC2zVz8oFHsiw1e4P0la6tSRN/Uv0ClQCa2o0J7ccEAbz88ssxfvx4y2mbmjbm3dtwww1dEeVX/ciRIzFp0iTrIUxiNm7cuDaauSeffBKXXXYZ5syZYyVwHjNmDA488ECrv0WLFuG8887Dm2++af2/R48eOPLII3HFFVe0Sfjq7KN3795WH9OnT8dOO+2EPffcM6s1ePmiIDnyU5g9V7emmMylHrDkm+MLOy6/obiwyAYBFPz4crXn6wuKX1NtFSruPhjvvfE9vi/bFMPvf8gTpkknnIA+nZZhp+4fovrk59C85qae15hukC0CaPc9sweHmKjbG5WgOVOyOO8jIa/0z4vrYAUWewJuYsR7PGzkcio5o5S0c+sziX6BSgDjugsS0m9UAsj0KrfeeiumTJmCQYMGWVq2Bx54AP/73/9co7tI+PjCe+yxxyxNHKNzGUDAXH083n//fey666545JFHsN9++1lm22OOOcYifCSX3377rXUtrxswYABmzZpllXnbfffdcdNNN63Sx+DBg3HllVdiwoQJllMzSeBJJ52EzTffPKskheYeqQecT1vNzWTOv5HI5rM2k4Rc8jjGuR6pXA6IXSjS3NKC0gePA5Z+j/eLD8S3r7yOA594wnMKTx9yCAYOG4atBi5FyVu3o/rPr6OlSx/P60w28CKApgmCyO70PbMHh3iZYL3mb4KgpUsaHSVwwkt2OZ/KNBs2cjkVWaMywHS5OSGBHDMJfoFKAP3uam3nikBUAkgSds455+DMM8+0+udDvU+fPrjxxhst4mY/Zs+ebZG2Tz75xIrK5fHpp59is802s7R9ffv2xR//+EfwC5SETQ4SPJZWopbR7bj55ptx7733Wto9Huzjyy+/tHxqSET33XdfTJs2Dd26dcPrr7+eEzuBX9R8WAXNA5YN4cUvTcq+OYM5sqE9M41DnBpZL/yizKXkzXHo8OY4LDrpBcx/dzrev/56HPPmm55dPrD99tj+0ksxeO+9UfbEGSj4aRZqTp0MFBZ5XmuqgRsBpBZZfB0zRQBlPn5MsF5zN0XQuGfckkZHDZzwkp/n0/leholcdhvTdEUT5xhJ8QtUAuhnR2ublAhEIYD8UiSpevfdd7HNNtu0jkHz6kYbbWSRQPtBbR41d3zZ2g+SIJps99lnH2yxxRY4/PDDceGFF7Y2YQUPEsKPPvrIdR577703evXq1ZromX3wZ+edd8YBBxxgpXsgGX3ppZcsjWEuHPlQD9hvMEemtGdxrhs/FugDZtIk75Y/kpq+IEnD08254MeZ6HjzTqgaMQErem2Gmjlz8Mhuu2Hk/PkoLEpN5Brr6jCub18c98476DZkCFBfjY43bY/6HU5Bw46nxQlzm76dVWS43+SjiB8ZJCLMRWc6utNp4rQL5WWC9QLHJEGzm15pJaFZNp3sXrL5Pe9FvE2YzeOoaJKKBHL/hNaw+wUtS+2UAGYJ+PYybBQCOHfuXPTr18/Stq277rqtkJDkkXTdeeedbWB68MEHcf7552PBggVt/k7yNnbsWBx11FGgyZZtTjnllNY2t99+u3V+5syZq8B+9dVX45///Kel4aPmkYdbHySU9DX84YcfcmLpcrUecJjKHHGQp0wvkqk5SHQpX3Di18eXTxzBMOXjD0Dz6kNQvc911kdVRVkZbh8wAAdPnIheW26ZEsJ577yD5445BqfOmtVqdi6a+SrKHzwWKy74D1oqV88I/EIAiY8dL2JIUyzJjmkTISfmRaKkcgjbBo1+NUkAZRHsplfJz2fyQ8W+2MTej2nWbjYXchpk08SZ0No5H7m3uadMBPoEmWfcbZUAxo1wO+8/CgFMpQEcOnQoNtlkE9xwww1t0POrATzssMNw0UUXtV6bSgM4atQoy9/w5ZdfxhBqMn49qP1z9nHxxRdbvoq5QgBN1tCNukUlGIEyUQsTNJgjX/0Z7bhFmYMTP75kSGqCBnMEWceima+h/KHjUHXhdDSVdrEIIF9wz59wAroNGoQdRo1K2d0r55+Phupq7DluXJs2ZfcdgZZua6Nu//8LIkrgtumCX7j3SHLEShAHAfSTfiSslsuLXAYG69cLxPQqpdPiIoAkv4zOpWXHj08qiZyktGL0sp9rOKVMJLQWrEnKua9oaYrrYyzsuka9TglgVAQTfn0UAkjoBg4ciLPPPrvVB5Akgpo4BmQcffTRbdB18wGkPyADMsQHcMSIEVY0sd0HkIEbjPa96667rP74cGYk8b///W+L/K299tptxnHrg6bg1157zRrH70Mqzq2R7XrAqYIRnEmG/WAgUcA0UeXrEXQOgp/UheaeEtKXCS1D+e3D0LTObqjf4wKLtAsB/ObFF/HS6afjxM8+Q4lLpGjtL79g/EYb4aAJE9DH5rbBdSuc/wkqbhuKFRd/jpbKHkaX0okXMeIPZbeXAhMfQKmXG0eyZj8EUJ4zUjnEb3CI377DgCvaOeJGzaRp0zhl4n4miaXPtd+Daygki2vpZ/9HSZfjVy5pJ6ScpJkYSoqlXHgPBJ2Ls70SwKgIJvz6qASQWj5q1lhnl2SQUcAPPfSQFXzhlqqAfn78wmeUr0QB8+HqjAJ+9NFHrRQxzz77LI499tjWKGA+oI4//ngrkITkj+Zj5yGRxM4+evbsaQWd5MKNn416wHEFI1ALwPnkQ0BLqtvdLwF0+vXZSV+m9lXh3I9RccdwVF36JVDetQ0B5Bo/uvvu6P/731tBHs7j1QsuwE9ffolDn3vOFYryu/ZH08AdUb/H+UaejHa82KG8fIX8ce/YnxNCAEUTRUz54mYbU/gGzT8XJDgkaN9BQBYCyA8tykSyZVoTyGczNXrUvAY5uF68TjSUXrkbo6bLCSKbfU0kOET8fU3tqSDymGyrBNAkmgnsKyoBJGTMA0h/P35pbbXVVpavHfMAUtvGf1944QXssMMOFrr2PID8nRG6bG+vy8mAEJp3v/vuOytq2J4HkFG8u+22m0U27F/AvJE5vhxufbAfEs24i5z72UZiYvKqoeunL682foM5vPpJdT4fAlq85pYuKjuMX6TXeFHOlz55JlBQhLqD/25149QmL5w+Hf/aay/sdccdWGf//dGMOqClCJ+OvxdvXXkljn711ZXBHy5H8WfPovT5S7Hiwk+AwsJQYjr9IFMltXbzg3USQN6rjKw1mayZz6CgCab9BoeE6dsvyHb/PCFqpjWkUXzzKJ/fiiZSbSTOfIaCq3NNhATKx4UfjaXfNcp0OyWAmUa8nY1nggDmCyTUPjJhtD1gJZuy8yHIB2AcD6BMkhZJD8OXUb4eTi1mVL/I2HBoqEXl1YNR/aeJaF77d9Yw9pq6LWhBXeEX+PKFW/HG8f9Cj10rUblBEX55vxbLv2zAjo8PRf9tD0Snhj1RhC6ritlYj46j10Ht8Y+gacD2vqfh5lLg5Qfptm+EAEqaEJoi2bfUyzVh+gxL0uz5+VIFh4Tt2w/QTv88v6TUT9/SxoRvnh+NaRzBMm7zTBfUQjx55LNfoBLAILtb266CQJIIIBNAM7k0E03nwkGTiVOTGUWubJEWvoicprwo88jGtZSf86BJTfz6pCxZGL/IuOZQ/PkklD538UoNXUFBGwJY2OV/WFx6G+oLv0Fl4+5omT0Y3zz8GVbM+wXdhvTDwCO2RWHP71FV/Brqir5E54b90b3+RBS1tDX3WRrGDhWo2+9vaafh5lIQxA/SLwGkEKJdIkGJWpLMK81JukmL5p6yO7WIQjbiSF1DmeykWGT0Q0qD7EVq8Lj/Obcoh5BTEnqul9PUGqevpF1ur3yDog3MV79AJYBRdqleywdrS1JgoKmayaaZpiYXDvrBkHB4+ct4vZD4kOMLif9mg7TkUkRz0HUVEiNmbElyLaQv13yESp84w/L7q9tnTOtUG5uXY2HJDagtfwPd6o9H1/pDUYiOaaGoK5yBxaX/RG3hf9Gz7lJUNu7S2r7oiykoe+6ilSTT5XCrWxwmv6EbARTcUwUjkADyw4ma8zA+pyZIGvuQ4BB7CpR02qag+9KtfarceelIadBxTfrmpatoEqevpH3Ofnwa89kvUAlg0B2u7dsgkCQCeMcdd2DhwoVW1HIuHGETKMcVzBEWE7eKDmH7ytR1ThO5mOGDpLLIlKyt47S0oOM166P2sNvRNGQ3688NBd/j+/JzUNDYGb0brkZJyxqBxFpe/BIWlV2HLvWHoHv9qShAIVBXhcor+mHF+R+hpXt/qz/RLtvrFkc1nbn5jtoJIM2ETEfiPCQvHoMhgq6XSZLmTIHCvoOkUAm0UFzrNAEaHFvq9YbJyyeymChlZ58X5XKraEItLP2+o3z8+sHPr09jvvoFKgH0swu0TUoEkkQAGVH84osv4rrrrsuJHRE0+XDcwRxhQbH7oIXtIxPXpTORU7siSXYzIUuYMViureON26DqqrlASTnqC7/F/PKR6NiwK8qXnIxOlS4+fT4Gqi+Yje8rzkJ545boWXeJRQIrxv0e9duMQO1mh61iEjdVVSEsAeSU7KlH3EyMqaYdNM+dF3x2UyfJKAPR/ObQ8+rbed4PmYlCjjmeqVJ2TtlFc0uMSNxJlOPI8egcl89YMdf7wTvf/AKVAPpZVW2jBBDAhx9+iGuvvRb33XdfTuwIP6lHMhnMERaUbKS08SurBCd4+fXlgx9j8UePosN7d6P6jJfRUPAD5lWchM4Nw9G19mTUVK9MBB32aCz4EfMrTkNFw/boXnOW5WfYUl+DZcOvs7Q0YuIN27/bdW7pg0QD6Md0l87EmCkCyHFEDv7LnyA59ILg6TdAI0xePpGDBJZuKWHM615zERM215jrGxdRtssRxqSdT36BSgC9dp2eT4tAkjSALEF38MEHW2lpcuFIlT8vW8EcYTERH6RMpLTxI6OYyIX08Rp7KhK3PvKBAJY+cwGNsajZ/0rMq/gTypo2xep1F6CleaWZLQoBJHGpbZ6DBZ1PRWXVcVh9WhMqpt1nkc24/CCjEkCuo93E6Ce1i1dQgJ/95dZGIpVJbOIybQbRZtnz8gWJnI47OEPK7HEd4gqWsa9P2HQz+eIXqAQw7B2r11kIJIkA8iW/0UYb4YMPPojtpRZkW9md4EVTlc1gjiCy29sKAYwrpY1fudyCE0j8/NThzYdAlvI79kHDZodg3i7foqlgEfrU3IICFLdJA+MXKyFPQpKlBGBj2ef4sdO5WHvmOeh2+xmounJua7RxkL79tDVBAGUefv3f3CJp/cjqp434BPJ+iOKHl2qsoNUz7JHTfpNGZyI4Q8zBktuR2uW4jijpZvLBL1AJYFw7JyH9JokA8oZeb731LAIYR+69oFuGZI8vDRIUvoglAjUOc1tQ2YK255c2/XviKE+VTha34IQwKR3yIZCl4+h1seS40/D9+i9greqHUNyyslxbEBO8H5P4kg73oqrpeWx47r9RNeprtHTqGXQ7+GrvlnxbTMB+/N2cg/ipS5sqktaXwB6NRGbeB2Hq43rJwD552EvneV3D83b/O5p202l048xjKLKKKZumZmqu+eFIv8A4NM0mNJq8vyhrpp9tftZWCaAflLRNSgSSRAAJAiuVPPXUU4FLHZncQrkazBFljqZzGnqRPtOpb7Jdm9kT+4ZadLq0Jz6/Zkt0L7sMlY17tF7ihwDa9xwvTGcSb0GjZWJe96IXUXvCc60Jpz1lDNjANAHk8F7JkSVIwi26OKD4qzTnfGimpWkzbJBKOhmiROgK8eXHZSpXDRMpcvxgaM81KOthutyfyGGC0PL+IkHNBaWBE18lgH52nLZRAvgrAkwEzTJz1ARm8nAL5uAXJV8aueI7FwUPEzkNvUifva6saW1prkcyFyz+Bh1v2AIzxo5A77obUYCVSaB5pCKAUQKIagu/RMe/74qmPa4HNjwuytZIea1bEJREGNvJVNDB0yVH9hNcEnQ8ae8M0ggTpJJubJozSdzDVtwR/zuO4VbJxHSEdKq5OAMzSJZNl/vj2CYIrZiBlQCGvSvive63p2C847Tb3pOmATz55JPBknCsJxz34RXMkWvBE1Hw4EOdL2/T/jx20ke87BGpJk1GuU4Am2dPQPnDJ2P5pf9Bh5a12yyVnQDyhNOvL4xJnP0U3b0xlm8+GBVbPB1la4QmgCRU9hrhQYSQe4tYMDhG8s2FMS37HdctSCNVHjy/fdrbmYjQFVzcKpnEFSDjnKtbYEY6ucJgJR9GUfMyCgH0Mp2HlTHqdaoBjIpgwq9PGgFkLeDevXvjqKOOimXlgwRz5ErwhAkgwia1dhubuEiADMkNNaVRkw57zdGPGdWrjzjPL595JFabNA31Z329yjBivrbSazQ2YHZJIFdm6QAAIABJREFUEz4ub8SMkgbML2rECqysedqlpQhrtZRgk6YybNdYgTVa0jvfd3jocPw06BOU7TAZHZoHGp+elwYwCgGksNxHUrGDJJBmxjgJYLogDcrBj6QowSH0ZyMRoTYqymHHxS5PnP6RdnlTBWakkivsXE3MhzLxiMtHMezc5DolgFERTPj1SSOAd955J3744Qecc845xlZe0o4IaQlinsyk75yxCbt0FDSptbMLN+IsdWVNavpSYZDL2tj6wu+w/PN90PfV1VFz+qutU7BrR+tbmjG1sh5PVVRhXmEjftdUjo2byrB2cwdUthRa1/xc0ITvCuvxn6IafFZUiy2bynF4fVfs0FTRxqQsA5Q9fhqWrz4bS4ZtgzVqLze+fbhnuLZ2QiMm4CApT7wEI+mTICWOx9/DahbTjeWVcy5qkmZqsxgwQSJr4nAGzZAw8XnEBM1xHl5E1pRfoAmyz+eCc4/GiU3QvpUABkVM27dBIGkE8Pnnn8fkyZPxt7+lL3TvZ5uYCOaI23fOzzxMtHF7mXv160achfRl2uE6lwngj6XXovK9j7HatDpUn/SMZeK1l2R7t7wet5QvQWlBIY5u6IbfN1SigiXd0hyLCxrxXMkyPFayFGu2FOPC2p5Yp7mtZqn0yT+jsVMJZhz8AfqtmIjiltW8ljTQebc9I1HAJgkghRJtELXJXGsGapg+/ETpRgkOYUADNZkm3Szs8rDfuMixHWs/qWZM+AX6TZydbh/wI4vPoqhaV9N7TfpTAhgXsgnpN2kE8KOPPsKYMWNw//33h1rhKI71bgOaNJ2GmpChi/xUNZGhnH59dtKXCW2f25Rz1RzfhOX4rnI4BkwdhrLp72LJ0Y9YLyRiVldciP8rX4R3i6px0rJKHFTYA8UF6Ymfc+41aMZ9HX7Gox1+wQn13ayfwl8DTEon/AUtHVfDdwcutpJOd68fYWi3rOzGTWschwbQvu+ofeJBAmj6I8NvlG7Y4BDWz40jebLII7kg49CO2jeO38hc3pPU3FIuux+n300YNG+iW7/ERvyO/Y6byXZKADOJdjscK2kEcOHChTjwwAOtmsB+D69gDr/9uLWLajqNMrbJa1NVNbG/fCU4QR6qfpM0m5QzXV982WQ7mbXIJ9rRn4ufwIoOL2CtqTui/L9Po+bk5yziMq+gAeeWf4+eLcW4vKYnyqqiRZN/VViLS8sXon9zCa6q6YWOKETZ46ejuWtfLNl7W/xUeiv6rXjK1VQcdn3SEUATL283uahx58cKPzSCVMjwM8cgdXSDBodIRGtc9XPZP33zeI8SF5NaRjt2Qefh5sfpZy3Yxi8hT9cfn1Xygep33Ey2UwKYSbTb4VhJI4D8mtxggw0wbdq0tIlHgwRzRNkWQTRnUcaJ+1oSQGJrT1ERJ3GOYz65QACd1UwW9xiJzg37ose0JnR4bzxqTn8JMwrr8Ofy77FXYyXOrOuBwpaVL7uo6YSWowkXly9AVUEzbq7ugzUe/hOa19wUdbuejm8rh6N3zQ0ob9rUGPTZIICSg05SMJk0qYapOuE3OCQTKVpIjuUjLa7kzGHnIX6cDILhM8aPpSBq2hxu9FxOAk35lAAaexwls6OkEUCSklTVQKIEc4TdPV6as7D9Zvo6CYDhA9ruG0ltlaQhMW1yMz3HbFcz4ctXzHDErKVkIeZUHo4BVZPR4Yt3UPriaHx67is4rWI+jqnvhuPru1kQmPRfrEcLLitbgAWFjXj01j8DG+yDhu1OxI+lY1CAMqxed64x2EnGSMTsQQ1iAiYZ4cs3Sn3jVBpA4kWyLBUySHa4b6MeTNNCX7Gg/mJ+gkMykaJFNJjce/x/HMmZo0TmSpJv7hmun9fzJOx62PeBEsCod0W812sewIj4Jo0AEq6tt94aTzzxBLp3726hZyKYI+wy2OsBh+0jF64jkeWPfJnbSZ+fr/VcmEMmI7JFwywaFzei/HPJQ6gp/hB9av6Oom/fRcmjI7DHmMk4qKELTqxfuXdNE0D214AWnF/+Ay79v4Ox+q4XAhsfgBVFb2NR2fXot+JpY2ZgN/9XOwEUomZybzgjdU1FnFJGr+jWdPOwB2O4kZsoxMkvfnYNpiSNlnq9XmTL7xhRE3FTLt6nxMvLhO8n2MRL7lyuAkLZVQPotYJ6Pi0Cpgng5ZdfjvHjx1sPwy233BK33XYbNtxwQ1cZ6Aw8cuRITJo0ySIOw4cPx7hx49pE6D355JO47LLLMGfOHPTv398K4KAPnxw8x6jezz//3CJ2b775ZpuxXnvtNey+++5t6mfy4UECyJrATAi97rrrtimNlUnCwgc7iRO1EPl2OANiKD81KfxCzySGpnCT+q2SNNhUv/Z+gpRkm1d+Kjo1DkWXhoPQsGgmOt20LS6/4QtcVN+zDQkzqQEUWavRjJLRQ/DEiHE4qs9eaEYdvq0cir7V96C0eZARaLJBAN38wiTilCSHGsewezdq3dl05CYqcfKzYE6NmewrZzJtP32lamMiMpdyce9IFSW3tDjiaxglaIZ98CdXk0ArAYStHlKUXZnga00SwOuvvx633norpkyZgkGDBuGqq67CAw88gP/973+uBcxJ+Phge+yxx6wb7YgjjrDaTZw40VqR999/H7vuuiseeeQRsITbM888g2OOOcYieSSXPO677z6svvrqeOGFF/DJJ5/gjTfecCWAYkIhobz66qvx/fffY6eddsKll15q1QcO+9CPunUoF/2AghZ4jzpu2OtT+fURP3kgh+0729fFlZInTOR4M6rwTeVQ9FsxASUtvXFt4Wxcc97G+GXUTBR1WqMNVHEQQDTWofLSnthvzAs4vmwj7NnYCd+Xn43yxq3QrcFMEnU3AigvcxMO/G77KVW/Qr7E7MyPmKCHCY1TquAQEzntvObjRmCjBGG4jWcyvY+Y8OkT6CRp4msYJWiGc+eRq0mglQAqAfS6pz3PmySAAwYMsBIsn3nmmda4JDd9+vTBjTfeaBE3+zF79mywPUnbxhtvbJ369NNPsdlmm1navr59++KPf/wj+FU6YcKE1ksPOuggy3RLLaP9YIWPqVOnptQAHnDAAZamcdNNN8Vqq62GPffcEyeeeKInPnE3yPUKFJy/H3NlrpdS87OOJglg1ACYFUVv4qeym9FvxZN4uXg5/q90Ed68aE/UHfcQmvtt40oAnRHMi5cXYN7iAiyrLkBzC9C5ogVr92jBap1WvtjSHYULv0LFLbtg8jVf44qOi/DwirVQVvw4aoo/Rp+aG70u93U+nQYwLgKYLlI3aGSuc5J+05v4AUeCQ8Q/0YTmzGvcdPI7k0aH/WD2SpbtJaPzvPgFUmtvD4Iy4TMpBNCEf2jQefltryZgv0hpO1cETBFAfj1269YN7777LrbZ5rcXFInWRhttZJFA+0FtHjV+fAnYD95s1NKxXu8WW2yBww8/HBdeeGFrk2uuucYihMznF4QA0l+E2gUSwM0339wy9ZisBhJ2e8WivQkrjO06CYgRHzWeEr8+N+1IPhBZL1ii1jN2EmW+JMMmtv6p9BZQC1hcfwEO7zgHF9X2xD7/OAwNWx6Fxq3afkzJHmpABSZ/3AEv/qcY784owsJfCtG1Ywu6VrRYn8pLqwvwc1UBenZpxnbrNGHPzRuxz+8a0bXjqsgUfzoRHV4di+q/vIExpT9iYWED/lb3C36oOAsDql5EgUeiaS+sed4Nb/EBjIsA+onU9RuZ65yj6Tx9dv9EmqclRYsfbIO28WMytQdhhDWVx7GubnkVTZjMiUkuVwHhGisBDLrTtX0bBEwRwLlz56Jfv3748ssvLZ86OUjymFiUJdjsx4MPPojzzz8fCxYsaPP3Xr16YezYsVat3sGDB1ttTjnllNY2t99+u3V+5syZvggg8/79+OOPlh8iXzh33HEHLrnkEsukfM8992R9N8jLO1fyzznTkNhJX7qv/lwlskEWOGxS7jgSW8+rOAmd6w/AjcVbog4tuK62N0qfOR8oKETdfm2r2Hz9QwFumFiIpz8ox7p9mjH8d43YeYMmbLR2EzqVt0VgeQ3w+ZwivPFFESZ9XIyv5hXisO0b8Jd96zG412+awQ4vXIXCZQtQe9htYHoYktCz67pgYNkBWGvFg+jQ0i8ItK5tReNKckMMJeKSJJBEgR8a9rRCkQcErFx37N9Lq+MnMtcujx8CFUZ+8U9k/8SDH7JxHCK/l8k0bBJrkdkv/kHn6NTeUs6otaTZhzNKPahccbdXAhg3wu28f1MEMJUGcOjQodhkk01www03tEHSrwbwsMMOw0UXXdR6bVANoNvy0eeP8jq1iNla6kxGn7rNUcyV9vJiQvz8mnpyjciGWcsgBJDzlQhu04mtW9CIbyp3R1XtnTirrASPreiHNVqKUfzhwyj54H4rFyCPJVXA6CdK8eDrJdj/dzX48z5N2KR/sJn/d04hxk3pgAnvFuO43Rpw6SF16NYRKL9zXzRufICVAobHlOLlGFf6E8a1XIXu9UegU+OewQZytCZmkgZGgoZIBKWONskh96BpAhgkNUiQsm1+CVQY0Ng3n1f8lx/TYfwTvcYNkp8viqk8CP5eMrudF+0tSb7gFaYfXpPrVUAooxLAsKur11kImCKA7GvgwIE4++yzW30AaTKgD+BNN92Eo48+ug3ibj6A9AekeVZ8AEeMGGE9+Ow+gIwA7tGjB+666642/aXyAXRb5h133BHffvstvvrqq5zYBSZ9z/xOSMyVJDF80ZnI15etPHp+5+zVzi0vnf0aN8zExOuXKHvJwPN1hbMwr+JEjGm+Hzs2dsKIX1O+FCyaiY5jt0PVVfMw5bOOOHN8GTbp14y/HVuL3p2XR6piMvP7Apx3fxk+n1uIcSOW4eCn10T1yKlo7r0ygr8ZLTixYh5G4B6s37gaetSP9DOVNm34QhUMeYLPB/5O7bdEXovrAdeCLhvZJIBCArivKRe1b6nSoQQhUIGBA1pLokmQiulKHWHSzDj9FP3My0SgjNc4fKZR08i1YhRw2HuTWOdyFRAlgBoE4nUveJ43SQCp5WMUMNOykAwyCvihhx6yooDd0pzQz483K6N8+YCluZi+Jc4o4EcffdRKEfPss8/i2GOPbRMFLD5qo0ePBlO+MBCEfYmJ56WXXsKQIUMs8zQfWDRFU6O4xhpr4LPPPgv9cPAENkCDIJqnAN2u0lRerqK5Em0LH3Im8nxlIo1KlPl7XetWmcINs7B+fV7jy/nlxS9iTumjOB+XY8KKfigXfzsmMB6zHsb1uBeXfTgU/3d8LY7csREFBSsJQlQ3AgY9PvJmMSY+/AGeWO0wNF09E0VFv6Va/bCoGi+U34fjmmZi7Zqb/E6n1bzLFyr3HPeaaLEYXMD9KESPv/OeZhv+jSQw7AvcTcAwqVpafSwbGiwS6JYmSIIOJLeob3B8NpTgFeLC+8xU8moZPqzPXNA8iiYDZdJBJ2XtiFc64p6uj1xPAq0EUAmgz8dH6mYmCSBHYR5Akiyq+mlqZV4/+t9Rq8d/ma5lhx12sASy5wHk7/vuu6/V3l6MnAEho0aNwnfffWdFDTvzAJ5wwglWqplfbwaL/PGFwQcyDxJDagsXL15svVBojmbuwNNOO81KM2OC+ERdhLjrATt91KS4uZjcosov12dDk2lKdvbDdRCnbzdfSCHKJgmJm/yLO/wTr5R8h+b6i3B4Q9fWJlW1wCdjzsT3dd2x+TlXtfHZcyOAK011jVi2rM66Lzp27IDOnb0JVfW/RuGdD5fgrl734N6RNago/U3KaysmYZ+C8dh4xdNpoRefPiF9duJnv+d4n0rdX7Yh4SPOJIi8lgfbm9qrYTVQxI/7g7LyI9WZey6MBi3I3rX7zgUlXX7GiZJmRvwUvZJGx2kmd86R7x+uEdeFeIUp+cf9xxQwufCOSLWGagL2s7u1TUoETBPAfIGakcqPP/54azWQbModRz1gp48aX6jyYo2LwESNos3mGggBJG6i9csEZm5z/m/5RXixsBfOWPFnlP2q/ftlBXDQ3yowtOgZXNnhXNRc9AkdgH4jh1VVqK4Gpk6dg3femYdPPvkRs2b9guXL69sM0aFDEQYO7IoNNlgN2267JvbYoz+GDFlZUs46SBT/tikW/+EaHDj5UCt9zJPn17QGk3xQ/DW6lB2HtateQzk6tOlbTLxC3HiSGPLH/hKVDxIpgyjEmveBlFKTPSrrYYoEhiWAMlGpSevMPSekjJkQ4jicvnN+SZdfWaKmmeE68SOEcpFsuWlJ4zaT2+cqml7uLc6NzyamiQlSpk8JoN/dk712WgouIvZJJYDMC3jxxRdjgw02iIhg9MtN1QPOlI9aqhl7+dBFR8p8D4KZuBJI6hZJR2J+RO8e36o8BksaD8F+tQdYjRm5u9+1FVi9cwseOO1n9PjbYFT/6Wk0r70VGhqa8OyzX+Oee6bjnXe+xyab9MTOO6+FLbboZRG73r0r0aVL6a9m4gb8+GM1Zs36GZ9++iPefns+3n57ntXu6KM3tH56LJ2O8nsPQ9WomahuKsWRY8tR1wA8deFKTWAzGvB15U74uu4h7N0w2JKPL0q++EX7LiZe0fqt5JUtljZGTLwSXWnHmX3QvCnBH3GQQBMmSNH2UXbJPRfWhOq9G1a2SJWkWUiXV1k0r3FECxul9nK2taT2OTrXOajWVD48crkKCOerGkCvna3n0yKQVAJIEzBzFO6xxx5Z3yFR6gFnw0ctFWBxm7JNLZRg5sxxyL/z8EoRYkoOt36+KazHkop9sXbN/6Fn06aobwQOvX5lLpfHz6tBaQlQOuEvaG5qwu3LTsLYsR+gpKQQRx+9Ho48ciOstVaXQOJRQ/j881/jvvs+s0jhK8dPxXqb9UfBEX+3+qmuo+axHF06Ao+cXYOiQuDLymF4oPkcXLVsV7Q0r3S5cDPx2j9IuMeFXNM0ly6YQnLF2RP7yguZfUQpNWiCAArppVlWzJ7cSyRRDDqI40iluSQuXmXR/MhjMkFzOi0p15apZuI8Upmag2hN5VmQy1VAlACqD2Dk+yipBJABKiwh56xQEhnQEB2EqQccR+65EKK3ucTuQxe1rziuF78+4u2WusWUJjaK7GNLF2DfkgPQf8UzKG5eA38eX4rp3xVhyqhqVJat7HnaUy9gu7ePxq5vX4UzLvwD9ttvMGpqqiMHgXzyxifY+tndsNMLZ+LwvxyIESM2QVFRIX5eAQy9ogK/37QRo4+swZzK43Fz0T44cdk+2KCl3NLYOU28EtwhkZQkfX6J20rfxWprjUgCpW8TJNBksmYJDuF+IlEgybX7L0fZB85rvYirlEVjcEgY0mI6QbNbhY6oZma/eKarAmJfs1Smao4j2uwgJmO/8plspxpAk2gmsK+kEkCWkmPy6vPOOy/rq86HpZ86ul4EJtsTicOXMeqcxPRIjPliIAlJleMw2wSwHi04svI/+FvBaRi0/E3c83JHXPtUB7x+dTXWXI254OpwwQWvYvLkWZg+4kmsse1uaBz2VwsiE1HApc9dgoLF3+DZPtfi/PNfweqrV+COO/bCgAFdMGN+M/5wVRfccFw1dvjDGXijYBv80DIMFzSsrEssPqeizZZAo7CmdDEnsj97mhiOJT6GTt9Cr70imiFq6Uzl0hMNHD9+2GdcGkA/xFVM0yTbxCyIr2+6EnleuKY670wazbXkT1zJrEUOr4Acu6k6lV8gZeeHhxLAsKufmevUBzAizkklgExVw7Qy119/fUQEo18ukZBu/jdOAsOHUhy556LPApZ/Fx+c2TShChkhpmLi9ZvjkPLzOtO55/xi+1pxFR4tnY4LCi5D1X/fwJ5XVWDC+TXYYf0mTJ++EMcd9zwGDOiK228firXqP0f53QdjxQX/QUunnpEJYMGS2eh449aoPv0lNK+5Kaqq6nDFFW/hkUe+wC237IEDDlgHL31SipNuL8cbd5+FmtLBOK94Fzy3vB+a61e+2ImzRPGaipzkRwXJlaSEESzDBIekMg36XZ907WgOFrJqev8HkTuImdM+n7gSNIs2l/eWfAyQdMV5+I1oTlffOB+SQBND1QDGuZMS0HdSCSCTTv/1r3+18hRm++DDRqLU+NWeKjDBaWrLttzO8bNNoOxmccommj6/KUSi+GKaWItLyxZgw5avsW3RdTj8jFdwyPaNuPDAekyY8D+MHPkSzj13a5xzztYoLFz53Vv24LFASTlqj7jTIoAkSaE0W8ybef+RaKnojuqDb21NoUTcpkz5Fqed9iJOPXULjBq1Iy54oAPW3+JK7LVJZ4wo3RMXLu2K7VoqY40w57rw/ogaIRxnFCr98CSpehgNXLr9E1Rue0Su3+CQMPkRg+x5SRrNezIuM7nIw7H8ahrt1V7s7gZKAIOsbvbaqgYwIvZJJYCLFi0CE1G//PLLERGMfrn4pVBzIJqrMAQmuiTRehATj1vS72g9p77apFk8mwSwFs3Yq/Jb3FX7A5bV3YLzrnwe/768Grff9iGuu+493HPP3thzz4FtgCj4ZT46jt0WtYf/E7/02yU0ASyc9jDKJ4/CL39+G6js0ZqoWcjkV18txsEHT8A22/TG6Gt3xr++uRvr9C7EJ4MOR0FhAS5u6BXX8rb2my5CmHtAzMHpzJ5BiVSQSUkQBe9hknGvnHhB+k7n05aqn6DBIVHT4/iZD0km50IiH9RE7ad/aSP+o34jmrkv6ANJ2YQw82/itxpk7Ey3VQ1gphFvZ+MllQDyZmcKmGnTpgXylTG9/EJgqD2zkz6/DvOm5YnSX5hgljDj2aNLpYydCbN4NgiszP/NohUYW7YIV86Zi/ktd6F/7YN4+oG3cdddn+Cppw7C5puv9LVzHsX/eQJlE8/FohMno8Oa6/vWAEqi5oL5n6DLXftgxVH3oWWDPVujeTmO4My9OX/+Uhx11BQrh+AFd3yHKdMLsfEWJ+POnj/g+dqBKED83+KiKads9qonYg6W+ycVCYyzWoc9iCKMBi7dfeDl05buWgkOceYtdF7jFWQS5j51XkMzM+9T7ieTBNk5TpiAFrsvpwSHKAE0serx9hH/Uyde+bPee1IJIG/49ddfPyvVQNwCE+TL2HSNz0xuML/BLGFkImZ2E6+kFDFpFs8UgXWb/7WlP6JDSwG+f3gmDtv3Lrz695Mt8jdp0qFYb73V0kLG4I3CzydhxcnPo7D7WinbSqJm7jUrncpPX6PT+P3QsONpaPr9+a3X8TzJsHyUcE/yZbh0aT322edxnHTFhyjv1w9PT7kI31/8Be6t7YfBLbZyIWEW2Oc19ghhkkDRUvqJEI6TADqDKOy+b2GqUNjhiJpj0C1vob3/ID6GPpfJtRm1jFwz7ievpNFRxrFXTQnaj6SwoSaXAT2mfFmDyuG3vWoA/SKl7VwRSCoBJBjbbbcdWGd4tdXSv2BNbB2nX58zMCHfq2gQo3TBLGExzGS6mzgJbLr5t6AFB3ScjW0/7IWvP/gYpx/8dxy04a6YMuUwbLBBD2/oaAJ97DSUffcWak54DM19Nm69xk76+EfJ19dh9nsof+hYNG5zAhqGXQFmQJTULVxHEmuSPv5r16gtXlyD+18eiV59O+Gc8Xdg6B1fY2hFOY5p7O4tp6EWYSOEo2jSvERPFUUrvm9Bq1DYx/Mb1JBORu4De95CZ9oekjNWMQkSOeyFifO8XcsY1EQdZKyo/oziy0lfxTjxCDKnVG2VAJpAMcF9JJkAHnjggbjggguw0UYbxbIDRGvlTDjMl6rTWT8fq2g4QXMGs4QFVTSkfBCLf1fcZeyEwPKFHXeUohOXuQX1OLLjHCw+ZWOctdfj6DvgNvRYfDe22aaPbwhXVFWhyzv/QNnrN6F+5zNRu8PpaCrttEp1jsIVP6HD1OtR/MH9qN/nGtRufYKl7eOPlL6T0mypBp9Vdw0e/9cMvPfptfjxDx2x9b7LcHN9X9+ymmooxMhvhHBUTVo6udNpnaQKBX3fKGtQUmEqf574GvN5ZM+BF8bHMOgapkrBkyppdND+7e2j+jOKNjnXq4D8+kGXaCtooicf5SaRa5NMAE8//XT84Q9/wO9//3sTULbRukgRcj5MJBo1nV9fridR9gOQvGDsFRz8XMc2cfn1+R0/mwRwYslS3L1sBX64tD/W/uUcXHXnTGxUPCGI6JYTu6Wxm/8flE/+K4rnT0fDekPRtOZmKKjohsLqxSic8yGKZkxF0+BdUDX0CtR2G2CNIalb/EYQLygZg58WlGC3DStQcdqp6DvmW7xZPxiFGfADdIISJEI4TgLolUbFHm1K8hWEBAaJavXaNKI95Qcn5eDax6kZFXnSBeC4JY32mkeq86mIZpD+2AcP0+l8gsjgt61qAP0ipe1cEUgyARw9ejS6d++OY489NvLucNNapUo47DYYv/LZRz48dNI9fElE7A766YC1a0ilVJgkEM6G700cJmw/G2tUyUI8PaUcDVd9hHNPnY2hJz2L/iue8nOppSEVc5poli1N3sIvUPzlFBT+8AUKapeiuWI1NPTaANWD9kBD94GWH1bYwJnvO1yG0uZBmPrItjht7M8Y8MHqeLR5bQxBZvwAncD4rSHMPRZXuTY/Zkd7YmRGm/rd4ybq9Doxs2veKAdJZlxJrDk2SR5JMp+3bkdYbJx9mYj05v1Egp7rSaA5dyWAvh6T2ijNS3vl504Cj7vvvhuzZ8/G+ef/5gAfBAY3rZU991yQvrKdQy+IrOna+qlIIZHPfCGLhlTMjkE0I6Zkln7EhO03fYSp8X+P2Zg9thvWf/3feOyZ9bCw47kYsOKFtN0Lhr++BFrTB9nNofJRwr3FFzCJoWj7ouA8r/Qv6Ni0E7o1HoIzz3oFU0cOwVFlnXBZ33hrvKYDxCtCmPMlUYyL6Pg1O9qDQ0gC+bzwOkzW6bWPJZo/7gvKFScB9KN9NRE4Y0KbKW4nvFdy/VACmOsrlOPyJVkDOGXKFDwIBBDnAAAgAElEQVT99NO48cYbfa+SWzSqCa1VNlOQ+J68j4bUAFKL6TQnukU+B9GQ+hg6chNTPoxBBFnS3IRhXb7FD9vOw4cPb4WuayzBnI5HYFDVW6ukVpHULfyXhMaK5C0qsjRJ/BGfOGouiDf3FA++yPjjV+PkJf/s0j+iW+OR6Nw0FLW1jdjihRnosHoXTN9hTa9LYz0vmlASPbcIYcnzGEciYr8EkAC4mWHTARMmrYlfoLmXqJkTAmhqjzjHl4ouXiSTcrCtJMYPqoXzQzS9sMmXJNC/fvwl2g0u0ZP32sh+zieZAH766ae47LLL8PDDD3tC5YxGtZO+KNoUGThbEaieEw/YgC8rPrSJj1fkc8CuY2+eDQJ4xYfL8Mz6SzD6tWYMHz4QTajCt532wIDlU1GEylYTL0kND6lq4kx/I/tTXAlIDGUdTOxPO/jflO2PXvWjUNH8O+vPN307H+OLmnDVVx1x8ND4I+rTbQQhECTDQgIlpQ0xJBEOXTElzcBh8uj5DYCIo06vfSokW5Lyxx4cYvKGC+rHGDZwxkTADO8lcY8wiUEcfakGMA5UE9Rnkgng4sWLMWzYMEydOtV1xTMZjZot/zPTW50vEyF/JLU87EEwpscz2V+UIJYwcnC8DZ5YhK4bL8O76w+2umBKmG8qd8GaVfejsH6lRk1St5DU2TWrouUTzZb9o0TSCpmOZKR8M8t3QP/aR9GhpZ8l39cFdTiiYDYWDivENxMHoKSkKAwcxq4RDZuQGnuNYim1KFpTU+R4yZIllgnVbyCNTNZPAESUvHZ+QOVHGzGj7PbgED/X+m0TtDoH+01Vpi3dmCb8JfOlCsivz4ZEK8ESPXm/N5/HF3NifQDdqoFkKxo1G9onE/tH+mgPFU2EAPoNYomK3y33zsa49TtixGbNuLCsp6Xt48+8zoeh+4rzUNG0dRsTr0UQW1qsF6Pk7CORkUTNztxufLHzbybLbjViMWZV7Ikh1W+hEGUWBPVoxo7lMzHzj0Nw8aCPccG5KzWDmT6IHXER4kdCQ4IVtYaw1zwk8rRr166hzOzpcvRxbK8IYy/5vM7bNYx+tZJefTrPhzVjE1tJGu2nrjHH4REllRPXg3smLnN4UOzStVcNoEk0E9hXnBrAyy+/HOPHjwcj5Lbcckvcdttt2HDDDV1Rpgll5MiRmDRpkqXxGD58OMaNG9fGMfnJJ5+0TLZz5sxB//79MWbMGDCXnxw8N3nyZHz++efYeuut8eabb64ylrMPyvbZZ59ZFUE233zz1rxpYgLI1EMg0+TDxFZ38+sT/5mgvjsm5InaRybXoKqqHoP3/xYD/1WOUT27YI/alfnh+LOw01/QqXFPdGv+bW8LuZHciPbULam0WDIf4mKK1NYUfor5pedjcM2LbeA+sOwbzLyxN76/4y18/uJ26N27Mupy+LpetKASROVMYE2yTO0TyaA9Bx+v448JTaCpyFOSF2eOPoLgJ8LYF1gpGjk1jH60kkHHi2LGFt9OmndJ7NIFZ0QZR+akBDDo6mavvWoAI2IfFwG8/vrrceutt4KBFoMGDcJVV12FBx54AP/73/9cv85I+Phye+yxx6wH8xFHHGG1mzhxojVDErRdd90VjzzyCPbbbz8888wzOOaYYyySR3LJ47777sPqq6+OF154AZ988gneeOONNug4+yDBPOuss6xrODZlXXfddVv9rCJCG/hyPrzi8E8KLEiaC9yCYOxkmb4+YnIzOW6m+vITxWxClktHvYnbv94Nmzw9A/+o7on1W8otUzmxW9BhDIpauqBH/RmtJdnSVedIJ4+8PPlS5/0U1ETp7Htp0XNYWvwc1q67s82pP5fOQ8N/OuOFq4Ghnd/GHXcMMwGTax9uWlAhxG4fbH4ihKPU3jZBADlRMV1LMnIhOkECTMKA7qZhFK0k+wuSsibV+Ca0mH7qGkcdRz4MTLtOhFkXP9eoBtAPStomJQJxEcABAwbgnHPOwZlnnmmNzRdYnz59rIhbEjf7wVQsbE/StvHGK8tYMUBjs802s7R9ffv2xR//+EfLFDJhwm8Jcg866CArrxS1jPbjiiuusPz6nBpA9rFo0SIr+fNDDz1kaf744OeYzz//fNbzPtkDKHJtyzqDYOykz66B4kOaRz5qACl3nCRcTLyzZ/+Cbfb9AF332h+r3fUlXqkaiM6FJRZufAEtLnoA1QXT0WXJFa1k2qs6hxcJ5LpIYISf1COp+vux5GY0YwV6NVzSpsl1JQvRXFOIvx23NopevRmvvXgANtmkp9Ft7DTxiunbD6lNRYTlhS8R1WF8Ak3XGBaiQ60t7yMSQL8pY8IALjV6nZo10SC7aSWDjmNKi+lV1zgqWeac5fkVZi8ExSVqeyWAURFM+PVxEEDe7Kwr+e6772KbbbZpRXjPPfe0yq45065Qm0eNHx147Qe/wmiy3WeffbDFFlvg8MMPx4UXXtja5JprrrEI4UcffeSLALIP3tR8mJKEHnLIIdhrr70sUjh9+vSs74RcqwccJggm3xNap0pjE3ZzuKVuOeOMf+Pd2q2x29Hd8cVB3+KVmiHWB5JEq9Z1mIZlXW5F/+oJkTV2drklFQeJBclTmGNu6ZmobNoZ3RoPbXP5fcWLMaOwDtMuHoCSRV+ifOF/MGHCwWGGaHONl4k3yADsS6JEqQ21E2GuE48wJmETueec87ATHRL3MAEmfrFJF8EsWsmowSFhoqRTyZ9OO8lgHKb5CfuRw/nmSxJo4qME0O8u13auCMRBAOfOnYt+/frhyy+/tEyqcpDk8ea888625qMHH3zQSsa8YMGCNjL26tULY8eOxVFHHYXBgwdbbU455ZTWNrfffrt1fubMmb4IIPs499xzcdppp7W2pzn5vffew6xZs7K+Q3KhHnDUIBi+rPiAzteKJiYIIOcvOP76kLaIHH9mzPgZ2+/4MEqGX4Ax1/+EqWstwl2LV7cIoPivoeQXfFO+N4bUvIZCdDS6L6V0GteHGp8gWg5GAM8qH4o168aivHmlpl6OyUVL8VTxUmz+9EBMfA/49I4b8Oyzh2KbbYLnBgxq4g0KUNAawl79m8g95zYG94QEQEQhNenklwAWL4IZJTjE7xheONvPi3aS2It2NGowDvvnvcuPgHyxYCgBDLJrtO0qCMRBAFNpAIcOHYpNNtkEN9xwQxs5/GoADzvsMFx00UWt14bRADr7OPjgg/HOO+9gxowZWd8d2aoHLH59Ur+YpCBscmtJSUJfxnw8opjh+fLgS1u0CHyRiG+Z+KYdf/xzWFraF18Ub4vL/v4d3i+vw9jq3pZGzu6/NqtsGHrXj0ZF80r/VpMH1zlMmpj6gvn4tuwgDKl5A4WOsm/vF67AdR0W4ua5g7DxWWU4pf9UzPj8e0yceIhv0e2BLsTQHt0chKj6GTAVBmGCQ4RQeiU59iOXs42Yl7k3/ETBBh0jCGkKGxxiykfSOTe7dlI0uvLuCbtf8ikJNPFQAhh0x2v7NgjEQQA5wMCBA3H22We3+gDy4UEfwJtuuglHH310GxncfADpD8ioXPEBHDFihBUNZ/cBZARwjx49cNddd7XpL5UPoFsf22+/PWg2mDZtWtZ3RqbNp5K6xWRJtnyvaEJiRM2YXxOSm4lXiJ+d0PFF/sUXC7HLLo9h+MUj0b1rKdY/dSEWFjXh8vreq+y9+R3OR1nzhlit8YRY9iXlDpomZmnRJPxS/Dj61d2/ikwzC2pxUtlcvFYzBFtfUIZTd6/Chcf+A//+95HYbLM1Us7BpIk3KFASIexMlROUBGaCAFJjy+cDEzWHNd+74SMEky47fkgT9w21ksTIb3CIaR9J5zyIP/cyceHzh3MJeygBDItcdq7TKOCIuMdFAKnlYxQw07KQDDIKmIEXjAKmD5LzoJ8fb15G+UoUMB92zijgRx991EoR8+yzz+LYY49tEwVMksmf0aNH47XXXrMCQdiXmCMlCtjeB30Bf/e731lyZvvIRD3gMH59QXAh/hJsEOS6XGnrhwC6mXhJIlJV5+C+5kvwggveQmNjC94uPwS3nlSPj3/3A8pRiD83rL7K9JcUP4LqovfQt+6W2KBJFR2basAFHa5CYUsX9Gz4yypNFhY0YHj5N3iveh1c8XAH/Li0AJ1mTcZPP9Xg/vv3dX50rpLLMF0Ub2wA/Gry45rzsKfKCRIcYqL6RKo52v0L7cEhplwswvgvuplf061RXCZy+5i8v6SkXdh8jOyP9wT3op/Aojj3pd++VQPoFylt54pAXASQgzEPIP39eGNutdVWVl4/5gGkVo//Ml3LDjvsYMllzwPI3/fdd1+rvb1uJwNCRo0ahe+++86KGnbmATzhhBOsVDM8JOO/FIGXyTv7oEmZRPWVV17J+g6JS3smPlVCkIWsOAmLCQD4IJY0Fib6y3Qf6QJxRGMq+8vNxCsEmySYePNFwhfKkiX12GCDO/HgxBE47q7emHd3Da6u/B7rNJfihMZVy6fVFszAnLI/YUjNVBQgXMCGH+wkOtZZP9d5rVWhpGxf9Kq/DB2bt12l62o0Y+eKmZhaPRgff1aCk27rgJfOX4Att7wHn332J/Tt29l6uUoCazHxUmsTJQWLnzl6tREMnKlyhATyet4rqTRkQcucecljP+8kT2FLpKUaMyw5c5pf0/nMxakhtc+LPtTiRhPWXK4EMMjuzH5b1QBGXIM4CWBE0TJyOV9866+/Pj788ENfJpA4hTJdD5hzE9InLzG+yOL8us33knZ8iYj/IzFzM/ESP4kWZRvxoRRyw7/ZEzXz9zFj3sa0aT9g6ClH4IX/FOHZS+rA3Hk7N1XikMauq2yrFjRjVvkw9Kkb01pzN669Jy9zkgFqwdzM33UFszC77HgMrnm5tQKIXR4SxK3LZ+DZ2oHoVleCNU8sx7t/q8Wos5/C4MFdccklW1t70ZmoOa45Be2XGIgmzxkl7RUhbKL8WCp53ciTvUQarSR+TLdB+g+CnZhfSQDtibbtfcRJkO3jSLk53pthzeX5lAT61w/RRHOgRE8+yI2aqm3SCSAf/CSANA9nqupHqrUwQZ5ES8WXrfizCOmL8qLwu9fErEin7EyM51cuv+34MhcNKdeDB3+XwBhnuTVJ3cJ52/PS2edeX9+E9da7A7ffvhfu/e962GpwM87dvxF/Kp2Dgxu7YlhTZ1fxfuhwJYpaOqNnw9l+xY/ULl2amMXFd6O28HOsWT825Rg7lc/AA7X90L+5A4ZdVYr9t6rFWs1f4bTTpuLzz0egsrI86/eYF0BCuGhitWu10vkFknjwfJTyY6nkSmVetvvikQSG/agjOeOc7ZYWL4yc5yU4hDK4EdI4CbJdFnsVEGcuRT/PIlnjfEkCrQQQUAIY9G51tE86ASQcDAShfyIrgmTzCEuexOzIBzFJCx/EJH3pzFZxzVP8g/KRABI7SWQtUbmSvkXwkqAFiXYWEy/bp3rJTJjwFf761zfwyScnYcCpFZhwYR22HtKMY0u/w4jG1bBbUyfX5agqegM/ltyIAbUTUZChR509TYydAH1XdhS6NRyNLk3DU26d3ctn4u/L1sCA2gJcN7EC85d0wF2n12Krre7HpZfugEMPXT+ubWe036ARwnESwHTaM+5Fjk0CFzZRtClylo6Qhq0DHHRR3Urayd/8PI+UAAZFPPvtlQBGXAMlgABTwbBqCVPUZPMIQp4y6dcXBBOZg6nas0HGDtPWaeLl7yRBJD/iaC9Yi7aPWkB7ihKvcYcP/xd2370/hh+xLXa8uAw/3FODkmLgsLJv8ef61bFjs3vd3GbUW3n3+tbdukrePa8xo5x3EqD6wm8wu+w4DKp5EUVoK6udEB/Q/Xtcu6wHNinoiNc+L8O593XAZzfXYuzY9zF16neYNOnwKGJl9FqvCGF75ZA4CY4XQRPTNYkgSU7Q/HUmyWsqQmqiPq+fxXerNiJJo7le1E6ms/JQfh6mAmz8yBy1jQaBREUw4dcrAQRGjhxp1RlmpZJsH161aIWg8CXNQzR9YqbMtvwc32sO2ZbRHsXLFwN/7Klb7ASI50j8xDk8aNDC7NlLsemm4/HVV6fgxS+64OE3ivHSFSvL5R1c9i3Or++JbZtTJ3te0GE00FKEXg0XZxQ2e5qYFV3vRGPBT+hTP8aSIRUhPqDrPFxfvyY2bi7HkipgrT9VYM5d1WhYUWWZwD/99E9Ye+0uGZ1HlMHkY0bMu0IenBHCJIDUBMeR+9IvQfPji+eGhWny6kZIo9bn9buGqaqNyDp6lbRju3yqAkJclAD63R3azhUBJYAAE0rThMIo4mwfbpUoRMuSLb++oJiYqKYRdEyv9n5TtwjWkpKHLwRqBNKZeNONfe217+DjjxfgiScOwpl3laBTOXDNMQ3WJQeVfYML69fANmkIYE3hfzGv9AwMqpmCQqyaPslr3lHOWySw+mcs6HEoetddh4qm37WWq3MjxHuWf40b69bE/7N3HVBSFF33bt5FEARUoiRRQUGCYgAkGIhK+kQEQUAByQhiRAQzEgQEFCRjIinwfwgCogIiivopOSpJsgRJm/c/t9Zaent7ZjrO9Ox2nbMH3a2uevWquvv2C/fdkp5JAl6lfzzGdE3G/bemo2XLBahduxQGD86ZQWxFRqev9ZUhzHllcgjdtDwfTliOjAA0M0TNdJHyI9Ju8KoEpJIWSl1r2M694z4RAPqqaKIna5n7KUM67JTNybE8AOikdvPA2B4ABGbOnIk9e/ZkqzMcqq2XPHR8EMn6sPxXuh1DEddnVBdWqmkYnStQf7WL1xd1C3Uss3jZR3KByaQQurT1BJIr5eFLp3r1aRg6tC5at74RtV+Ix8CHUtDmrszkEgLAZ5Ov9WsBZHbt/viOKJjaIkf93UBrt+PvpyO/wKnoj1HkxFQRhygzpLUA8f0JezA+sRQqZcSLqTuOjUXVsukY3DIVn322DaNH/4iNG7vYIVZQx/CVISxpbXhuCP6cSB4w6j41StTspHVOZitTJn5g20lgrT4AnOPMmTOCBNrfferPUiqT5pyU0+6D6wFAuzWax8bzACCwYsUKzJs3T1QpCWWT1gZpXeCDjA8jJ/j6nFynHjJlJ+fXom7xVZ1DxvVRHq3SY9J9xL8bjWv83/+OonHjz7BvX29Ex8Tgms4J2DgyEdcXz4w1YgzggORrcLcfCyD7nY36En/HfIhyifMJwZxUnRhbuniTUxJxuGBHFLjwKK5Iaio+SGTJLS0h6ifsxoeJpVHxXwD4zhfR2HowErP6JePcuWSULTsRa9d2ROXKRR1fgxMTyAQZnhOZeMUPNXmPSnogox8K/mQlQOPHiBHrol6XpzhbZ88K659T1jmnS9lJ3RkhtPZFoyMz+fVWAXLijBkd0wOARjXm9c+mAQ8AAlu2bBE1hlkhJBRNUrfIkmyyGLmb4vqM6EXNpWfkWrN9pYtX/iuD9OVLWY6rdvHq4aWTwe0cmwBIL13QkCHf4fDhc5g+vTm2HoxAgyHxODqDNDOZ0nSI34duKUVQ30cWcJbMSMWf8W1QJKW73yxcs7qT18n4UlpJhHUr/zf454qpKHfpc0RGxIoMabo71Tx58vq7EnZhbmJZXJcRK3619OcovPJZDH4elSj+v337RahS5Rq88MLdVkUN+vXSGk/d8DzwDBA4SbDA30kXop33LQGampJGz+KVLk8mP/gCeLSa8Uw7ZfWSljnOz+eb3aXspC6Mkk1rZS3LsAazlDp69sXuPh4AtFujeWw8DwBmViG5//778c033wRt96UFQSYYSEsCv2TDLRBZrTQCwGDF0vChzZezDOD2V51DVlqRLl5J9aJn0+ULlWPwhRnoJcH+Vap8iLffboDmzSti/vooTFgaje/eyEwAYesatx9tU69CYx88gEq5zkb9H/6OmYqyifMRiUyAZUeT51BduSQqJgP7E9qiSMqTKJh2uZSbL5qYVGTgzny7sPxiBRT910q592gEag6Kx8nZlxAdBXz66VaMHbsRP/4Y+lhbPbpTfyzwvMgzQyu3rxrCHNuuUA0CNAJusxY67ivdyASrWi5q1kEnB6BTVi9lrWF+QJjNVg60X2b4DJVZy5JLkVnUej/wAskUjL97ADAYWs7Fc3gAEAJAVK5cGRs3bjQc52XkaEjXmrokmzKeSlpfjLh8jMgQjL58GEuQ5cR8Wi5edXUOzqu02vD/lUTNZuRSxoL5c4Vy7M2bj+Peez/B/v29kZAQg9fnx+DAiQhM6ZWcNXWfuIO4N7UAWqXlrASili8Dadgf/xgKpDZCkVRrAEpaq2TMoww1IMiQL7+/o2fgXPRKlEmcgwhEZRNHiyfvDNJwX749WHuxoqhvzJaaBlz9eIKwAFYoloEzZxJRpsxEURrOrdnAWe7v5GRhsfL1seDLKszfy48RO0rc8ePUqtVMuke5v8pYVpk4YaV2bqD7yOlSdnL+QHQ5/uSUpNEEyQTDHgAMtKvu+bvHA2hxLzwAmBnzRAD4ww8/BLTsGFW3fNmqS7L5sj5JgmG7s/KMym2lvyRTNspJ5m9OdRZvoOoc1CMBoLTa2GWRoYzS3eQvdurtt9dj06bj+OSTlmJZj4+LRZWy6XimRSZ9D9tzsX8JypTHUgvrUvfFyP/hUFw/lEuci5iMErquUXZSu3h9Vi6JOAASP5dOmoiE9Fs151Hz5B2KTMHD8X/ih0s3ZCOtrjEwHm91TEaj6ulinCZN5qJly4ro0aOGYfmdvEAmdMgwDD0fC3oyhNUhCEbXYJeFjutjxq+SD09v4oRRmZX9nS5lJ+cyki2ttR75vCAAtDOG04ru9FzrWQD1aMnr41MDHgDMVE3t2rUxa9YsXHvttbacFhnXZ5S6hf0lbYItgoRgEAJAvhztsGJKPXIZSr4+pQvWlxvTLHWLHpX5coXKa+vX/whdu96KTp2qZJ6vF+IxuGUKWt6RmQHM9kbMURRCFHqn6K9AczTmTSRH7kPppPdzWOa05Daqmwyk4kBcd8SnV8a1Kc/4VQX3hi49tr35I/BswhF8den6bNe0GRGH+29Nw1ONM4Hv2LE/Ye3ag1i4sI0eNTvaR7p45UeXnnhQtUAcg/erVmyktAbKutFGgYXdFjqOR3cwwTuzctkYY1i4sL4PEDOb4cs1qxWDZ2Z8eY26CojRsagbNn60Gt0no3PZ2d8DgHZqMw+O5QHAzE3/z3/+gwEDBuDWW7UtHnqOhnzZWinJxoczH5pO1BXVswY7+lh1Yxtx8Uo3JuWmi0sSNduxjkBjSFco51W+OE6evIhy5SZh9+6nUKxYZuWMEl0TsGxoIm4tm/miYZsYcwJnItLwUnKxQFNl/T0dF7Ev/jFcmdYIRVN6aF6ndvFK3ShdvL4mPB4zDhei1qNM4ixEIpPOxV+TrtA1MRcwu8AFfJpULlv3gdNjEB97mftw69YTqF//Yxw61Adxcc5nNKtlly5es1VdfOlC+UFAPUsQYcUl7ISFTlot+ZHGDzQ+a0id4lTz55pVx+BZSUSxSmcj3fZ2ei2c0qlyXA8ABkPLuXgODwBmbm6/fv1Qt25dNG7c2NBu+4rrM0vdIq0qempXGhI0iJ3NuLG1XLxa1C163ZjBWi4BO91PkkyXL/7587cLzrsNGzJj9c5cAEo+kQ9/TbuIQoqiH59Fn8ZPkRcxJrmkIXGTIvbgQPwTuDZ5CK5Mu/8yOPy3jJ0E4L5cvL4mOxu1BMdj30WZxJmIzSijWybeA59mnMC6mIsYn1QqW0LBmCXR+O2PSMwekBn7yL7XX/8+ZsxojnvuuU73HFY7BuPcGK0hHGhNygQKu61SMu6N4zoJAHlvsPn7oCUItZocYjWbmedDsi8E2hc3/d0DgG7ajTCUxQOAmZv21ltviYdUly76iGr5cFbH9REEBMoODXRE+ILkQzPcASBBIAPOAzXqkT9s0sWrBs9G3ZiB5rT773x5cM9kVmjv3l+hUKF4vPlmfTHVlgMRuHdoPI7NvJRt6lVR5zA7+hRmJ+kHW3KA85HrcDjueZRIehtxSXcINyTPo8y+Nur+Phe1Ckdih6NU0rvIl36bYRXRmvl3ejL6n8qfjSZm7roofLgyGquGX85+7tLlv6hQoRCGDKljeB4jF4Ti3KjPghVLoBFuOyN6kX0Jugi+aPUyQ3SuZ069RNZ8XrCvOlFFzxzSVe6rCoieMbhvkuRcT3+39PEAoFt2Ikzl8ABg5sYx/m/Xrl2CD9BXMxvXZ+RoSABolHTYyBxO9w0Ux6h28fqrziGpW7QyVZ1eh5Hx5b7xmjvv/ASjR9+HRo3KiyFW/BaJ52fH4tcxmXx4sm2JvIRBcX/liJvTMy9B82ksx6kr3kLBfwahYHoT8fI0k8F4JupzHI8dI8Bk/nRzoGxI7GGUS49Dp0tXCmuO5K77bmskek+OxZbxl9c+c+YmfPLJVqxY8aiepRruo6zqwouDHRogXZtq3kij7mB1Bq1hRQS4QMbnSf5CZhvbbWk0QmStJGg2wrdph6vcA4B2n67gjOdlAVvUswcAMxW4atUqQQQ9duzYbBq1I67P6Ba5sZaukTVoxTEqXbx8ySgTOpSgRZmNyf826sY0IqfdfXlWdu8+jttum4ODB/ugYMHMGLrZ30bhs7XR+PLly1Yw/v4kUtE4316su1gR8f9Sp/iTScuNmZrwC47lexlXpjbH1Sl9dMXtyTnScB7HY0fjQtRalEh6B/nSzWfmdonbj0f+5TRUukL/PJmAekMScGLWZevnrl2ncOedM3HkSD/b4gBlQoes4exE9reR80J5CLCkJVzJs8d9ZJMfPr7GNUpubEQ+9iVQpyz82KT1jTJLPjyjY/nqb7TSiLSgykQVPR4VO1zlnFeWf7Rr7cEYx7MABkPLuXgODwBmbu7WrVvx7LPP4rPPPhMPQvmylcTMwSzJFupSalaPOx/IDP7mi0XGSHLMQNU5lNmY8gVut0XC6toCXT937jaMH78Ry4H083gAACAASURBVJa1yiKMHrU4Gpv3Z5ZEUzbW+b0nYTdmJpZBhYw4zaH1uDGTIw7iSOzLSIs4haIpvVEg7T6/GcIZSME/UV/iZMwHiM0oi2LJryAmQ38iipag9ybswXtJpVA5PRP0SpqY0xeiUWlAEZycfREJ//JXc01Mkvn00xa4665SgVTq8+/ybMlEIEmmrkzCMD24DRdSPisZwozT4w+pSZxoSuoUOxMylLKa4TE0KosdllIPADpxwpwf07MAWtRxsADgK6+8gqlTpwragZo1a2LSpEm4+eabNaXnQ6NPnz5YunSpAA3NmjXDxIkTwRgP2RYsWIAhQ4bgwIEDKFu2LN544w20atUq6++Bxvj222/RsGHDbMHJfJBw3s2bN2PGjBnii1DGowUTiISilJrFY5TtcoJmWj8k16E/F698eZupzmGnzHaNNWDASsTGRuG112pnUYO8/Fk+QYo8qnNKjmna/1sOroGqHJxRNyaJomW1ECAD+dMaiFi+mPQSiEQ+pOMCkiMP4FLkrzgX/TUiM/KjaEp3FEhrlI23z4weTiMV9+fbi+8uVsQVCksmX6r/nLuIkj2uwY73LqD01Zcf123bfoG77y6JAQNqGZ5SWol5dtj0cPYZnsTGCwJlCPuiiZEWREnZYqNIYiit+Dw7EjKknFZj82SiCj8k/VFK2QGUeabCrQoI9exZAO2+K/LYeMEAgCNHjsR7772HZcuWoUKFCnj11Vcxe/Zs7Ny5UzM7jICPD01pjWvXrp3ot2jRIrE7P/74I+rXr49PPvkEDz30EBYvXozHHnsMa9euFeCSLdAYEgCeOHEC8+bNw5w5c/DTTz+JLGDO9+CDD5qKp7Lj+DhdScMOGdVjKOP6+DdZRYFkyUo3jtLFyxeEtPTZUTXBiXUZHZOuzWefvQutW9+YRRg9aE4RVCgOvNDmMgm0HPel2MMonx6HJ1KLZFmdzWbxckzy+F2I/BHno75FYtQWpEQcRjoSBQiMSS+FhPRbssBhhA63s571/xx5Ea/EHsHSxAo5unOPr+2cgKUvnELNG+Kz7qmRIzcIouw5cx7SM4WwJEvqFoJjM5x9uiZyqJNWtrjYr38rh2iBQCvVLfQswxd3Hs8frYMERLx/zX78ytg8K5VG9CSHUE/86DQLlOUeaJXK06PHUPbxAGAotZ8L5g4GACxXrhwGDhyIvn37Co3xYViiRAmMHj1aADdl279/P9j/999/R5UqmSS6mzZtQrVq1YS1r1SpUiJTl8HFCxcuzLq0devWgtCUVkY9YxAANmjQQACQ2267TcjB+D+CQD1xJ05uvROVNJyQV03donTxcj66svk7vkRkYkg4vrz16u7ixRQUKzYOW7d2R+nSmW47vsAeGRWH+reko9/lkrpZQ06LPok9SMSQs1dZyuLVK6MT/T4lnU3UBbybpO3OrdgrHlOfOofqZTPDAgjeVq/ehz59VmDbtu4+RZIuXiVnn0zoMJPs4sTajYwp49t4Tyiz/H0lh/D+4d+c4gSlN0Ym66jXoUzIMJscYkdsnnxf0FqprGKilNeqnjwAaOQUu6uv5wK2uB9OA0A+ZMgzxTJrd9xxR5a0jRo1wi233CJAoLLRmkcLHL/qlI0PKrp9mzdvjho1auCRRx7Bc889l9XlzTffFIDwl19+ERbBQGNIC2CxYsWE5YWyHD9+XIzB34WyWSVSdlp2mQ3NeZTJHPK/+XsZu8Z95H/nFhevP93+8MMhtG+/GH/80Sub1aTxq7FoU+sCHquXKl641JN08a6JPIfJBf7BJ/+UCiqJtZ1nZGjsEZTMiEGPlKKaw1YfGI+Rjyej7k2Xstzi586lonTpCSJZpnDhhGzXqZNdlFm8Zq1Rdq7XyliBMoQ5tixbaLW8WSA5A3HncR9kcgita0ZBt7Te2cEzSL0pq5goP9L1Us340gfHZrOjclEgndv9d88CaLdG89h4TgPAgwcPokyZMti+fTtuvPHGLO0SoDG4ecqUKdk0Tlfs4MGDcfTo0Wy/JygbM2YM2rdvj+uvv1706dHjciWE999/X/x99+7dwp0baIxjx44JwMc4RH5BTp48WSSB0ILIqiChbGaIlJ2WV03dIq190nUl5yewkRYb/o4WVv5OWjKMvkScXped40+a9AtWrdqHzz/PXuas3ktx6NcsGfffcjYLGMoM53/iIvFg/v349lL2+Dk75XJ6rP/E/4l+KVfjnrTMqifqdvfz8XjxPyloflvm2ZA0MdWqzcSkSY3RoEGZrA8Gq3yGTq/VjvH1Zgjz44lAx6m64IyTJrBTZiir10dZCUS5b4H6qq+1O4uZslAn9JDQKikrh+TVKiDUtwcA7bgj8/AYTgNAXxbABx54AFWrVsWoUaOyaV+P9Y4WwLZt22bj7KMF8PPPP8fPP/+sywKoteWlS5fG7bffLjgBQ9kC8egFSza1i5fgjcBPi6hZJnMQ7KkpOOSDm+uiOyvULnan9NejxzKUKJEfr7xSN2sKrr3W4Hi81OY8GlTOrJtLPSp5zprF78Xw5OK4LT0wcbZTspsd9yzScF/CHnx1qQIKQ7u0W4OX49CnaSra3JVJ+C1pYrp0WSGqgXTvXkUADDZa+8zyGZpdQ6iuI5BhvC8BHtcsm3RJEuzwXnICABpJ0JCAlfIQeCll9ac7O5IztMZXJ4cYpZpRjyl5EPWuK1TnRWteDwC6aTfCUBanASBVUr58eTz99NNZMYB8ATAG8N1330WHDh2yaU0rfo/xgNWrV8+KAezatavIJlbGADIDuGjRovjwww81YwDVY2htFRNU+KMcNxRbGup6wL5cvErgJl28kqhZUnDIzF+13tifD24CxdwKAmvXno1nnrkDrVrdmOXipX7uHlIUoztfxH23RgjwJ/nXJAh8LvYv3Jgej66pRUJx3CzNuTbyPN6NPY7PEzNJr7XaA8Pi0OXeVDxaNxMAyrMwfPhaHD9+Ce+9d18WB1u4u3iNKlNaRJlwIevQyg9A/suYSWWdaaPj++pvJkGD9y7drQSkehImnExiUSaHSKocf5ZMf3oLVxJorskDgHbdEXl0nGAAQFr5mAX85ZdfCjDILOCPPvpIZAFrlQtjnB9vcGb58mVBdzG/PNVZwCRuZrbvkiVL0LFjx2xZwIHGWLFiBSpWrCjc0/wKpyuaLmAC0vHjx4f0NPCBJGtjBuuFaMTFK619VJLRKgvS6kHwY/aBHdLN8TF5Wlo6rrlmHL79th3KlSsgAKC0hFZ5ugCm9U5G7UqZBMBqi+j8uH+wLuo8JiSVduPS/Mo0NuY4zkekY0iy77jZJq/FoX3dVLSrnUmMzB9+MCxe/Ac++OB/WLasjXgO5ObwAH9K5FkhsOL6ZTyakoLKF02MlcNiNkFDlqfj2Q5UrlJPHWCra5BxgQwnMvs8keEYZq+3sgar13oA0KoG8/j1wQCAVDF5AAmyGK9BNyt5/Rh/x8xe/rt8+XLUrl1b7IaSw4//T0oW9lcSojIh5OWXX8a+fftE1rA/HkCtMV5//XVhLfz777/FFy3d0U2bNhWE0OPGjQvpqZBxN4EesFaFNFKdQ8b12VGdQ8YG8aUv43isriVU10tL6M6dJ1C37qf4889uSEiIE8BYgndmwc7pn4w7b8wEgBIESp63v/JHofsVf2H1pYqIQXjltZHH8PGUwmiUpk1WTKDR7PV4tK51Ee1qZ7o0ZcWF3347hqZN52LXrq55IkZUfUbV1Db8u6wnLa3tvjKErZ53K3WG+QwghYyvrFwpm9XkDD1r5Dr4TqHeGKNoJrwkXEmgqR8PAOo5JV4fnxoIFgAMhy1gosqgQYMwd+7ckIorAaATVhEt6hY+PLXi+pSuKD5YpbXPDqukdH2p459CqngDk6uTXb7++hDefHMDNm7smmOU63vG45OByahV8TIAlJ1oEb2UeAltrz2Jt5JLoGYYxQGylF3ThL0i/u8qRfyfGti0fbcIHq2biscbZmTLjr5wIVlYTf/4oyeuvDJKs2yagS0Ji67UjZLIWpkdz/tKWZ5NDQK5QJkhbHWxVqtn+MvKlbL54hm0KrvyegkA6ZLmvcSPZqOxfOFKAu0BQITZ57KdJ9+msTwAeFmRjCskN+B3331nk3bND2N3PWC1i9dfdQ7ppqP0Tgbl8+Et1ynjn8xrzPkr+dLzlewyduxG/PLLEXz0UYscgmhZAJWdOCaJlK+NjMOA9NBSEBnR4uKos1gUfQYzkjKzeJXVS5TApvGrCdliAJVzVKz4PmbNehB33VXSZ9k0IzK5ta+a2sZXjWt/GcLSGmiHS1iGYiirKxnVna+sXDmO1eQMPfIoM42VySFG4iY9AKhH0+7sE17+Ehfq0AOAlzeFD4JKlSph48aNptnv7dpiO+oBa8X1SeCnjLfS+3Kya23KcWSFBAJNIw9tJ2TRGlNvskvv3l+haNEEDB9+T45hbuoTny0GUGuer3AGk2NO4tPzpbO5j4O1TjPzPB13CFVS49HhYgEB3qQrjeBGWdml/pA49G12OQtYOVejRp+iU6cq6NDhFvFrJU1MOHwU+NOb1tnRa0UPlCFsFQTaWWbOV8m2QDyDZs6c+hr1OqRrm3qmByWQt0KCaj1JLXbIa/cYngvYbo3msfE8AHh5w/kwqFy5MtavX286oNiu42O2HrA6ro/y8GXMHyXok246yTlI15JMWgj00LRrjXIcX2Wy7J7HyHhafIYydk1rnCZN5qJdu8p4/PHM6jXKVqV/PN7rliyqgfhqF5CO+xP2YMrJoqgQqS/L0sh67OzLs3M2NRlNr9yHKSeKolxEvN+zc9fz8XjpXx5AtRzdu3+JsmUL4sUXM+N/2SRNjFs/CgLpUuniZV+jiVJyfHWGsLwv7bAE2p2hqy7ZxjUwlpsWRjNxeYF0LP+uVQVEJtUEilHkGDLpxo0fn3p04AFAPVry+vjUgAcAs6vmnnvuEWTQxYsXD+mpMVoPmC8dSbjsrzqH2k0nXVGhzsCUZbJkEHywQah8GZitN1up0mRMntxE8Nqp223PxOONDsloVN03AOQ1g2L/wk1psWh3Jj6LADgUevB18JVn56uES/j8igv4OLFswOxdVgIZ1TkZ91bNuf433vgeBw78I3SnbG78KPD3QFDHPdpVqzhQDWFJyG70nFgtn6alC2U2M2PxaAG0UgdYzwPYV7UUPTGK8p6n7sLV2uwBQD2nxOvjAUCdZ4Al5nr16iXKzYWy6akHbMTFK2PX+GCUlj6lmy6Ua5VzS/ob/r/TGdByTnXsWiA+Qy09paamo3DhMdi8uRvKlCmYo8s9L8Vh4EOpaHlHJg+er7Yi6h98EHMS8y+WwaWLmaUQg6UHXzL5Cg/oe8UR3J12BTqmFg54dPzFQM6atQnz5m3H0qWP5BgnFOch4GIUHfwldNj5QaXUgzIxzEqGsKSd0aLhMqIDdV8l8KLcLANnFJwamd9fookyRtFXcghl5F55ANCI1t3T14sBtLgXngUwuwIHDBiAu+66S1DChLL5qgdsJIvXrDUrlOvmQ1taJ5zIgpZrM+ri9aeTQ4f+wU03Tcbp0wMRExOVoyt58Drck4rH6vkHgIlIR+OEvRifVApV0uJzEEYHa18Cxa79FZGMNvF/4r+XKqCoj+ofSlmLdUnA168m4ubSmTVXlW3Fij/x/POr8euvT2guT54Hnntl9ZRg6UJrnlDEzCr1wPtC6ValPGzqMA9/OnIyQ1eyGPAZRmoWJ6me9CSayBhFLQJr6k6Gv4TyTJmd27MAmtWcd53QgAcAsx+Ed955R8TsPPGE9gspWMdGXQ+YDyrGRrEZcfHK+CM7LRJO60B+uROk2fnSd8pNt2HDX+jQYTH27u2lqZq2I2PRoEo6ejbO3D9/7e2YY0iKSMcrycVzEEY7GUtFmdSg2Ffs2sSYE9gXkYyRySUDLQepaUDBDvmwa+IllCySEwBu2XIC9933CY4e7e9zLGVmbKiqyAQCxQEVYUMHyiCr6RAEKomLjcYFWq2fG2g5BH90z1Iu7plTFjbGGSrrAvuSyxeBtQcAA+2ku//uWQAt7o8HALMrcM6cOYIM+qWXXrKoWWuXSw4+voT5kCLok/E+MgNQzmCnNcua1PZdbddLX+3iVdKT2AWKv/hiJ8aM+Qlr13bUVEC3SbGocG06nm8TGADujkhE5/gDWHqpAgohKqtsGl+o6pe+Hdo2CopppWye8AfeTCqOWulXBBTh+FmgXI98ODn7IhIul7vNuu7kyYsoU2YiTpwYgHz5YvyCQOqAsbHBJBBXJ3Qo6VsCLt6hDpL6xFcNYT0ZwnosZ1bEl3WAKSPdzQSA/G873cE8u0YSTbQIrMOZBJr741kArZxS71rPAqg6A6tXr8bs2bNF6bpQNOnilRZAmXmqRdQcji5eIzr1Z/EINE4wQfEHH/yKVav2YcGC1ppiPTc7BukZwMjHUwKJLf7+VNxB1ErLl602sKQFsQP8WAHFC6PPYH70aXyaWBYROmhYtx+KQL2X4nF8VmZMo7qlp2egYMHR2LJFO35S3d8X+NGlWJ2dtDLkZWk2OwGMTnE0u0kOTVlDWJkhzGeIdAf7klev5cysjMosY96LdDlTJlrr7NIh18lEEyNxhtI9Tf1RFvlB6LR13aweA13nAcBAGvL+7lcDngUwu3p27NiBp59+GvPmzQvqyeFDkj//ftWJhyT/nw8q6fbSckPJhA67rFlBXbTOyfTWDzZqzdI5fcBur722DocPn8f77zfW7Dvyi2hsOxSJGX2TA47FDusiz+PVuKNYcqk84hGZdY3V6inSmsVxZDKQP2obtbCpyBCxfz1SiqBpWs5kF63Ffbc1Er0nx2LL+ESfa6cF8Isv2qBGDX0k2E7RxMgsZ4JMJyzFujbfQCcrGcKnTp1ylKJFnWXMs0dLIM8d4wLteF6ZLWcnvQsEqXy2SiBoQPWu6eoBQNdsRXgK4gHA7PvG2Jh69ephzZo1jm+oOotXXZ1DWsAIgAj0ZAygWV4xxxfk4AS+6gdbsWbZJe6AAStRoEAsXnutnuaQs1ZHYd76aCwdkqRrygxk4LH4/WiWeiXaq7JsfVl+fA1spzVrSdRZzIj5G/MTyyFah/WPMn22LgpTV0Zj1XDfa69RYxpGjGiI++8vp0s/7GQXTUwoEjp0L1JHRzMZwtJ16iRFi1YdYGl94wcIQaAyhlHHUnN04TOBQJPrMNP4XOX9ZMSCaGYeJ6/xAKCT2s0DY3sAMPsm84F600034eeff7bNVaGcQU3UrEzo0KrOwYeltAyq3T154HhmW6LSAsaXB18A/GELZWxWx45LULNmMQwYUEtzS5b/LxJDPo7Fz6N8W8HUF34XdR6vxx7FokvlcYXCCqgEP1yzVgUDvmiV1j6eMat8j4z9o/Wvb8rVaJx2pe6jN3pxNDbti8Ss/r6tn/fe+zF69KiBtm0r6R6XHc3SxLghocPQQgN0lklTSm+BvEQrQ9iM69SovL6yjJXWN1rejNbtVcoh4wyvvFL/eVReLxNnwrUKCNfiAUCjJ9Prn00DHgDMfiD4ULC7GogR6haZ/MF/GZcirX0yAJ4uC6tfzuF6C8iXhwR9dpHtWtVH06Zz8cgj2lVAOPbm/RF4YFg8jszQjoPTmp9WwG5xB1EjPQG9Uq7O0YVnilmWSuJsJ61Z06P/xuroc5idWAaROq1/FPrp6THIFwe80cF3/GOrVgvQvPn1eOKJaoa3gmeCViA9NDFuTOgwvGAfFyi9BepnhDpDmHpgEkjhwoE5HM3KFyjJhPcwrYRa1Cx657RazYR6YSMADNfmAcBw3TmXyO0BwJwbQRfwlClTUKJECUu7FMjFy8HV1hr+zpeL15cb1JKQLr9Yy8UrrX/Ukxu+3mvXno3nnrsTDz10g6Y2T58HSj2ZD4enX0TBfPoVvi0yEd3iDuCzxLIonZEzhVaCQI5IIKj+aLAr2P5IRAraxv+J95JKoVq6gQUAaD0iDo2qpaFHI98Z0J06LUH16sXw9NPaFtRAGvOXMW6nCzyQHG74e6AMYZ4J6Yo16zrVs049dYB5XgkCeT+bITz3VQVEj3zy2RvOVUC4Bg8A6t1tr5+mBjwAmFMt7dq1w1NPPYWaNWsaPjVq0BfIxSsJn5UuTH8vbquJAIYXFKILfCUsEOjIBBm+APjysJtewuiSq1b9EOPGPYAGDcr4vLR4lwR8NSwRVcvk5MLzNx95AQ9EJmNiUqlsWbfKsmzSkuGEdZiWyP5xf+HqjGi8nKwvSUO5HpaBe7uj/zJ4PXsuR8mS+TFkSB2jqs/qTx0oaWJ4TmT1G56XcOTDNKsMX0ky0hLIs0P3Kev0OtX0JploUbPolUkrzlDvtewns6WtuKGNzOdEXw8AOqHVPDSmBwBzbjazgGvVqoXmzZvrOgnSxSv/lXx9amZ+tTVC6eI1Yq3JrSDQaBavlhtU14bZ3Kl8+UmYO7clbr/dt8X47ufj8VzrFLSo5b8aiFq080jDI/H70CW1MNqkFIKS+kdZ0o/8eFoxYFaX+nnUGUyN+VtYIa9Ezion/sYnCXTRTgn4ZXQiKhTzDXyfeeZrxMRE4q23GlgSV8bCUUdsej+qLE3q0osJ8ugaV4cIyLhZPnuYiGHkuaN3qUaTTKRFUlKz6A1xsUpmzedHOFcB4X54AFDvqfT6aWrAA4A51TJy5EjxYHjyySf9nho+QPig5QMsUHUO+eLmA9lqQD6FktmgdIE6xbIfjFvGahav2UQAO9dWvPg4rFzZHrfckjNWT87TcWwsqpVLx6AWgcmglbJRPz/iHAbnO4rxJwvj+vQ4TWuWjAGzkzB6T0QSusTvx6ikkrhDB+mzWqd7j0ag5qB4nJx9CdF+sONLL32LS5dSMWbMfYa3RX1+CGz4Qz3k9aQpfyEC8uPUiXrgfCYyBtBIdq0E77RM+qrbqz4cetzM/g4U9cNnsV7AafhwBuECDwAGQcm5eQoPAObc3Y8//hibNm3CkCFDcvxRy8UrH6bqLF7pguI1yrg+u766neJDC8Z5D+TiNSKDkUQAI+Pq7Vuo0Gj88ktXVKhwlc9LXpsXg0N/R2ByT31cgOqEhdlXXsCq+EsiCcOfJc4uwuizSEPn+P1olHYlnkopqlcV2fot/TkKw+bGYONI/9nPw4evxYkTFzFhQiPd8wRK6LCLJka3QC7rqNSPDBFQk4jLDGFJP2XXEszy83F+WbeXshLA+3tW6nUz+1qXfC6HKwk01+UBQLtObR4dxwOAOTf+m2++wcyZMzFhwgTxR3UWr4xD01OdQ7rp7AJ9amnli84XJYibjrWTAfnSgmB3/eBA+mMliwIFRmHXrqdQsmQBn93nr4/ChKXR+O4N33x4/vSTEQE8E3sYFyPSMT6pJGJV1DDKia2GCCQhHX3jDqFARhRGJpcwlPWrlIME2FsORmJWP/+g9803v8f+/f9g8uQmftVt9PxICxjvPTNJBoH23m1/96UfaREluFKDQHWGsB3PKZmIYjbGUAJIfjRTXi2ZjLqZtfaK54Mg0w5S6lCdBQ8AhkrzuWReDwDm3MidO3eif//+mDt3bhb5stLFq/xitOrCtOMYuRkEBlM//rJB7dCz1hiJiakoUuRd/PlnL1xzje/auFsORKDhy/E4OuMSIi8X9xDhA8qydf4qUFxEOnrGHRQJGW8ll0CMHzoWo4TRcm3JSMezcYfxD9IwKal0tkokRnXYaWwsqpRNx+CW/t3eI0duwI4df2PatGaaUygTXowmdITaOmxUZ2b6q/XjK8QkUIawnhrCeuSzys/HObgmJnlwv7UqdZhxM6tl9wCgnt10d58Id4vnfuk8AJhzj44dO4Zq1arh999/FzEiWi5eX7VmpXUw2DsvrR2UNdRZsdJq6rQLXEvHTsTC+dvL8+eTce2143DwYB8ULpzgs2tKKnBN5wThDr2+eCZRs4wLlbFIsiybPysMXbO94g+iaEY03k4qgQQ/lkCjHwZMOCH4u4B0TEgqhQIGkz7Ui686IB6jOifjgWrpfm+HUaN+xNatJzBjxuWkK5nVazRL3teZYJIM9S3LKgb7/rR7PnXClN6EFxk2ovYY2GkJJD8f52GSiZVGmQgCeY45lvLDm3tJFgCzVDZyvW6gkbKiI88CaEV73rW0QBjjpcgDOuMDp0uXLqLQ+KxZs7KSLIxmqQZbVaHOitVyQTntAvelY7ti4QLt4blzyShWbBz++qsvChXyTyhb+4U49G+WhGbVL1ji7DuHNAyK+wsXItLxTlIJlNTgCJRy6z0T+yOSMTjuL1yTEY0RSSVzVB8JpAf13yX34b4pF3F1gEINEgBOn95MvOzlh4PZLHl/HwZablCjawtVf1/WdH44GHHdamUIc00SFEkWAyNjKnWirgNsRV/K5BBaAvk8YZP3t1k3s3ztBYoztCJ7MK71AGAwtJyL5/AAoPbm8gHx+uuv4/vvv0fXrl2FO7hGjRro1q2beAjxx42xI5SbX8ZswYh7MuLCDPZtFAzibD0AUIKaAdMTUCAhA6+3TxJJQVbOTwoyMCbmOJZF/4Onk6/BQ2lXZuMJVOpamSnNmCrlvGnIwOfRZ/BezAm0SS2E3ilX667z628/V/0eif7TYrF1fODydyNG/IDt209g/Pj6Ykgny/r5coMG+2wamU9tLebZkefHLEjzdSYkCKR8jHE2Mz6tdpJ+xsg6/fWlBZfAks80gjZp0TVrZeQ6w50EmvryAKBdJyyPjuMBQO2N3759u0gEmTx5snA9PPLII3jiiSdQqZKxeqWhOFbBAIFaLyXpLjfz0nBKTzIhwim6HF8AULowZS1n6mbuD1fg4zWxWDXcdyKIUT2sizyPt2KPCZdwz5SiuCM9nyYQVMfCITIC66IuYHLMSZxHOl5MvtYU1Ysved+YH4M9RyMwo692AojSWjxixI/4668L+OCDxqZBhxG9mY2PNDKH1b7UD+Xk+eGPndZQKZu0rvmrIWwmLtBX3DUZZwAAIABJREFUHWCrOqEeCC4JAKUFj4DQTOPzi2sLZwotDwDCQFFKM6ckD1zjAcDsm3z48GG0bNlS0MDw306dOmH37t1YsGAB5s2b5yh7vp3HzYngdze5eI3oyskX/sWLKbj66rE4cIAxgPE5XJjSmkVQvOOvCNR+PrMmcGy0kRX475uIdHwSfRofx5zGVRlRuC+tAO5Myyc4A/Mr4vjOZaRic+o5/Bh1Ad/mS0JiRAY6phTGw6mFEOcnltCMpM1ej0PLWmno9kD2BBCthIURIzYapoExI5PyGrfSxASit7G6bvX1MmbWzgxhcgA69cHFfSPApNwEb7Rom2m5gQTaA4AeADRz9rNd4wHA7CrkA4Zxf61atRJEpmx82EybNg1Tp07FwoULs35vWfkODyC/8K1Qo2i5eO0gsnZ46TmGN5oQoVe+5OQ0XHXVGGzf/gQKFcpEdb5cmIy2Lds9AXOfScKdN/pPjNA7v7IfgeCaqPP4Juo8fo26iL8j0lAgIxJxGRFIisjAuYh0FE2PQvWUONS+GIt7owojITozpsrOlpwKlOiagLVvJqJSqQxx/8i4Pu6DOmFhyJDvQCBthgjaitx64yOtzKHnWmnto474sULXK128Zl2weuZU95GucTVwM5McYpWgOZD83DeCTLYrr7wyW3JIoGvl3z0AqFdT7u7nZQFb3B8PAOpTIB+En3zyCd59910BAq++2nfVB30jBqeX0s2jRafgSwqzWarBWZW5WWTwux2Z0tIaSstJsWIf4NdfO6J8+SIBX9rtx8SievnA1CjmVpj9qtNIxYmIVAH+CAKZ4FEImSDVyfjI77dHosO7cdg98RxSUpIDujBZCi46OhJvv22tFJwZnTlhKdcrh9IaymuUsX16x7Czn10ZwiRoJjBzssIGQSZduDJD2OhcuYEEmnvvxQDaeQfkwbE8AGhs0+fPn48333xTgMBixYoZuzhEvfmS00ODoWWJCFUWr1OqsmL18ZXwUrz4RPz4Y2dUrFg4oNiTv4rG4p+i8OXL9sUBBpzURwcn4iOp3+GfRWHvUWDSk2d1JXT07v0VihW7Ai+/XMfsUixd5y8WztLAGhfLDwcCcC1rqN3zGR3P1/0hLYGBMoTZ7/Tp04KexUqSUyC5OQc/aOVHnUwOCXSd/LsHAPVqyt39PAugxf3xAKBxBS5ZskSUiSMYLF26tPEBQnCFjPXhi0fJhaYENQQEfMCHo4vXiEqNJskESngpWXI8li1rh6pVrwkoxu7DEbjjuXgc/PASrvDPGhNwLDs62FFOUP3h0PStoujRKAUd62dmWgZqjz/+f0J3gwbdEairY3/3FwtndVJfHw5uZxKg3HxWqEtcUh+SG1WtG94rtM4ZqQNsVL9qkMlnGpNDyH+ql9cvN5BAU2+eBdDo6fH6Z9OABwDNHYgVK1Zg4MCBgh6mXLly5gYJwVWSP4sPSxmbZYSIOAQiOzJlINefGtT4y8KsWPF9zJnzEO68s2RAWRkHWKV/PEY+nowmNe2PAwwogEYHswkRWgkdpy/G4cY++bDn/Uu4pqA+aVq3XogmTcqjW7fq+i5wsJedNDHhHEbhzyrqLy7QSh1gvduqBTI5L0EgXcGB6K+k/HrBol65QtHPA4Ch0HoumtMDgOY389tvv0WvXr1EbOANN9xgfqAgXSlBDd3BShoEWiL0WGqCJGbQptFKkjETl1Wz5nS89VYDPPCAvg+BZ2bGICkFeK9bStDWGmgiva7xQAkdM76Owpxvo7H6Nf0u7nvv/Rg9etRA27buoFiykjUurX1OkFkH2kO7/y73ms8LvTWEuW7y9Zmt0KFnDb5AJs8wM4TZyA/oywXtAUA9Wg6PPoH9C+GxjpBJ6QFAa6pfv3694AecM2cOKleubG0wB67mw05SSyhdvJwqnKsi2KUqCQKpG74wzFhD69f/CH373oY2bW7SJda3WyLRdUIc9kzKXhdY18UOdlK6xpWE0UZATYu34tDgljQMeNB//V/lMowCaAdVkDW0UatosOlbgqEDOYcyVlRZdUTLEmhHHeBAa5NWWq0qIPIMEyQyRlArOYR92GgBDPfmWQDDfQdDLL8HAK1vwM8//4zHHnsM06dPFzWE3dD0uJ/kg53uYD7Y81KT1lBJtEsLKH+ntnTo0UmLFvPRosUN6Nr1Vj3dwbrAFXom4NOBSahdyR1uYCm40jXOcyHJiPn7QBU6/j4HVHgqAb+/m4gy1+ivMFm27EQsXNgaNWsW16W/YHUKZBVVhwmEgr4lWLoIlCEsk0MIAHlPma3QoWc9tEgSBDLTWKtxX9iHNYkJAtXPNv49N1QB4do9AKjnxHh9fGrAA4D2HA4SR7NayAcffIDbb7/dnkENjmIkbk3r6z7cWfH1qIuWHb6g+AJhU4Ias/WDO3f+L26+uSgGD75TjwiiT58psYiNzsCYru5xA1MuniHqhy9Q/jdjH3ku9HDSTVsVjY++i8I3Bty/6ekZgkfxt9+eQLlyhXTrL1gdtWJF1Wco1PQtwdKFngxh3lcyecQpuQjsuAcEd/4a72eWxVQnh3AdMqbXKRmDNa4HAIOl6Vw6jwcA7dvYHTt2oHXr1hg7dizq1AkepYWZuDXlqmXMk1Ps/fZp2NxIEtRI6g1/lhozSQBmeOzWbI1Ex7FxIlkixsaqIOY0hGwVTGQmuIwBY1C9Hp61e4fG4eG70/BUY/3u31OnLqF06Qk4dqw/8ud3pxVagkDeJ8owAX486AHGZvfEjddpAWLlxyRBl0zEcEp+gjqeUT1VQGS8IEE6+/O63EICTf16ANCpU5ZHxvUAoL0bvWfPHrRo0QLvvPMOGjRwjthWj4vXyMpkzBMflLT4hHtSiDpujS9urk0P9YZRfry3316PPXtOY+rUZrpVnp4OVO4Xj9GdU9DstjTd19nZMVBCB+fSC4h3HY7Anc/FY/ekSyhSQL+U27efxD33fIQTJwbovyiIPeXHFfVgJUwgiCI7PpV0sfI+UbIJUFcEf9JizHvOieeI0VrDlIsZwpRFWg0leHdcWQ5P4AFAhxWc24f3AKD9O7x//348+OCDGDZsGBo3bmzbBGZcvEYmd6pcmhEZrPZVJrxIslcCP6MvIyP8eNOn/45Fi3ZhyZKHDYn/+vwY/L4vAvMHZ7qjg9G0EjqU9Yq1ZNADiF+YE4PDpyIwq7+xtXzzzX7067cCmzd3C8bydc0hgTFBnzopiLqgCzIvxs0qlcf7g2ECfGbIeDr5caWVHKJL8To7mak1TJkIAmVZTO4f3cDh3jwAGO47GGL58wIAZF3fxYsXY+XKlbj33nuFxhmz16dPH/z6669gNln37t3xyiuv2LYbhw8fRrNmzfDss88Ki6CVpuXi5cPWiQcYX3iST4sPSSe+4K3oQutarWB8OyqY6AXEy5btxdCha7BxYxdDSzt4MkJwAm4Zl4hSRfUnTRia5N/OSmCsJ6FDPYc/QHwxCbihVwI+HZSEupWNJbV89NEW8Gf58nZmlmXbNUYyna3QxNgmcAgG0rIY88OKbl+GjwTKELZLZLO1hik/wTtBfJEiRRx5ftq1Rr3jeABQr6a8fpoayO0AcPbs2YKnj8TNq1atQsOGDQVXFHn7unbtiqFDh2L37t1o0qQJBg0ahAED7HNFHT9+HE2bNhVA8+GHHzYEpux28Ro5/jLY246auUbmNdpXi4hYWvuMjuWrvx5d/PbbMTRvPg+HDvU1PG3bkbGoXDoDw9rZnwxid5aqL2qUmaujMHFZDH56JxE6Cn9k09GIET9g165TmDZNv/vcsJL9XGAWGBulibFT5mCOpcdi7OtDSVoCA5WPM7IejskycPxoN/sBTADPj1snS9UZWZOVvh4AtKI971pmbDlregihjg8dOoTatWtj3bp1KFOmTBYAnDVrlrDMHTlyJOshMH78ePCHMXx2tr///hvNmzfH448/jo4dO/oFgU67eI2sKxAFhpGx7OwbCmAcSBfHj19AuXKTRBxbvnwxhpb73dZIPPZuHHZOvIR8cYYu9dnZSWCs1kVGRgRuHxyPfs1T8HgD47GMrAN8zTX58Morde1ZvI5R7LIYBzoXOkRxbRet8of8uPIFuvRkCPNaqx4FrSogRpQoQWluqALCdXsA0Mjue31zaCC3AkDe6I0aNULbtm3x5JNPCqAnLYBPP/00mLG7bNmyLH2Q0JmZu//8809AegGjx4guC4JAWgEpi/ohGEwXrxHZqUNm3LEFKq9kZFyjfeULW3L2+SvLZnRsvf396YJ/u+aacVi7tiNuuqmI3iFFP35+1XkxHo/VS0VPA9mz6knUmc5KehurL12tueS5WLW1AJ6ZGYet4xMRZwz7imGbNZuLhx+uhM6dqxrSm5nOTtC3+MuKNSNjKK8x4gbXktOfLgjc2HzVENa7bu4hYwALFy6s95Js/aS9IzckunkAEPAqgZi6DS5flFsB4KRJk0Tc31dffSUWqwSArNzBF9hnn32WpYjt27fj5ptvBq2GJUqUsKjVnJfT7cxYQIJSuoRpGdy5cyduvfVWEZjs5AvbymJCCQK1XthOxT7q0ZG/FxyrWbzxRn00blxez1DZ+nyxIQrPz4nBprHGQJQe95xhYXRekKmLS7h3eEF0qJeOvs2MW/84VeXKU/D++41Rr951Omc21k0NjJ0ga5axZXQt8kPJrGvS2Mrs66209pmJD1VKwuuZHMKPNdKuKOmDpPWNz2KjSVlyDo7LZ7fZUnMSAOaGKiAeAPQAoOWnQG4EgHv37kXdunWxYcMGXHdd5ouFDxyZBDJw4EBs27YNy5cvz9KfkxZAOQlBYP369UX8ycaNG0Xc4cyZMwX4s9tKY/lgKAYIppUjGC9sK7qRL3uCU77g5Mu+deuFaNSonKhpa7TROFLr2Xh0fyBV/ARqZuPWAo1r9O+LfozEwBmx+OH14yh6lXHgk5SUiqJFx2L79u4oVUq7qoNRmWR/tRtcLwWQ2fl4LmQZNL28iWbnsuM6p8NNfJGqWwWBVkvNKWug26HHUI/huYBDvQNhPn9uBIAEVT169MhWKogWN5YOYrUOxgUOHjwYzNSVL/Bx48ZhwoQJIiHE7kawSZlYL5jzlSxZUribhw8fHjaByErgwxecnQHUakuWEc4+u/dKz3hKK4e0+AwevFpcOnJkQz1D5Oiz+KcoPD09FpvGXkJ+jRKlWnFrBDWhIiJmOTuC1l6NU9Cp3kVh9TEKfCQHIEmgIyOtO3OoI1K30EoUKqu6Xt5EU4fEhovUNYslMHbCainpg+huVbpcrYBAvVVAfKkqN5FAc40eALThpsjLQ+RGAMiHBDPFZOMDp3Tp0sLl+8ADD4iXpswCHjJkiAB9pGyhZdDOLGDOzwcOXcvVq1dH586dBQ0NX05MCClevDhef/11W8GUk2fZbleXWyxZZnSmtvhMn74ZpIP54ov/mBlOxAKykkbDqukY8vDljGCrVV5MCaPjoveXR+PDFdH48Z1EUcnEDPBZtGgn3nlnA9avf1zHjNpdQukG9yW0L+BjepEWLwzlx4OvbGkJAo1mCF+8eNFSqTkPAFo8TC673Ppno8sWFGxxciMA1NKhMgaQf9+8eTN69+6NX375RVgGe/bsKShhnGh8CKq/sBkvRBoauoNHjRoVNnFDWtYvIzqTLl6+JKkDJ2KyjMhjta90dW3ceBL9+3+NrVu7mx5y4+5INH09DhtHXkKJQskCVIXKkuVvEcfPAtUHJmBG3yQ8UO0y758ewmjluG+9tV5QwMyY0dywzoxmqRqewOIFbqCJ0bL22U2TpEdNMkOYYE+ZTGYGBJKjVNJT6Zlb3UeSwzth8TQjj9VrPAugVQ3m8evzCgB04zbzJUHgyRc9KWj01Ft1wzqk9YtyqwO9teRjf6W1T9aaDcXLyAn9Efjs23cS1ap9hOPH++OKK4zXtJWWrJ4fxIIA66N+/yA2NiYbua4TspsZs8t7sUhOAT4emLPqhySMZlxrIKqNjh2XoGrVazB48J26xHA6bk2XEAY6hYImJpTWPn+q8RdHLDOE+ZEeCJiRpUG6lA1sRVZXDwCa0Zp7r/EsgBb3xgOAFhVo8XI+kEhLc+zYMUyePFkkhIRLk9YvX7FfoeDsC5XuCIbLl/8ACxa0xJ136s9oVbvBzyXFovZLhTCiUwoeqWMus9ZJHSz9OQrdJsXil1GJKF5Ym0KUHzZ01QUiEq9RYxrefLNBwMzpYMat2a07Ah9mrfJfu2NnlbI6yf1ol07syBAmpRY/OvnxaKbxLBFA2hnDbEYOu67xLIB2aTKPjuMBwNBvPB9KL774oqCFmT59unhAhUuTsV98KBO8hpuVxk49N278KVq2rCA47fzxjGlZaZSl65gQ0ntyrIivK1nEPTztx84AdzyXgDc7JKP9Pf7BaSDr14ULyShWbDx27XoKxYvnz7ENuSlUwO7YWaksqSO3hgr4urfkh6O6nrKe5BDGdhcoUMCUt0SOH8gybeczwemxPADotIZz+fgeAHTHBvPh9Oqrr+LHH38U2cJ8OIZLkyCQLmxaIticzC50q16YCZyamobhw+8QYFj9ojGS0PHUB7H481gElg5JQrQLatanpQOt3o7DVfkzMLNvsq6Sb/7cfhs2/IV27Rbhzz97ZaNACgdLlpnzp04ashLuIXXE+87tGfO+dGUmQ5g6JAAkB6AZC54HAM2cXHdf47mALe6PBwAtKtDGy/mAGjlypCCvZsYyXUZubmoLhAR+uekL24j+P/poC2bO3IQVK9oJtx9doNQF4+KMWmkuJAL1hsSjUfU0vNHB/jrBRtbFvsPnxoCE1WveSMSV+fRfLa1fat7EiRN/wddf78Pnn7cRVmMCAqM60i+Fe3qayZam9LlRR0YzhGUVkKuuusoUbyp1yJZbSKC5Fs8C6J57Oywl8QCgu7aND6n33nsPCxYswLx587JxGbpBUpmsIPnWCHJkFRP5QOcDNpzc2HbpdceOv1GnzmwcOdIPGRlpIB0Rm7TS0CpqhPB79+EI1H85HiM6JeOxeqGLB/x0bRQGTo/F6tcSUamUcZe0VuxX587/h+uvL4SBA2sK8GdWR3btXTDH0UsTo77XcqOOGCrAeFE2hpFIy5601vH3kuuSemMWMAGgmcYxef/lpmeTBwDNnATvmiwNeADQfYeBD6opU6Zg1qxZAgiaLXtk58rUgfjK0nXKeWjtovUrL4LAlJRUlCo1AYsXt0DlykUEMKY++NJRvtyM7Ms3myPRdlQcPn46O+WKkTGs9F35eyTaj4nDZ4OScG/Vy5QvZsaUsV/US82as/H223XwwAMVRLhAoOxPM/O5+Rr5saQVKsD7nx9Y/JFZq7IEopEPCDevXymbMlRAWV2HfZQZwryXSDhesGBBU0vjWLKOuKkBXHiRBwBduCnhJJIHAN25W3woMhaQ1sCFCxeiaNGiQRdU7XbSy9knX258seeWouu+lK9O6HjkkS/RokVFPPVUTQH8/MXB6d3QBeuj0GtyLD57JgkNq1gDYXrnZL+vN0Xi0dFxmNgjGQ/fbd4CqdbRsWMXUaPGRzh0qC8KFdIoe2JEyDDuq0yUYcyvMiNcAhW3l4m0S/1aVmI5trQGygovTAIx03IbCTR14AFAMyfBuyZLAx4AdO9h4IOPbuARI0YIS2CxYsUcF1a6nWRMltkgc38WDscXEYQJfCV0vPHGevz55xlMn36Z3FjGwdGCIUvHGRWRbtj+U2MxrU8yHrzdPBjTOy/j/Xq8H4vx3ZLRziQdjS/6loULd2DkyB+xbl0HV/Ic6tWRHf3kfSLj0/jRlBctolKXWjGSSosoP0KVZNJG9oDnkYDaSgKOkfmC0dcDgMHQci6ewwOA7t/cRYsW4ZVXXhEgkHWEnWhalRWsup2khSMQH5wT63FiTD2B+Exs6NPnK2zf3iObCEoLh1kQ+N+fo9D1vVg83yYFTz9I17L9q0xPB0YtjsboxTGY0TcZTWsaA5tqa5+W1XjAgJWIjo7A0KG1NLOl7V+Vu0bUiqOlhASD+fPnz3PucPXuyBhJyYmqjBHleZKE0Ubd4bmNBNqzAAIOPALd9bBwWhoPAOrT8LBhw/Daa6+JWC7ZHnroIXz88cfifzdt2oQ+ffrg119/FTEq3bt3F6DNrrZ8+XI888wzwiJYtmxZW4ZVv6ydcDuFOwg0Goh//nwySpZ8D5s2PYkyZXLGKgUizw60sf/7IwLtRsfh1rLpmNA9GdeYC4fSnObIaaDX5Djs/CsCnwxMQrVy+hM+jNC3VK8+Da+9dg+aNq2QlS1NF6jRF3ogXbnt7/5qX/Oc8Wzora7jtrXZJY/8yKIuqC8ZPyutdtIdbLSGMOXLbSTQHgD0AKDl+84DgPpUSAC4evVqrFmzJscF586dww033CBq+7Ke8O7du9GkSRMMGjQIAwYM0DeBjl6cnyDz008/RcWKFXVcod3FCB+d6UkUFwYiBbZjDrvHUFpE+dLxlfSiNW/Dhh8LMuhOnapoiqUmzzYq+6nzQL8PY7FmWxSGt0tGpwZpiIo0Osrl/qlpwIyvozFsbgweqJaGMV2ScVVObuYcE+ixiKovOnToH1SuPAUHD/ZFwYJx4qUss0DNuvbMr9z5K/VYRJVSmKWJcX4lzs6g5DaUH6L8V2bSq5OoZHII++jlBPQAoLN7GIrRPQugRa17AFCfAgkAv/76a6xduzbHBczWffbZZ3HkyJGshxFr+/Jnz549+ibQ2WvdunXo1q2bSBCpXLmyzqsyecQkdQsftkpAEwzLC+dndjCbW1/0Wi9rZYUOvcp+7bV12Lv3DGbOvBwHqL5WurnU1RD0zsF+dAk/NzsG8THAoBYpaHNXGuIMVBK8lAzMWxeFMUtihDv57U7JaFzdf5KJL4so9aTnRTxr1ibMmrUZq1d3yFqqHYkyRvQWjL5a8Y96a1/Ls8FMeqPUQcFYm11zaGU7q+Mf/WUIS2sgzx1//D3HZN/cxlHqxQDadRrz6DgeANS38cOHDxckzfwS5U/t2rXxxhtvCHcsa/nu2LEDy5Ytyxps/fr1qFOnDli8nHE9draffvoJnTp1wsyZM1G1alWfQ2vFGkngFwzQpxZMPsz5r1laFDv1KMey2yL6/feH0L79YlHlIjLS9zeqHZQ5yanAR99GYfzSGJz4J0IkiNx/axruqJguysgp4wTJg3vwZAQ27IrEyt+jwLq+JQpnoF/zFDxaJw0x0b61a1eM6GOPLcbNN1+NF164O9tkdiTKOHE2jIxp1Nrnb+zcmkSl9UySVYN8PZP8ucf1gkCZZJPbWAk8AGjkDvX65tCABwD1HYqtW7cKUubSpUvj8OHDwuK3YcMG/P777+jXr5+wbrF6h2zbt2/HzTffjEOHDqFEiRL6JjHQi/O2a9dO8AXWrFkz25V6OfsMTGdbV7dYe8y4L/UqITU1HWXKkA/wYdx2W3G/lxEE0gVqlTKH4O6n3ZH4fEMU1m6Lwub9EYiNBq4tlCGsgonJEACRgLFKmQzUvyUNre5IQ80KjLPSFtHMy9rfYpOT04Reli59BDVq5MxoD9c4OLs/IKQOwzF0wtf+67H2Bbq/fLnHObbk+PNlCZQAMDdVAaG+PAAY6NR4f/erAQ8AmjsgfBgx2WPJkiXC8rdt2zYwUUM2Jy2Acg7O2aZNG8EVeOuttwq+wBo1agiQqpezz9zqrV0lrT18cdIdrMd1aG3GzKutui+NyNCp0xJUrFgYL79cJ+BlTlh76N6lte/YmQikpEGAwauvzEDZazIBob/m1AfE6tX70K3bl9i9u6dfy6hMlKGVWGaCBlRikDtofUBIihE7revK0Ak3Wc31qNvuDwjOKa3mtOQprXnSEsg+snKIUkaeaT5nclMVEA8Aekkgeu5DDwBa1lLOAZQAkLF/gwcPFpZBWdFg3LhxmDBhgkgIcarxoTd//nz0799flEgiRczo0aNRr169oIEqs2uj7GT1Z7yTWVoUvXNruS+d5lqbO3cbxoz5CT/+2FmXmKG29tjpvvS14KefXon09AyMG/dAQJ24NRlCne0s3ZdOfsSEm3vcDmufvwNitIYwx8qNJNAeAPQAYMAHaaAOngUwkIYy/076lXvvvRdFihTBsWPHBOBjQsbmzZuFZUlmAQ8ZMkSAvmbNmmHgwIG2ZgFLSY8fPy7i/2bMmCESTzjXwYMHxXwPPBD45apvxc73chIEagEaMwkdZrVw+nQiypWbiP/97wmUK1dI1zAyI1ZSX9hpSfIlgFPuS/V8aWnpqFjxA0yd2hQNG+qjMfJl7dGlTBs7ORkuoFdMt7vHnbD2+dONMntcT4awBwD1nrTw6udlAVvcLw8A6lNgixYt8MMPP4hYPxYjp5WNvIDly5cXAxAI9u7dG7/88ouIFezZs6eghHGirVixQiSkdOnSBa1atQIzSf/66y8BBF988UU0b+47+9QJeayMafeLLViARs+aW7ZcgHr1rsPTT9fS0130CYbLL1juS+Wi1649iMceW4K9e3siOlo/Z40T7nG9m6GkJpEVcUKdles2y6jT1j5/e+XPMqpODuH/O23113uu7OznxQDaqc08OJYHAHPPph89elSAQLqEGRsYDAuSXdqzQpAcCkCjZ92kPJk69XesXdtRT/esPk4kyshAeQII/pgt8WdoIYrO/fqtEMkmety/6jmC6R5XA5pg0yXp0W+oaWKCbe0LBAL57OAPQ0mUZd6UIJDPQg8A6jld4dXHswBa3C8PAFpUoMsuP3nypACBTz75JNq3bx9WINAIQXIwEzrMbvGZM4koX34SNmzojBtuKGxoGLvivtwAaJKSUnH99e9j7txWuPvuUob0IDs7SRjtJkCjVzmhsIyG0toXSC/y2cEsX2Wih7SoM0GPz8PcVAeYOvEsgIFOhvd3vxrwAGDuOyCnT58WbmDSxLA6SThZAgOBwFAkdFg5IY8+ugiVKxfVlQ2snkfpHjeSKOM2QLNo0U4MGfKYzimnAAAgAElEQVQdNm/uZuks2m0ZDbezFArLqNvOkr97kTGjpOeipe/111/Hrl27MH36dKxatUo8Dxmyw/soNzUPAOam3QzBWjwAGAKlB2FKElCzVjEffIxHDCcQqK6SoU7ocKJmsVNbsnTpHgwcuArbt/fwS33ib3697nF/tWadWp+ecVu3XohatYrj+eezkz/ruVYLFLM8GF/2RkCxHCecAI0e/TgVM+pma58/vTAW+5FHHhEg8Nprr8VTTz2F1q1bQ/L/hdNzUM/+ewBQj5a8Pj414AHA3Hs4mLDCh1/dunVFtZJwevjJDFCCPVn3kw91veW03LKrKSlpuOGGD/Dhh01x333lTIvlyzKqle1MHWlxoZme3MKFBw6cRdWqU7FtW3eUKFHAwkiXLzWTOGSltrMtQjs4iJ3hAsokqnD50OL6d+7cKVgRvvrqKzRq1Egk7DHOlTytxYrlJB13cDuCOrQHAIOq7tw3mQcAc9+eKldErr2HH35YlIx74YUXwoIfkBZAAh6+jNgYiM9M53ACsMo9GDp0DXbvPoVPP21p6bApLaN8OUs9cVC3guPhw9di69aTmDevlaW1a10ciDA6nC3HRpVlBhQrraIyOYhAWZ4lyWlqVJZg9eezbdGiRYISi+tnjfT//Oc/oswkzwbjoNesWYOlS5filltuCZZYQZ3HA4BBVXfum8wDgLlvT9Ur4sOdAdBlypQBaxo7SVprRpv+Ejqki8tqqTQzctl1zf79Z3HrrVOxdWt3lCxp3gomX/J8ubG5udoL5UtMTMWNN07GtGnWrJ/+9kEdLsC+6komkqzZ7YDGjvMWCBQrQV+4WvvIs0prHysw0drXo0cPUXZT/YHI++Wdd94RoLBChQp2qNd1Y3gA0HVbEl4CeQAwvPbLrLR0qXbu3FlwFPKh6AYQ6CsIX13PMxQZj2b17Ou6tm2/wE03FcGrr95jeGg1Hx2BH0E9gQ1jm9xqGZ01azPGj9+In3/u4qiMMlxAZnjy/90Ojg0fAgMX+KOJCdfEFwJbunMJ/Hj2ae1r27ZtrkvqMLDNoqsHAI1qzOufTQMeAMw7B4JAgl/L/DIeO3ZsVtm6YGrArFtOcsHRihOO7uA1aw6gffvF2LmzB664IjagymUQPl/m3Dc1H52vclgBBw5SB5Z8q1VrBvr2vQ2PP17VsVmV1j7qTJ6PvGDt86dUguCLFy+Kc0NaFGWCUDjF9v3xxx8C9P33v//F/fffj+7du4twFrd+9Dh20H0M7AHAYGs8l83nAcBctqEBlsMXQb9+/XDq1Cm8//774gURjEbAYjVmLZiEwHbrhOCkbt05aN/+ZvTqVVNzeKMZqm7WB7Of+/Zdge3buyMuLtpWdVJPyjhRae2j5Zigh/8yDiyvgwT5kUB9sYVLbB8tfAR8pHBhnN8TTzwhMnvz589v6znKDYN5ADA37GII1+ABwBAqP0RTEzg899xz4Nf1tGnTxIvBiaZ+UctavFYyVENRL9cu3ZAPb/Dg1diypVs2UGQlQ9VJgmSz6+a+16v3Edq0uQn9+99udpgc1ylj1mRlB54pZTiDvxqxtgni4oG0PiKoE+qLtDluCP3QUh/l3rdvn0joWLx4MRo2bCisfdWrV8/zQN7fcfMAoItvxnAQzQOAod0l0hW89NJL+Pnnn4X7qnLlyli3bp146G3atAl9+vTBr7/+ioIFC4oH4iuvvGKLwHwpDBs2TIw9e/bsLJ4sq4P7S+iw6+Wj5D7jSy1cLD3SLdqzZw107Xqr4LKjtYP/WnHLSYJk/kvLl116NnsWvvxyD3r1+gpbt3bT5e72N4/WR4Qs6eVr36U+eMbdDHrM6lfrOn8fEZImhgCa58NN7nFacr/88kth7SN3Ka19jz76KAoUMJ8sZade3T6WBwDdvkMul88DgKHbIIK/pk2b4r333hOZanyx/fLLL7j99ttx7tw53HDDDaKSx9ChQ8HMtyZNmmDQoEEYMGCALULzxfD2229j9erV+PTTT8XLwWzTCi6ndYYvGycAmttAj169zZ+/DS+++B3WrXsECQnRttG3KF/yoQQ9BLl33TULHTvegj59btOrFp/WPrN1i6kPug8JMMwQRpsWPIgXGgkZUOqD93koS6JRlgMHDghrH2lc7rnnHhGbXLNmTUeeFUHckqBP5QHAoKs8d03oAcDQ7ScJmu+8806MHDkyhxCzZs0SZY2OHDmSZdEZP348+LNnzx7bhJYJIXS7zJ0719CXt9mEDruEDxdLj9KKlZKSiiZNvkDbtpXw9NN32PrCcwPo+fjjLXjtte/x229PID7eWOyfGWtfIOshs0f5QxAYStBj15nnOFZCBvTSxNgprxyLYJxEzbT2/f333+LjtkOHDoKZwGvmNOABQHN68676VwMeAAzNUWCwOh98tOh9++232Lt3L8qWLYsXX3xRVO9g5Y4dO3YIrivZ1q9fjzp16ghXiZ0B0XzxMiHk448/xvz581GoUCG/SrEjocMurbvF8qW1Hl8xa998cwCdOi3Bpk3dUKRIgl2qEONQH3zJ03IWbEvPxYspqFZtmqC6adeusq51+QoZoDXcLstxoPrSugQNcScj1r5AoippYpgh7GSj3IcOHQI/aD///HPcfffdwtpXq1Yt2/bXSfndPrYHAN2+Qy6XzwOAodkgPhSvu+46Ua+SGW8MdqYVrl27dvjuu+8wdepUnD9/Hp999lmWgNu3bxeEp7y2RIkStgrOBzUf0pMmTcLChQtRpEiRbOOrrTNu4llzg+VLKkuvFYv1ca+77kqMHXu/rfsoB9NbP9jOyV99dR2++WYfvv66Q8C6x9RTMKtPBBP02KlTK9Y+f3IoaWKc4JLk+CtXrhTWvqNHj6JLly547LHHAn5c2qm7vDCWBwDzwi47uEYPADqoXD9Dnz17FldddZXIxn3rrbeyejZu3BjVqlUTL8dt27Zh+fLlWX9zygKoBC8EnHRJ82u9aNGi+Omnn1C+fHnBJcbkAllVIdSJBmrVKi1fwY750rLOSN4+X1asPXtO4847Z2LlyvaoXv1aRw5hMC1fu3adwt13z8LKlY+ienXt2qt2WrHMKEyCHrdXlQmWnuymEaLchw8fFh+SCxYswB133CGsfQxzcdvzwsz5ceM1HgB0466EkUweAAzdZlWsWFEkfygBIEsb1ahRA5UqVcLgwYPFA1Vm7Y0bNw4TJkwQCSFONn61EwTKB/onn3wiArWdSuiwcy0M/A9WzJfVqgq0mK1c+Se++aYDoqMj7VRD1lhapdLsnoiJH02bzsUtt1yNUaPuzTG8U1YsM+twM4F2KPRkB20Odbpq1Sph7aN3ghWHOnXqJD5wveasBjwA6Kx+c/3oHgAM3RYzoYPgj1a+KlWqCFcwCU9ZwJwAUGYBDxkyRIC+Zs2aYeDAgbZlAStXTuuIDNCmHDfeeCOKFy8u5LvppptCpyQTMzvp/rQz8YW1cmXG7MCBd5hYqb5LZKk0WnH5Y1dsnZx9ypT/4d13f8JPP3VBgQKZnJJ26knfKvX3stvypX/mnD2DZe3zJ6MyjlYvTQyvoWuXFFLz5s3DbbfdJmiqateu7Vn7rBwIg9d6ANCgwrzu2TXgAcDQngjSsDDu7syZMwLwkefvwQcfFEJt3rwZvXv3FtQwTBjp2bOnoIRxohGMjhgxQny9M17n+uuvF1/1/fv3F3GI4VZM3W73p7LkGPUvXeFWOdV++ukwmjWbJ6yAtKA51Zyqp0zXb926szF3bivUr18mq+QY9W+nnuzWCwHMhQsXxLCh4E4MhbUvEAiUtDn+kod4jr755hth7fvzzz+zrH3qmGG798sbT1sDHgD0ToYlDXgA0JL6cs3Fly5dEmXh1FQZtEYyjocZwuFmCbTq/lRbsZxKfKEr+P/+bzfWrHkMCQnOleaz2/2ZlJSKhg0ZHlAar75aJ4vU2ik92X2zBZtGyA3WvkA6lNZzhp7QC8FGuY8fP445c+aIj0EmrNHaRxorN8X2UbaJEycKAn3yqNLyrZSP/82EF+VH24YNG0RinWz8AGcCHmO0yUvIj3Pl3wPpL9h/9wBgsDWey+bzAGAu21AHlsOHJK2CDO6+5ZZbHJjBuSHNgEA1fYtM6HDqZZeSkoZGjT5DpUpFMXFiI+eU8S+HHC1fdtTL7d9/BX755QgWLXoIsbFRtpFaO6oA1eDByCB3m7UvkH73798vyOhZoahq1arC2rdr1y48/vjjwuLH5DA3thUrVuD06dOiHjQrimgBQHo1WGZOqzHumaT8pN6ix+PVV18VLu6dO3cKHkk3Ng8AunFXwkgmDwCG0WaFUFSWjCNp64cffiiSVMKpyRg4fv374j3TS9/i1LoPHfoHtWvPxrBhddGly61OTZNl0ZHuT6Ol9KRVdObM3zF8+HqsXPkwrr++qLAc2x1b6KgSFIPLDHI7k4fU1r5wsYpSLSdOnMAHH3wgrGmMA6YVrEGDBq6y9vk7G+RVJcjTAoCkprn33pyJShyvXLlyIsa6b9++Ynh+CJJua/To0YLCxo3NA4Bu3JUwkskDgGG0WSEWdcuWLXj44YfFi4HUDuHUtChAgkFCbERHa9ceBPkBFyxojXr1rjNyqeG+Rt2fSqvo+vWH0bHjMsyfz7i/sobndusFdsSNylhRWp6pY7tiRZ3WGeVmDfJp06aBfKMdO3YUoI//MkGN7t+EBHtJy51akz8ASN5V7k2ZMmVETPWTTz4pxJC0XCzPSfoa2cjKQK8HQaAbmwcA3bgrYSSTBwDDaLNcICrdIa1atcKYMWMENUw4NWUMHF2gfBHwxceXNH/4u1BbsWbP3owXXvgGX331qKNJIdw3ZfanVv1gLavorl1n0bTpfLz1VgM8/niVcNp+XbKaIYwOVqyorgUY7MSSbB999BFI9cQYX8b70nomwx3494ceekiAP1rPQn1/6FmeLwDI5BVWImEMINdCj8abb76Jp556CgcPHhSgkOCXDAiykZifCXhTpkzRM3XQ+3gAMOgqz10TegAwd+1nMFbzxx9/iJcCKWJ8uVOCIYeROdQvab7I6A62s+SYEXn89R0x4gdMnvw/fPVVO1SsWNiuYTXH0YqB81XCbvfu02jc+DP06lUTgweHlwXYiBL1EkY7lRluRFYzfSk3SeUZ20emAQIhxvgWK1ZME+AxQey3337DXXfdZWa6oF/jCwCqBWGMH6mvvv/+e58WwAceeEDEQY4aNSro69AzoQcA9WjJ6+NTAx4A9A6HGQ0cOHBA0NWQo5D8hG5t6pc0Ezr4w5caLQG0bLjNqkFQNnToGnzyyVZ8+eUjuPHG7GX57Na1BIF0gdLyQ53JxBdJ/r116wk0bz4PnTtXxdChdVynM7t14itjOpytfadOnRKWPlr8SPNEa999992XLSvWbj2GYjwzAJBysuIRa7DLGEB+CDAG8N133xUg2Y3NA4Bu3JUwkskDgGG0WS4T9ciRIwL8DRo0CC1btnQNKNDzknYTGbDWtnINr732PaZO/Q0LF7bG7bfbW/uZc8oYSLo9Cf4IhPk7gmJaRmVbv/4Q2rb9An361MRzz93lmn12+nZQnhEmEEk9cV5l2IDTclgZn2tgFv+MGTPARK727duja9euAti47cPHyjp5rfzYI3UVS2qyljo/aGjppwWTf2c8I3+3evVqPProoxg+fDj69OkjpqaVj1nAX375pQCDtBASLDPshdyIbmweAHTjroSRTB4ADKPNcqGozBgkCKQ1gfEyoXypKF2Xel7SsgwWZeYDPpSy+9ra99//Fa+8sgYTJjRC27aZvGxWG0EeAR9/1NY+ghxaRyUIZEzioEFf4+236+OJJ6pZnTqsrpcfEqQVYaM1lGAiHDKeSSwvrX2MbSNvH0GRVeJyN2/gzJkzBbhlkx8z/Jexf//88w+effZZEevH/aNOevXqJfSibOQBZLwf+5MKhwlvHg+ge3c9wr2ihYdkHgAMj31ys5R0LTVv3lxQJZArLJhAyip9i7IihFFKlGDtyfLlf+CJJ/6Ldu0q44036iM+Ptrw1EZIiAkCT548i2HDfsSyZX9i1qwH0aBBGcNzhusFWmED/B1/tJJl3LJOyrdx40YR28d/+UFGPrxSpUoF9Z50iz7yghyeBTAv7LKDa/QAoIPKzUNDk0aBiSEtWrQQ1kAnQaDadUmXjqTbMEPWbJQSJRTb+uefZ9Cly39x7lwyJk1qhDvuKKlLDCUJsTLj2Z8l6LvvDqB37+W45poETJnSGBUqFHV0P3UtxOFOgcIGgkEYbXaJvPdYBYNULSVLlhRWrSZNmuSo6mN2fO8692rAA4Du3ZuwkMwDgGGxTWEhJGNuGAvIzOB+/frZDhrUYEadqGBFSYEoUayMbde1qanpGDt2I5gl3Lr1jSIZo2TJAjmGN2LtU178xx+nMXz4OixfvhdDh9ZFt25VkZiYWSKQMXBOgnq7dGR0HK1MXkkJpB5Lus5ZM5eWQHXZRKNzW+lPWVgjnNY+xvi1bdtWcNqVLl06V+6TFV3l5ms9AJibdzcIa/MAYBCUHKQpGKvC7FzZ+HJjPNcXX3whLHOskcmAZwaDFyxYUFgKGPNiZ+N8//nPf0S1kOeff97yy8gsmDGzpnAAgVzX/v1nRZbwf/+7B48+WhlPPVVDcAaqSYiVANmfPv73v6OYOPEXfP75ThFnSGBZokQmsJSJEG7NmDa7z8zwZAwk/zVapUMSRquTZczIYvQaxqbNmzdPlGUkqTHvYYZfhBKMGl2D198+DXgA0D5d5smRPACYe7d9/PjxeP3113Ho0CGwzNUNN9wggqSHDh2K3bt3CzcRM3gHDBhgqxI4FzPsWE+TANOMW9YsmLG6EDe7+tRr27btJN57byPmz9+BG2+8Ck2alEXDhmVQvXoJxMfH+gTfyclp+O23Y1i16k8sWrQL+/adFUCyb9/bcf31V+VQodszpvXuuRFrX6AxzRBGBxrT1995JpnFSmsfq3XwA4vWvrJly1r+wDIrk3edOzTgAUB37EPYSuEBwLDduoCCV6pUSbhkSdhMiwGz4EjdIgEZASJ/9uzZE3Asox34gmRCSJEiRcT8ekBgoDgsozKY7U85CGJp6aGrz42Zk0owc/ZsElasOIivvtoHlpNLTk7HTTcVQalSBVCkCCldopCYmIpTpxKF9XDXrlPInz8G99xzHZo3vx7Nm1dEgQKXaV+09BYOyTK+5LZi7fN3hiRhtFMucoZUzJ8/X9y7V111Fbp16yYs+ZzPa54GqAEPAHrnwJIGPABoSX2uvZg8V2Sx37t3r6A8IMHpjh07sGzZsiyZWQ2gTp06gvIgf/78tq+FL0i+tAigSKbqC0iRvsWNHGsEgW6I95Ibowcgp6Wl448/zmDLlhM4fPg8Tp26BFr8EhKiUahQPEqXvhKVKhVF+fKFEBlpjEQhHJJlpK7stPb5uzF8EUabvZmoY1bnYE3e7777Dq1btxb3EHnpcmMMplk9eddlasADgN5JsKQBDwBaUp9rL6abiADm//7v/4SMpIO4cOGCyBaUjXUvGTdIFzGJYZ1ofEEy7pDWDHJqyVglLfoWWjbcxrHmBhDoJoDs5jhJPQDZiTNuh4uc9+bChQtBLjt+jDG2j9Z7JSG3E7J7Y4a3BjwAGN77F3LpPQAY8i2wXYDDhw+L+KDFixeLOD+2gQMHYtu2bVi+fHnQLIBKa8wzzzwjSFhJvkp2fWYr9uzZ0xJ9i+2K8zGgDPonWXSw3G9qgGw0UcFJ3bgtTjJY1j5/OlW6yHlO9IY88J6ktY8We7p3CfxYps2z9jl5gnPP2B4AzD17GZKVeAAwJGp3dNJhw4YJkKWM7Zs9ezYGDx4MgkPpih03bhwmTJggEkKcbKxK8PHHH+O1114T7uZWrVqJF91tt90WNi86GfTvdOanspoJQYAVfkMn91QZJ0nAE+ws1FBZ+wKBQGbBcw+pE18hD6ws8vnnnwtrHyuL8F6gq5f/7TVPA0Y04AFAI9ry+ubQgAcAc9ehYNwdY/6Y2UvAJxtdsDILeMiQIQL0sYQbLYN2ZwHLOf/66y+88MILWLBgAapWrSrc0KSpYZUCAkKCqXBqToFAq9VMQqlD6SIPlnXUDda+QCCQcaMEgseOHQMTsdi4xwy5YE3elStXCuoWEqbznnSTtY8hIgzVIGXUuXPnBE2O0prJ/Wb9XJaZO3nyJIoWLSo+7Dp27JilFmb+T506FSSorlmzJiZNmuTqcmqhvH+szu0BQKsazOPXewAwdx0AxhHxYcy4vsKFC2dbHIPLe/fuLQhkr7zySuGCJSWMU40vAL4sSD1zyy23ZL0IR48eLQqu82XjRPKJU+vhuHwhMl6LxMhWLTbS2kcXs9VqJk6uOdDYTvPiudHaF0gnTLbq3LmzcO/S6s1MXu4xEzratGnj2o+fFStW4PTp06CVkh9sagDIaj8Ege+//75ITCEIZClIAlm2kSNH4r333hPJZqSBevXVV0Hvw86dO0VGvdfs1YAHAO3VZ54bzQOAeW7LQ75gvtBpZZg7d64gtSUpdTg1Sf9B9yxBoBELjqwmQWsiAaCd1UxCqUMnePHcbu3zpW/uMQEPwysYitGwYUORBX/TTTcZOiuh3M9vv/1WyK0EgF9//TUefPBBYcWn5U+rlStXTngV+vbtK/7MM84EM370sVa41+zVgAcA7dVnnhvNA4B5bstdsWC+JGkdoauILmK1tdIVQvoRQtJ/6OGAC2Y1k1DqzQowlnKHo7VPyk7XLxOvGNtH8EprX6FChQTwoaWdpOtGPhZCuZdaAJCVfcgqwMQyuoAZ93nfffcJqx/5PmnxJ1/hDz/8gDvuuCNL/EaNGgkPAEGg1+zVgAcA7dVnnhvNA4B5bstds2C+7PkiGTNmjAiKv/rqq10jmx5BAnHAqWsX02LIHzcSS+tZr54+RoCxcrxwtvYx2YqxfQxrINhhbB/plSTYY8hF06ZN0b9/f7z44ot61BjyPloAkNVHWI2EtE4jRowQMYIEtwSCXDuz/Bl/zFjHG2+8MWsN7dq1EyEnU6ZMCfm6cpsAHgDMbTsa5PV4ADDICvemy6EBVjt48803BQ9asWLFwkpD6lq5FF6ZyUuwJzN5w8X6Y3UD9NYPDmdrn+TYJPDjf9Pa17ZtW59xbiRkp4VUCYys6tnJ67UAIF27ZA5gQplM4NqwYQNq164t4mKpBy0LIAnpmQQ2atQoJ0XOk2N7ADBPbrt9i/YAoH269EYyr4ElS5aA2ckEg+QIDKdGwMOXogR4BDbK2L5wWotdsvojRw5na98ff/whXLx0hdL9SQqXW2+9NWxcu3r3VwsAMnOf5R1p+ZMAkO7eunXrZv2OiSGsOiRjAAl6GQPIGMgOHTrond7rp1MDHgDUqSivm7YGPADonQy3aIAZiLQyMDmEweRub2oLFuUlCGRmsx4iYLevz6p8anJkaRklKHATsXWgdTLLeenSpcL9KbNj6dYMtwz2QOvk3yU4X7NmDRo3biw+bHiWmexEahsmsjCL+e233xZ/a9++vciIZ+wjG618zAKmS5hgkFnATIRhUgypgrxmrwY8AGivPvPcaB4AzHNb7uoFs/4p6WkYGyipJdwmsJYFixY/vijpCmMj5UVecfn62x8ZE0gwKImt6RJ3O0CmvPv37xexfbRO169fX8T2Va9ePVfvK62bpG2SHzPUAxstgvfcc48AcrTu0fLHuD5yib7zzjsi2UU28gAy3o/0N7fffrvI+GdMpNfs14AHAO3XaZ4a0QOAeWq7w2Kx69evFxxkc+bMQeXKlV0hs954NfajlYggkSDQ7UDHCeVq6UpmQtNq5uYkGNLZkMOO1j5mtRIM0cpVoEABJ1TljelpwJIGPABoSX3exR4A9M6AGzXw888/C0JrUsVUq1YtZCKaiVcj2JElwfISCPSnK7fVD1YeKMrGDFZav7744gsR00ZrXziVKgzZDeJNHFINeAAwpOoP/8k9ABj+e5hbV8DKJcysZNWBWrVqBW2ZsjQbrUFm49UkCOT1uTkmUK9llJsn6wczW5TAONj1g9UHiHuzfPly4eY9ceKEsPYxUSHciMmDdmN4E7lOAx4AdN2WhJdAHgAMr/3Ka9Lu2LEDrVu3xtixY1GnTh1Hl6+kb2G8mszkNevGdbPVy6oiqSsCZCZIGNWVLB0XrPrBamsfa1TT2kfaobvvvltY+0hc7MVsWj0V3vXB1oAHAIOt8Vw2nwcAc9mGOrAcFrUntcPq1asF1xcL3DMLkEHhbCwcT3LYX3/9VVhPSI3BQHC7Gol2W7ZsKchnGzRoYNewYhxp7SMocaI0m7R6cXxavdwc/xZIsUasfYHGkqXjSCfCpBCnG619K1euFLF9R48eRZcuXQSJsTJ5wWkZvPE9DditAQ8A2q3RPDaeBwDz2IabWC5pH1j0ndU6SPRKa9ywYcNETVACGmbr0n3Gcle7d+8WpaJY9mrAgAEmZtO+hBmZrENKYMnxrTZp7SMwo4VPkjWbtfYFkofAmaXC3OD6DCSr+u9qy6hduiIoY9Y0aURIM2J3I2A9cuQIZs2aJcoNMoyA1r4777wzTybn2K1fb7zQa8ADgKHfg7CWwAOAYb19QRGeSRjMypXkruT/IgXEjz/+iG3btuHZZ58VL1oJnsaPHw/+0HJnZzt8+LCgneB8LVq0MDy009a+QAJJEBgK12cg2dR/D5au7KgfrAVYv/76a2HtY3JH586d0alTJ/Hx4jVPA7lJAx4AzE27+f/tnXmIVmX/h+/+iKK3hVba1EzMCinKorTSMFBTs6KkzaLAFvctS8WEysBIkUhsM5IyMrXdjLQULBMyMy0qTMrKstWENuyvl+v+vc8w+htnxjnPcu7zXDcMoT7nnPu+vmeaz3zXGpxFAVgD6Ik98vnnnw9PPvlk7M3H0Hdm91KdS+h38uTJgTw9WmeUFm1cyNejD1i5m+X+/PPPUQSOGDEiDB48uJFVUs8AABcaSURBVMW8rVL7ETx9hB1L3j68WLXI+apl/ltrXrtKefuae3Zb5wc3vid2JlXhmWeeCYsWLQrdunWLqQiMKauUV7c1PP2MBCpJQAFYSbp1cG8FYB0YOeMRCb/SnJmKSUK+iEDaZXTv3j16BgnjLVy4sOEpDIOn8eu2bdviGKhyr99++y0MHDgwjqWiVUxTQg5BgNjii/YkCD6+8pCDV+38t5b4V8vb19w+Wjs/uClvH02K8fYxpo13gi/eUZcEik5AAVh0C1f4fArACgNO/Pb8YO7cuXOchDBr1qwY+l26dGkMqTG1g/wqwsCIw2p4AEvP2LlzZ8wJvPrqq8PQoUOjCGSvpepURBZir5SvVgtvX3OmL4nASuW/tea1q4W3ryURSBNtbEWYfG82Q7DiCWbEGL94MIsXbx9FSXr7WmN5P1MUAgrAoliyRudQANYIfCKPxdt29NFHhw0bNsQftKVFiO2aa64Jxx57bJg4cWIgP6/kXXv44YfDnDlzYkFIJRdD6akO7tWrVxQLTA4h95DxU3nx9jV3/koXQTT17Dx4+5pj0nh+MG14GheHIPCZUUv6webNm+MvIeT38X7maSFKGX9GigTvKHYuCdPnnnsu3HHHHbttl6bhXbt2DR9//HHD31PsNG/evDiNhO+1uXPnOk4tT0bOyV4UgDkxRKrbUACmarnq7ZtwLv3SyP2jipVB73je+C+VlaUq4KlTp0bRR47e+PHjy1oFvOdpEQO0pXnsscdiOJpCFSo86RmY0tD5Uv4bghWxUylPZd68fS2JQGxLsc8rr7wSq4QRTuSg8i5iZzzSefX2LV++PPz+++9xJCApEo0F4J7n5t/atWsXf4nie4b10EMPhUceeSTm1Xbq1Cncd999MbeRObx8/7kkUCKgAPRdyERAAZgJX11cTDUvP6Ao7qCVSfv27cOYMWNi6JXFxA6KMtavXx9DxOQL0hKmUgsPy5QpUwLVyKUKT8TnqaeeGvhvXoXB3niUowgiRW9fc+8HuZu8X3j86C2JkKLV0DHHHFOp16rs9yU3sXfv3s0KQN5lzkZz6lJPwo4dO0YxWKq65/0gl5YUDHoXuiSgAPw/Avv5KmQjoADMxs+rq09g1apVgdD0oEGDGpoIk1PHD8fjjjsuTJ8+PTkRiEcTQct4NJojZ/EEpuTt2/Ptwa54+/jCs0wYGG8gOaZnn3129V+2DE9sjQAkb5EcW8LaLEK+tKtZu3ZtnE5SWn379o1hYkSgSwIKQAVgWb4LFIBlwehNckCAcBpeIgTUzJkzc1Hxuy9Y2loJyzPyntvXHAfOjXeZmbwbN26M83ixI/mlCGFsef/994dXX301hn5TWS0JwE8//TScccYZYd26dTHPj0Xfwg4dOgQq6bt06dJw1GuvvTZ615944olUju8+q0DAEHAVIBf5EQrAIlu3/s6G94sQNCFECkLwqKW0SiKQMHZzlbClM6Xs7duxY0fM68Pbd/LJJ8dK3j59+jQp3BGHMKHFSyqrJQE4fPjwmDZBQ/XS2psHEC6IRcSwSwJ6APUAluW7QAFYFozeJEcEEFHMLmbmKx4TwogprcaVsCT97xkOTt3bh+Chbx+zo6+77rqYA0eOW5awdx7t25wApDr4xBNPjL+k7ClqEcO8v6UcQDzb8Jk9e3b0jrokoABUAJblu0ABWBaM3iRnBBCBFIpQOYnYqMSs2UoeuSkRmLK3j76NTJShdx9FRHj7+vXrl1yYvjU2593DA00BC2cktxPvZeMqb9q60OqFZul7vpt4+agCpsoeMUgVMNx4l1OqcG8NKz+TjYAh4Gz86v5qBWDdvwKFBYCI4ocnHid6BJIbmNIqiUAEBQICAYg3s9TjMO8eM/b94YcfRgH+wQcfBPLY8Pbh+cr73rO8J/Pnz485jCzOiR1ZeAQp+mARzqWwg5YvTS3EId5rxinS15K+grTAcUmgMQEFoO9DJgIKwEz4vDjnBPjhyw/Zt956K06NSKWPWsnbhyepJCTYex5G2bVkckQLrOldR+gSb1///v2Ty8ds6Zz+uwRqTUABWGsLJP58BWDiBnT7LRJABBJSW7JkSVi0aFGspszj2ltuH94/+i+SC5ZXEcjeyenD20cLk8GDB8c+foR7i+zty+N75J7qh4ACsH5sXZGTKgArgtWb5owAAoWQGuE5hCC91vKyGnv7EHul+cWNG1qzf0Qg/Q7zJAIpZkBUMxOakWx4+wYOHJhc4U1e3gX3IYF9IaAA3Bdafvb/EVAA+lLUCwFEFMn0VF6++OKL4aijjqrZ0dtSycs1u3btigUGFAPUqsUN+6BfH96+d999N1x11VXh1ltvDSeddJLevpq9UT64HgkoAOvR6mU8swKwjDC9Ve4JIF4WL14cZsyYET2BNBuu5mrK24fHb1/CpIhAvIF4AqspAqlmhRleVMaWIfquuOIKvX3VfIF8lgQaEVAA+jpkIqAAzITPixMl8Morr8Q2HAiaE044oaKnaIu3r6UN4QX8559/oiewkn0O2TuznvH2UcV65ZVXxjAv7Un2RbS2dB7/XQIS2HcCCsB9Z+YVjQgoAH0dakHg999/D5MmTQpvvPFGnH/avXv3WKhRGn+1adOmMHLkyFhYcNhhh0XRgWAr52K+7J133hlz2AhflnuVw9vX3J4qKQL/+uuvGCbH24enEf6IP7yVLglIIB8EFID5sEOyu1AAJmu6pDd++eWXx1w2xoAhMBCDCA6a3VLtesopp8ReatOmTQtffvlluPTSS8OECRPC2LFjy3ruVatWRaHJSLLOnTtnvnclvH3NbYqikL///jv2OMwqztj7Z599Fp566qmwcuXKMGjQoCj84KK3L/Or4Q0kUHYCCsCyI62vGyoA68veeTgt3iW8emvWrAnnnXde3BJ5bQcffHCsJkXU3HXXXWH79u2xATKLwg2+tmzZUvYjvPfeezGfjWbRp59+epvuX2lvX3ObQjDD9MADD2zTxBME5EsvvRS9fUylgAWFHalNT2mT4bxIAgkTUAAmbLw8bF0BmAcr1NceECv04kMAnn/++fHw5LMdcsgh0cPHBInPP/88vPnmmw1g3n///XDhhRfGyQgIxXIvJlUwk/Xpp5+OUxpas6rt7SunCGTvX3zxRcztW7FiRWzdgrePELzevtZY389IoPYEFIC1t0HSO1AAJm2+ZDfPGKxSW5ZSCJj5qIwKQwBScco0idJCEDIKi9mpTJeoxKK1CePKHn/88XDOOefs9RG19PY1d272hbgmFNx47mzja6gefvnll6O3D+9qyduXpzF52J3RZ+SB0mcQD2fjnoikDVDF/e2338ZfGmg6/eCDD+4WAidfdN68eTG/tFu3boF3y1Fqlfiu8Z61JKAArCX9AjxbAVgAIyZ4hF9++SVMnDgxvPPOO3HGLUKEilxyAxEp5KJRpFFalfYAlp7Dcwl/UpDSo0ePhufnydvXGhFIxe6AAQPi6Dj2vnnz5ujdhCn5lLfffns47bTTcuntW758eaBIiNA0vxA0FoCI9LPPPjv+coDwQwT269cvFqg88MADEQ2j/7AfHuROnTrFedCMpSO/NJVRgAl+S7vlGhBQANYAepEeqQAskjXTPcvPP/8cK3GXLl0avXyIwx9++KFh9u3DDz8c5syZEwtCKr14Bv3tZs6cGcPNFEUgRChMwbu2r337Kr3fPe+/c+fOKF6prO7Tp0/Mq0REIbIRTbSOSWEhYnv37r2bAMR7iS127NjRcAQquRHuy5Yti3/XsWPHMH78+DBq1Kj4Z37BwGs8a9asMGTIkBSO7h4l0CoCCsBWYfJDeyOgAPTdqAUBPFI0Ez7mmGNiYcewYcNiEcPrr78ew37kolEFPHXq1Cj68GbxQ73cVcBNnZ3nIzbxJFGcgkcQkYE3Ke/5cXj74Im3Dy8ZIdIXXnghnHXWWbnf+562aEoAkit68cUXhzFjxoRrrrkmbN26Nb4b/MKAMCTky5g/5hGXCoy4LykHXbt2jSLQJYGiEFAAFsWSNTqHArBG4Ov8sQgUWrzgyTnyyCPD9ddfH0N1pVYmNB8eMWJEWL9+fSwYQSDy+Uoucs7IPSu1hEFgUB2L8Lzssssq+ejM96alDuIZroTQhw4dGi655JIoXhHZtNjJU55faw7clADkOmY60zYIoY53j+IdvLTkCX733XehQ4cOsYio1FOSa8jt5D3iWpcEikJAAVgUS9boHArAGoH3sbkj8Oijj4YNGzbE/DgKB1g//fRT6N+/f/Q4Iaby5AHE2/f111/Hgo7XXnstCj72fuaZZzbsE48YFb54Amm6naf9t/QCNCUACWfjBUbsUhX+448/xtA2ofrnn39+rx5AQuFUdxPWd0mgKAQUgEWxZI3OoQCsEXgfmwyBX3/9NYYZCTHecMMNNRdRePvId8PrRdUv+7ruuuv22h6HYgqKJ8gJTGk1JQDJ68PLxyi/0kL84uHjnCzG1I0bN64hB5D8R3IAZ8+eHe3nkkBRCCgAi2LJGp1DAVgj8D42KQJUpeJJQ2iQm1htTxrevm+++SaGeF999dWYB4e3j4rYau+l0oajDRAid/Xq1bHCl5ZAhHdpbUOl+B133BGLheghiThHAFP4wudZePmoAkYkIwZJLViwYEGsAk6lAKbSjL1/MQgoAIthx5qdQgFYM/Q+ODECNKGmTQ0h4eHDh1dFeDEVhXYmNGxG5CA+yZckn62oi5A252QhbhG/LDyCPXv2jBNhCNdTJU5eY69evaLoa9euXQMS+gCS74fNzj333JjbaR/Aor4x9XsuBWD92r4sJ1cAlgWjN6kTAoRc6Tl30UUXxeKQSnjfEDyEORFCtD0h1w1vH0KmEs+rE9N5TAkUjoACsHAmre6BFIDV5e3T0idAlS399CgqmDx58m5TKrKcjlw1GjUT5qVRNl4wctaYm+ySgAQksCcBBaDvRCYCCsBM+Ly4TgmQo4Y4a9++fbj33nvbLALx9n3//fexWTOtWijUwNtHDzu9fXX6cnlsCbSSgAKwlaD8WNMEFIC+GRJoGwE8drfcckusvqVpdON5tS3dkWvffvvtmNtHLhv3ufHGG2NzbJcEJCCB1hBQALaGkp/ZKwEFoC+HBNpOgEbEeOyoXGVcHbN397bw9m3fvj3OpV28eHHM6eNavH77Ih7bvluvlIAEikRAAVgka9bgLArAGkD3kYUigPgbPXp0nGpCder++++/2/kQiStXrozePlq53HzzzeGmm24KRxxxRKE4eBgJSKC6BBSA1eVduKcpAAtnUg9UAwKIwLvvvjt89dVXsUEzIpApIs8++2ycxUu/vttuuy1W9Ortq4GBfKQECkhAAVhAo1bzSArAatL2WUUmgAikIGTFihXh6KOPjmPamFPL11FHHVXko3s2CUigBgQUgDWAXqRHKgCLZM36OsvChQtjg99NmzaFP/74I1BY0di7xt+PHDkyfPTRR7GVCh44GgQ3Xvx53rx5cYYs83/nzp2bqWEweX5MpqBh9GWXXaa3r75eSU8rgaoSUABWFXfxHqYALJ5N6+VEy5cvD4xoYwYsoquxAEQQnnLKKbGX3rRp08KXX34ZLr300jBhwoQwduzYiIjKXUaGMWmjU6dOcWQYBRqMDPvPf/5TLxg9pwQkkCgBBWCihsvLthWAebGE+2grAUaE9e7dezcBSF+9u+66K1bdlryCjBDja8uWLfFRHTt2jNM8Ro0aFf9Mscbxxx8fZs2aFYYMGdLW7XidBCQggaoQUABWBXNxH6IALK5t6+VkTQnAcePGhS+++CJ690rr/fffj0UYzIdF7B1++OFh7dq1selyafXt2zd07do1isBUV0uh8aVLl8ZQOEKYvoPDhg0LkyZN2u245Q6Np8rSfUsgzwQUgHm2TgJ7UwAmYCS32CyBpgQgIWHm9iKGSuvzzz+P+X3btm2LArBDhw6Bv+vSpUvDZ6699tpw6KGHhieeeCJZ6s2FxtetWxd69uwZFi1aFHMUP/744xganzJlSoMn1NB4sqZ343VGQAFYZwYv93EVgOUm6v2qTaApAUho97PPPouzdffFA9inT58443fmzJnVPkbZn9cUF1rVUBzT2DN6zz33xFY1mzdvjnswNF52U3hDCVSEgAKwIljr56YKwPqxdVFP2pTQoZhj4sSJccxaaToHkzrmzJkTC0JYJ598ciBUXMoBpIiEHMDZs2fHOb+pr70JwI0bN+4mjPH+zZgxo6GSuqih8dTt6f4lsCcBBaDvRCYCCsBM+Ly4hgTou/fvv/+G1atXh379+oU///wzFnwccMABMfxbqgKeOnVqFH0DBgyIRR+lKmC8fFQBL1u2LIpBqoAXLFgQq4APOuigGp6sPI9uSgCuWbMmFswQGi+FgAcOHBh++eWXGBpHBBc1NF4eqt5FAvkhoADMjy2S3IkCMEmzuekQwvz582ObF9Z+++0X6MHHQviQ5/bJJ5+EESNGhPXr18e8PoodaAnTeFHsQL4fhSHM5qWvIHmCRVhNCUDOxRxiPH5bt26NIpkcQMQvAnrXrl1NFscUKTReBNt6Bgn87/97+9Uzibo+fDkMrwAsB0XvIYH8EdibANxzp4TBEcl4UllFD43nz1LuSAJtI6AHsG3cvOp/BBSAvgoSKBaB5kLjnJRKYGYTEz5fsmRJGD16dCwK6d69ewRR9NB4saztaeqZgAKwnq1fhrMrAMsA0VtIIEcEmguN9+jRI1xwwQWxRyJCkbD39OnTA3/feBU5NJ4jU7kVCWQioADMhM+LJSABCUhAAhKQgARSI2AOYGoWc78SkIAEJCABCUggIwEFYEaAXi4BCUhAAhKQgARSI6AATM1i7lcCEpCABCQgAQlkJKAAzAjQyyUgAQlIQAISkEBqBBSAqVnM/UpAAhKQgAQkIIGMBBSAGQF6uQQkIAEJSEACEkiNgAIwNYu5XwlIQAISkIAEJJCRgAIwI0Avl4AEJCABCUhAAqkRUACmZjH3KwEJSEACEpCABDISUABmBOjlEpCABCQgAQlIIDUCCsDULOZ+JSABCUhAAhKQQEYCCsCMAL1cAhKQgAQkIAEJpEZAAZiaxdyvBCQgAQlIQAISyEhAAZgRoJdLQAISkIAEJCCB1AgoAFOzmPuVgAQkIAEJSEACGQkoADMC9HIJSEACEpCABCSQGgEFYGoWc78SkIAEJCABCUggIwEFYEaAXi4BCUhAAhKQgARSI6AATM1i7lcCEpCABCQgAQlkJKAAzAjQyyUgAQlIQAISkEBqBBSAqVnM/UpAAhKQgAQkIIGMBBSAGQF6uQQkIAEJSEACEkiNgAIwNYu5XwlIQAISkIAEJJCRgAIwI0Avl4AEJCABCUhAAqkRUACmZjH3KwEJSEACEpCABDISUABmBOjlEpCABCQgAQlIIDUCCsDULOZ+JSABCUhAAhKQQEYCCsCMAL1cAhKQgAQkIAEJpEZAAZiaxdyvBCQgAQlIQAISyEhAAZgRoJdLQAISkIAEJCCB1AgoAFOzmPuVgAQkIAEJSEACGQkoADMC9HIJSEACEpCABCSQGgEFYGoWc78SkIAEJCABCUggIwEFYEaAXi4BCUhAAhKQgARSI6AATM1i7lcCEpCABCQgAQlkJKAAzAjQyyUgAQlIQAISkEBqBBSAqVnM/UpAAhKQgAQkIIGMBBSAGQF6uQQkIAEJSEACEkiNgAIwNYu5XwlIQAISkIAEJJCRgAIwI0Avl4AEJCABCUhAAqkRUACmZjH3KwEJSEACEpCABDISUABmBOjlEpCABCQgAQlIIDUCCsDULOZ+JSABCUhAAhKQQEYCCsCMAL1cAhKQgAQkIAEJpEZAAZiaxdyvBCQgAQlIQAISyEhAAZgRoJdLQAISkIAEJCCB1AgoAFOzmPuVgAQkIAEJSEACGQn8F3E8XowO3a9JAAAAAElFTkSuQmCC\">"
      ],
      "text/plain": [
       "<IPython.core.display.HTML object>"
      ]
     },
     "metadata": {},
     "output_type": "display_data"
    },
    {
     "data": {
      "text/plain": [
       "<matplotlib.contour.QuadContourSet at 0x1076e6518>"
      ]
     },
     "execution_count": 22,
     "metadata": {},
     "output_type": "execute_result"
    }
   ],
   "source": [
    "from mpl_toolkits.mplot3d import Axes3D\n",
    "%matplotlib notebook\n",
    "\n",
    "fig = plt.figure()\n",
    "ax = plt.axes(projection='3d')\n",
    "ax.contour(*xypdf)"
   ]
  },
  {
   "cell_type": "code",
   "execution_count": null,
   "metadata": {
    "collapsed": true
   },
   "outputs": [],
   "source": []
  }
 ],
 "metadata": {
  "hide_input": false,
  "kernelspec": {
   "display_name": "Python 3",
   "language": "python",
   "name": "python3"
  },
  "language_info": {
   "codemirror_mode": {
    "name": "ipython",
    "version": 3
   },
   "file_extension": ".py",
   "mimetype": "text/x-python",
   "name": "python",
   "nbconvert_exporter": "python",
   "pygments_lexer": "ipython3",
   "version": "3.4.3"
  }
 },
 "nbformat": 4,
 "nbformat_minor": 0
}
