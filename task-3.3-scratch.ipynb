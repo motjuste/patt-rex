{
 "cells": [
  {
   "cell_type": "code",
   "execution_count": 45,
   "metadata": {
    "collapsed": true
   },
   "outputs": [],
   "source": [
    "import numpy as np\n",
    "import csv\n",
    "import matplotlib.pyplot as plt\n",
    "%matplotlib inline\n",
    "\n",
    "import pattrex.plotting_mpl as plt_rex"
   ]
  },
  {
   "cell_type": "markdown",
   "metadata": {},
   "source": [
    "# PCA\n",
    "\n",
    "Referred to np-sp-recipes-12 (for eigenvalues/eigenvecotrs of covariance matrices)"
   ]
  },
  {
   "cell_type": "markdown",
   "metadata": {},
   "source": [
    "## Import and Preprocess data\n",
    "\n",
    "- Import data into a `numpy` array\n",
    "- **normalize** the data to zero-mean"
   ]
  },
  {
   "cell_type": "code",
   "execution_count": 6,
   "metadata": {
    "collapsed": false
   },
   "outputs": [
    {
     "name": "stdout",
     "output_type": "stream",
     "text": [
      "data : (500, 150) \n",
      "labels : (150,)\n"
     ]
    }
   ],
   "source": [
    "data_X_fp = \"./data/data-dimred-X.csv\"\n",
    "data_y_fp = \"./data/data-dimred-y.csv\"\n",
    "\n",
    "data_X = np.genfromtxt(data_X_fp, delimiter=',')\n",
    "data_y = np.genfromtxt(data_y_fp, delimiter=',')\n",
    "\n",
    "print(\"data : {} \\nlabels : {}\".format(data_X.shape, data_y.shape))"
   ]
  },
  {
   "cell_type": "code",
   "execution_count": 60,
   "metadata": {
    "collapsed": false
   },
   "outputs": [
    {
     "data": {
      "text/plain": [
       "array([ 1.,  1.,  1.,  1.,  1.,  1.,  1.,  1.,  1.,  1.,  1.,  1.,  1.,\n",
       "        1.,  1.,  1.,  1.,  1.,  1.,  1.,  1.,  1.,  1.,  1.,  1.,  1.,\n",
       "        1.,  1.,  1.,  1.,  1.,  1.,  1.,  1.,  1.,  1.,  1.,  1.,  1.,\n",
       "        1.,  1.,  1.,  1.,  1.,  1.,  1.,  1.,  1.,  1.,  1.,  2.,  2.,\n",
       "        2.,  2.,  2.,  2.,  2.,  2.,  2.,  2.,  2.,  2.,  2.,  2.,  2.,\n",
       "        2.,  2.,  2.,  2.,  2.,  2.,  2.,  2.,  2.,  2.,  2.,  2.,  2.,\n",
       "        2.,  2.,  2.,  2.,  2.,  2.,  2.,  2.,  2.,  2.,  2.,  2.,  2.,\n",
       "        2.,  2.,  2.,  2.,  2.,  2.,  2.,  2.,  2.,  3.,  3.,  3.,  3.,\n",
       "        3.,  3.,  3.,  3.,  3.,  3.,  3.,  3.,  3.,  3.,  3.,  3.,  3.,\n",
       "        3.,  3.,  3.,  3.,  3.,  3.,  3.,  3.,  3.,  3.,  3.,  3.,  3.,\n",
       "        3.,  3.,  3.,  3.,  3.,  3.,  3.,  3.,  3.,  3.,  3.,  3.,  3.,\n",
       "        3.,  3.,  3.,  3.,  3.,  3.,  3.])"
      ]
     },
     "execution_count": 60,
     "metadata": {},
     "output_type": "execute_result"
    }
   ],
   "source": [
    "data_y"
   ]
  },
  {
   "cell_type": "code",
   "execution_count": 9,
   "metadata": {
    "collapsed": false
   },
   "outputs": [
    {
     "data": {
      "text/plain": [
       "1.8947806286936004e-17"
      ]
     },
     "execution_count": 9,
     "metadata": {},
     "output_type": "execute_result"
    }
   ],
   "source": [
    "data_X_mean = data_X.mean()\n",
    "data_X_norm = data_X - data_X_mean\n",
    "\n",
    "data_X_norm.mean()"
   ]
  },
  {
   "cell_type": "markdown",
   "metadata": {},
   "source": [
    "## Caculate the Covariance Matrix"
   ]
  },
  {
   "cell_type": "code",
   "execution_count": 10,
   "metadata": {
    "collapsed": false
   },
   "outputs": [
    {
     "data": {
      "text/plain": [
       "(500, 500)"
      ]
     },
     "execution_count": 10,
     "metadata": {},
     "output_type": "execute_result"
    }
   ],
   "source": [
    "C_X = np.cov(data_X_norm)\n",
    "C_X.shape"
   ]
  },
  {
   "cell_type": "markdown",
   "metadata": {},
   "source": [
    "## Do Eigen Analysis\n",
    "\n",
    "Using `numpy.linalg.eigh(...)`"
   ]
  },
  {
   "cell_type": "code",
   "execution_count": 12,
   "metadata": {
    "collapsed": false
   },
   "outputs": [
    {
     "name": "stdout",
     "output_type": "stream",
     "text": [
      "(500,)\n",
      "(500, 500)\n"
     ]
    },
    {
     "data": {
      "text/plain": [
       "[<matplotlib.lines.Line2D at 0x1068da518>]"
      ]
     },
     "execution_count": 12,
     "metadata": {},
     "output_type": "execute_result"
    },
    {
     "data": {
      "image/png": "[encoded data removed]",
      "text/plain": [
       "<matplotlib.figure.Figure at 0x106305780>"
      ]
     },
     "metadata": {},
     "output_type": "display_data"
    }
   ],
   "source": [
    "evals, evects = np.linalg.eigh(C_X)\n",
    "\n",
    "print(evals.shape)\n",
    "print(evects.shape)\n",
    "\n",
    "plt.plot(np.arange(evals.size), evals)"
   ]
  },
  {
   "cell_type": "markdown",
   "metadata": {},
   "source": [
    "### So, they are ascending\n",
    "Let's look at the top 10"
   ]
  },
  {
   "cell_type": "code",
   "execution_count": 13,
   "metadata": {
    "collapsed": true
   },
   "outputs": [],
   "source": [
    "# sort descending\n",
    "idx = np.argsort(evals)[::-1]\n",
    "sorted_evals = evals[idx]\n",
    "sorted_evects = evects[:, idx]"
   ]
  },
  {
   "cell_type": "code",
   "execution_count": 20,
   "metadata": {
    "collapsed": false
   },
   "outputs": [
    {
     "data": {
      "text/plain": [
       "array([ 178.36082561,  157.5026053 ,    7.76115581,    7.51579683,\n",
       "          7.28021248,    7.18770618,    7.05327894,    6.87866945,\n",
       "          6.8158655 ,    6.73649919])"
      ]
     },
     "execution_count": 20,
     "metadata": {},
     "output_type": "execute_result"
    }
   ],
   "source": [
    "sorted_evals[:10]"
   ]
  },
  {
   "cell_type": "markdown",
   "metadata": {},
   "source": [
    "### Let's try to find where do they sum up to 90, 95, and 99 % of the total"
   ]
  },
  {
   "cell_type": "code",
   "execution_count": 27,
   "metadata": {
    "collapsed": false
   },
   "outputs": [
    {
     "name": "stdout",
     "output_type": "stream",
     "text": [
      "90%  : 94\n",
      "95%  : 114\n",
      "99%  : 139\n",
      "100% : 148  First\n",
      "100% : 500  Last\n"
     ]
    }
   ],
   "source": [
    "sum_s_evals = np.cumsum(sorted_evals)\n",
    "\n",
    "def where_sum_to(X, x, side='left'):\n",
    "    return np.searchsorted(X, x, side=side)\n",
    "\n",
    "print(\"90%  :\", where_sum_to(sum_s_evals, sum_s_evals[-1] * 0.9))\n",
    "print(\"95%  :\", where_sum_to(sum_s_evals, sum_s_evals[-1] * 0.95))\n",
    "print(\"99%  :\", where_sum_to(sum_s_evals, sum_s_evals[-1] * 0.99))\n",
    "print(\"100% :\", where_sum_to(sum_s_evals, sum_s_evals[-1] * 1.0), \" First\")\n",
    "print(\"100% :\", where_sum_to(sum_s_evals, sum_s_evals[-1] * 1.0, side='right'), \" Last\")"
   ]
  },
  {
   "cell_type": "markdown",
   "metadata": {},
   "source": [
    "## Who Needs all of them???\n",
    "Let's see how much the first two eigvals contribute"
   ]
  },
  {
   "cell_type": "code",
   "execution_count": 32,
   "metadata": {
    "collapsed": false
   },
   "outputs": [
    {
     "name": "stdout",
     "output_type": "stream",
     "text": [
      "First 1 : 21.61 %\n",
      "First 2 : 40.69 %\n",
      "First 3 : 41.63 %\n",
      "First 4 : 42.54 %\n",
      "First 5 : 43.42 %\n"
     ]
    }
   ],
   "source": [
    "contrib = lambda i : 100 * sum_s_evals[i-1] / sum_s_evals[-1]\n",
    "\n",
    "print(\"\\n\".join(\"First {} : {:.4} %\".format(*p) for p in [(i, contrib(i)) for i in [1, 2, 3, 4, 5]]))"
   ]
  },
  {
   "cell_type": "code",
   "execution_count": 35,
   "metadata": {
    "collapsed": false
   },
   "outputs": [
    {
     "data": {
      "text/plain": [
       "[<matplotlib.lines.Line2D at 0x1054bd0b8>]"
      ]
     },
     "execution_count": 35,
     "metadata": {},
     "output_type": "execute_result"
    },
    {
     "data": {
      "image/png": "[encoded data removed]",
      "text/plain": [
       "<matplotlib.figure.Figure at 0x1065d7a58>"
      ]
     },
     "metadata": {},
     "output_type": "display_data"
    }
   ],
   "source": [
    "plt.plot([contrib(i + 1) for i in range(sum_s_evals.size)])"
   ]
  },
  {
   "cell_type": "markdown",
   "metadata": {},
   "source": [
    "## Back to the task\n",
    "\n",
    "- Choose the eigvecs corresponding to the first two (highest) eigvals\n",
    "- Project the **normalized** data into $\\mathbb{R}^2$\n",
    "- Plot"
   ]
  },
  {
   "cell_type": "code",
   "execution_count": 37,
   "metadata": {
    "collapsed": false
   },
   "outputs": [
    {
     "name": "stdout",
     "output_type": "stream",
     "text": [
      "[ 178.36082561  157.5026053 ]\n"
     ]
    }
   ],
   "source": [
    "eigval_2 = sorted_evals[:2]\n",
    "eigvec_2 = sorted_evects[:, :2]\n",
    "\n",
    "print(eigval_2)\n",
    "# print(eigvec_2)"
   ]
  },
  {
   "cell_type": "code",
   "execution_count": 42,
   "metadata": {
    "collapsed": false
   },
   "outputs": [
    {
     "data": {
      "text/plain": [
       "(150, 2)"
      ]
     },
     "execution_count": 42,
     "metadata": {},
     "output_type": "execute_result"
    }
   ],
   "source": [
    "projection = np.dot(data_X_norm.T, eigvec_2)\n",
    "\n",
    "projection.shape"
   ]
  },
  {
   "cell_type": "code",
   "execution_count": 70,
   "metadata": {
    "collapsed": false
   },
   "outputs": [
    {
     "data": {
      "image/png": "[encoded data removed]",
      "text/plain": [
       "<matplotlib.figure.Figure at 0x1085d37f0>"
      ]
     },
     "metadata": {},
     "output_type": "display_data"
    }
   ],
   "source": [
    "fig = plt.figure()\n",
    "axs = fig.add_subplot(111)\n",
    "\n",
    "for l, c in zip([1., 2., 3.], ['r.', 'g.', 'b.']):\n",
    "    plt_rex.plot2d(projection[np.where(data_y == l)], False, axs=axs,\n",
    "                  x_lim=[-50, 50], y_lim=[-50, 50], hatch=c, show=False,\n",
    "                  plotlabel=\"class \" + str(l))"
   ]
  },
  {
   "cell_type": "markdown",
   "metadata": {},
   "source": [
    "### WooHoo"
   ]
  },
  {
   "cell_type": "code",
   "execution_count": null,
   "metadata": {
    "collapsed": true
   },
   "outputs": [],
   "source": []
  }
 ],
 "metadata": {
  "hide_input": false,
  "kernelspec": {
   "display_name": "Python 3",
   "language": "python",
   "name": "python3"
  },
  "language_info": {
   "codemirror_mode": {
    "name": "ipython",
    "version": 3
   },
   "file_extension": ".py",
   "mimetype": "text/x-python",
   "name": "python",
   "nbconvert_exporter": "python",
   "pygments_lexer": "ipython3",
   "version": "3.4.3"
  }
 },
 "nbformat": 4,
 "nbformat_minor": 0
}
