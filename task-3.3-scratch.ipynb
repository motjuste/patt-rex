{
 "cells": [
  {
   "cell_type": "code",
   "execution_count": 285,
   "metadata": {
    "collapsed": false
   },
   "outputs": [],
   "source": [
    "import numpy as np\n",
    "import csv\n",
    "import matplotlib.pyplot as plt\n",
    "from mpl_toolkits.mplot3d import Axes3D\n",
    "%matplotlib notebook\n",
    "\n",
    "import pattrex.plotting_mpl as plt_rex"
   ]
  },
  {
   "cell_type": "markdown",
   "metadata": {},
   "source": [
    "# PCA\n",
    "\n",
    "Referred to np-sp-recipes-12 (for eigenvalues/eigenvecotrs of covariance matrices)"
   ]
  },
  {
   "cell_type": "markdown",
   "metadata": {},
   "source": [
    "## Import and Preprocess data\n",
    "\n",
    "- Import data into a `numpy` array\n",
    "- **normalize** the data to zero-mean"
   ]
  },
  {
   "cell_type": "code",
   "execution_count": 236,
   "metadata": {
    "collapsed": false
   },
   "outputs": [
    {
     "name": "stdout",
     "output_type": "stream",
     "text": [
      "data : (500, 150) \n",
      "labels : (150,)\n"
     ]
    }
   ],
   "source": [
    "data_X_fp = \"./data/data-dimred-X.csv\"\n",
    "data_y_fp = \"./data/data-dimred-y.csv\"\n",
    "\n",
    "data_X = np.genfromtxt(data_X_fp, delimiter=',')\n",
    "data_y = np.genfromtxt(data_y_fp, delimiter=',')\n",
    "\n",
    "print(\"data : {} \\nlabels : {}\".format(data_X.shape, data_y.shape))"
   ]
  },
  {
   "cell_type": "code",
   "execution_count": 237,
   "metadata": {
    "collapsed": false
   },
   "outputs": [
    {
     "data": {
      "text/plain": [
       "array([ 1.,  1.,  1.,  1.,  1.,  1.,  1.,  1.,  1.,  1.,  1.,  1.,  1.,\n",
       "        1.,  1.,  1.,  1.,  1.,  1.,  1.,  1.,  1.,  1.,  1.,  1.,  1.,\n",
       "        1.,  1.,  1.,  1.,  1.,  1.,  1.,  1.,  1.,  1.,  1.,  1.,  1.,\n",
       "        1.,  1.,  1.,  1.,  1.,  1.,  1.,  1.,  1.,  1.,  1.,  2.,  2.,\n",
       "        2.,  2.,  2.,  2.,  2.,  2.,  2.,  2.,  2.,  2.,  2.,  2.,  2.,\n",
       "        2.,  2.,  2.,  2.,  2.,  2.,  2.,  2.,  2.,  2.,  2.,  2.,  2.,\n",
       "        2.,  2.,  2.,  2.,  2.,  2.,  2.,  2.,  2.,  2.,  2.,  2.,  2.,\n",
       "        2.,  2.,  2.,  2.,  2.,  2.,  2.,  2.,  2.,  3.,  3.,  3.,  3.,\n",
       "        3.,  3.,  3.,  3.,  3.,  3.,  3.,  3.,  3.,  3.,  3.,  3.,  3.,\n",
       "        3.,  3.,  3.,  3.,  3.,  3.,  3.,  3.,  3.,  3.,  3.,  3.,  3.,\n",
       "        3.,  3.,  3.,  3.,  3.,  3.,  3.,  3.,  3.,  3.,  3.,  3.,  3.,\n",
       "        3.,  3.,  3.,  3.,  3.,  3.,  3.])"
      ]
     },
     "execution_count": 237,
     "metadata": {},
     "output_type": "execute_result"
    }
   ],
   "source": [
    "data_y"
   ]
  },
  {
   "cell_type": "code",
   "execution_count": 238,
   "metadata": {
    "collapsed": false
   },
   "outputs": [
    {
     "data": {
      "text/plain": [
       "1.8947806286936004e-17"
      ]
     },
     "execution_count": 238,
     "metadata": {},
     "output_type": "execute_result"
    }
   ],
   "source": [
    "data_X_mean = data_X.mean()\n",
    "data_X_norm = data_X - data_X_mean\n",
    "\n",
    "data_X_norm.mean()"
   ]
  },
  {
   "cell_type": "markdown",
   "metadata": {},
   "source": [
    "## Caculate the Covariance Matrix"
   ]
  },
  {
   "cell_type": "code",
   "execution_count": 239,
   "metadata": {
    "collapsed": false
   },
   "outputs": [
    {
     "data": {
      "text/plain": [
       "(500, 500)"
      ]
     },
     "execution_count": 239,
     "metadata": {},
     "output_type": "execute_result"
    }
   ],
   "source": [
    "C_X = np.cov(data_X_norm)\n",
    "C_X.shape"
   ]
  },
  {
   "cell_type": "markdown",
   "metadata": {},
   "source": [
    "## Do Eigen Analysis\n",
    "\n",
    "Using `numpy.linalg.eigh(...)`"
   ]
  },
  {
   "cell_type": "code",
   "execution_count": 240,
   "metadata": {
    "collapsed": false
   },
   "outputs": [
    {
     "name": "stdout",
     "output_type": "stream",
     "text": [
      "(500,)\n",
      "(500, 500)\n"
     ]
    },
    {
     "data": {
      "text/plain": [
       "[<matplotlib.lines.Line2D at 0x10be89c88>]"
      ]
     },
     "execution_count": 240,
     "metadata": {},
     "output_type": "execute_result"
    },
    {
     "data": {
      "image/png": "[encoded data removed]",
      "text/plain": [
       "<matplotlib.figure.Figure at 0x10be35f60>"
      ]
     },
     "metadata": {},
     "output_type": "display_data"
    }
   ],
   "source": [
    "evals, evects = np.linalg.eigh(C_X)\n",
    "\n",
    "print(evals.shape)\n",
    "print(evects.shape)\n",
    "\n",
    "plt.plot(np.arange(evals.size), evals)"
   ]
  },
  {
   "cell_type": "code",
   "execution_count": 241,
   "metadata": {
    "collapsed": false
   },
   "outputs": [
    {
     "name": "stdout",
     "output_type": "stream",
     "text": [
      "500\n",
      "(500,)\n",
      "0\n"
     ]
    },
    {
     "ename": "AssertionError",
     "evalue": "\nArrays are not almost equal to 6 decimals\n\n(mismatch 99.8%)\n x: array([[  1.054712e-15],\n       [ -6.217249e-15],\n       [ -4.440892e-16],...\n y: array([[ -0.000000e+00],\n       [  4.198470e+18],\n       [  4.870672e+17],...",
     "output_type": "error",
     "traceback": [
      "\u001b[0;31m---------------------------------------------------------------------------\u001b[0m",
      "\u001b[0;31mAssertionError\u001b[0m                            Traceback (most recent call last)",
      "\u001b[0;32m<ipython-input-241-163f9a27a4d7>\u001b[0m in \u001b[0;36m<module>\u001b[0;34m()\u001b[0m\n\u001b[1;32m      7\u001b[0m     \u001b[0mprint\u001b[0m\u001b[0;34m(\u001b[0m\u001b[0mi\u001b[0m\u001b[0;34m)\u001b[0m\u001b[0;34m\u001b[0m\u001b[0m\n\u001b[1;32m      8\u001b[0m     np.testing.assert_array_almost_equal(C_X.dot(evi),\n\u001b[0;32m----> 9\u001b[0;31m                                         evals_L[i] * evi)\n\u001b[0m",
      "\u001b[0;32m/Users/myrmidon/.conda/envs/pattrex/lib/python3.4/site-packages/numpy/testing/utils.py\u001b[0m in \u001b[0;36massert_array_almost_equal\u001b[0;34m(x, y, decimal, err_msg, verbose)\u001b[0m\n\u001b[1;32m    840\u001b[0m     assert_array_compare(compare, x, y, err_msg=err_msg, verbose=verbose,\n\u001b[1;32m    841\u001b[0m              \u001b[0mheader\u001b[0m\u001b[0;34m=\u001b[0m\u001b[0;34m(\u001b[0m\u001b[0;34m'Arrays are not almost equal to %d decimals'\u001b[0m \u001b[0;34m%\u001b[0m \u001b[0mdecimal\u001b[0m\u001b[0;34m)\u001b[0m\u001b[0;34m,\u001b[0m\u001b[0;34m\u001b[0m\u001b[0m\n\u001b[0;32m--> 842\u001b[0;31m              precision=decimal)\n\u001b[0m\u001b[1;32m    843\u001b[0m \u001b[0;34m\u001b[0m\u001b[0m\n\u001b[1;32m    844\u001b[0m \u001b[0;34m\u001b[0m\u001b[0m\n",
      "\u001b[0;32m/Users/myrmidon/.conda/envs/pattrex/lib/python3.4/site-packages/numpy/testing/utils.py\u001b[0m in \u001b[0;36massert_array_compare\u001b[0;34m(comparison, x, y, err_msg, verbose, header, precision)\u001b[0m\n\u001b[1;32m    663\u001b[0m                                 names=('x', 'y'), precision=precision)\n\u001b[1;32m    664\u001b[0m             \u001b[0;32mif\u001b[0m \u001b[0;32mnot\u001b[0m \u001b[0mcond\u001b[0m \u001b[0;34m:\u001b[0m\u001b[0;34m\u001b[0m\u001b[0m\n\u001b[0;32m--> 665\u001b[0;31m                 \u001b[0;32mraise\u001b[0m \u001b[0mAssertionError\u001b[0m\u001b[0;34m(\u001b[0m\u001b[0mmsg\u001b[0m\u001b[0;34m)\u001b[0m\u001b[0;34m\u001b[0m\u001b[0m\n\u001b[0m\u001b[1;32m    666\u001b[0m     \u001b[0;32mexcept\u001b[0m \u001b[0mValueError\u001b[0m \u001b[0;32mas\u001b[0m \u001b[0me\u001b[0m\u001b[0;34m:\u001b[0m\u001b[0;34m\u001b[0m\u001b[0m\n\u001b[1;32m    667\u001b[0m         \u001b[0;32mimport\u001b[0m \u001b[0mtraceback\u001b[0m\u001b[0;34m\u001b[0m\u001b[0m\n",
      "\u001b[0;31mAssertionError\u001b[0m: \nArrays are not almost equal to 6 decimals\n\n(mismatch 99.8%)\n x: array([[  1.054712e-15],\n       [ -6.217249e-15],\n       [ -4.440892e-16],...\n y: array([[ -0.000000e+00],\n       [  4.198470e+18],\n       [  4.870672e+17],..."
     ]
    }
   ],
   "source": [
    "dims = evals.shape[0]\n",
    "print(dims)\n",
    "print(evects[:, 0].shape)\n",
    "\n",
    "for i in range(dims):\n",
    "    evi = evects[:, i].reshape(dim, 1)\n",
    "    print(i)\n",
    "    np.testing.assert_array_almost_equal(C_X.dot(evi),\n",
    "                                        evals_L[i] * evi)"
   ]
  },
  {
   "cell_type": "markdown",
   "metadata": {},
   "source": [
    "### So, they are ascending\n",
    "Let's look at the top 10"
   ]
  },
  {
   "cell_type": "code",
   "execution_count": 242,
   "metadata": {
    "collapsed": true
   },
   "outputs": [],
   "source": [
    "# sort descending\n",
    "idx = np.argsort(evals)[::-1]\n",
    "sorted_evals = evals[idx]\n",
    "sorted_evects = evects[:, idx]"
   ]
  },
  {
   "cell_type": "code",
   "execution_count": 243,
   "metadata": {
    "collapsed": false
   },
   "outputs": [
    {
     "data": {
      "text/plain": [
       "array([ 178.36082561,  157.5026053 ,    7.76115581,    7.51579683,\n",
       "          7.28021248,    7.18770618,    7.05327894,    6.87866945,\n",
       "          6.8158655 ,    6.73649919])"
      ]
     },
     "execution_count": 243,
     "metadata": {},
     "output_type": "execute_result"
    }
   ],
   "source": [
    "sorted_evals[:10]"
   ]
  },
  {
   "cell_type": "markdown",
   "metadata": {},
   "source": [
    "### Let's try to find where do they sum up to 90, 95, and 99 % of the total"
   ]
  },
  {
   "cell_type": "code",
   "execution_count": 244,
   "metadata": {
    "collapsed": false
   },
   "outputs": [
    {
     "name": "stdout",
     "output_type": "stream",
     "text": [
      "90%  : 94\n",
      "95%  : 114\n",
      "99%  : 139\n",
      "100% : 148  First\n",
      "100% : 500  Last\n"
     ]
    }
   ],
   "source": [
    "sum_s_evals = np.cumsum(sorted_evals)\n",
    "\n",
    "def where_sum_to(X, x, side='left'):\n",
    "    return np.searchsorted(X, x, side=side)\n",
    "\n",
    "print(\"90%  :\", where_sum_to(sum_s_evals, sum_s_evals[-1] * 0.9))\n",
    "print(\"95%  :\", where_sum_to(sum_s_evals, sum_s_evals[-1] * 0.95))\n",
    "print(\"99%  :\", where_sum_to(sum_s_evals, sum_s_evals[-1] * 0.99))\n",
    "print(\"100% :\", where_sum_to(sum_s_evals, sum_s_evals[-1] * 1.0), \" First\")\n",
    "print(\"100% :\", where_sum_to(sum_s_evals, sum_s_evals[-1] * 1.0, side='right'), \" Last\")"
   ]
  },
  {
   "cell_type": "markdown",
   "metadata": {},
   "source": [
    "## Who Needs all of them???\n",
    "Let's see how much the first two eigvals contribute"
   ]
  },
  {
   "cell_type": "code",
   "execution_count": 245,
   "metadata": {
    "collapsed": false
   },
   "outputs": [
    {
     "name": "stdout",
     "output_type": "stream",
     "text": [
      "First 1 : 21.61 %\n",
      "First 2 : 40.69 %\n",
      "First 3 : 41.63 %\n",
      "First 4 : 42.54 %\n",
      "First 5 : 43.42 %\n"
     ]
    }
   ],
   "source": [
    "contrib = lambda i : 100 * sum_s_evals[i-1] / sum_s_evals[-1]\n",
    "\n",
    "print(\"\\n\".join(\"First {} : {:.4} %\".format(*p) for p in [(i, contrib(i)) for i in [1, 2, 3, 4, 5]]))"
   ]
  },
  {
   "cell_type": "code",
   "execution_count": 246,
   "metadata": {
    "collapsed": false
   },
   "outputs": [
    {
     "data": {
      "text/plain": [
       "[<matplotlib.lines.Line2D at 0x10be4ca20>]"
      ]
     },
     "execution_count": 246,
     "metadata": {},
     "output_type": "execute_result"
    },
    {
     "data": {
      "image/png": "[encoded data removed]",
      "text/plain": [
       "<matplotlib.figure.Figure at 0x109370fd0>"
      ]
     },
     "metadata": {},
     "output_type": "display_data"
    }
   ],
   "source": [
    "plt.plot([contrib(i + 1) for i in range(sum_s_evals.size)])"
   ]
  },
  {
   "cell_type": "markdown",
   "metadata": {},
   "source": [
    "## Back to the task\n",
    "\n",
    "- Choose the eigvecs corresponding to the first two (highest) eigvals\n",
    "- Project the **normalized** data into $\\mathbb{R}^2$\n",
    "- Plot"
   ]
  },
  {
   "cell_type": "code",
   "execution_count": 247,
   "metadata": {
    "collapsed": false
   },
   "outputs": [
    {
     "name": "stdout",
     "output_type": "stream",
     "text": [
      "[ 178.36082561  157.5026053 ]\n",
      "(500, 2)\n"
     ]
    }
   ],
   "source": [
    "eigval_2 = sorted_evals[:2]\n",
    "eigvec_2 = sorted_evects[:, :2]\n",
    "\n",
    "print(eigval_2)\n",
    "print(eigvec_2.shape)"
   ]
  },
  {
   "cell_type": "code",
   "execution_count": 248,
   "metadata": {
    "collapsed": false
   },
   "outputs": [
    {
     "data": {
      "text/plain": [
       "(150, 2)"
      ]
     },
     "execution_count": 248,
     "metadata": {},
     "output_type": "execute_result"
    }
   ],
   "source": [
    "projection = np.dot(data_X_norm.T, eigvec_2)\n",
    "\n",
    "projection.shape"
   ]
  },
  {
   "cell_type": "code",
   "execution_count": 249,
   "metadata": {
    "collapsed": false
   },
   "outputs": [
    {
     "data": {
      "image/png": "[encoded data removed]",
      "text/plain": [
       "<matplotlib.figure.Figure at 0x10c31dd30>"
      ]
     },
     "metadata": {},
     "output_type": "display_data"
    }
   ],
   "source": [
    "fig = plt.figure()\n",
    "axs = fig.add_subplot(111)\n",
    "\n",
    "for l, c in zip([1., 2., 3.], ['r.', 'g.', 'b.']):\n",
    "    plt_rex.plot2d(projection[np.where(data_y == l)], False, axs=axs,\n",
    "                  x_lim=[-30, 30], y_lim=[-50, 50], hatch=c, show=False,\n",
    "                  plotlabel=\"class \" + str(l))"
   ]
  },
  {
   "cell_type": "markdown",
   "metadata": {},
   "source": [
    "### WooHoo"
   ]
  },
  {
   "cell_type": "markdown",
   "metadata": {},
   "source": [
    "# Multiclass LDA"
   ]
  },
  {
   "cell_type": "markdown",
   "metadata": {},
   "source": [
    "## Split the data based on class first"
   ]
  },
  {
   "cell_type": "code",
   "execution_count": 250,
   "metadata": {
    "collapsed": false
   },
   "outputs": [],
   "source": [
    "datas = {c : {\"data\" : np.copy(data_X[:, np.where(data_y == c)[0]])}\n",
    "         for c in np.unique(data_y)}"
   ]
  },
  {
   "cell_type": "code",
   "execution_count": 251,
   "metadata": {
    "collapsed": false
   },
   "outputs": [
    {
     "name": "stdout",
     "output_type": "stream",
     "text": [
      "Class 1.0 : dim 500, # 50\n",
      "Class 2.0 : dim 500, # 50\n",
      "Class 3.0 : dim 500, # 50\n"
     ]
    }
   ],
   "source": [
    "print(\"\\n\".join(\"Class {} : dim {}, # {}\".format(k, *v[\"data\"].shape) \n",
    "                for k, v in datas.items()))"
   ]
  },
  {
   "cell_type": "markdown",
   "metadata": {},
   "source": [
    "## Calculate $S_W$, $S_B$"
   ]
  },
  {
   "cell_type": "code",
   "execution_count": 252,
   "metadata": {
    "collapsed": false
   },
   "outputs": [
    {
     "data": {
      "text/plain": [
       "(500, 500)"
      ]
     },
     "execution_count": 252,
     "metadata": {},
     "output_type": "execute_result"
    }
   ],
   "source": [
    "ddof = 0\n",
    "for k, v in datas.items():\n",
    "    datas[k][\"mean\"] = np.mean(v[\"data\"], axis=1)\n",
    "    datas[k][\"cov\"] = np.cov(v[\"data\"], ddof=ddof)\n",
    "    datas[k][\"n\"] = v[\"data\"].shape[1]\n",
    "\n",
    "datas[1.0][\"cov\"].shape"
   ]
  },
  {
   "cell_type": "code",
   "execution_count": 253,
   "metadata": {
    "collapsed": false
   },
   "outputs": [
    {
     "data": {
      "text/plain": [
       "(500, 500)"
      ]
     },
     "execution_count": 253,
     "metadata": {},
     "output_type": "execute_result"
    }
   ],
   "source": [
    "S_w = sum([v[\"cov\"] * (v[\"n\"] - ddof) for v in datas.values()])\n",
    "S_w.shape"
   ]
  },
  {
   "cell_type": "code",
   "execution_count": 254,
   "metadata": {
    "collapsed": false
   },
   "outputs": [
    {
     "data": {
      "text/plain": [
       "(500,)"
      ]
     },
     "execution_count": 254,
     "metadata": {},
     "output_type": "execute_result"
    }
   ],
   "source": [
    "data_mean = np.mean(data_X, axis=1)\n",
    "data_mean.shape"
   ]
  },
  {
   "cell_type": "code",
   "execution_count": 187,
   "metadata": {
    "collapsed": false
   },
   "outputs": [
    {
     "data": {
      "text/plain": [
       "True"
      ]
     },
     "execution_count": 187,
     "metadata": {},
     "output_type": "execute_result"
    }
   ],
   "source": [
    "np.allclose(data_mean - (1/150) * sum([50 * datas[c][\"mean\"] for c in datas.keys()]),\n",
    "           np.zeros(500))"
   ]
  },
  {
   "cell_type": "code",
   "execution_count": 188,
   "metadata": {
    "collapsed": false
   },
   "outputs": [
    {
     "data": {
      "text/plain": [
       "True"
      ]
     },
     "execution_count": 188,
     "metadata": {},
     "output_type": "execute_result"
    }
   ],
   "source": [
    "np.allclose(np.mean(np.vstack([datas[k][\"mean\"] for k in datas.keys()]), axis=0) - data_mean, np.zeros(500))"
   ]
  },
  {
   "cell_type": "code",
   "execution_count": 255,
   "metadata": {
    "collapsed": false
   },
   "outputs": [
    {
     "data": {
      "text/plain": [
       "(500, 500)"
      ]
     },
     "execution_count": 255,
     "metadata": {},
     "output_type": "execute_result"
    }
   ],
   "source": [
    "S_b = np.zeros(S_w.shape)\n",
    "for v in datas.values():\n",
    "    mean_diff = v[\"mean\"] - data_mean\n",
    "    mean_diff = mean_diff.reshape(mean_diff.shape[0], 1)\n",
    "    S_b += v[\"n\"] * mean_diff.dot(mean_diff.T)  # / v[\"n\"]\n",
    "    \n",
    "S_b.shape"
   ]
  },
  {
   "cell_type": "code",
   "execution_count": 200,
   "metadata": {
    "collapsed": false
   },
   "outputs": [
    {
     "ename": "AssertionError",
     "evalue": "\nArrays are not almost equal to 6 decimals\n\n(mismatch 100.0%)\n x: array([[  46.771789,  -22.394256,   39.4934  , ...,   -2.109421,\n         -29.786393,  -31.561474],\n       [ -22.394256,   29.415908,   33.254963, ...,  -27.328055,...\n y: array([[-130.912725,   -3.112319,   -6.313061, ...,    3.688155,\n          -5.493464,  -11.109758],\n       [  -3.112319, -128.834601,  -15.153121, ...,   14.877384,...",
     "output_type": "error",
     "traceback": [
      "\u001b[0;31m---------------------------------------------------------------------------\u001b[0m",
      "\u001b[0;31mAssertionError\u001b[0m                            Traceback (most recent call last)",
      "\u001b[0;32m<ipython-input-200-4bfc73d672d8>\u001b[0m in \u001b[0;36m<module>\u001b[0;34m()\u001b[0m\n\u001b[1;32m      1\u001b[0m \u001b[0mS_t\u001b[0m \u001b[0;34m=\u001b[0m \u001b[0mnp\u001b[0m\u001b[0;34m.\u001b[0m\u001b[0mcov\u001b[0m\u001b[0;34m(\u001b[0m\u001b[0mdata_X\u001b[0m\u001b[0;34m)\u001b[0m\u001b[0;34m\u001b[0m\u001b[0m\n\u001b[0;32m----> 2\u001b[0;31m \u001b[0mnp\u001b[0m\u001b[0;34m.\u001b[0m\u001b[0mtesting\u001b[0m\u001b[0;34m.\u001b[0m\u001b[0massert_array_almost_equal\u001b[0m\u001b[0;34m(\u001b[0m\u001b[0mS_b\u001b[0m\u001b[0;34m,\u001b[0m \u001b[0mS_t\u001b[0m \u001b[0;34m-\u001b[0m \u001b[0mS_w\u001b[0m\u001b[0;34m)\u001b[0m\u001b[0;34m\u001b[0m\u001b[0m\n\u001b[0m",
      "\u001b[0;32m/Users/myrmidon/.conda/envs/pattrex/lib/python3.4/site-packages/numpy/testing/utils.py\u001b[0m in \u001b[0;36massert_array_almost_equal\u001b[0;34m(x, y, decimal, err_msg, verbose)\u001b[0m\n\u001b[1;32m    840\u001b[0m     assert_array_compare(compare, x, y, err_msg=err_msg, verbose=verbose,\n\u001b[1;32m    841\u001b[0m              \u001b[0mheader\u001b[0m\u001b[0;34m=\u001b[0m\u001b[0;34m(\u001b[0m\u001b[0;34m'Arrays are not almost equal to %d decimals'\u001b[0m \u001b[0;34m%\u001b[0m \u001b[0mdecimal\u001b[0m\u001b[0;34m)\u001b[0m\u001b[0;34m,\u001b[0m\u001b[0;34m\u001b[0m\u001b[0m\n\u001b[0;32m--> 842\u001b[0;31m              precision=decimal)\n\u001b[0m\u001b[1;32m    843\u001b[0m \u001b[0;34m\u001b[0m\u001b[0m\n\u001b[1;32m    844\u001b[0m \u001b[0;34m\u001b[0m\u001b[0m\n",
      "\u001b[0;32m/Users/myrmidon/.conda/envs/pattrex/lib/python3.4/site-packages/numpy/testing/utils.py\u001b[0m in \u001b[0;36massert_array_compare\u001b[0;34m(comparison, x, y, err_msg, verbose, header, precision)\u001b[0m\n\u001b[1;32m    663\u001b[0m                                 names=('x', 'y'), precision=precision)\n\u001b[1;32m    664\u001b[0m             \u001b[0;32mif\u001b[0m \u001b[0;32mnot\u001b[0m \u001b[0mcond\u001b[0m \u001b[0;34m:\u001b[0m\u001b[0;34m\u001b[0m\u001b[0m\n\u001b[0;32m--> 665\u001b[0;31m                 \u001b[0;32mraise\u001b[0m \u001b[0mAssertionError\u001b[0m\u001b[0;34m(\u001b[0m\u001b[0mmsg\u001b[0m\u001b[0;34m)\u001b[0m\u001b[0;34m\u001b[0m\u001b[0m\n\u001b[0m\u001b[1;32m    666\u001b[0m     \u001b[0;32mexcept\u001b[0m \u001b[0mValueError\u001b[0m \u001b[0;32mas\u001b[0m \u001b[0me\u001b[0m\u001b[0;34m:\u001b[0m\u001b[0;34m\u001b[0m\u001b[0m\n\u001b[1;32m    667\u001b[0m         \u001b[0;32mimport\u001b[0m \u001b[0mtraceback\u001b[0m\u001b[0;34m\u001b[0m\u001b[0m\n",
      "\u001b[0;31mAssertionError\u001b[0m: \nArrays are not almost equal to 6 decimals\n\n(mismatch 100.0%)\n x: array([[  46.771789,  -22.394256,   39.4934  , ...,   -2.109421,\n         -29.786393,  -31.561474],\n       [ -22.394256,   29.415908,   33.254963, ...,  -27.328055,...\n y: array([[-130.912725,   -3.112319,   -6.313061, ...,    3.688155,\n          -5.493464,  -11.109758],\n       [  -3.112319, -128.834601,  -15.153121, ...,   14.877384,..."
     ]
    }
   ],
   "source": [
    "S_t = np.cov(data_X)\n",
    "np.testing.assert_array_almost_equal(S_b, S_t - S_w)"
   ]
  },
  {
   "cell_type": "code",
   "execution_count": 256,
   "metadata": {
    "collapsed": false
   },
   "outputs": [
    {
     "name": "stdout",
     "output_type": "stream",
     "text": [
      "(500,) (500, 500)\n"
     ]
    }
   ],
   "source": [
    "evals_L, evects_L = np.linalg.eigh(np.linalg.inv(S_w).dot(S_b))\n",
    "\n",
    "print(evals_L.shape, evects_L.shape)"
   ]
  },
  {
   "cell_type": "code",
   "execution_count": 257,
   "metadata": {
    "collapsed": false
   },
   "outputs": [
    {
     "name": "stdout",
     "output_type": "stream",
     "text": [
      "0\n"
     ]
    },
    {
     "ename": "AssertionError",
     "evalue": "\nArrays are not almost equal to 6 decimals\n\n(mismatch 100.0%)\n x: array([[  7.175487e+17],\n       [  1.562347e+16],\n       [ -8.034747e+17],...\n y: array([[  2.681538e+17],\n       [  7.818091e+16],\n       [  7.985324e+17],...",
     "output_type": "error",
     "traceback": [
      "\u001b[0;31m---------------------------------------------------------------------------\u001b[0m",
      "\u001b[0;31mAssertionError\u001b[0m                            Traceback (most recent call last)",
      "\u001b[0;32m<ipython-input-257-1a6da06c7493>\u001b[0m in \u001b[0;36m<module>\u001b[0;34m()\u001b[0m\n\u001b[1;32m      5\u001b[0m     \u001b[0mprint\u001b[0m\u001b[0;34m(\u001b[0m\u001b[0mi\u001b[0m\u001b[0;34m)\u001b[0m\u001b[0;34m\u001b[0m\u001b[0m\n\u001b[1;32m      6\u001b[0m     np.testing.assert_array_almost_equal(np.linalg.inv(S_w).dot(S_b).dot(evi),\n\u001b[0;32m----> 7\u001b[0;31m                                         evals_L[i] * evi)\n\u001b[0m",
      "\u001b[0;32m/Users/myrmidon/.conda/envs/pattrex/lib/python3.4/site-packages/numpy/testing/utils.py\u001b[0m in \u001b[0;36massert_array_almost_equal\u001b[0;34m(x, y, decimal, err_msg, verbose)\u001b[0m\n\u001b[1;32m    840\u001b[0m     assert_array_compare(compare, x, y, err_msg=err_msg, verbose=verbose,\n\u001b[1;32m    841\u001b[0m              \u001b[0mheader\u001b[0m\u001b[0;34m=\u001b[0m\u001b[0;34m(\u001b[0m\u001b[0;34m'Arrays are not almost equal to %d decimals'\u001b[0m \u001b[0;34m%\u001b[0m \u001b[0mdecimal\u001b[0m\u001b[0;34m)\u001b[0m\u001b[0;34m,\u001b[0m\u001b[0;34m\u001b[0m\u001b[0m\n\u001b[0;32m--> 842\u001b[0;31m              precision=decimal)\n\u001b[0m\u001b[1;32m    843\u001b[0m \u001b[0;34m\u001b[0m\u001b[0m\n\u001b[1;32m    844\u001b[0m \u001b[0;34m\u001b[0m\u001b[0m\n",
      "\u001b[0;32m/Users/myrmidon/.conda/envs/pattrex/lib/python3.4/site-packages/numpy/testing/utils.py\u001b[0m in \u001b[0;36massert_array_compare\u001b[0;34m(comparison, x, y, err_msg, verbose, header, precision)\u001b[0m\n\u001b[1;32m    663\u001b[0m                                 names=('x', 'y'), precision=precision)\n\u001b[1;32m    664\u001b[0m             \u001b[0;32mif\u001b[0m \u001b[0;32mnot\u001b[0m \u001b[0mcond\u001b[0m \u001b[0;34m:\u001b[0m\u001b[0;34m\u001b[0m\u001b[0m\n\u001b[0;32m--> 665\u001b[0;31m                 \u001b[0;32mraise\u001b[0m \u001b[0mAssertionError\u001b[0m\u001b[0;34m(\u001b[0m\u001b[0mmsg\u001b[0m\u001b[0;34m)\u001b[0m\u001b[0;34m\u001b[0m\u001b[0m\n\u001b[0m\u001b[1;32m    666\u001b[0m     \u001b[0;32mexcept\u001b[0m \u001b[0mValueError\u001b[0m \u001b[0;32mas\u001b[0m \u001b[0me\u001b[0m\u001b[0;34m:\u001b[0m\u001b[0;34m\u001b[0m\u001b[0m\n\u001b[1;32m    667\u001b[0m         \u001b[0;32mimport\u001b[0m \u001b[0mtraceback\u001b[0m\u001b[0;34m\u001b[0m\u001b[0m\n",
      "\u001b[0;31mAssertionError\u001b[0m: \nArrays are not almost equal to 6 decimals\n\n(mismatch 100.0%)\n x: array([[  7.175487e+17],\n       [  1.562347e+16],\n       [ -8.034747e+17],...\n y: array([[  2.681538e+17],\n       [  7.818091e+16],\n       [  7.985324e+17],..."
     ]
    }
   ],
   "source": [
    "dims = evals_L.shape[0]\n",
    "\n",
    "for i in range(dims):\n",
    "    evi = evects_L[:, i].reshape(dim, 1)\n",
    "    print(i)\n",
    "    np.testing.assert_array_almost_equal(np.linalg.inv(S_w).dot(S_b).dot(evi),\n",
    "                                        evals_L[i] * evi)"
   ]
  },
  {
   "cell_type": "code",
   "execution_count": 258,
   "metadata": {
    "collapsed": false
   },
   "outputs": [
    {
     "data": {
      "text/plain": [
       "[<matplotlib.lines.Line2D at 0x10bde8240>]"
      ]
     },
     "execution_count": 258,
     "metadata": {},
     "output_type": "execute_result"
    },
    {
     "data": {
      "image/png": "[encoded data removed]",
      "text/plain": [
       "<matplotlib.figure.Figure at 0x10952e780>"
      ]
     },
     "metadata": {},
     "output_type": "display_data"
    }
   ],
   "source": [
    "plt.plot(np.arange(evals_L.size), evals)"
   ]
  },
  {
   "cell_type": "code",
   "execution_count": 259,
   "metadata": {
    "collapsed": false
   },
   "outputs": [
    {
     "name": "stdout",
     "output_type": "stream",
     "text": [
      "[  9.76172857e+18   3.23052522e+18]\n",
      "(500, 2)\n"
     ]
    }
   ],
   "source": [
    "# sort descending\n",
    "idx_L = np.argsort(evals_L)[::-1]\n",
    "sorted_evals_L = evals_L[idx]\n",
    "sorted_evects_L = evects_L[:, idx]\n",
    "\n",
    "eigval_L_2 = sorted_evals_L[:2]\n",
    "eigvec_L_2 = sorted_evects_L[:, :2]\n",
    "\n",
    "print(eigval_L_2)\n",
    "print(eigvec_L_2.shape)"
   ]
  },
  {
   "cell_type": "code",
   "execution_count": 260,
   "metadata": {
    "collapsed": false
   },
   "outputs": [
    {
     "data": {
      "text/plain": [
       "(150, 2)"
      ]
     },
     "execution_count": 260,
     "metadata": {},
     "output_type": "execute_result"
    }
   ],
   "source": [
    "projection_L = (data_X.T).dot(eigvec_L_2)\n",
    "\n",
    "projection_L.shape"
   ]
  },
  {
   "cell_type": "code",
   "execution_count": 267,
   "metadata": {
    "collapsed": false
   },
   "outputs": [
    {
     "data": {
      "text/plain": [
       "<matplotlib.lines.Line2D at 0x108b3a940>"
      ]
     },
     "execution_count": 267,
     "metadata": {},
     "output_type": "execute_result"
    },
    {
     "data": {
      "image/png": "[encoded data removed]",
      "text/plain": [
       "<matplotlib.figure.Figure at 0x10b6a3f98>"
      ]
     },
     "metadata": {},
     "output_type": "display_data"
    }
   ],
   "source": [
    "fig = plt.figure(figsize=(12, 4))\n",
    "axs1 = fig.add_subplot(121)\n",
    "axs2 = fig.add_subplot(122)\n",
    "\n",
    "for l, c in zip([1., 2., 3.], ['r.', 'g.', 'b.']):\n",
    "    plt_rex.plot2d(projection_L[np.where(data_y == l)], False, axs=axs1,\n",
    "                  x_lim=[-30, 30], y_lim=[-50, 50], hatch=c, show=False,\n",
    "                  plotlabel=\"class \" + str(l), title=\"LDA\")\n",
    "    plt_rex.plot2d(projection[np.where(data_y == l)], False, axs=axs2,\n",
    "                  x_lim=[-30, 30], y_lim=[-50, 50], hatch=c, show=False,\n",
    "                  plotlabel=\"class \" + str(l), title=\"PCA\")\n",
    "    \n",
    "axs1.grid()\n",
    "axs1.axvline(x=0)\n",
    "axs1.axhline(y=0)\n",
    "\n",
    "axs2.grid()\n",
    "axs2.axvline(x=0)\n",
    "axs2.axhline(y=0)"
   ]
  },
  {
   "cell_type": "code",
   "execution_count": 264,
   "metadata": {
    "collapsed": true
   },
   "outputs": [],
   "source": [
    "plt_rex.plot2d??"
   ]
  },
  {
   "cell_type": "markdown",
   "metadata": {},
   "source": [
    "# In $\\mathbb{R}^3$"
   ]
  },
  {
   "cell_type": "code",
   "execution_count": 268,
   "metadata": {
    "collapsed": false
   },
   "outputs": [
    {
     "name": "stdout",
     "output_type": "stream",
     "text": [
      "[  9.76172857e+18   3.23052522e+18   3.10432128e+18]\n",
      "(500, 3)\n"
     ]
    },
    {
     "data": {
      "text/plain": [
       "(150, 3)"
      ]
     },
     "execution_count": 268,
     "metadata": {},
     "output_type": "execute_result"
    }
   ],
   "source": [
    "eigval_L_3 = sorted_evals_L[:3]\n",
    "eigvec_L_3 = sorted_evects_L[:, :3]\n",
    "\n",
    "print(eigval_L_3)\n",
    "print(eigvec_L_3.shape)\n",
    "\n",
    "projection_L_3 = (data_X.T).dot(eigvec_L_3)\n",
    "\n",
    "projection_L_3.shape"
   ]
  },
  {
   "cell_type": "code",
   "execution_count": 269,
   "metadata": {
    "collapsed": false
   },
   "outputs": [
    {
     "name": "stdout",
     "output_type": "stream",
     "text": [
      "[ 178.36082561  157.5026053     7.76115581]\n",
      "(500, 3)\n"
     ]
    },
    {
     "data": {
      "text/plain": [
       "(150, 3)"
      ]
     },
     "execution_count": 269,
     "metadata": {},
     "output_type": "execute_result"
    }
   ],
   "source": [
    "eigval_3 = sorted_evals[:3]\n",
    "eigvec_3 = sorted_evects[:, :3]\n",
    "\n",
    "print(eigval_3)\n",
    "print(eigvec_3.shape)\n",
    "\n",
    "projection_3 = (data_X.T).dot(eigvec_3)\n",
    "\n",
    "projection_3.shape"
   ]
  },
  {
   "cell_type": "code",
   "execution_count": 290,
   "metadata": {
    "collapsed": false
   },
   "outputs": [
    {
     "data": {
      "application/javascript": [
       "/* Put everything inside the global mpl namespace */\n",
       "window.mpl = {};\n",
       "\n",
       "mpl.get_websocket_type = function() {\n",
       "    if (typeof(WebSocket) !== 'undefined') {\n",
       "        return WebSocket;\n",
       "    } else if (typeof(MozWebSocket) !== 'undefined') {\n",
       "        return MozWebSocket;\n",
       "    } else {\n",
       "        alert('Your browser does not have WebSocket support.' +\n",
       "              'Please try Chrome, Safari or Firefox ≥ 6. ' +\n",
       "              'Firefox 4 and 5 are also supported but you ' +\n",
       "              'have to enable WebSockets in about:config.');\n",
       "    };\n",
       "}\n",
       "\n",
       "mpl.figure = function(figure_id, websocket, ondownload, parent_element) {\n",
       "    this.id = figure_id;\n",
       "\n",
       "    this.ws = websocket;\n",
       "\n",
       "    this.supports_binary = (this.ws.binaryType != undefined);\n",
       "\n",
       "    if (!this.supports_binary) {\n",
       "        var warnings = document.getElementById(\"mpl-warnings\");\n",
       "        if (warnings) {\n",
       "            warnings.style.display = 'block';\n",
       "            warnings.textContent = (\n",
       "                \"This browser does not support binary websocket messages. \" +\n",
       "                    \"Performance may be slow.\");\n",
       "        }\n",
       "    }\n",
       "\n",
       "    this.imageObj = new Image();\n",
       "\n",
       "    this.context = undefined;\n",
       "    this.message = undefined;\n",
       "    this.canvas = undefined;\n",
       "    this.rubberband_canvas = undefined;\n",
       "    this.rubberband_context = undefined;\n",
       "    this.format_dropdown = undefined;\n",
       "\n",
       "    this.image_mode = 'full';\n",
       "\n",
       "    this.root = $('<div/>');\n",
       "    this._root_extra_style(this.root)\n",
       "    this.root.attr('style', 'display: inline-block');\n",
       "\n",
       "    $(parent_element).append(this.root);\n",
       "\n",
       "    this._init_header(this);\n",
       "    this._init_canvas(this);\n",
       "    this._init_toolbar(this);\n",
       "\n",
       "    var fig = this;\n",
       "\n",
       "    this.waiting = false;\n",
       "\n",
       "    this.ws.onopen =  function () {\n",
       "            fig.send_message(\"supports_binary\", {value: fig.supports_binary});\n",
       "            fig.send_message(\"send_image_mode\", {});\n",
       "            fig.send_message(\"refresh\", {});\n",
       "        }\n",
       "\n",
       "    this.imageObj.onload = function() {\n",
       "            if (fig.image_mode == 'full') {\n",
       "                // Full images could contain transparency (where diff images\n",
       "                // almost always do), so we need to clear the canvas so that\n",
       "                // there is no ghosting.\n",
       "                fig.context.clearRect(0, 0, fig.canvas.width, fig.canvas.height);\n",
       "            }\n",
       "            fig.context.drawImage(fig.imageObj, 0, 0);\n",
       "            fig.waiting = false;\n",
       "        };\n",
       "\n",
       "    this.imageObj.onunload = function() {\n",
       "        this.ws.close();\n",
       "    }\n",
       "\n",
       "    this.ws.onmessage = this._make_on_message_function(this);\n",
       "\n",
       "    this.ondownload = ondownload;\n",
       "}\n",
       "\n",
       "mpl.figure.prototype._init_header = function() {\n",
       "    var titlebar = $(\n",
       "        '<div class=\"ui-dialog-titlebar ui-widget-header ui-corner-all ' +\n",
       "        'ui-helper-clearfix\"/>');\n",
       "    var titletext = $(\n",
       "        '<div class=\"ui-dialog-title\" style=\"width: 100%; ' +\n",
       "        'text-align: center; padding: 3px;\"/>');\n",
       "    titlebar.append(titletext)\n",
       "    this.root.append(titlebar);\n",
       "    this.header = titletext[0];\n",
       "}\n",
       "\n",
       "\n",
       "\n",
       "mpl.figure.prototype._canvas_extra_style = function(canvas_div) {\n",
       "\n",
       "}\n",
       "\n",
       "\n",
       "mpl.figure.prototype._root_extra_style = function(canvas_div) {\n",
       "\n",
       "}\n",
       "\n",
       "mpl.figure.prototype._init_canvas = function() {\n",
       "    var fig = this;\n",
       "\n",
       "    var canvas_div = $('<div/>');\n",
       "\n",
       "    canvas_div.attr('style', 'position: relative; clear: both; outline: 0');\n",
       "\n",
       "    function canvas_keyboard_event(event) {\n",
       "        return fig.key_event(event, event['data']);\n",
       "    }\n",
       "\n",
       "    canvas_div.keydown('key_press', canvas_keyboard_event);\n",
       "    canvas_div.keyup('key_release', canvas_keyboard_event);\n",
       "    this.canvas_div = canvas_div\n",
       "    this._canvas_extra_style(canvas_div)\n",
       "    this.root.append(canvas_div);\n",
       "\n",
       "    var canvas = $('<canvas/>');\n",
       "    canvas.addClass('mpl-canvas');\n",
       "    canvas.attr('style', \"left: 0; top: 0; z-index: 0; outline: 0\")\n",
       "\n",
       "    this.canvas = canvas[0];\n",
       "    this.context = canvas[0].getContext(\"2d\");\n",
       "\n",
       "    var rubberband = $('<canvas/>');\n",
       "    rubberband.attr('style', \"position: absolute; left: 0; top: 0; z-index: 1;\")\n",
       "\n",
       "    var pass_mouse_events = true;\n",
       "\n",
       "    canvas_div.resizable({\n",
       "        start: function(event, ui) {\n",
       "            pass_mouse_events = false;\n",
       "        },\n",
       "        resize: function(event, ui) {\n",
       "            fig.request_resize(ui.size.width, ui.size.height);\n",
       "        },\n",
       "        stop: function(event, ui) {\n",
       "            pass_mouse_events = true;\n",
       "            fig.request_resize(ui.size.width, ui.size.height);\n",
       "        },\n",
       "    });\n",
       "\n",
       "    function mouse_event_fn(event) {\n",
       "        if (pass_mouse_events)\n",
       "            return fig.mouse_event(event, event['data']);\n",
       "    }\n",
       "\n",
       "    rubberband.mousedown('button_press', mouse_event_fn);\n",
       "    rubberband.mouseup('button_release', mouse_event_fn);\n",
       "    // Throttle sequential mouse events to 1 every 20ms.\n",
       "    rubberband.mousemove('motion_notify', mouse_event_fn);\n",
       "\n",
       "    rubberband.mouseenter('figure_enter', mouse_event_fn);\n",
       "    rubberband.mouseleave('figure_leave', mouse_event_fn);\n",
       "\n",
       "    canvas_div.on(\"wheel\", function (event) {\n",
       "        event = event.originalEvent;\n",
       "        event['data'] = 'scroll'\n",
       "        if (event.deltaY < 0) {\n",
       "            event.step = 1;\n",
       "        } else {\n",
       "            event.step = -1;\n",
       "        }\n",
       "        mouse_event_fn(event);\n",
       "    });\n",
       "\n",
       "    canvas_div.append(canvas);\n",
       "    canvas_div.append(rubberband);\n",
       "\n",
       "    this.rubberband = rubberband;\n",
       "    this.rubberband_canvas = rubberband[0];\n",
       "    this.rubberband_context = rubberband[0].getContext(\"2d\");\n",
       "    this.rubberband_context.strokeStyle = \"#000000\";\n",
       "\n",
       "    this._resize_canvas = function(width, height) {\n",
       "        // Keep the size of the canvas, canvas container, and rubber band\n",
       "        // canvas in synch.\n",
       "        canvas_div.css('width', width)\n",
       "        canvas_div.css('height', height)\n",
       "\n",
       "        canvas.attr('width', width);\n",
       "        canvas.attr('height', height);\n",
       "\n",
       "        rubberband.attr('width', width);\n",
       "        rubberband.attr('height', height);\n",
       "    }\n",
       "\n",
       "    // Set the figure to an initial 600x600px, this will subsequently be updated\n",
       "    // upon first draw.\n",
       "    this._resize_canvas(600, 600);\n",
       "\n",
       "    // Disable right mouse context menu.\n",
       "    $(this.rubberband_canvas).bind(\"contextmenu\",function(e){\n",
       "        return false;\n",
       "    });\n",
       "\n",
       "    function set_focus () {\n",
       "        canvas.focus();\n",
       "        canvas_div.focus();\n",
       "    }\n",
       "\n",
       "    window.setTimeout(set_focus, 100);\n",
       "}\n",
       "\n",
       "mpl.figure.prototype._init_toolbar = function() {\n",
       "    var fig = this;\n",
       "\n",
       "    var nav_element = $('<div/>')\n",
       "    nav_element.attr('style', 'width: 100%');\n",
       "    this.root.append(nav_element);\n",
       "\n",
       "    // Define a callback function for later on.\n",
       "    function toolbar_event(event) {\n",
       "        return fig.toolbar_button_onclick(event['data']);\n",
       "    }\n",
       "    function toolbar_mouse_event(event) {\n",
       "        return fig.toolbar_button_onmouseover(event['data']);\n",
       "    }\n",
       "\n",
       "    for(var toolbar_ind in mpl.toolbar_items) {\n",
       "        var name = mpl.toolbar_items[toolbar_ind][0];\n",
       "        var tooltip = mpl.toolbar_items[toolbar_ind][1];\n",
       "        var image = mpl.toolbar_items[toolbar_ind][2];\n",
       "        var method_name = mpl.toolbar_items[toolbar_ind][3];\n",
       "\n",
       "        if (!name) {\n",
       "            // put a spacer in here.\n",
       "            continue;\n",
       "        }\n",
       "        var button = $('<button/>');\n",
       "        button.addClass('ui-button ui-widget ui-state-default ui-corner-all ' +\n",
       "                        'ui-button-icon-only');\n",
       "        button.attr('role', 'button');\n",
       "        button.attr('aria-disabled', 'false');\n",
       "        button.click(method_name, toolbar_event);\n",
       "        button.mouseover(tooltip, toolbar_mouse_event);\n",
       "\n",
       "        var icon_img = $('<span/>');\n",
       "        icon_img.addClass('ui-button-icon-primary ui-icon');\n",
       "        icon_img.addClass(image);\n",
       "        icon_img.addClass('ui-corner-all');\n",
       "\n",
       "        var tooltip_span = $('<span/>');\n",
       "        tooltip_span.addClass('ui-button-text');\n",
       "        tooltip_span.html(tooltip);\n",
       "\n",
       "        button.append(icon_img);\n",
       "        button.append(tooltip_span);\n",
       "\n",
       "        nav_element.append(button);\n",
       "    }\n",
       "\n",
       "    var fmt_picker_span = $('<span/>');\n",
       "\n",
       "    var fmt_picker = $('<select/>');\n",
       "    fmt_picker.addClass('mpl-toolbar-option ui-widget ui-widget-content');\n",
       "    fmt_picker_span.append(fmt_picker);\n",
       "    nav_element.append(fmt_picker_span);\n",
       "    this.format_dropdown = fmt_picker[0];\n",
       "\n",
       "    for (var ind in mpl.extensions) {\n",
       "        var fmt = mpl.extensions[ind];\n",
       "        var option = $(\n",
       "            '<option/>', {selected: fmt === mpl.default_extension}).html(fmt);\n",
       "        fmt_picker.append(option)\n",
       "    }\n",
       "\n",
       "    // Add hover states to the ui-buttons\n",
       "    $( \".ui-button\" ).hover(\n",
       "        function() { $(this).addClass(\"ui-state-hover\");},\n",
       "        function() { $(this).removeClass(\"ui-state-hover\");}\n",
       "    );\n",
       "\n",
       "    var status_bar = $('<span class=\"mpl-message\"/>');\n",
       "    nav_element.append(status_bar);\n",
       "    this.message = status_bar[0];\n",
       "}\n",
       "\n",
       "mpl.figure.prototype.request_resize = function(x_pixels, y_pixels) {\n",
       "    // Request matplotlib to resize the figure. Matplotlib will then trigger a resize in the client,\n",
       "    // which will in turn request a refresh of the image.\n",
       "    this.send_message('resize', {'width': x_pixels, 'height': y_pixels});\n",
       "}\n",
       "\n",
       "mpl.figure.prototype.send_message = function(type, properties) {\n",
       "    properties['type'] = type;\n",
       "    properties['figure_id'] = this.id;\n",
       "    this.ws.send(JSON.stringify(properties));\n",
       "}\n",
       "\n",
       "mpl.figure.prototype.send_draw_message = function() {\n",
       "    if (!this.waiting) {\n",
       "        this.waiting = true;\n",
       "        this.ws.send(JSON.stringify({type: \"draw\", figure_id: this.id}));\n",
       "    }\n",
       "}\n",
       "\n",
       "\n",
       "mpl.figure.prototype.handle_save = function(fig, msg) {\n",
       "    var format_dropdown = fig.format_dropdown;\n",
       "    var format = format_dropdown.options[format_dropdown.selectedIndex].value;\n",
       "    fig.ondownload(fig, format);\n",
       "}\n",
       "\n",
       "\n",
       "mpl.figure.prototype.handle_resize = function(fig, msg) {\n",
       "    var size = msg['size'];\n",
       "    if (size[0] != fig.canvas.width || size[1] != fig.canvas.height) {\n",
       "        fig._resize_canvas(size[0], size[1]);\n",
       "        fig.send_message(\"refresh\", {});\n",
       "    };\n",
       "}\n",
       "\n",
       "mpl.figure.prototype.handle_rubberband = function(fig, msg) {\n",
       "    var x0 = msg['x0'];\n",
       "    var y0 = fig.canvas.height - msg['y0'];\n",
       "    var x1 = msg['x1'];\n",
       "    var y1 = fig.canvas.height - msg['y1'];\n",
       "    x0 = Math.floor(x0) + 0.5;\n",
       "    y0 = Math.floor(y0) + 0.5;\n",
       "    x1 = Math.floor(x1) + 0.5;\n",
       "    y1 = Math.floor(y1) + 0.5;\n",
       "    var min_x = Math.min(x0, x1);\n",
       "    var min_y = Math.min(y0, y1);\n",
       "    var width = Math.abs(x1 - x0);\n",
       "    var height = Math.abs(y1 - y0);\n",
       "\n",
       "    fig.rubberband_context.clearRect(\n",
       "        0, 0, fig.canvas.width, fig.canvas.height);\n",
       "\n",
       "    fig.rubberband_context.strokeRect(min_x, min_y, width, height);\n",
       "}\n",
       "\n",
       "mpl.figure.prototype.handle_figure_label = function(fig, msg) {\n",
       "    // Updates the figure title.\n",
       "    fig.header.textContent = msg['label'];\n",
       "}\n",
       "\n",
       "mpl.figure.prototype.handle_cursor = function(fig, msg) {\n",
       "    var cursor = msg['cursor'];\n",
       "    switch(cursor)\n",
       "    {\n",
       "    case 0:\n",
       "        cursor = 'pointer';\n",
       "        break;\n",
       "    case 1:\n",
       "        cursor = 'default';\n",
       "        break;\n",
       "    case 2:\n",
       "        cursor = 'crosshair';\n",
       "        break;\n",
       "    case 3:\n",
       "        cursor = 'move';\n",
       "        break;\n",
       "    }\n",
       "    fig.rubberband_canvas.style.cursor = cursor;\n",
       "}\n",
       "\n",
       "mpl.figure.prototype.handle_message = function(fig, msg) {\n",
       "    fig.message.textContent = msg['message'];\n",
       "}\n",
       "\n",
       "mpl.figure.prototype.handle_draw = function(fig, msg) {\n",
       "    // Request the server to send over a new figure.\n",
       "    fig.send_draw_message();\n",
       "}\n",
       "\n",
       "mpl.figure.prototype.handle_image_mode = function(fig, msg) {\n",
       "    fig.image_mode = msg['mode'];\n",
       "}\n",
       "\n",
       "mpl.figure.prototype.updated_canvas_event = function() {\n",
       "    // Called whenever the canvas gets updated.\n",
       "    this.send_message(\"ack\", {});\n",
       "}\n",
       "\n",
       "// A function to construct a web socket function for onmessage handling.\n",
       "// Called in the figure constructor.\n",
       "mpl.figure.prototype._make_on_message_function = function(fig) {\n",
       "    return function socket_on_message(evt) {\n",
       "        if (evt.data instanceof Blob) {\n",
       "            /* FIXME: We get \"Resource interpreted as Image but\n",
       "             * transferred with MIME type text/plain:\" errors on\n",
       "             * Chrome.  But how to set the MIME type?  It doesn't seem\n",
       "             * to be part of the websocket stream */\n",
       "            evt.data.type = \"image/png\";\n",
       "\n",
       "            /* Free the memory for the previous frames */\n",
       "            if (fig.imageObj.src) {\n",
       "                (window.URL || window.webkitURL).revokeObjectURL(\n",
       "                    fig.imageObj.src);\n",
       "            }\n",
       "\n",
       "            fig.imageObj.src = (window.URL || window.webkitURL).createObjectURL(\n",
       "                evt.data);\n",
       "            fig.updated_canvas_event();\n",
       "            return;\n",
       "        }\n",
       "        else if (typeof evt.data === 'string' && evt.data.slice(0, 21) == \"data:image/png;base64\") {\n",
       "            fig.imageObj.src = evt.data;\n",
       "            fig.updated_canvas_event();\n",
       "            return;\n",
       "        }\n",
       "\n",
       "        var msg = JSON.parse(evt.data);\n",
       "        var msg_type = msg['type'];\n",
       "\n",
       "        // Call the  \"handle_{type}\" callback, which takes\n",
       "        // the figure and JSON message as its only arguments.\n",
       "        try {\n",
       "            var callback = fig[\"handle_\" + msg_type];\n",
       "        } catch (e) {\n",
       "            console.log(\"No handler for the '\" + msg_type + \"' message type: \", msg);\n",
       "            return;\n",
       "        }\n",
       "\n",
       "        if (callback) {\n",
       "            try {\n",
       "                // console.log(\"Handling '\" + msg_type + \"' message: \", msg);\n",
       "                callback(fig, msg);\n",
       "            } catch (e) {\n",
       "                console.log(\"Exception inside the 'handler_\" + msg_type + \"' callback:\", e, e.stack, msg);\n",
       "            }\n",
       "        }\n",
       "    };\n",
       "}\n",
       "\n",
       "// from http://stackoverflow.com/questions/1114465/getting-mouse-location-in-canvas\n",
       "mpl.findpos = function(e) {\n",
       "    //this section is from http://www.quirksmode.org/js/events_properties.html\n",
       "    var targ;\n",
       "    if (!e)\n",
       "        e = window.event;\n",
       "    if (e.target)\n",
       "        targ = e.target;\n",
       "    else if (e.srcElement)\n",
       "        targ = e.srcElement;\n",
       "    if (targ.nodeType == 3) // defeat Safari bug\n",
       "        targ = targ.parentNode;\n",
       "\n",
       "    // jQuery normalizes the pageX and pageY\n",
       "    // pageX,Y are the mouse positions relative to the document\n",
       "    // offset() returns the position of the element relative to the document\n",
       "    var x = e.pageX - $(targ).offset().left;\n",
       "    var y = e.pageY - $(targ).offset().top;\n",
       "\n",
       "    return {\"x\": x, \"y\": y};\n",
       "};\n",
       "\n",
       "mpl.figure.prototype.mouse_event = function(event, name) {\n",
       "    var canvas_pos = mpl.findpos(event)\n",
       "\n",
       "    if (name === 'button_press')\n",
       "    {\n",
       "        this.canvas.focus();\n",
       "        this.canvas_div.focus();\n",
       "    }\n",
       "\n",
       "    var x = canvas_pos.x;\n",
       "    var y = canvas_pos.y;\n",
       "\n",
       "    this.send_message(name, {x: x, y: y, button: event.button,\n",
       "                             step: event.step});\n",
       "\n",
       "    /* This prevents the web browser from automatically changing to\n",
       "     * the text insertion cursor when the button is pressed.  We want\n",
       "     * to control all of the cursor setting manually through the\n",
       "     * 'cursor' event from matplotlib */\n",
       "    event.preventDefault();\n",
       "    return false;\n",
       "}\n",
       "\n",
       "mpl.figure.prototype._key_event_extra = function(event, name) {\n",
       "    // Handle any extra behaviour associated with a key event\n",
       "}\n",
       "\n",
       "mpl.figure.prototype.key_event = function(event, name) {\n",
       "\n",
       "    // Prevent repeat events\n",
       "    if (name == 'key_press')\n",
       "    {\n",
       "        if (event.which === this._key)\n",
       "            return;\n",
       "        else\n",
       "            this._key = event.which;\n",
       "    }\n",
       "    if (name == 'key_release')\n",
       "        this._key = null;\n",
       "\n",
       "    var value = '';\n",
       "    if (event.ctrlKey && event.which != 17)\n",
       "        value += \"ctrl+\";\n",
       "    if (event.altKey && event.which != 18)\n",
       "        value += \"alt+\";\n",
       "    if (event.shiftKey && event.which != 16)\n",
       "        value += \"shift+\";\n",
       "\n",
       "    value += 'k';\n",
       "    value += event.which.toString();\n",
       "\n",
       "    this._key_event_extra(event, name);\n",
       "\n",
       "    this.send_message(name, {key: value});\n",
       "    return false;\n",
       "}\n",
       "\n",
       "mpl.figure.prototype.toolbar_button_onclick = function(name) {\n",
       "    if (name == 'download') {\n",
       "        this.handle_save(this, null);\n",
       "    } else {\n",
       "        this.send_message(\"toolbar_button\", {name: name});\n",
       "    }\n",
       "};\n",
       "\n",
       "mpl.figure.prototype.toolbar_button_onmouseover = function(tooltip) {\n",
       "    this.message.textContent = tooltip;\n",
       "};\n",
       "mpl.toolbar_items = [[\"Home\", \"Reset original view\", \"fa fa-home icon-home\", \"home\"], [\"Back\", \"Back to  previous view\", \"fa fa-arrow-left icon-arrow-left\", \"back\"], [\"Forward\", \"Forward to next view\", \"fa fa-arrow-right icon-arrow-right\", \"forward\"], [\"\", \"\", \"\", \"\"], [\"Pan\", \"Pan axes with left mouse, zoom with right\", \"fa fa-arrows icon-move\", \"pan\"], [\"Zoom\", \"Zoom to rectangle\", \"fa fa-square-o icon-check-empty\", \"zoom\"], [\"\", \"\", \"\", \"\"], [\"Download\", \"Download plot\", \"fa fa-floppy-o icon-save\", \"download\"]];\n",
       "\n",
       "mpl.extensions = [\"eps\", \"jpeg\", \"pdf\", \"png\", \"ps\", \"raw\", \"svg\", \"tif\"];\n",
       "\n",
       "mpl.default_extension = \"png\";var comm_websocket_adapter = function(comm) {\n",
       "    // Create a \"websocket\"-like object which calls the given IPython comm\n",
       "    // object with the appropriate methods. Currently this is a non binary\n",
       "    // socket, so there is still some room for performance tuning.\n",
       "    var ws = {};\n",
       "\n",
       "    ws.close = function() {\n",
       "        comm.close()\n",
       "    };\n",
       "    ws.send = function(m) {\n",
       "        //console.log('sending', m);\n",
       "        comm.send(m);\n",
       "    };\n",
       "    // Register the callback with on_msg.\n",
       "    comm.on_msg(function(msg) {\n",
       "        //console.log('receiving', msg['content']['data'], msg);\n",
       "        // Pass the mpl event to the overriden (by mpl) onmessage function.\n",
       "        ws.onmessage(msg['content']['data'])\n",
       "    });\n",
       "    return ws;\n",
       "}\n",
       "\n",
       "mpl.mpl_figure_comm = function(comm, msg) {\n",
       "    // This is the function which gets called when the mpl process\n",
       "    // starts-up an IPython Comm through the \"matplotlib\" channel.\n",
       "\n",
       "    var id = msg.content.data.id;\n",
       "    // Get hold of the div created by the display call when the Comm\n",
       "    // socket was opened in Python.\n",
       "    var element = $(\"#\" + id);\n",
       "    var ws_proxy = comm_websocket_adapter(comm)\n",
       "\n",
       "    function ondownload(figure, format) {\n",
       "        window.open(figure.imageObj.src);\n",
       "    }\n",
       "\n",
       "    var fig = new mpl.figure(id, ws_proxy,\n",
       "                           ondownload,\n",
       "                           element.get(0));\n",
       "\n",
       "    // Call onopen now - mpl needs it, as it is assuming we've passed it a real\n",
       "    // web socket which is closed, not our websocket->open comm proxy.\n",
       "    ws_proxy.onopen();\n",
       "\n",
       "    fig.parent_element = element.get(0);\n",
       "    fig.cell_info = mpl.find_output_cell(\"<div id='\" + id + \"'></div>\");\n",
       "    if (!fig.cell_info) {\n",
       "        console.error(\"Failed to find cell for figure\", id, fig);\n",
       "        return;\n",
       "    }\n",
       "\n",
       "    var output_index = fig.cell_info[2]\n",
       "    var cell = fig.cell_info[0];\n",
       "\n",
       "};\n",
       "\n",
       "mpl.figure.prototype.handle_close = function(fig, msg) {\n",
       "    // Update the output cell to use the data from the current canvas.\n",
       "    fig.push_to_output();\n",
       "    var dataURL = fig.canvas.toDataURL();\n",
       "    // Re-enable the keyboard manager in IPython - without this line, in FF,\n",
       "    // the notebook keyboard shortcuts fail.\n",
       "    IPython.keyboard_manager.enable()\n",
       "    $(fig.parent_element).html('<img src=\"' + dataURL + '\">');\n",
       "    fig.send_message('closing', {});\n",
       "    fig.ws.close()\n",
       "}\n",
       "\n",
       "mpl.figure.prototype.push_to_output = function(remove_interactive) {\n",
       "    // Turn the data on the canvas into data in the output cell.\n",
       "    var dataURL = this.canvas.toDataURL();\n",
       "    this.cell_info[1]['text/html'] = '<img src=\"' + dataURL + '\">';\n",
       "}\n",
       "\n",
       "mpl.figure.prototype.updated_canvas_event = function() {\n",
       "    // Tell IPython that the notebook contents must change.\n",
       "    IPython.notebook.set_dirty(true);\n",
       "    this.send_message(\"ack\", {});\n",
       "    var fig = this;\n",
       "    // Wait a second, then push the new image to the DOM so\n",
       "    // that it is saved nicely (might be nice to debounce this).\n",
       "    setTimeout(function () { fig.push_to_output() }, 1000);\n",
       "}\n",
       "\n",
       "mpl.figure.prototype._init_toolbar = function() {\n",
       "    var fig = this;\n",
       "\n",
       "    var nav_element = $('<div/>')\n",
       "    nav_element.attr('style', 'width: 100%');\n",
       "    this.root.append(nav_element);\n",
       "\n",
       "    // Define a callback function for later on.\n",
       "    function toolbar_event(event) {\n",
       "        return fig.toolbar_button_onclick(event['data']);\n",
       "    }\n",
       "    function toolbar_mouse_event(event) {\n",
       "        return fig.toolbar_button_onmouseover(event['data']);\n",
       "    }\n",
       "\n",
       "    for(var toolbar_ind in mpl.toolbar_items){\n",
       "        var name = mpl.toolbar_items[toolbar_ind][0];\n",
       "        var tooltip = mpl.toolbar_items[toolbar_ind][1];\n",
       "        var image = mpl.toolbar_items[toolbar_ind][2];\n",
       "        var method_name = mpl.toolbar_items[toolbar_ind][3];\n",
       "\n",
       "        if (!name) { continue; };\n",
       "\n",
       "        var button = $('<button class=\"btn btn-default\" href=\"#\" title=\"' + name + '\"><i class=\"fa ' + image + ' fa-lg\"></i></button>');\n",
       "        button.click(method_name, toolbar_event);\n",
       "        button.mouseover(tooltip, toolbar_mouse_event);\n",
       "        nav_element.append(button);\n",
       "    }\n",
       "\n",
       "    // Add the status bar.\n",
       "    var status_bar = $('<span class=\"mpl-message\" style=\"text-align:right; float: right;\"/>');\n",
       "    nav_element.append(status_bar);\n",
       "    this.message = status_bar[0];\n",
       "\n",
       "    // Add the close button to the window.\n",
       "    var buttongrp = $('<div class=\"btn-group inline pull-right\"></div>');\n",
       "    var button = $('<button class=\"btn btn-mini btn-danger\" href=\"#\" title=\"Close figure\"><i class=\"fa fa-times icon-remove icon-large\"></i></button>');\n",
       "    button.click(function (evt) { fig.handle_close(fig, {}); } );\n",
       "    button.mouseover('Close figure', toolbar_mouse_event);\n",
       "    buttongrp.append(button);\n",
       "    var titlebar = this.root.find($('.ui-dialog-titlebar'));\n",
       "    titlebar.prepend(buttongrp);\n",
       "}\n",
       "\n",
       "\n",
       "mpl.figure.prototype._canvas_extra_style = function(el){\n",
       "    // this is important to make the div 'focusable\n",
       "    el.attr('tabindex', 0)\n",
       "    // reach out to IPython and tell the keyboard manager to turn it's self\n",
       "    // off when our div gets focus\n",
       "\n",
       "    // location in version 3\n",
       "    if (IPython.notebook.keyboard_manager) {\n",
       "        IPython.notebook.keyboard_manager.register_events(el);\n",
       "    }\n",
       "    else {\n",
       "        // location in version 2\n",
       "        IPython.keyboard_manager.register_events(el);\n",
       "    }\n",
       "\n",
       "}\n",
       "\n",
       "mpl.figure.prototype._key_event_extra = function(event, name) {\n",
       "    var manager = IPython.notebook.keyboard_manager;\n",
       "    if (!manager)\n",
       "        manager = IPython.keyboard_manager;\n",
       "\n",
       "    // Check for shift+enter\n",
       "    if (event.shiftKey && event.which == 13) {\n",
       "        this.canvas_div.blur();\n",
       "        event.shiftKey = false;\n",
       "        // Send a \"J\" for go to next cell\n",
       "        event.which = 74;\n",
       "        event.keyCode = 74;\n",
       "        manager.command_mode();\n",
       "        manager.handle_keydown(event);\n",
       "    }\n",
       "}\n",
       "\n",
       "mpl.figure.prototype.handle_save = function(fig, msg) {\n",
       "    fig.ondownload(fig, null);\n",
       "}\n",
       "\n",
       "\n",
       "mpl.find_output_cell = function(html_output) {\n",
       "    // Return the cell and output element which can be found *uniquely* in the notebook.\n",
       "    // Note - this is a bit hacky, but it is done because the \"notebook_saving.Notebook\"\n",
       "    // IPython event is triggered only after the cells have been serialised, which for\n",
       "    // our purposes (turning an active figure into a static one), is too late.\n",
       "    var cells = IPython.notebook.get_cells();\n",
       "    var ncells = cells.length;\n",
       "    for (var i=0; i<ncells; i++) {\n",
       "        var cell = cells[i];\n",
       "        if (cell.cell_type === 'code'){\n",
       "            for (var j=0; j<cell.output_area.outputs.length; j++) {\n",
       "                var data = cell.output_area.outputs[j];\n",
       "                if (data.data) {\n",
       "                    // IPython >= 3 moved mimebundle to data attribute of output\n",
       "                    data = data.data;\n",
       "                }\n",
       "                if (data['text/html'] == html_output) {\n",
       "                    return [cell, data, j];\n",
       "                }\n",
       "            }\n",
       "        }\n",
       "    }\n",
       "}\n",
       "\n",
       "// Register the function which deals with the matplotlib target/channel.\n",
       "// The kernel may be null if the page has been refreshed.\n",
       "if (IPython.notebook.kernel != null) {\n",
       "    IPython.notebook.kernel.comm_manager.register_target('matplotlib', mpl.mpl_figure_comm);\n",
       "}\n"
      ],
      "text/plain": [
       "<IPython.core.display.Javascript object>"
      ]
     },
     "metadata": {},
     "output_type": "display_data"
    },
    {
     "data": {
      "text/html": [
       "<img src=\"data:image/png;base64,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\">"
      ],
      "text/plain": [
       "<IPython.core.display.HTML object>"
      ]
     },
     "metadata": {},
     "output_type": "display_data"
    }
   ],
   "source": [
    "fig1 = plt.figure()\n",
    "axs1 = plt.axes(projection='3d')\n",
    "\n",
    "\n",
    "for l, c in zip([1., 2., 3.], ['r', 'g', 'b']):\n",
    "    d_L = projection_L_3[np.where(data_y == l)]\n",
    "    d = projection_3[np.where(data_y == l)]\n",
    "    axs1.scatter3D(d_L[:, 0], d_L[:, 1], d_L[:, 2], c=c)\n",
    "    \n",
    "axs1.grid()"
   ]
  },
  {
   "cell_type": "code",
   "execution_count": 291,
   "metadata": {
    "collapsed": false
   },
   "outputs": [
    {
     "data": {
      "application/javascript": [
       "/* Put everything inside the global mpl namespace */\n",
       "window.mpl = {};\n",
       "\n",
       "mpl.get_websocket_type = function() {\n",
       "    if (typeof(WebSocket) !== 'undefined') {\n",
       "        return WebSocket;\n",
       "    } else if (typeof(MozWebSocket) !== 'undefined') {\n",
       "        return MozWebSocket;\n",
       "    } else {\n",
       "        alert('Your browser does not have WebSocket support.' +\n",
       "              'Please try Chrome, Safari or Firefox ≥ 6. ' +\n",
       "              'Firefox 4 and 5 are also supported but you ' +\n",
       "              'have to enable WebSockets in about:config.');\n",
       "    };\n",
       "}\n",
       "\n",
       "mpl.figure = function(figure_id, websocket, ondownload, parent_element) {\n",
       "    this.id = figure_id;\n",
       "\n",
       "    this.ws = websocket;\n",
       "\n",
       "    this.supports_binary = (this.ws.binaryType != undefined);\n",
       "\n",
       "    if (!this.supports_binary) {\n",
       "        var warnings = document.getElementById(\"mpl-warnings\");\n",
       "        if (warnings) {\n",
       "            warnings.style.display = 'block';\n",
       "            warnings.textContent = (\n",
       "                \"This browser does not support binary websocket messages. \" +\n",
       "                    \"Performance may be slow.\");\n",
       "        }\n",
       "    }\n",
       "\n",
       "    this.imageObj = new Image();\n",
       "\n",
       "    this.context = undefined;\n",
       "    this.message = undefined;\n",
       "    this.canvas = undefined;\n",
       "    this.rubberband_canvas = undefined;\n",
       "    this.rubberband_context = undefined;\n",
       "    this.format_dropdown = undefined;\n",
       "\n",
       "    this.image_mode = 'full';\n",
       "\n",
       "    this.root = $('<div/>');\n",
       "    this._root_extra_style(this.root)\n",
       "    this.root.attr('style', 'display: inline-block');\n",
       "\n",
       "    $(parent_element).append(this.root);\n",
       "\n",
       "    this._init_header(this);\n",
       "    this._init_canvas(this);\n",
       "    this._init_toolbar(this);\n",
       "\n",
       "    var fig = this;\n",
       "\n",
       "    this.waiting = false;\n",
       "\n",
       "    this.ws.onopen =  function () {\n",
       "            fig.send_message(\"supports_binary\", {value: fig.supports_binary});\n",
       "            fig.send_message(\"send_image_mode\", {});\n",
       "            fig.send_message(\"refresh\", {});\n",
       "        }\n",
       "\n",
       "    this.imageObj.onload = function() {\n",
       "            if (fig.image_mode == 'full') {\n",
       "                // Full images could contain transparency (where diff images\n",
       "                // almost always do), so we need to clear the canvas so that\n",
       "                // there is no ghosting.\n",
       "                fig.context.clearRect(0, 0, fig.canvas.width, fig.canvas.height);\n",
       "            }\n",
       "            fig.context.drawImage(fig.imageObj, 0, 0);\n",
       "            fig.waiting = false;\n",
       "        };\n",
       "\n",
       "    this.imageObj.onunload = function() {\n",
       "        this.ws.close();\n",
       "    }\n",
       "\n",
       "    this.ws.onmessage = this._make_on_message_function(this);\n",
       "\n",
       "    this.ondownload = ondownload;\n",
       "}\n",
       "\n",
       "mpl.figure.prototype._init_header = function() {\n",
       "    var titlebar = $(\n",
       "        '<div class=\"ui-dialog-titlebar ui-widget-header ui-corner-all ' +\n",
       "        'ui-helper-clearfix\"/>');\n",
       "    var titletext = $(\n",
       "        '<div class=\"ui-dialog-title\" style=\"width: 100%; ' +\n",
       "        'text-align: center; padding: 3px;\"/>');\n",
       "    titlebar.append(titletext)\n",
       "    this.root.append(titlebar);\n",
       "    this.header = titletext[0];\n",
       "}\n",
       "\n",
       "\n",
       "\n",
       "mpl.figure.prototype._canvas_extra_style = function(canvas_div) {\n",
       "\n",
       "}\n",
       "\n",
       "\n",
       "mpl.figure.prototype._root_extra_style = function(canvas_div) {\n",
       "\n",
       "}\n",
       "\n",
       "mpl.figure.prototype._init_canvas = function() {\n",
       "    var fig = this;\n",
       "\n",
       "    var canvas_div = $('<div/>');\n",
       "\n",
       "    canvas_div.attr('style', 'position: relative; clear: both; outline: 0');\n",
       "\n",
       "    function canvas_keyboard_event(event) {\n",
       "        return fig.key_event(event, event['data']);\n",
       "    }\n",
       "\n",
       "    canvas_div.keydown('key_press', canvas_keyboard_event);\n",
       "    canvas_div.keyup('key_release', canvas_keyboard_event);\n",
       "    this.canvas_div = canvas_div\n",
       "    this._canvas_extra_style(canvas_div)\n",
       "    this.root.append(canvas_div);\n",
       "\n",
       "    var canvas = $('<canvas/>');\n",
       "    canvas.addClass('mpl-canvas');\n",
       "    canvas.attr('style', \"left: 0; top: 0; z-index: 0; outline: 0\")\n",
       "\n",
       "    this.canvas = canvas[0];\n",
       "    this.context = canvas[0].getContext(\"2d\");\n",
       "\n",
       "    var rubberband = $('<canvas/>');\n",
       "    rubberband.attr('style', \"position: absolute; left: 0; top: 0; z-index: 1;\")\n",
       "\n",
       "    var pass_mouse_events = true;\n",
       "\n",
       "    canvas_div.resizable({\n",
       "        start: function(event, ui) {\n",
       "            pass_mouse_events = false;\n",
       "        },\n",
       "        resize: function(event, ui) {\n",
       "            fig.request_resize(ui.size.width, ui.size.height);\n",
       "        },\n",
       "        stop: function(event, ui) {\n",
       "            pass_mouse_events = true;\n",
       "            fig.request_resize(ui.size.width, ui.size.height);\n",
       "        },\n",
       "    });\n",
       "\n",
       "    function mouse_event_fn(event) {\n",
       "        if (pass_mouse_events)\n",
       "            return fig.mouse_event(event, event['data']);\n",
       "    }\n",
       "\n",
       "    rubberband.mousedown('button_press', mouse_event_fn);\n",
       "    rubberband.mouseup('button_release', mouse_event_fn);\n",
       "    // Throttle sequential mouse events to 1 every 20ms.\n",
       "    rubberband.mousemove('motion_notify', mouse_event_fn);\n",
       "\n",
       "    rubberband.mouseenter('figure_enter', mouse_event_fn);\n",
       "    rubberband.mouseleave('figure_leave', mouse_event_fn);\n",
       "\n",
       "    canvas_div.on(\"wheel\", function (event) {\n",
       "        event = event.originalEvent;\n",
       "        event['data'] = 'scroll'\n",
       "        if (event.deltaY < 0) {\n",
       "            event.step = 1;\n",
       "        } else {\n",
       "            event.step = -1;\n",
       "        }\n",
       "        mouse_event_fn(event);\n",
       "    });\n",
       "\n",
       "    canvas_div.append(canvas);\n",
       "    canvas_div.append(rubberband);\n",
       "\n",
       "    this.rubberband = rubberband;\n",
       "    this.rubberband_canvas = rubberband[0];\n",
       "    this.rubberband_context = rubberband[0].getContext(\"2d\");\n",
       "    this.rubberband_context.strokeStyle = \"#000000\";\n",
       "\n",
       "    this._resize_canvas = function(width, height) {\n",
       "        // Keep the size of the canvas, canvas container, and rubber band\n",
       "        // canvas in synch.\n",
       "        canvas_div.css('width', width)\n",
       "        canvas_div.css('height', height)\n",
       "\n",
       "        canvas.attr('width', width);\n",
       "        canvas.attr('height', height);\n",
       "\n",
       "        rubberband.attr('width', width);\n",
       "        rubberband.attr('height', height);\n",
       "    }\n",
       "\n",
       "    // Set the figure to an initial 600x600px, this will subsequently be updated\n",
       "    // upon first draw.\n",
       "    this._resize_canvas(600, 600);\n",
       "\n",
       "    // Disable right mouse context menu.\n",
       "    $(this.rubberband_canvas).bind(\"contextmenu\",function(e){\n",
       "        return false;\n",
       "    });\n",
       "\n",
       "    function set_focus () {\n",
       "        canvas.focus();\n",
       "        canvas_div.focus();\n",
       "    }\n",
       "\n",
       "    window.setTimeout(set_focus, 100);\n",
       "}\n",
       "\n",
       "mpl.figure.prototype._init_toolbar = function() {\n",
       "    var fig = this;\n",
       "\n",
       "    var nav_element = $('<div/>')\n",
       "    nav_element.attr('style', 'width: 100%');\n",
       "    this.root.append(nav_element);\n",
       "\n",
       "    // Define a callback function for later on.\n",
       "    function toolbar_event(event) {\n",
       "        return fig.toolbar_button_onclick(event['data']);\n",
       "    }\n",
       "    function toolbar_mouse_event(event) {\n",
       "        return fig.toolbar_button_onmouseover(event['data']);\n",
       "    }\n",
       "\n",
       "    for(var toolbar_ind in mpl.toolbar_items) {\n",
       "        var name = mpl.toolbar_items[toolbar_ind][0];\n",
       "        var tooltip = mpl.toolbar_items[toolbar_ind][1];\n",
       "        var image = mpl.toolbar_items[toolbar_ind][2];\n",
       "        var method_name = mpl.toolbar_items[toolbar_ind][3];\n",
       "\n",
       "        if (!name) {\n",
       "            // put a spacer in here.\n",
       "            continue;\n",
       "        }\n",
       "        var button = $('<button/>');\n",
       "        button.addClass('ui-button ui-widget ui-state-default ui-corner-all ' +\n",
       "                        'ui-button-icon-only');\n",
       "        button.attr('role', 'button');\n",
       "        button.attr('aria-disabled', 'false');\n",
       "        button.click(method_name, toolbar_event);\n",
       "        button.mouseover(tooltip, toolbar_mouse_event);\n",
       "\n",
       "        var icon_img = $('<span/>');\n",
       "        icon_img.addClass('ui-button-icon-primary ui-icon');\n",
       "        icon_img.addClass(image);\n",
       "        icon_img.addClass('ui-corner-all');\n",
       "\n",
       "        var tooltip_span = $('<span/>');\n",
       "        tooltip_span.addClass('ui-button-text');\n",
       "        tooltip_span.html(tooltip);\n",
       "\n",
       "        button.append(icon_img);\n",
       "        button.append(tooltip_span);\n",
       "\n",
       "        nav_element.append(button);\n",
       "    }\n",
       "\n",
       "    var fmt_picker_span = $('<span/>');\n",
       "\n",
       "    var fmt_picker = $('<select/>');\n",
       "    fmt_picker.addClass('mpl-toolbar-option ui-widget ui-widget-content');\n",
       "    fmt_picker_span.append(fmt_picker);\n",
       "    nav_element.append(fmt_picker_span);\n",
       "    this.format_dropdown = fmt_picker[0];\n",
       "\n",
       "    for (var ind in mpl.extensions) {\n",
       "        var fmt = mpl.extensions[ind];\n",
       "        var option = $(\n",
       "            '<option/>', {selected: fmt === mpl.default_extension}).html(fmt);\n",
       "        fmt_picker.append(option)\n",
       "    }\n",
       "\n",
       "    // Add hover states to the ui-buttons\n",
       "    $( \".ui-button\" ).hover(\n",
       "        function() { $(this).addClass(\"ui-state-hover\");},\n",
       "        function() { $(this).removeClass(\"ui-state-hover\");}\n",
       "    );\n",
       "\n",
       "    var status_bar = $('<span class=\"mpl-message\"/>');\n",
       "    nav_element.append(status_bar);\n",
       "    this.message = status_bar[0];\n",
       "}\n",
       "\n",
       "mpl.figure.prototype.request_resize = function(x_pixels, y_pixels) {\n",
       "    // Request matplotlib to resize the figure. Matplotlib will then trigger a resize in the client,\n",
       "    // which will in turn request a refresh of the image.\n",
       "    this.send_message('resize', {'width': x_pixels, 'height': y_pixels});\n",
       "}\n",
       "\n",
       "mpl.figure.prototype.send_message = function(type, properties) {\n",
       "    properties['type'] = type;\n",
       "    properties['figure_id'] = this.id;\n",
       "    this.ws.send(JSON.stringify(properties));\n",
       "}\n",
       "\n",
       "mpl.figure.prototype.send_draw_message = function() {\n",
       "    if (!this.waiting) {\n",
       "        this.waiting = true;\n",
       "        this.ws.send(JSON.stringify({type: \"draw\", figure_id: this.id}));\n",
       "    }\n",
       "}\n",
       "\n",
       "\n",
       "mpl.figure.prototype.handle_save = function(fig, msg) {\n",
       "    var format_dropdown = fig.format_dropdown;\n",
       "    var format = format_dropdown.options[format_dropdown.selectedIndex].value;\n",
       "    fig.ondownload(fig, format);\n",
       "}\n",
       "\n",
       "\n",
       "mpl.figure.prototype.handle_resize = function(fig, msg) {\n",
       "    var size = msg['size'];\n",
       "    if (size[0] != fig.canvas.width || size[1] != fig.canvas.height) {\n",
       "        fig._resize_canvas(size[0], size[1]);\n",
       "        fig.send_message(\"refresh\", {});\n",
       "    };\n",
       "}\n",
       "\n",
       "mpl.figure.prototype.handle_rubberband = function(fig, msg) {\n",
       "    var x0 = msg['x0'];\n",
       "    var y0 = fig.canvas.height - msg['y0'];\n",
       "    var x1 = msg['x1'];\n",
       "    var y1 = fig.canvas.height - msg['y1'];\n",
       "    x0 = Math.floor(x0) + 0.5;\n",
       "    y0 = Math.floor(y0) + 0.5;\n",
       "    x1 = Math.floor(x1) + 0.5;\n",
       "    y1 = Math.floor(y1) + 0.5;\n",
       "    var min_x = Math.min(x0, x1);\n",
       "    var min_y = Math.min(y0, y1);\n",
       "    var width = Math.abs(x1 - x0);\n",
       "    var height = Math.abs(y1 - y0);\n",
       "\n",
       "    fig.rubberband_context.clearRect(\n",
       "        0, 0, fig.canvas.width, fig.canvas.height);\n",
       "\n",
       "    fig.rubberband_context.strokeRect(min_x, min_y, width, height);\n",
       "}\n",
       "\n",
       "mpl.figure.prototype.handle_figure_label = function(fig, msg) {\n",
       "    // Updates the figure title.\n",
       "    fig.header.textContent = msg['label'];\n",
       "}\n",
       "\n",
       "mpl.figure.prototype.handle_cursor = function(fig, msg) {\n",
       "    var cursor = msg['cursor'];\n",
       "    switch(cursor)\n",
       "    {\n",
       "    case 0:\n",
       "        cursor = 'pointer';\n",
       "        break;\n",
       "    case 1:\n",
       "        cursor = 'default';\n",
       "        break;\n",
       "    case 2:\n",
       "        cursor = 'crosshair';\n",
       "        break;\n",
       "    case 3:\n",
       "        cursor = 'move';\n",
       "        break;\n",
       "    }\n",
       "    fig.rubberband_canvas.style.cursor = cursor;\n",
       "}\n",
       "\n",
       "mpl.figure.prototype.handle_message = function(fig, msg) {\n",
       "    fig.message.textContent = msg['message'];\n",
       "}\n",
       "\n",
       "mpl.figure.prototype.handle_draw = function(fig, msg) {\n",
       "    // Request the server to send over a new figure.\n",
       "    fig.send_draw_message();\n",
       "}\n",
       "\n",
       "mpl.figure.prototype.handle_image_mode = function(fig, msg) {\n",
       "    fig.image_mode = msg['mode'];\n",
       "}\n",
       "\n",
       "mpl.figure.prototype.updated_canvas_event = function() {\n",
       "    // Called whenever the canvas gets updated.\n",
       "    this.send_message(\"ack\", {});\n",
       "}\n",
       "\n",
       "// A function to construct a web socket function for onmessage handling.\n",
       "// Called in the figure constructor.\n",
       "mpl.figure.prototype._make_on_message_function = function(fig) {\n",
       "    return function socket_on_message(evt) {\n",
       "        if (evt.data instanceof Blob) {\n",
       "            /* FIXME: We get \"Resource interpreted as Image but\n",
       "             * transferred with MIME type text/plain:\" errors on\n",
       "             * Chrome.  But how to set the MIME type?  It doesn't seem\n",
       "             * to be part of the websocket stream */\n",
       "            evt.data.type = \"image/png\";\n",
       "\n",
       "            /* Free the memory for the previous frames */\n",
       "            if (fig.imageObj.src) {\n",
       "                (window.URL || window.webkitURL).revokeObjectURL(\n",
       "                    fig.imageObj.src);\n",
       "            }\n",
       "\n",
       "            fig.imageObj.src = (window.URL || window.webkitURL).createObjectURL(\n",
       "                evt.data);\n",
       "            fig.updated_canvas_event();\n",
       "            return;\n",
       "        }\n",
       "        else if (typeof evt.data === 'string' && evt.data.slice(0, 21) == \"data:image/png;base64\") {\n",
       "            fig.imageObj.src = evt.data;\n",
       "            fig.updated_canvas_event();\n",
       "            return;\n",
       "        }\n",
       "\n",
       "        var msg = JSON.parse(evt.data);\n",
       "        var msg_type = msg['type'];\n",
       "\n",
       "        // Call the  \"handle_{type}\" callback, which takes\n",
       "        // the figure and JSON message as its only arguments.\n",
       "        try {\n",
       "            var callback = fig[\"handle_\" + msg_type];\n",
       "        } catch (e) {\n",
       "            console.log(\"No handler for the '\" + msg_type + \"' message type: \", msg);\n",
       "            return;\n",
       "        }\n",
       "\n",
       "        if (callback) {\n",
       "            try {\n",
       "                // console.log(\"Handling '\" + msg_type + \"' message: \", msg);\n",
       "                callback(fig, msg);\n",
       "            } catch (e) {\n",
       "                console.log(\"Exception inside the 'handler_\" + msg_type + \"' callback:\", e, e.stack, msg);\n",
       "            }\n",
       "        }\n",
       "    };\n",
       "}\n",
       "\n",
       "// from http://stackoverflow.com/questions/1114465/getting-mouse-location-in-canvas\n",
       "mpl.findpos = function(e) {\n",
       "    //this section is from http://www.quirksmode.org/js/events_properties.html\n",
       "    var targ;\n",
       "    if (!e)\n",
       "        e = window.event;\n",
       "    if (e.target)\n",
       "        targ = e.target;\n",
       "    else if (e.srcElement)\n",
       "        targ = e.srcElement;\n",
       "    if (targ.nodeType == 3) // defeat Safari bug\n",
       "        targ = targ.parentNode;\n",
       "\n",
       "    // jQuery normalizes the pageX and pageY\n",
       "    // pageX,Y are the mouse positions relative to the document\n",
       "    // offset() returns the position of the element relative to the document\n",
       "    var x = e.pageX - $(targ).offset().left;\n",
       "    var y = e.pageY - $(targ).offset().top;\n",
       "\n",
       "    return {\"x\": x, \"y\": y};\n",
       "};\n",
       "\n",
       "mpl.figure.prototype.mouse_event = function(event, name) {\n",
       "    var canvas_pos = mpl.findpos(event)\n",
       "\n",
       "    if (name === 'button_press')\n",
       "    {\n",
       "        this.canvas.focus();\n",
       "        this.canvas_div.focus();\n",
       "    }\n",
       "\n",
       "    var x = canvas_pos.x;\n",
       "    var y = canvas_pos.y;\n",
       "\n",
       "    this.send_message(name, {x: x, y: y, button: event.button,\n",
       "                             step: event.step});\n",
       "\n",
       "    /* This prevents the web browser from automatically changing to\n",
       "     * the text insertion cursor when the button is pressed.  We want\n",
       "     * to control all of the cursor setting manually through the\n",
       "     * 'cursor' event from matplotlib */\n",
       "    event.preventDefault();\n",
       "    return false;\n",
       "}\n",
       "\n",
       "mpl.figure.prototype._key_event_extra = function(event, name) {\n",
       "    // Handle any extra behaviour associated with a key event\n",
       "}\n",
       "\n",
       "mpl.figure.prototype.key_event = function(event, name) {\n",
       "\n",
       "    // Prevent repeat events\n",
       "    if (name == 'key_press')\n",
       "    {\n",
       "        if (event.which === this._key)\n",
       "            return;\n",
       "        else\n",
       "            this._key = event.which;\n",
       "    }\n",
       "    if (name == 'key_release')\n",
       "        this._key = null;\n",
       "\n",
       "    var value = '';\n",
       "    if (event.ctrlKey && event.which != 17)\n",
       "        value += \"ctrl+\";\n",
       "    if (event.altKey && event.which != 18)\n",
       "        value += \"alt+\";\n",
       "    if (event.shiftKey && event.which != 16)\n",
       "        value += \"shift+\";\n",
       "\n",
       "    value += 'k';\n",
       "    value += event.which.toString();\n",
       "\n",
       "    this._key_event_extra(event, name);\n",
       "\n",
       "    this.send_message(name, {key: value});\n",
       "    return false;\n",
       "}\n",
       "\n",
       "mpl.figure.prototype.toolbar_button_onclick = function(name) {\n",
       "    if (name == 'download') {\n",
       "        this.handle_save(this, null);\n",
       "    } else {\n",
       "        this.send_message(\"toolbar_button\", {name: name});\n",
       "    }\n",
       "};\n",
       "\n",
       "mpl.figure.prototype.toolbar_button_onmouseover = function(tooltip) {\n",
       "    this.message.textContent = tooltip;\n",
       "};\n",
       "mpl.toolbar_items = [[\"Home\", \"Reset original view\", \"fa fa-home icon-home\", \"home\"], [\"Back\", \"Back to  previous view\", \"fa fa-arrow-left icon-arrow-left\", \"back\"], [\"Forward\", \"Forward to next view\", \"fa fa-arrow-right icon-arrow-right\", \"forward\"], [\"\", \"\", \"\", \"\"], [\"Pan\", \"Pan axes with left mouse, zoom with right\", \"fa fa-arrows icon-move\", \"pan\"], [\"Zoom\", \"Zoom to rectangle\", \"fa fa-square-o icon-check-empty\", \"zoom\"], [\"\", \"\", \"\", \"\"], [\"Download\", \"Download plot\", \"fa fa-floppy-o icon-save\", \"download\"]];\n",
       "\n",
       "mpl.extensions = [\"eps\", \"jpeg\", \"pdf\", \"png\", \"ps\", \"raw\", \"svg\", \"tif\"];\n",
       "\n",
       "mpl.default_extension = \"png\";var comm_websocket_adapter = function(comm) {\n",
       "    // Create a \"websocket\"-like object which calls the given IPython comm\n",
       "    // object with the appropriate methods. Currently this is a non binary\n",
       "    // socket, so there is still some room for performance tuning.\n",
       "    var ws = {};\n",
       "\n",
       "    ws.close = function() {\n",
       "        comm.close()\n",
       "    };\n",
       "    ws.send = function(m) {\n",
       "        //console.log('sending', m);\n",
       "        comm.send(m);\n",
       "    };\n",
       "    // Register the callback with on_msg.\n",
       "    comm.on_msg(function(msg) {\n",
       "        //console.log('receiving', msg['content']['data'], msg);\n",
       "        // Pass the mpl event to the overriden (by mpl) onmessage function.\n",
       "        ws.onmessage(msg['content']['data'])\n",
       "    });\n",
       "    return ws;\n",
       "}\n",
       "\n",
       "mpl.mpl_figure_comm = function(comm, msg) {\n",
       "    // This is the function which gets called when the mpl process\n",
       "    // starts-up an IPython Comm through the \"matplotlib\" channel.\n",
       "\n",
       "    var id = msg.content.data.id;\n",
       "    // Get hold of the div created by the display call when the Comm\n",
       "    // socket was opened in Python.\n",
       "    var element = $(\"#\" + id);\n",
       "    var ws_proxy = comm_websocket_adapter(comm)\n",
       "\n",
       "    function ondownload(figure, format) {\n",
       "        window.open(figure.imageObj.src);\n",
       "    }\n",
       "\n",
       "    var fig = new mpl.figure(id, ws_proxy,\n",
       "                           ondownload,\n",
       "                           element.get(0));\n",
       "\n",
       "    // Call onopen now - mpl needs it, as it is assuming we've passed it a real\n",
       "    // web socket which is closed, not our websocket->open comm proxy.\n",
       "    ws_proxy.onopen();\n",
       "\n",
       "    fig.parent_element = element.get(0);\n",
       "    fig.cell_info = mpl.find_output_cell(\"<div id='\" + id + \"'></div>\");\n",
       "    if (!fig.cell_info) {\n",
       "        console.error(\"Failed to find cell for figure\", id, fig);\n",
       "        return;\n",
       "    }\n",
       "\n",
       "    var output_index = fig.cell_info[2]\n",
       "    var cell = fig.cell_info[0];\n",
       "\n",
       "};\n",
       "\n",
       "mpl.figure.prototype.handle_close = function(fig, msg) {\n",
       "    // Update the output cell to use the data from the current canvas.\n",
       "    fig.push_to_output();\n",
       "    var dataURL = fig.canvas.toDataURL();\n",
       "    // Re-enable the keyboard manager in IPython - without this line, in FF,\n",
       "    // the notebook keyboard shortcuts fail.\n",
       "    IPython.keyboard_manager.enable()\n",
       "    $(fig.parent_element).html('<img src=\"' + dataURL + '\">');\n",
       "    fig.send_message('closing', {});\n",
       "    fig.ws.close()\n",
       "}\n",
       "\n",
       "mpl.figure.prototype.push_to_output = function(remove_interactive) {\n",
       "    // Turn the data on the canvas into data in the output cell.\n",
       "    var dataURL = this.canvas.toDataURL();\n",
       "    this.cell_info[1]['text/html'] = '<img src=\"' + dataURL + '\">';\n",
       "}\n",
       "\n",
       "mpl.figure.prototype.updated_canvas_event = function() {\n",
       "    // Tell IPython that the notebook contents must change.\n",
       "    IPython.notebook.set_dirty(true);\n",
       "    this.send_message(\"ack\", {});\n",
       "    var fig = this;\n",
       "    // Wait a second, then push the new image to the DOM so\n",
       "    // that it is saved nicely (might be nice to debounce this).\n",
       "    setTimeout(function () { fig.push_to_output() }, 1000);\n",
       "}\n",
       "\n",
       "mpl.figure.prototype._init_toolbar = function() {\n",
       "    var fig = this;\n",
       "\n",
       "    var nav_element = $('<div/>')\n",
       "    nav_element.attr('style', 'width: 100%');\n",
       "    this.root.append(nav_element);\n",
       "\n",
       "    // Define a callback function for later on.\n",
       "    function toolbar_event(event) {\n",
       "        return fig.toolbar_button_onclick(event['data']);\n",
       "    }\n",
       "    function toolbar_mouse_event(event) {\n",
       "        return fig.toolbar_button_onmouseover(event['data']);\n",
       "    }\n",
       "\n",
       "    for(var toolbar_ind in mpl.toolbar_items){\n",
       "        var name = mpl.toolbar_items[toolbar_ind][0];\n",
       "        var tooltip = mpl.toolbar_items[toolbar_ind][1];\n",
       "        var image = mpl.toolbar_items[toolbar_ind][2];\n",
       "        var method_name = mpl.toolbar_items[toolbar_ind][3];\n",
       "\n",
       "        if (!name) { continue; };\n",
       "\n",
       "        var button = $('<button class=\"btn btn-default\" href=\"#\" title=\"' + name + '\"><i class=\"fa ' + image + ' fa-lg\"></i></button>');\n",
       "        button.click(method_name, toolbar_event);\n",
       "        button.mouseover(tooltip, toolbar_mouse_event);\n",
       "        nav_element.append(button);\n",
       "    }\n",
       "\n",
       "    // Add the status bar.\n",
       "    var status_bar = $('<span class=\"mpl-message\" style=\"text-align:right; float: right;\"/>');\n",
       "    nav_element.append(status_bar);\n",
       "    this.message = status_bar[0];\n",
       "\n",
       "    // Add the close button to the window.\n",
       "    var buttongrp = $('<div class=\"btn-group inline pull-right\"></div>');\n",
       "    var button = $('<button class=\"btn btn-mini btn-danger\" href=\"#\" title=\"Close figure\"><i class=\"fa fa-times icon-remove icon-large\"></i></button>');\n",
       "    button.click(function (evt) { fig.handle_close(fig, {}); } );\n",
       "    button.mouseover('Close figure', toolbar_mouse_event);\n",
       "    buttongrp.append(button);\n",
       "    var titlebar = this.root.find($('.ui-dialog-titlebar'));\n",
       "    titlebar.prepend(buttongrp);\n",
       "}\n",
       "\n",
       "\n",
       "mpl.figure.prototype._canvas_extra_style = function(el){\n",
       "    // this is important to make the div 'focusable\n",
       "    el.attr('tabindex', 0)\n",
       "    // reach out to IPython and tell the keyboard manager to turn it's self\n",
       "    // off when our div gets focus\n",
       "\n",
       "    // location in version 3\n",
       "    if (IPython.notebook.keyboard_manager) {\n",
       "        IPython.notebook.keyboard_manager.register_events(el);\n",
       "    }\n",
       "    else {\n",
       "        // location in version 2\n",
       "        IPython.keyboard_manager.register_events(el);\n",
       "    }\n",
       "\n",
       "}\n",
       "\n",
       "mpl.figure.prototype._key_event_extra = function(event, name) {\n",
       "    var manager = IPython.notebook.keyboard_manager;\n",
       "    if (!manager)\n",
       "        manager = IPython.keyboard_manager;\n",
       "\n",
       "    // Check for shift+enter\n",
       "    if (event.shiftKey && event.which == 13) {\n",
       "        this.canvas_div.blur();\n",
       "        event.shiftKey = false;\n",
       "        // Send a \"J\" for go to next cell\n",
       "        event.which = 74;\n",
       "        event.keyCode = 74;\n",
       "        manager.command_mode();\n",
       "        manager.handle_keydown(event);\n",
       "    }\n",
       "}\n",
       "\n",
       "mpl.figure.prototype.handle_save = function(fig, msg) {\n",
       "    fig.ondownload(fig, null);\n",
       "}\n",
       "\n",
       "\n",
       "mpl.find_output_cell = function(html_output) {\n",
       "    // Return the cell and output element which can be found *uniquely* in the notebook.\n",
       "    // Note - this is a bit hacky, but it is done because the \"notebook_saving.Notebook\"\n",
       "    // IPython event is triggered only after the cells have been serialised, which for\n",
       "    // our purposes (turning an active figure into a static one), is too late.\n",
       "    var cells = IPython.notebook.get_cells();\n",
       "    var ncells = cells.length;\n",
       "    for (var i=0; i<ncells; i++) {\n",
       "        var cell = cells[i];\n",
       "        if (cell.cell_type === 'code'){\n",
       "            for (var j=0; j<cell.output_area.outputs.length; j++) {\n",
       "                var data = cell.output_area.outputs[j];\n",
       "                if (data.data) {\n",
       "                    // IPython >= 3 moved mimebundle to data attribute of output\n",
       "                    data = data.data;\n",
       "                }\n",
       "                if (data['text/html'] == html_output) {\n",
       "                    return [cell, data, j];\n",
       "                }\n",
       "            }\n",
       "        }\n",
       "    }\n",
       "}\n",
       "\n",
       "// Register the function which deals with the matplotlib target/channel.\n",
       "// The kernel may be null if the page has been refreshed.\n",
       "if (IPython.notebook.kernel != null) {\n",
       "    IPython.notebook.kernel.comm_manager.register_target('matplotlib', mpl.mpl_figure_comm);\n",
       "}\n"
      ],
      "text/plain": [
       "<IPython.core.display.Javascript object>"
      ]
     },
     "metadata": {},
     "output_type": "display_data"
    },
    {
     "data": {
      "text/html": [
       "<img src=\"data:image/png;base64,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\">"
      ],
      "text/plain": [
       "<IPython.core.display.HTML object>"
      ]
     },
     "metadata": {},
     "output_type": "display_data"
    }
   ],
   "source": [
    "fig2 = plt.figure()\n",
    "axs2 = plt.axes(projection='3d')\n",
    "\n",
    "for l, c in zip([1., 2., 3.], ['r', 'g', 'b']):\n",
    "    d = projection_3[np.where(data_y == l)]\n",
    "    axs2.scatter3D(d[:, 0], d[:, 1], d[:, 2], c=c)"
   ]
  },
  {
   "cell_type": "code",
   "execution_count": null,
   "metadata": {
    "collapsed": true
   },
   "outputs": [],
   "source": [
    "fig3 = plt.figure()\n",
    "axs3 = plt.axes(projection='3d')\n",
    "\n",
    "\n",
    "for l, c in zip([1., 2., 3.], ['r', 'g', 'b']):\n",
    "    d_L = projection_L[np.where(data_y == l)]\n",
    "    d = projection_3[np.where(data_y == l)]\n",
    "    axs3.scatter3D(d_L[:, 0], d_L[:, 1], d_L[:, 2], c=c)\n",
    "    \n",
    "axs3.grid()"
   ]
  }
 ],
 "metadata": {
  "hide_input": false,
  "kernelspec": {
   "display_name": "Python 3",
   "language": "python",
   "name": "python3"
  },
  "language_info": {
   "codemirror_mode": {
    "name": "ipython",
    "version": 3
   },
   "file_extension": ".py",
   "mimetype": "text/x-python",
   "name": "python",
   "nbconvert_exporter": "python",
   "pygments_lexer": "ipython3",
   "version": "3.4.3"
  }
 },
 "nbformat": 4,
 "nbformat_minor": 0
}
