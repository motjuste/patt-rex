{
 "cells": [
  {
   "cell_type": "code",
   "execution_count": 5,
   "metadata": {
    "collapsed": false
   },
   "outputs": [],
   "source": [
    "import numpy as np\n",
    "import numpy.polynomial.polynomial as pol\n",
    "import numpy.linalg as la\n",
    "import matplotlib.pyplot as plt\n",
    "%matplotlib inline\n",
    "\n",
    "import pattrex.plotting_mpl as plt_rex\n",
    "import pattrex.preprocessing as pre_rex"
   ]
  },
  {
   "cell_type": "code",
   "execution_count": 6,
   "metadata": {
    "collapsed": false
   },
   "outputs": [
    {
     "data": {
      "text/plain": [
       "(3, 24)"
      ]
     },
     "execution_count": 6,
     "metadata": {},
     "output_type": "execute_result"
    }
   ],
   "source": [
    "dt = np.dtype([('w', np.float), ('h', np.float), ('g', 'S1')])  # g is byte-string\n",
    "\n",
    "data = np.loadtxt('data/whData.dat', dtype=dt, comments='#', delimiter=None)\n",
    "\n",
    "ws = np.array([d[0] for d in data])\n",
    "hs = np.array([d[1] for d in data])\n",
    "gs = np.array([d[2].decode('utf-8') for d in data])\n",
    "\n",
    "HWG = np.vstack((hs, ws, gs))  # data is going to be column-wise\n",
    "# X.transpose()  # this will make it row-wise\n",
    "HWG.shape"
   ]
  },
  {
   "cell_type": "code",
   "execution_count": 7,
   "metadata": {
    "collapsed": false
   },
   "outputs": [
    {
     "name": "stdout",
     "output_type": "stream",
     "text": [
      "[ 7 12 20]\n"
     ]
    }
   ],
   "source": [
    "# remove outliers and save their indices\n",
    "HW_new, neg_idx = pre_rex.only_all_positive(HWG[0:2, :].astype(np.float), True, \n",
    "                                  return_neg_idx = True)\n",
    "\n",
    "print(neg_idx)"
   ]
  },
  {
   "cell_type": "markdown",
   "metadata": {},
   "source": [
    "## Now we have data without the outliers"
   ]
  },
  {
   "cell_type": "code",
   "execution_count": 8,
   "metadata": {
    "collapsed": false
   },
   "outputs": [],
   "source": [
    "x = HW_new[0, :]  # Height\n",
    "Y = HW_new[1, :]  # Weight"
   ]
  },
  {
   "cell_type": "markdown",
   "metadata": {},
   "source": [
    "### First we use `numpy.linalg`"
   ]
  },
  {
   "cell_type": "code",
   "execution_count": 21,
   "metadata": {
    "collapsed": false
   },
   "outputs": [],
   "source": [
    "d = 5\n",
    "\n",
    "X = pol.polyvander(x, d)\n",
    "\n",
    "W = la.lstsq(X, Y)[0]  # discard other information"
   ]
  },
  {
   "cell_type": "code",
   "execution_count": 22,
   "metadata": {
    "collapsed": false
   },
   "outputs": [
    {
     "data": {
      "image/png": "[encoded data removed]",
      "text/plain": [
       "<matplotlib.figure.Figure at 0x105da3c88>"
      ]
     },
     "metadata": {},
     "output_type": "display_data"
    }
   ],
   "source": [
    "fig = plt.figure()\n",
    "axs = fig.add_subplot(111)\n",
    "\n",
    "# limits for the axes\n",
    "HW_ = np.vstack((hs, ws))  # only the measurements; data is col-wise\n",
    "xmin, ymin = HW_.min(axis=1)\n",
    "xmax, ymax = HW_.max(axis=1)\n",
    "\n",
    "xlim = [xmin-5, xmax+15]  # purely for looks\n",
    "ylim = [-2, ymax+10]\n",
    "\n",
    "# generate data for the fitted solution\n",
    "h = np.linspace(xlim[0], xlim[1], 100)\n",
    "h_ = pol.polyvander(h, d)\n",
    "w = np.dot(h_, W)\n",
    "\n",
    "plt_rex.plot2d(HW_new, colwise_data=True, hatch='bo', x_lim=xlim, y_lim=ylim, \n",
    "               show=False, axs=axs, plotlabel=\"data\")\n",
    "\n",
    "plt_label = \"coeffs:\\n\" + \"\\n\".join(\"{}: {:.4}\".format(*c) for c in enumerate(W))\n",
    "plt_rex.plot2d(np.vstack((h, w)), colwise_data=True, hatch='g', \n",
    "               show=False, axs=axs, plotlabel=plt_label)\n"
   ]
  },
  {
   "cell_type": "code",
   "execution_count": 71,
   "metadata": {
    "collapsed": true
   },
   "outputs": [],
   "source": [
    "plt.close('all')"
   ]
  },
  {
   "cell_type": "markdown",
   "metadata": {},
   "source": [
    "### Let us try our own solution"
   ]
  },
  {
   "cell_type": "code",
   "execution_count": 46,
   "metadata": {
    "collapsed": true
   },
   "outputs": [],
   "source": [
    "def lstsq_rex(X, Y):\n",
    "    XtX_inv = la.pinv(X)\n",
    "    return np.dot(XtX_inv, Y)\n",
    "    "
   ]
  },
  {
   "cell_type": "code",
   "execution_count": 51,
   "metadata": {
    "collapsed": false
   },
   "outputs": [
    {
     "data": {
      "text/plain": [
       "array([  1.45372950e+02,   5.00648642e+03,  -1.15279840e+02,\n",
       "         9.94128981e-01,  -3.80603682e-03,   5.45891545e-06])"
      ]
     },
     "execution_count": 51,
     "metadata": {},
     "output_type": "execute_result"
    }
   ],
   "source": [
    "lstsq_rex(X, Y)"
   ]
  },
  {
   "cell_type": "markdown",
   "metadata": {},
   "source": [
    "## Predicting weights for outliers"
   ]
  },
  {
   "cell_type": "code",
   "execution_count": 23,
   "metadata": {
    "collapsed": false
   },
   "outputs": [
    {
     "data": {
      "text/plain": [
       "array([ 168.,  172.,  167.])"
      ]
     },
     "execution_count": 23,
     "metadata": {},
     "output_type": "execute_result"
    }
   ],
   "source": [
    "h_ol = np.array([h for i, h in enumerate(hs) if i in neg_idx])\n",
    "h_ol\n"
   ]
  },
  {
   "cell_type": "code",
   "execution_count": 24,
   "metadata": {
    "collapsed": false
   },
   "outputs": [
    {
     "data": {
      "text/plain": [
       "array([ 58.79472704,  69.71529775,  56.14154704])"
      ]
     },
     "execution_count": 24,
     "metadata": {},
     "output_type": "execute_result"
    }
   ],
   "source": [
    "h_ol_ = pol.polyvander(h_ol, d)\n",
    "w_pred = np.dot(h_ol_, W)\n",
    "w_pred"
   ]
  },
  {
   "cell_type": "code",
   "execution_count": 25,
   "metadata": {
    "collapsed": false
   },
   "outputs": [
    {
     "data": {
      "image/png": "[encoded data removed]",
      "text/plain": [
       "<matplotlib.figure.Figure at 0x1060449b0>"
      ]
     },
     "metadata": {},
     "output_type": "display_data"
    }
   ],
   "source": [
    "fig = plt.figure()\n",
    "axs = fig.add_subplot(111)\n",
    "\n",
    "# limits for the axes\n",
    "HW_ = np.vstack((hs, ws))  # only the measurements; data is col-wise\n",
    "xmin, ymin = HW_.min(axis=1)\n",
    "xmax, ymax = HW_.max(axis=1)\n",
    "\n",
    "xlim = [xmin-5, xmax+15]  # purely for looks\n",
    "ylim = [-2, ymax+10]\n",
    "\n",
    "# generate data for the fitted solution\n",
    "h = np.linspace(xlim[0], xlim[1], 100)\n",
    "h_ = pol.polyvander(h, d)\n",
    "w = np.dot(h_, W)\n",
    "\n",
    "plt_rex.plot2d(HW_new, colwise_data=True, hatch='bo', x_lim=xlim, y_lim=ylim, \n",
    "               show=False, axs=axs, plotlabel=\"data\")\n",
    "\n",
    "plt_label = \"coeffs:\\n\" + \"\\n\".join(\"{}: {:.4}\".format(*c) for c in enumerate(W))\n",
    "plt_rex.plot2d(np.vstack((h, w)), colwise_data=True, hatch='g', \n",
    "               show=False, axs=axs, plotlabel=plt_label)\n",
    "\n",
    "plt_label = \"preds:\\n\" + \"\\n\".join(\"{}: {:.4}\".format(*c) for c in zip(h_ol, w_pred))\n",
    "plt_rex.plot2d(np.vstack((h_ol, w_pred)), colwise_data=True, hatch='r.', \n",
    "               show=False, axs=axs, plotlabel=plt_label)"
   ]
  },
  {
   "cell_type": "code",
   "execution_count": 1,
   "metadata": {
    "collapsed": true
   },
   "outputs": [],
   "source": [
    "import pattrex.demo_helper as helper"
   ]
  },
  {
   "cell_type": "code",
   "execution_count": 2,
   "metadata": {
    "collapsed": false
   },
   "outputs": [
    {
     "data": {
      "text/plain": [
       "(array([ 90.,  55.,  53.,  83.,  95.,  86.,  85.,  -1.,  62.,  64.,  88.,\n",
       "         75.,  -1.,  53.,  64.,  65.,  81.,  82.,  52.,  50.,  -1.,  89.,\n",
       "         70.,  60.]),\n",
       " array([ 186.,  170.,  167.,  173.,  186.,  180.,  173.,  168.,  174.,\n",
       "         170.,  186.,  175.,  172.,  162.,  174.,  178.,  178.,  174.,\n",
       "         168.,  160.,  167.,  174.,  175.,  162.]),\n",
       " array(['m', 'm', 'f', 'm', 'm', 'm', 'm', 'f', 'm', 'm', 'm', 'm', 'm',\n",
       "        'f', 'm', 'm', 'm', 'm', 'f', 'f', 'f', 'm', 'm', 'f'], \n",
       "       dtype='<U1'))"
      ]
     },
     "execution_count": 2,
     "metadata": {},
     "output_type": "execute_result"
    }
   ],
   "source": [
    "helper.read_whdata()"
   ]
  },
  {
   "cell_type": "code",
   "execution_count": null,
   "metadata": {
    "collapsed": true
   },
   "outputs": [],
   "source": []
  }
 ],
 "metadata": {
  "hide_input": false,
  "kernelspec": {
   "display_name": "Python 3",
   "language": "python",
   "name": "python3"
  },
  "language_info": {
   "codemirror_mode": {
    "name": "ipython",
    "version": 3
   },
   "file_extension": ".py",
   "mimetype": "text/x-python",
   "name": "python",
   "nbconvert_exporter": "python",
   "pygments_lexer": "ipython3",
   "version": "3.4.3"
  }
 },
 "nbformat": 4,
 "nbformat_minor": 0
}
