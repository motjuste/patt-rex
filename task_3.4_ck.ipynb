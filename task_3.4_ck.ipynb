{
 "cells": [
  {
   "cell_type": "code",
   "execution_count": 3,
   "metadata": {
    "collapsed": false
   },
   "outputs": [
    {
     "name": "stderr",
     "output_type": "stream",
     "text": [
      "/Users/kangcifong/anaconda/lib/python3.5/site-packages/numpy/polynomial/polynomial.py:1383: RankWarning: The fit may be poorly conditioned\n",
      "  warnings.warn(msg, pu.RankWarning)\n"
     ]
    }
   ],
   "source": [
    "import numpy as np\n",
    "import numpy.linalg as la\n",
    "import numpy.polynomial.polynomial as poly\n",
    "import matplotlib.pyplot as plt\n",
    "\n",
    "\n",
    "dt = np.dtype([('w', np.float), ('h', np.float), ('g', np.str_, 1)])\n",
    "data = np.loadtxt('data/whData.dat', dtype=dt, comments='#', delimiter=None)\n",
    "\n",
    "# read height, weight and gender information into 1D arrays\n",
    "wgt = np.array([d[0] for d in data])\n",
    "hgt = np.array([d[1] for d in data])\n",
    "gs = np.array([d[2] for d in data])\n",
    "\n",
    "\n",
    "xmin = hgt.min() - 15\n",
    "xmax = hgt.max() + 15\n",
    "ymin = wgt.min() - 15\n",
    "ymax = wgt.max() + 15\n",
    "\n",
    "\n",
    "def plot_data_and_fit(h, w, x, y):\n",
    "    plt.plot(h, w, 'ko', x, y, 'r-')\n",
    "    plt.xlim(xmin, xmax)\n",
    "    plt.ylim(ymin, ymax)\n",
    "    plt.show()\n",
    "\n",
    "\n",
    "def trsf(x):\n",
    "    return x / 100.\n",
    "\n",
    "\n",
    "n = 10\n",
    "x = np.linspace(xmin, xmax, 100)\n",
    "\n",
    "# method 1:\n",
    "# regression using ployfit\n",
    "c = poly.polyfit(hgt, wgt, n)\n",
    "y = poly.polyval(x, c)\n",
    "plot_data_and_fit(hgt, wgt, x, y)\n",
    "\n",
    "# method 2:\n",
    "# regression using the Vandermonde matrix and pinv\n",
    "X = poly.polyvander(hgt, n)\n",
    "c = np.dot(la.pinv(X), wgt)\n",
    "y = np.dot(poly.polyvander(x, n), c)\n",
    "plot_data_and_fit(hgt, wgt, x, y)\n",
    "\n",
    "# method 3:\n",
    "# regression using the Vandermonde matrix and lstsq\n",
    "X = poly.polyvander(hgt, n)\n",
    "c = la.lstsq(X, wgt)[0]\n",
    "y = np.dot(poly.polyvander(x, n), c)\n",
    "plot_data_and_fit(hgt, wgt, x, y)\n",
    "\n",
    "# method 4:\n",
    "# regression on transformed data using the Vandermonde\n",
    "# matrix and either pinv or lstsq\n",
    "X = poly.polyvander(trsf(hgt), n)\n",
    "c = np.dot(la.pinv(X), wgt)\n",
    "y = np.dot(poly.polyvander(trsf(x), n), c)\n",
    "plot_data_and_fit(hgt, wgt, x, y)"
   ]
  },
  {
   "cell_type": "code",
   "execution_count": null,
   "metadata": {
    "collapsed": true
   },
   "outputs": [],
   "source": []
  },
  {
   "cell_type": "code",
   "execution_count": null,
   "metadata": {
    "collapsed": true
   },
   "outputs": [],
   "source": []
  }
 ],
 "metadata": {
  "kernelspec": {
   "display_name": "Python 3",
   "language": "python",
   "name": "python3"
  },
  "language_info": {
   "codemirror_mode": {
    "name": "ipython",
    "version": 3
   },
   "file_extension": ".py",
   "mimetype": "text/x-python",
   "name": "python",
   "nbconvert_exporter": "python",
   "pygments_lexer": "ipython3",
   "version": "3.5.1"
  }
 },
 "nbformat": 4,
 "nbformat_minor": 0
}
