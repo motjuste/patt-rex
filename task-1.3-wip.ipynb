{
 "cells": [
  {
   "cell_type": "code",
   "execution_count": 13,
   "metadata": {
    "collapsed": false
   },
   "outputs": [],
   "source": [
    "import csv\n",
    "import numpy as np\n",
    "import matplotlib.pyplot as plt\n",
    "%matplotlib inline"
   ]
  },
  {
   "cell_type": "code",
   "execution_count": 2,
   "metadata": {
    "collapsed": false
   },
   "outputs": [
    {
     "name": "stdout",
     "output_type": "stream",
     "text": [
      "480\n"
     ]
    }
   ],
   "source": [
    "data_all = []\n",
    "data = []\n",
    "with open(\"data/myspace.csv\") as f:\n",
    "    read = csv.reader(f)\n",
    "    for row in read:\n",
    "        data_all.append(row)\n",
    "        data.append(int(row[1]))\n",
    "\n",
    "data = np.array(data)\n",
    "print(len(data_all))"
   ]
  },
  {
   "cell_type": "code",
   "execution_count": 14,
   "metadata": {
    "collapsed": false
   },
   "outputs": [
    {
     "data": {
      "text/plain": [
       "[<matplotlib.lines.Line2D at 0x1080302e8>]"
      ]
     },
     "execution_count": 14,
     "metadata": {},
     "output_type": "execute_result"
    },
    {
     "data": {
      "image/png": "[encoded data removed]",
      "text/plain": [
       "<matplotlib.figure.Figure at 0x104d3ecc0>"
      ]
     },
     "metadata": {},
     "output_type": "display_data"
    }
   ],
   "source": [
    "plt.plot(data)"
   ]
  },
  {
   "cell_type": "code",
   "execution_count": null,
   "metadata": {
    "collapsed": false
   },
   "outputs": [],
   "source": [
    "np.sum(data)"
   ]
  },
  {
   "cell_type": "code",
   "execution_count": 4,
   "metadata": {
    "collapsed": true
   },
   "outputs": [],
   "source": [
    "fake_data = []\n",
    "v = 0\n",
    "for h in data:\n",
    "    if h != 0:\n",
    "        for i in range(h):\n",
    "            fake_data.append(v)\n",
    "            \n",
    "    v += 1"
   ]
  },
  {
   "cell_type": "code",
   "execution_count": null,
   "metadata": {
    "collapsed": false
   },
   "outputs": [],
   "source": [
    "len(fake_data)"
   ]
  },
  {
   "cell_type": "code",
   "execution_count": 233,
   "metadata": {
    "collapsed": true
   },
   "outputs": [],
   "source": [
    "dd = np.asarray(fake_data)\n",
    "\n",
    "def delta_1(ka, d, N):\n",
    "    k = ka[0]\n",
    "    a = ka[1]\n",
    "    \n",
    "    d_a = d/a\n",
    "    \n",
    "    del_k = N/k - N*np.log(a) + np.sum(np.log(d)) - np.sum(np.power(d_a, k) * d_a)\n",
    "    del_a = (k/a) * np.sum(np.power(d_a, k) - N)\n",
    "    \n",
    "    return np.array([1*del_k, 1*del_a])\n",
    "\n",
    "def delta_2(ka, d, N):\n",
    "    k = ka[0]\n",
    "    a = ka[1]\n",
    "    \n",
    "    d_a = d/a\n",
    "    \n",
    "    del2_k = -(N/(k*k)) - np.sum(np.power(d_a, k) * np.power(np.log(d_a), 2))\n",
    "    del2_a = (k/a*a) * (N - (k + 1) * np.sum(np.power(d_a, k)))\n",
    "    del2_ka = (1/a) * np.sum(np.power(d_a, k)) + (k/a) * np.sum(np.power(d_a, k) * np.log(d_a)) - N/a\n",
    "    \n",
    "    return np.array([[del2_k, del2_ka], [del2_ka, del2_a]])\n",
    "\n",
    "def fit_weibull(data):\n",
    "    N = data.size\n",
    "    ka = np.array([1, 1])\n",
    "    \n",
    "    ka_err = np.array([np.inf, np.inf])\n",
    "    thresh = np.zeros(2)\n",
    "    max_iter = 3\n",
    "    i = 0\n",
    "    \n",
    "    while not(np.allclose(ka_err, thresh)) and i < max_iter:\n",
    "        i += 1\n",
    "        \n",
    "        del_1 = delta_1(ka, data, N)\n",
    "        del_2 = delta_2(ka, data, N)\n",
    "        \n",
    "        ka_new = ka - np.dot(np.linalg.inv(del_2), del_1)\n",
    "        \n",
    "#         if np.any(np.isnan(ka_new)):\n",
    "        print(i)\n",
    "        print(del_1)\n",
    "        print(del_2)\n",
    "#             break\n",
    "#         else:\n",
    "        print(ka_new)\n",
    "#             pass\n",
    "        \n",
    "        ka_err = np.abs(ka - ka_new)\n",
    "        ka = ka_new\n",
    "    \n",
    "    print(i)\n",
    "    return ka"
   ]
  },
  {
   "cell_type": "code",
   "execution_count": 234,
   "metadata": {
    "collapsed": false
   },
   "outputs": [
    {
     "name": "stdout",
     "output_type": "stream",
     "text": [
      "1\n",
      "[ -9.13094918e+08  -2.95282277e+08]\n",
      "[[ -1.11876118e+08   2.42346164e+07]\n",
      " [  2.42346164e+07  -7.51385100e+06]]\n",
      "[ -54.33635531 -216.7761607 ]\n",
      "2\n",
      "[ nan  nan]\n",
      "[[ nan  nan]\n",
      " [ nan  nan]]\n",
      "[ nan  nan]\n",
      "3\n",
      "[ nan  nan]\n",
      "[[ nan  nan]\n",
      " [ nan  nan]]\n",
      "[ nan  nan]\n",
      "3\n",
      "nan nan\n"
     ]
    },
    {
     "name": "stderr",
     "output_type": "stream",
     "text": [
      "/Users/myrmidon/.conda/envs/pattrex/lib/python3.4/site-packages/ipykernel/__main__.py:9: RuntimeWarning: invalid value encountered in log\n",
      "/Users/myrmidon/.conda/envs/pattrex/lib/python3.4/site-packages/ipykernel/__main__.py:9: RuntimeWarning: invalid value encountered in power\n",
      "/Users/myrmidon/.conda/envs/pattrex/lib/python3.4/site-packages/ipykernel/__main__.py:10: RuntimeWarning: invalid value encountered in power\n",
      "/Users/myrmidon/.conda/envs/pattrex/lib/python3.4/site-packages/ipykernel/__main__.py:20: RuntimeWarning: invalid value encountered in power\n",
      "/Users/myrmidon/.conda/envs/pattrex/lib/python3.4/site-packages/ipykernel/__main__.py:20: RuntimeWarning: invalid value encountered in log\n",
      "/Users/myrmidon/.conda/envs/pattrex/lib/python3.4/site-packages/ipykernel/__main__.py:21: RuntimeWarning: invalid value encountered in power\n",
      "/Users/myrmidon/.conda/envs/pattrex/lib/python3.4/site-packages/ipykernel/__main__.py:22: RuntimeWarning: invalid value encountered in power\n",
      "/Users/myrmidon/.conda/envs/pattrex/lib/python3.4/site-packages/ipykernel/__main__.py:22: RuntimeWarning: invalid value encountered in log\n"
     ]
    }
   ],
   "source": [
    "k, a = fit_weibull(dd)\n",
    "print(k, a)"
   ]
  },
  {
   "cell_type": "code",
   "execution_count": 9,
   "metadata": {
    "collapsed": true
   },
   "outputs": [],
   "source": [
    "from scipy.stats import exponweib"
   ]
  },
  {
   "cell_type": "code",
   "execution_count": 186,
   "metadata": {
    "collapsed": false
   },
   "outputs": [
    {
     "name": "stdout",
     "output_type": "stream",
     "text": [
      "(2.4959711134161715, 2.0386235428321928, -0.34491745771342963, 178.82056826101942)\n"
     ]
    },
    {
     "data": {
      "text/plain": [
       "[<matplotlib.lines.Line2D at 0x1125f3ef0>]"
      ]
     },
     "execution_count": 186,
     "metadata": {},
     "output_type": "execute_result"
    },
    {
     "data": {
      "image/png": "[encoded data removed]",
      "text/plain": [
       "<matplotlib.figure.Figure at 0x1125f3fd0>"
      ]
     },
     "metadata": {},
     "output_type": "display_data"
    }
   ],
   "source": [
    "ff = exponweib.fit(dd, 2, 3, scale=1, loc=0)\n",
    "print(ff)\n",
    "df = exponweib.pdf(dd, *ff)\n",
    "plt.plot(dd, data.max()*df/df.max())\n",
    "plt.plot(data)\n",
    "# _ = plt.hist(dd, bins=np.linspace(0, dd.max(), data.size), histtype='step', normed=True)"
   ]
  },
  {
   "cell_type": "markdown",
   "metadata": {},
   "source": [
    "***"
   ]
  },
  {
   "cell_type": "code",
   "execution_count": 83,
   "metadata": {
    "collapsed": false
   },
   "outputs": [],
   "source": [
    "def weib_pdf(data, k, a):\n",
    "    return (k/a) * np.power(data/a, (k-1)) * np.exp(-(np.power(data/a, k)))"
   ]
  },
  {
   "cell_type": "code",
   "execution_count": 87,
   "metadata": {
    "collapsed": true
   },
   "outputs": [],
   "source": [
    "d = np.arange(1, dd.max())"
   ]
  },
  {
   "cell_type": "code",
   "execution_count": 237,
   "metadata": {
    "collapsed": false
   },
   "outputs": [
    {
     "data": {
      "text/plain": [
       "[<matplotlib.lines.Line2D at 0x11359de10>]"
      ]
     },
     "execution_count": 237,
     "metadata": {},
     "output_type": "execute_result"
    },
    {
     "data": {
      "image/png": "[encoded data removed]",
      "text/plain": [
       "<matplotlib.figure.Figure at 0x1131d6f98>"
      ]
     },
     "metadata": {},
     "output_type": "display_data"
    }
   ],
   "source": [
    "plt.plot(dd, weib_pdf(dd, 2.0386235428321928, 178.82056826101942))"
   ]
  },
  {
   "cell_type": "code",
   "execution_count": 185,
   "metadata": {
    "collapsed": false
   },
   "outputs": [
    {
     "data": {
      "text/plain": [
       "[<matplotlib.lines.Line2D at 0x1125e1908>]"
      ]
     },
     "execution_count": 185,
     "metadata": {},
     "output_type": "execute_result"
    },
    {
     "data": {
      "image/png": "[encoded data removed]",
      "text/plain": [
       "<matplotlib.figure.Figure at 0x11259ce48>"
      ]
     },
     "metadata": {},
     "output_type": "display_data"
    }
   ],
   "source": [
    "epf = exponweib.pdf(dd, 1, 1, k, a)\n",
    "plt.plot(dd, 100 * epf/epf.max())\n",
    "plt.plot(data)"
   ]
  }
 ],
 "metadata": {
  "hide_input": false,
  "kernelspec": {
   "display_name": "Python 3",
   "language": "python",
   "name": "python3"
  },
  "language_info": {
   "codemirror_mode": {
    "name": "ipython",
    "version": 3
   },
   "file_extension": ".py",
   "mimetype": "text/x-python",
   "name": "python",
   "nbconvert_exporter": "python",
   "pygments_lexer": "ipython3",
   "version": "3.4.3"
  }
 },
 "nbformat": 4,
 "nbformat_minor": 0
}
